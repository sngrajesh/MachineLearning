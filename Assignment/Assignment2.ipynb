{
 "cells": [
  {
   "cell_type": "code",
   "execution_count": 109,
   "metadata": {
    "id": "YeKm4-CbJduL"
   },
   "outputs": [],
   "source": [
    "import sklearn\n",
    "import numpy as np\n",
    "import pandas as pd\n",
    "from sklearn.pipeline import Pipeline\n",
    "from sklearn.metrics import  accuracy_score,log_loss, r2_score, roc_auc_score\n",
    "from sklearn.preprocessing import OneHotEncoder\n",
    "from sklearn.linear_model import LogisticRegression\n",
    "from sklearn.tree import DecisionTreeClassifier\n",
    "from sklearn.naive_bayes import GaussianNB\n",
    "from sklearn.ensemble import VotingClassifier\n",
    "\n",
    "from sklearn.model_selection import GridSearchCV\n",
    "from sklearn.model_selection import StratifiedKFold\n",
    "from sklearn.model_selection import train_test_split\n",
    "\n",
    "from sklearn.tree import plot_tree\n",
    "import matplotlib.pyplot as plt\n",
    "from sklearn.compose import make_column_selector, make_column_transformer\n",
    "from sklearn.preprocessing import OneHotEncoder\n",
    "\n",
    "\n",
    "import warnings\n",
    "warnings.filterwarnings(\"ignore\")\n"
   ]
  },
  {
   "cell_type": "code",
   "execution_count": 110,
   "metadata": {
    "colab": {
     "base_uri": "https://localhost:8080/",
     "height": 226
    },
    "executionInfo": {
     "elapsed": 22,
     "status": "ok",
     "timestamp": 1731436766291,
     "user": {
      "displayName": "Anurag",
      "userId": "10702458898456402710"
     },
     "user_tz": -330
    },
    "id": "5-8PtRyZLbZU",
    "outputId": "031cf634-4589-4a58-eab1-6b68a8c8dcb1"
   },
   "outputs": [
    {
     "data": {
      "text/html": [
       "<div>\n",
       "<style scoped>\n",
       "    .dataframe tbody tr th:only-of-type {\n",
       "        vertical-align: middle;\n",
       "    }\n",
       "\n",
       "    .dataframe tbody tr th {\n",
       "        vertical-align: top;\n",
       "    }\n",
       "\n",
       "    .dataframe thead th {\n",
       "        text-align: right;\n",
       "    }\n",
       "</style>\n",
       "<table border=\"1\" class=\"dataframe\">\n",
       "  <thead>\n",
       "    <tr style=\"text-align: right;\">\n",
       "      <th></th>\n",
       "      <th>CustomerID</th>\n",
       "      <th>Age</th>\n",
       "      <th>Gender</th>\n",
       "      <th>Income</th>\n",
       "      <th>VisitFrequency</th>\n",
       "      <th>AverageSpend</th>\n",
       "      <th>PreferredCuisine</th>\n",
       "      <th>TimeOfVisit</th>\n",
       "      <th>GroupSize</th>\n",
       "      <th>DiningOccasion</th>\n",
       "      <th>MealType</th>\n",
       "      <th>OnlineReservation</th>\n",
       "      <th>DeliveryOrder</th>\n",
       "      <th>LoyaltyProgramMember</th>\n",
       "      <th>WaitTime</th>\n",
       "      <th>ServiceRating</th>\n",
       "      <th>FoodRating</th>\n",
       "      <th>AmbianceRating</th>\n",
       "      <th>HighSatisfaction</th>\n",
       "    </tr>\n",
       "  </thead>\n",
       "  <tbody>\n",
       "    <tr>\n",
       "      <th>0</th>\n",
       "      <td>654</td>\n",
       "      <td>35</td>\n",
       "      <td>Male</td>\n",
       "      <td>83380</td>\n",
       "      <td>Weekly</td>\n",
       "      <td>27.829142</td>\n",
       "      <td>Chinese</td>\n",
       "      <td>Breakfast</td>\n",
       "      <td>3</td>\n",
       "      <td>Business</td>\n",
       "      <td>Takeaway</td>\n",
       "      <td>0</td>\n",
       "      <td>1</td>\n",
       "      <td>1</td>\n",
       "      <td>43.523929</td>\n",
       "      <td>2</td>\n",
       "      <td>5</td>\n",
       "      <td>4</td>\n",
       "      <td>0</td>\n",
       "    </tr>\n",
       "    <tr>\n",
       "      <th>1</th>\n",
       "      <td>655</td>\n",
       "      <td>19</td>\n",
       "      <td>Male</td>\n",
       "      <td>43623</td>\n",
       "      <td>Rarely</td>\n",
       "      <td>115.408622</td>\n",
       "      <td>American</td>\n",
       "      <td>Dinner</td>\n",
       "      <td>1</td>\n",
       "      <td>Casual</td>\n",
       "      <td>Dine-in</td>\n",
       "      <td>0</td>\n",
       "      <td>0</td>\n",
       "      <td>0</td>\n",
       "      <td>57.524294</td>\n",
       "      <td>5</td>\n",
       "      <td>5</td>\n",
       "      <td>3</td>\n",
       "      <td>0</td>\n",
       "    </tr>\n",
       "    <tr>\n",
       "      <th>2</th>\n",
       "      <td>656</td>\n",
       "      <td>41</td>\n",
       "      <td>Female</td>\n",
       "      <td>83737</td>\n",
       "      <td>Weekly</td>\n",
       "      <td>106.693771</td>\n",
       "      <td>American</td>\n",
       "      <td>Dinner</td>\n",
       "      <td>6</td>\n",
       "      <td>Celebration</td>\n",
       "      <td>Dine-in</td>\n",
       "      <td>0</td>\n",
       "      <td>1</td>\n",
       "      <td>0</td>\n",
       "      <td>48.682623</td>\n",
       "      <td>3</td>\n",
       "      <td>4</td>\n",
       "      <td>5</td>\n",
       "      <td>0</td>\n",
       "    </tr>\n",
       "    <tr>\n",
       "      <th>3</th>\n",
       "      <td>657</td>\n",
       "      <td>43</td>\n",
       "      <td>Male</td>\n",
       "      <td>96768</td>\n",
       "      <td>Rarely</td>\n",
       "      <td>43.508508</td>\n",
       "      <td>Indian</td>\n",
       "      <td>Lunch</td>\n",
       "      <td>1</td>\n",
       "      <td>Celebration</td>\n",
       "      <td>Dine-in</td>\n",
       "      <td>0</td>\n",
       "      <td>0</td>\n",
       "      <td>0</td>\n",
       "      <td>7.552993</td>\n",
       "      <td>4</td>\n",
       "      <td>5</td>\n",
       "      <td>1</td>\n",
       "      <td>0</td>\n",
       "    </tr>\n",
       "    <tr>\n",
       "      <th>4</th>\n",
       "      <td>658</td>\n",
       "      <td>55</td>\n",
       "      <td>Female</td>\n",
       "      <td>67937</td>\n",
       "      <td>Monthly</td>\n",
       "      <td>148.084627</td>\n",
       "      <td>Chinese</td>\n",
       "      <td>Breakfast</td>\n",
       "      <td>1</td>\n",
       "      <td>Business</td>\n",
       "      <td>Takeaway</td>\n",
       "      <td>0</td>\n",
       "      <td>0</td>\n",
       "      <td>1</td>\n",
       "      <td>37.789041</td>\n",
       "      <td>2</td>\n",
       "      <td>3</td>\n",
       "      <td>5</td>\n",
       "      <td>0</td>\n",
       "    </tr>\n",
       "  </tbody>\n",
       "</table>\n",
       "</div>"
      ],
      "text/plain": [
       "   CustomerID  Age  Gender  Income VisitFrequency  AverageSpend  \\\n",
       "0         654   35    Male   83380         Weekly     27.829142   \n",
       "1         655   19    Male   43623         Rarely    115.408622   \n",
       "2         656   41  Female   83737         Weekly    106.693771   \n",
       "3         657   43    Male   96768         Rarely     43.508508   \n",
       "4         658   55  Female   67937        Monthly    148.084627   \n",
       "\n",
       "  PreferredCuisine TimeOfVisit  GroupSize DiningOccasion  MealType  \\\n",
       "0          Chinese   Breakfast          3       Business  Takeaway   \n",
       "1         American      Dinner          1         Casual   Dine-in   \n",
       "2         American      Dinner          6    Celebration   Dine-in   \n",
       "3           Indian       Lunch          1    Celebration   Dine-in   \n",
       "4          Chinese   Breakfast          1       Business  Takeaway   \n",
       "\n",
       "   OnlineReservation  DeliveryOrder  LoyaltyProgramMember   WaitTime  \\\n",
       "0                  0              1                     1  43.523929   \n",
       "1                  0              0                     0  57.524294   \n",
       "2                  0              1                     0  48.682623   \n",
       "3                  0              0                     0   7.552993   \n",
       "4                  0              0                     1  37.789041   \n",
       "\n",
       "   ServiceRating  FoodRating  AmbianceRating  HighSatisfaction  \n",
       "0              2           5               4                 0  \n",
       "1              5           5               3                 0  \n",
       "2              3           4               5                 0  \n",
       "3              4           5               1                 0  \n",
       "4              2           3               5                 0  "
      ]
     },
     "execution_count": 110,
     "metadata": {},
     "output_type": "execute_result"
    }
   ],
   "source": [
    "df = pd.read_csv(r'C:\\Users\\DAI.STUDENTSDC\\Desktop\\Machine Learning\\Assignment\\restaurant_customer_satisfaction.csv')\n",
    "df.head()"
   ]
  },
  {
   "cell_type": "markdown",
   "metadata": {
    "id": "Bdn5Z6avLyi9"
   },
   "source": [
    "## 1. EDA"
   ]
  },
  {
   "cell_type": "markdown",
   "metadata": {
    "id": "Gh9TIDaCL9rm"
   },
   "source": [
    "a.\tIs Age correlated significantly with Average Spend?"
   ]
  },
  {
   "cell_type": "code",
   "execution_count": 111,
   "metadata": {
    "colab": {
     "base_uri": "https://localhost:8080/"
    },
    "executionInfo": {
     "elapsed": 675,
     "status": "ok",
     "timestamp": 1731436766949,
     "user": {
      "displayName": "Anurag",
      "userId": "10702458898456402710"
     },
     "user_tz": -330
    },
    "id": "8UZT3DhXLxpl",
    "outputId": "e27a8966-9368-43eb-abce-994f979bca00"
   },
   "outputs": [
    {
     "data": {
      "text/plain": [
       "0.017765408060572693"
      ]
     },
     "execution_count": 111,
     "metadata": {},
     "output_type": "execute_result"
    }
   ],
   "source": [
    "df['Age'].corr(df['AverageSpend']) #A very weak or negligible linear relationship between the two variables."
   ]
  },
  {
   "cell_type": "markdown",
   "metadata": {
    "id": "-BBVAx5KNs6e"
   },
   "source": [
    "b.\tCalculate the mean average spending for both the genders separately."
   ]
  },
  {
   "cell_type": "code",
   "execution_count": 112,
   "metadata": {
    "colab": {
     "base_uri": "https://localhost:8080/",
     "height": 178
    },
    "executionInfo": {
     "elapsed": 101,
     "status": "ok",
     "timestamp": 1731436766950,
     "user": {
      "displayName": "Anurag",
      "userId": "10702458898456402710"
     },
     "user_tz": -330
    },
    "id": "dY_1Tix6Ls48",
    "outputId": "4468a46f-67c3-4940-cade-65650e23ea75"
   },
   "outputs": [
    {
     "data": {
      "text/plain": [
       "Gender\n",
       "Female    105.471643\n",
       "Male      105.850916\n",
       "Name: AverageSpend, dtype: float64"
      ]
     },
     "execution_count": 112,
     "metadata": {},
     "output_type": "execute_result"
    }
   ],
   "source": [
    "df.groupby('Gender')['AverageSpend'].mean()"
   ]
  },
  {
   "cell_type": "markdown",
   "metadata": {
    "id": "DLW7WxNXPKzb"
   },
   "source": [
    "c.\tCalculate the mean of Age for all the categories of Time of Visit separately."
   ]
  },
  {
   "cell_type": "code",
   "execution_count": 113,
   "metadata": {
    "colab": {
     "base_uri": "https://localhost:8080/",
     "height": 210
    },
    "executionInfo": {
     "elapsed": 97,
     "status": "ok",
     "timestamp": 1731436766951,
     "user": {
      "displayName": "Anurag",
      "userId": "10702458898456402710"
     },
     "user_tz": -330
    },
    "id": "ivJ7YZDFLs-o",
    "outputId": "2ecf4e03-da38-431a-d2c1-cd40231d8459"
   },
   "outputs": [
    {
     "data": {
      "text/plain": [
       "TimeOfVisit\n",
       "Breakfast    43.559289\n",
       "Dinner       43.500000\n",
       "Lunch        44.432271\n",
       "Name: Age, dtype: float64"
      ]
     },
     "execution_count": 113,
     "metadata": {},
     "output_type": "execute_result"
    }
   ],
   "source": [
    "df.groupby('TimeOfVisit')['Age'].mean()"
   ]
  },
  {
   "cell_type": "markdown",
   "metadata": {
    "id": "oGpWNgSUPfEf"
   },
   "source": [
    "d.\tAmong the people rarely visiting, what is the most preferred cuisine by percentage?"
   ]
  },
  {
   "cell_type": "code",
   "execution_count": 114,
   "metadata": {
    "colab": {
     "base_uri": "https://localhost:8080/"
    },
    "executionInfo": {
     "elapsed": 93,
     "status": "ok",
     "timestamp": 1731436766954,
     "user": {
      "displayName": "Anurag",
      "userId": "10702458898456402710"
     },
     "user_tz": -330
    },
    "id": "IYi-zyfGPA3N",
    "outputId": "748e0d1c-2b1c-4446-a043-2e25dc756271"
   },
   "outputs": [
    {
     "data": {
      "text/plain": [
       "Index(['CustomerID', 'Age', 'Gender', 'Income', 'VisitFrequency',\n",
       "       'AverageSpend', 'PreferredCuisine', 'TimeOfVisit', 'GroupSize',\n",
       "       'DiningOccasion', 'MealType', 'OnlineReservation', 'DeliveryOrder',\n",
       "       'LoyaltyProgramMember', 'WaitTime', 'ServiceRating', 'FoodRating',\n",
       "       'AmbianceRating', 'HighSatisfaction'],\n",
       "      dtype='object')"
      ]
     },
     "execution_count": 114,
     "metadata": {},
     "output_type": "execute_result"
    }
   ],
   "source": [
    "df.columns"
   ]
  },
  {
   "cell_type": "code",
   "execution_count": 115,
   "metadata": {
    "colab": {
     "base_uri": "https://localhost:8080/"
    },
    "executionInfo": {
     "elapsed": 79,
     "status": "ok",
     "timestamp": 1731436766955,
     "user": {
      "displayName": "Anurag",
      "userId": "10702458898456402710"
     },
     "user_tz": -330
    },
    "id": "hjJBCoHWfECR",
    "outputId": "fe2507c0-9b58-48c4-84f6-266625762370"
   },
   "outputs": [
    {
     "name": "stdout",
     "output_type": "stream",
     "text": [
      "  PreferredCuisine  Customer Percentage\n",
      "0         American            16.613419\n",
      "1          Chinese            18.530351\n",
      "2           Indian            18.210863\n",
      "3          Italian            29.073482\n",
      "4          Mexican            17.571885\n"
     ]
    }
   ],
   "source": [
    "rare_visitors = df[df['VisitFrequency'] == 'Rarely']\n",
    "total = rare_visitors.groupby('PreferredCuisine')['CustomerID'].count().sum()\n",
    "cuisine_percentage = rare_visitors.groupby('PreferredCuisine')['CustomerID'].count() / total * 100\n",
    "\n",
    "cuisine_percentage = cuisine_percentage.reset_index()\n",
    "cuisine_percentage.columns = ['PreferredCuisine', 'Customer Percentage']\n",
    "\n",
    "print(cuisine_percentage)"
   ]
  },
  {
   "cell_type": "markdown",
   "metadata": {
    "id": "X4mfoGfBRnhJ"
   },
   "source": [
    "e.\tAmong the people weekly visiting, what is the most frequent meal type?"
   ]
  },
  {
   "cell_type": "code",
   "execution_count": 116,
   "metadata": {
    "colab": {
     "base_uri": "https://localhost:8080/",
     "height": 178
    },
    "executionInfo": {
     "elapsed": 71,
     "status": "ok",
     "timestamp": 1731436766956,
     "user": {
      "displayName": "Anurag",
      "userId": "10702458898456402710"
     },
     "user_tz": -330
    },
    "id": "Ymsn7i-pLtH4",
    "outputId": "ea4ea078-8a3c-4be2-a2ae-18f9a739101d"
   },
   "outputs": [
    {
     "data": {
      "text/plain": [
       "MealType\n",
       "Takeaway    307\n",
       "Dine-in     299\n",
       "Name: count, dtype: int64"
      ]
     },
     "execution_count": 116,
     "metadata": {},
     "output_type": "execute_result"
    }
   ],
   "source": [
    "weekly_visitors = df[df['VisitFrequency'] == 'Weekly']\n",
    "weekly_visitors['MealType'].value_counts()"
   ]
  },
  {
   "cell_type": "markdown",
   "metadata": {
    "id": "9QoQRHzNl8bh"
   },
   "source": [
    "f.\tAmong the business type of dining occasion, what is most frequent preferred cuisine?"
   ]
  },
  {
   "cell_type": "code",
   "execution_count": 117,
   "metadata": {
    "colab": {
     "base_uri": "https://localhost:8080/",
     "height": 272
    },
    "executionInfo": {
     "elapsed": 68,
     "status": "ok",
     "timestamp": 1731436766957,
     "user": {
      "displayName": "Anurag",
      "userId": "10702458898456402710"
     },
     "user_tz": -330
    },
    "id": "fE2tI5e7leoS",
    "outputId": "c5fecb0f-0940-4772-ec58-bc86008b0018"
   },
   "outputs": [
    {
     "data": {
      "text/plain": [
       "PreferredCuisine\n",
       "Italian     125\n",
       "Chinese     104\n",
       "Indian       95\n",
       "Mexican      89\n",
       "American     87\n",
       "Name: count, dtype: int64"
      ]
     },
     "execution_count": 117,
     "metadata": {},
     "output_type": "execute_result"
    }
   ],
   "source": [
    "df[df['DiningOccasion'] == 'Business']['PreferredCuisine'].value_counts()"
   ]
  },
  {
   "cell_type": "markdown",
   "metadata": {
    "id": "7qMDFclVopDD"
   },
   "source": [
    "g.\tWith the group size bigger than 5, what is percentage of business type of dining occasion?"
   ]
  },
  {
   "cell_type": "code",
   "execution_count": 118,
   "metadata": {
    "colab": {
     "base_uri": "https://localhost:8080/"
    },
    "executionInfo": {
     "elapsed": 404,
     "status": "ok",
     "timestamp": 1731436804491,
     "user": {
      "displayName": "Anurag",
      "userId": "10702458898456402710"
     },
     "user_tz": -330
    },
    "id": "ehiqLsPeohAA",
    "outputId": "354a8ecc-79e6-4f27-e1b4-a5d7c171847c"
   },
   "outputs": [
    {
     "name": "stdout",
     "output_type": "stream",
     "text": [
      "DiningOccasion\n",
      "Celebration    35.103245\n",
      "Business       33.333333\n",
      "Casual         31.563422\n",
      "Name: count, dtype: float64\n"
     ]
    }
   ],
   "source": [
    "occasion = df[df['GroupSize'] > 5]['DiningOccasion'].value_counts()\n",
    "total = occasion.sum()\n",
    "percentage = occasion / total * 100\n",
    "percentage.reset_index()\n",
    "# percentage.columns = ['DiningOccasion', 'Percentage']\n",
    "print(percentage)\n"
   ]
  },
  {
   "cell_type": "markdown",
   "metadata": {
    "id": "5_lDwg4kretF"
   },
   "source": [
    "h.\tAmong the customers preferring Chinese cuisine, how much percentage are satisfied?"
   ]
  },
  {
   "cell_type": "code",
   "execution_count": 119,
   "metadata": {
    "colab": {
     "base_uri": "https://localhost:8080/",
     "height": 178
    },
    "executionInfo": {
     "elapsed": 420,
     "status": "ok",
     "timestamp": 1731437390432,
     "user": {
      "displayName": "Anurag",
      "userId": "10702458898456402710"
     },
     "user_tz": -330
    },
    "id": "QuV7pZYwrS4c",
    "outputId": "b97cdf8d-e5df-4707-90d0-5814b2ec54f5"
   },
   "outputs": [
    {
     "data": {
      "text/plain": [
       "HighSatisfaction\n",
       "0    268\n",
       "1     42\n",
       "Name: count, dtype: int64"
      ]
     },
     "execution_count": 119,
     "metadata": {},
     "output_type": "execute_result"
    }
   ],
   "source": [
    "c_hs = df[df['PreferredCuisine'] == 'Chinese']['HighSatisfaction'].value_counts()\n",
    "c_hs"
   ]
  },
  {
   "cell_type": "code",
   "execution_count": 120,
   "metadata": {
    "colab": {
     "base_uri": "https://localhost:8080/"
    },
    "executionInfo": {
     "elapsed": 413,
     "status": "ok",
     "timestamp": 1731437465139,
     "user": {
      "displayName": "Anurag",
      "userId": "10702458898456402710"
     },
     "user_tz": -330
    },
    "id": "dSxtpUjBtgpn",
    "outputId": "f20c64e8-c33d-49c6-8c1e-826cc24e2bd9"
   },
   "outputs": [
    {
     "data": {
      "text/plain": [
       "13.548387096774196"
      ]
     },
     "execution_count": 120,
     "metadata": {},
     "output_type": "execute_result"
    }
   ],
   "source": [
    "total = c_hs.sum()\n",
    "percentage = c_hs[1] / total * 100\n",
    "percentage"
   ]
  },
  {
   "cell_type": "markdown",
   "metadata": {
    "id": "d0i4v8EKt7jP"
   },
   "source": [
    "i.\tWhat is average rating given to the food by the customers preferring Chinese cuisine?"
   ]
  },
  {
   "cell_type": "code",
   "execution_count": 121,
   "metadata": {
    "colab": {
     "base_uri": "https://localhost:8080/"
    },
    "executionInfo": {
     "elapsed": 475,
     "status": "ok",
     "timestamp": 1731437656873,
     "user": {
      "displayName": "Anurag",
      "userId": "10702458898456402710"
     },
     "user_tz": -330
    },
    "id": "BUiwRrn_rTIr",
    "outputId": "30cd783e-ce1b-45b2-b6a0-741bba543f63"
   },
   "outputs": [
    {
     "data": {
      "text/plain": [
       "3.0709677419354837"
      ]
     },
     "execution_count": 121,
     "metadata": {},
     "output_type": "execute_result"
    }
   ],
   "source": [
    "df[df['PreferredCuisine'] == 'Chinese']['FoodRating'].mean()"
   ]
  },
  {
   "cell_type": "markdown",
   "metadata": {
    "id": "IL0KDMXFui2n"
   },
   "source": [
    "j.\tFor the customers preferring Chinese cuisine, how much is the average waiting time?"
   ]
  },
  {
   "cell_type": "code",
   "execution_count": 122,
   "metadata": {
    "colab": {
     "base_uri": "https://localhost:8080/"
    },
    "executionInfo": {
     "elapsed": 437,
     "status": "ok",
     "timestamp": 1731437864485,
     "user": {
      "displayName": "Anurag",
      "userId": "10702458898456402710"
     },
     "user_tz": -330
    },
    "id": "8bsc485wrTNM",
    "outputId": "bbce21b3-ea21-4138-ce31-862093b96962"
   },
   "outputs": [
    {
     "data": {
      "text/plain": [
       "29.51653917994555"
      ]
     },
     "execution_count": 122,
     "metadata": {},
     "output_type": "execute_result"
    }
   ],
   "source": [
    "df[df['PreferredCuisine']=='Chinese']['WaitTime'].mean()"
   ]
  },
  {
   "cell_type": "markdown",
   "metadata": {
    "id": "lJWNIrC9vovt"
   },
   "source": [
    "## 2.\tDo the following considering encoded HighSatisfaction as response(dependent) variable."
   ]
  },
  {
   "cell_type": "code",
   "execution_count": 123,
   "metadata": {},
   "outputs": [],
   "source": [
    "import numpy as np\n",
    "import pandas as pd\n",
    "from sklearn.svm import SVC\n",
    "from sklearn.pipeline import Pipeline\n",
    "from sklearn.preprocessing import OneHotEncoder\n",
    "from sklearn.tree import DecisionTreeClassifier\n",
    "from sklearn.model_selection import GridSearchCV\n",
    "from sklearn.model_selection import StratifiedKFold\n",
    "from sklearn.ensemble import RandomForestClassifier\n",
    "from sklearn.compose import make_column_selector, make_column_transformer\n",
    "from sklearn.preprocessing import OneHotEncoder\n",
    "\n",
    "\n",
    "import warnings\n",
    "warnings.filterwarnings(\"ignore\")"
   ]
  },
  {
   "cell_type": "code",
   "execution_count": 124,
   "metadata": {},
   "outputs": [],
   "source": [
    "df = pd.read_csv(r'C:\\Users\\DAI.STUDENTSDC\\Desktop\\Machine Learning\\Assignment\\restaurant_customer_satisfaction.csv')\n",
    "\n",
    "\n",
    "X = df.drop(columns=['HighSatisfaction'], axis=1)\n",
    "y = df['HighSatisfaction']"
   ]
  },
  {
   "cell_type": "code",
   "execution_count": 125,
   "metadata": {},
   "outputs": [
    {
     "name": "stdout",
     "output_type": "stream",
     "text": [
      "<class 'pandas.core.frame.DataFrame'>\n",
      "RangeIndex: 1500 entries, 0 to 1499\n",
      "Data columns (total 19 columns):\n",
      " #   Column                Non-Null Count  Dtype  \n",
      "---  ------                --------------  -----  \n",
      " 0   CustomerID            1500 non-null   int64  \n",
      " 1   Age                   1500 non-null   int64  \n",
      " 2   Gender                1500 non-null   object \n",
      " 3   Income                1500 non-null   int64  \n",
      " 4   VisitFrequency        1500 non-null   object \n",
      " 5   AverageSpend          1500 non-null   float64\n",
      " 6   PreferredCuisine      1500 non-null   object \n",
      " 7   TimeOfVisit           1500 non-null   object \n",
      " 8   GroupSize             1500 non-null   int64  \n",
      " 9   DiningOccasion        1500 non-null   object \n",
      " 10  MealType              1500 non-null   object \n",
      " 11  OnlineReservation     1500 non-null   int64  \n",
      " 12  DeliveryOrder         1500 non-null   int64  \n",
      " 13  LoyaltyProgramMember  1500 non-null   int64  \n",
      " 14  WaitTime              1500 non-null   float64\n",
      " 15  ServiceRating         1500 non-null   int64  \n",
      " 16  FoodRating            1500 non-null   int64  \n",
      " 17  AmbianceRating        1500 non-null   int64  \n",
      " 18  HighSatisfaction      1500 non-null   int64  \n",
      "dtypes: float64(2), int64(11), object(6)\n",
      "memory usage: 222.8+ KB\n"
     ]
    }
   ],
   "source": [
    "df.info()\n"
   ]
  },
  {
   "cell_type": "code",
   "execution_count": 126,
   "metadata": {},
   "outputs": [
    {
     "data": {
      "text/plain": [
       "CustomerID              0\n",
       "Age                     0\n",
       "Gender                  0\n",
       "Income                  0\n",
       "VisitFrequency          0\n",
       "AverageSpend            0\n",
       "PreferredCuisine        0\n",
       "TimeOfVisit             0\n",
       "GroupSize               0\n",
       "DiningOccasion          0\n",
       "MealType                0\n",
       "OnlineReservation       0\n",
       "DeliveryOrder           0\n",
       "LoyaltyProgramMember    0\n",
       "WaitTime                0\n",
       "ServiceRating           0\n",
       "FoodRating              0\n",
       "AmbianceRating          0\n",
       "HighSatisfaction        0\n",
       "dtype: int64"
      ]
     },
     "execution_count": 126,
     "metadata": {},
     "output_type": "execute_result"
    }
   ],
   "source": [
    "#Checking for null values\n",
    "df.isna().sum()"
   ]
  },
  {
   "cell_type": "markdown",
   "metadata": {},
   "source": [
    "**A.** Do the hot encoding / dummying of all the non-numeric variables\n",
    "\n",
    "**B.** Considering the Grid Search CV / Randomized Search CV with parameters of your choice, test the accuracy on following models:\n",
    "* SVC (kernel=’linear’)\n",
    "* SVC (kernel=’rbf’)\n",
    "* Decision Tree Classifier\n",
    "* Random Forest Classifier"
   ]
  },
  {
   "cell_type": "code",
   "execution_count": 127,
   "metadata": {},
   "outputs": [],
   "source": [
    "svc_l = SVC(kernel='linear', random_state=24)\n",
    "svc_r = SVC(kernel='rbf', random_state=24)\n",
    "dtc = DecisionTreeClassifier(random_state=24)\n",
    "rfc = RandomForestClassifier(random_state=24)"
   ]
  },
  {
   "cell_type": "code",
   "execution_count": 128,
   "metadata": {},
   "outputs": [],
   "source": [
    "#Creating a list of models and the params to be used for each model\n",
    "\n",
    "models=[\n",
    "    {   \n",
    "        'name': 'Decision Tree Classifier',\n",
    "        'model' : dtc,\n",
    "        'params' : {\n",
    "            'model__criterion' : ['gini', 'entropy'],\n",
    "            'model__min_samples_split' : np.arange(2, 10),\n",
    "            'model__min_samples_leaf' : [1, 10],\n",
    "            'model__max_depth' : [None, 4, 6]\n",
    "        }\n",
    "    },\n",
    "    {\n",
    "        'name': 'Random Forest Classifier',\n",
    "        'model' : rfc,\n",
    "        'params' : {\n",
    "            'model__n_estimators' : [10, 50, 100],\n",
    "            'model__criterion' : ['gini', 'entropy'],\n",
    "            'model__max_depth' : [1, 3, 5]\n",
    "        }\n",
    "    },\n",
    "    {   \n",
    "        'name': 'Support Vector Machine - Linear',\n",
    "        'model' : svc_l,\n",
    "        'params' : {\n",
    "            'model__decision_function_shape' : ['ovo', 'ovr'],\n",
    "            'model__degree' : np.arange(3, 10),\n",
    "            'model__max_iter' : np.arange(5),\n",
    "            'model__gamma' : ['scale', 'auto']\n",
    "        }\n",
    "    },\n",
    "    {\n",
    "        'name': 'Support Vector Machine - RBF',\n",
    "        'model' : svc_r,\n",
    "        'params' : {\n",
    "            'model__decision_function_shape' : ['ovo', 'ovr'],\n",
    "            'model__degree' : np.arange(3, 10),\n",
    "            'model__max_iter' : np.arange(5),\n",
    "            'model__gamma' : ['scale', 'auto']\n",
    "        }\n",
    "    },\n",
    "]"
   ]
  },
  {
   "cell_type": "code",
   "execution_count": 129,
   "metadata": {},
   "outputs": [],
   "source": [
    "# Creating the one hot encoder and column transformer \n",
    "\n",
    "\n",
    "ohe = OneHotEncoder(\n",
    "    sparse_output=False, \n",
    "    drop='first'\n",
    ").set_output(transform='pandas')\n",
    "\n",
    "\n",
    "ct = make_column_transformer(\n",
    "    ('passthrough', make_column_selector(dtype_exclude=[\n",
    "        'object',\n",
    "        'category',\n",
    "    ])),\n",
    "    (ohe, make_column_selector(dtype_include=[\n",
    "        'object',\n",
    "        'category',\n",
    "    ])),\n",
    "    verbose_feature_names_out=False,\n",
    ").set_output(transform='pandas')"
   ]
  },
  {
   "cell_type": "code",
   "execution_count": 130,
   "metadata": {},
   "outputs": [
    {
     "name": "stdout",
     "output_type": "stream",
     "text": [
      "Decision Tree Classifier\n",
      "Accuracy:  0.8673333333333334\n",
      "Prameters:  {'model__criterion': 'entropy', 'model__max_depth': 6, 'model__min_samples_leaf': 1, 'model__min_samples_split': 7}\n",
      "\n",
      "Random Forest Classifier\n",
      "Accuracy:  0.8686666666666667\n",
      "Prameters:  {'model__criterion': 'entropy', 'model__max_depth': 5, 'model__n_estimators': 10}\n",
      "\n",
      "Support Vector Machine - Linear\n",
      "Accuracy:  0.5966666666666667\n",
      "Prameters:  {'model__decision_function_shape': 'ovo', 'model__degree': 3, 'model__gamma': 'scale', 'model__max_iter': 3}\n",
      "\n",
      "Support Vector Machine - RBF\n",
      "Accuracy:  0.5653333333333334\n",
      "Prameters:  {'model__decision_function_shape': 'ovo', 'model__degree': 3, 'model__gamma': 'scale', 'model__max_iter': 1}\n",
      "\n"
     ]
    }
   ],
   "source": [
    "#Loop for running GridsearchCV for each model\n",
    "for model in models:\n",
    "    pipe = Pipeline([\n",
    "        ('column_transformer', ct),\n",
    "        ('model', model['model']),\n",
    "    ])\n",
    "\n",
    "    \n",
    "    kfold = StratifiedKFold(\n",
    "        n_splits=5,\n",
    "        random_state=24, \n",
    "        shuffle=True\n",
    "    )\n",
    "    \n",
    "    gcv = GridSearchCV(\n",
    "        estimator=pipe, \n",
    "        param_grid=model['params'], \n",
    "        cv=kfold, \n",
    "        scoring='accuracy',\n",
    "    ) \n",
    "\n",
    "    gcv.fit(X, y)\n",
    "    \n",
    "\n",
    "    print(model['name'])\n",
    "    print(\"Accuracy: \", gcv.best_score_)\n",
    "    print(\"Prameters: \", gcv.best_params_)\n",
    "    print()\n"
   ]
  },
  {
   "cell_type": "markdown",
   "metadata": {},
   "source": [
    "**C.** Mention for which model you are getting lowest log loss score"
   ]
  },
  {
   "cell_type": "code",
   "execution_count": 131,
   "metadata": {},
   "outputs": [],
   "source": [
    "# Creating the one hot encoder and column transformer \n",
    "\n",
    "ohe = OneHotEncoder(\n",
    "    sparse_output=False, \n",
    "    drop='first'\n",
    ").set_output(transform='pandas')\n",
    "\n",
    "\n",
    "ct = make_column_transformer(\n",
    "    ('passthrough', make_column_selector(dtype_exclude=[\n",
    "        'object',\n",
    "        'category',\n",
    "    ])),\n",
    "    (ohe, make_column_selector(dtype_include=[\n",
    "        'object',\n",
    "        'category',\n",
    "    ])),\n",
    "    verbose_feature_names_out=False,\n",
    ").set_output(transform='pandas')"
   ]
  },
  {
   "cell_type": "code",
   "execution_count": 132,
   "metadata": {},
   "outputs": [],
   "source": [
    "#Creating estimators for the pipeline\n",
    "svc = SVC(random_state=24)\n",
    "dtc = DecisionTreeClassifier(random_state=24)\n",
    "rfc = RandomForestClassifier(random_state=24, )\n",
    " \n",
    "\n",
    "kfold = StratifiedKFold(n_splits=5,random_state=24, shuffle=True)"
   ]
  },
  {
   "cell_type": "code",
   "execution_count": 133,
   "metadata": {},
   "outputs": [],
   "source": [
    "# Creating tnhe pipeline with empty model\n",
    "pipe = Pipeline([\n",
    "    ('column_transformer', ct),\n",
    "    ('model', None),\n",
    "])\n"
   ]
  },
  {
   "cell_type": "code",
   "execution_count": 134,
   "metadata": {},
   "outputs": [],
   "source": [
    "#List of paramaters to be tuned\n",
    "\n",
    "params = [\n",
    "    {\n",
    "        'model' : [svc],\n",
    "        'model__kernel': ['linear', 'rbf'],\n",
    "        'model__decision_function_shape':['ovo', 'ovr'],\n",
    "        'model__degree': np.arange(3, 10),\n",
    "        'model__max_iter': np.arange(5),\n",
    "        'model__gamma': ['scale', 'auto'],\n",
    "    },\n",
    "    {\n",
    "        'model' : [dtc],\n",
    "        'model__criterion': ['gini', 'entropy'],\n",
    "        'model__min_samples_split':np.arange(1, 10),\n",
    "        'model__min_samples_leaf':(1, 10),\n",
    "        'model__max_depth':[None,4,6],\n",
    "    },\n",
    "    {\n",
    "        'model' : [rfc],\n",
    "        'model__n_estimators': [10,50,100],\n",
    "        'model__criterion': ['gini', 'entropy'],\n",
    "        'model__max_depth': [1, 3, 5],\n",
    "    }\n",
    "]\n",
    "\n"
   ]
  },
  {
   "cell_type": "code",
   "execution_count": 135,
   "metadata": {},
   "outputs": [
    {
     "data": {
      "text/html": [
       "<style>#sk-container-id-5 {\n",
       "  /* Definition of color scheme common for light and dark mode */\n",
       "  --sklearn-color-text: black;\n",
       "  --sklearn-color-line: gray;\n",
       "  /* Definition of color scheme for unfitted estimators */\n",
       "  --sklearn-color-unfitted-level-0: #fff5e6;\n",
       "  --sklearn-color-unfitted-level-1: #f6e4d2;\n",
       "  --sklearn-color-unfitted-level-2: #ffe0b3;\n",
       "  --sklearn-color-unfitted-level-3: chocolate;\n",
       "  /* Definition of color scheme for fitted estimators */\n",
       "  --sklearn-color-fitted-level-0: #f0f8ff;\n",
       "  --sklearn-color-fitted-level-1: #d4ebff;\n",
       "  --sklearn-color-fitted-level-2: #b3dbfd;\n",
       "  --sklearn-color-fitted-level-3: cornflowerblue;\n",
       "\n",
       "  /* Specific color for light theme */\n",
       "  --sklearn-color-text-on-default-background: var(--sg-text-color, var(--theme-code-foreground, var(--jp-content-font-color1, black)));\n",
       "  --sklearn-color-background: var(--sg-background-color, var(--theme-background, var(--jp-layout-color0, white)));\n",
       "  --sklearn-color-border-box: var(--sg-text-color, var(--theme-code-foreground, var(--jp-content-font-color1, black)));\n",
       "  --sklearn-color-icon: #696969;\n",
       "\n",
       "  @media (prefers-color-scheme: dark) {\n",
       "    /* Redefinition of color scheme for dark theme */\n",
       "    --sklearn-color-text-on-default-background: var(--sg-text-color, var(--theme-code-foreground, var(--jp-content-font-color1, white)));\n",
       "    --sklearn-color-background: var(--sg-background-color, var(--theme-background, var(--jp-layout-color0, #111)));\n",
       "    --sklearn-color-border-box: var(--sg-text-color, var(--theme-code-foreground, var(--jp-content-font-color1, white)));\n",
       "    --sklearn-color-icon: #878787;\n",
       "  }\n",
       "}\n",
       "\n",
       "#sk-container-id-5 {\n",
       "  color: var(--sklearn-color-text);\n",
       "}\n",
       "\n",
       "#sk-container-id-5 pre {\n",
       "  padding: 0;\n",
       "}\n",
       "\n",
       "#sk-container-id-5 input.sk-hidden--visually {\n",
       "  border: 0;\n",
       "  clip: rect(1px 1px 1px 1px);\n",
       "  clip: rect(1px, 1px, 1px, 1px);\n",
       "  height: 1px;\n",
       "  margin: -1px;\n",
       "  overflow: hidden;\n",
       "  padding: 0;\n",
       "  position: absolute;\n",
       "  width: 1px;\n",
       "}\n",
       "\n",
       "#sk-container-id-5 div.sk-dashed-wrapped {\n",
       "  border: 1px dashed var(--sklearn-color-line);\n",
       "  margin: 0 0.4em 0.5em 0.4em;\n",
       "  box-sizing: border-box;\n",
       "  padding-bottom: 0.4em;\n",
       "  background-color: var(--sklearn-color-background);\n",
       "}\n",
       "\n",
       "#sk-container-id-5 div.sk-container {\n",
       "  /* jupyter's `normalize.less` sets `[hidden] { display: none; }`\n",
       "     but bootstrap.min.css set `[hidden] { display: none !important; }`\n",
       "     so we also need the `!important` here to be able to override the\n",
       "     default hidden behavior on the sphinx rendered scikit-learn.org.\n",
       "     See: https://github.com/scikit-learn/scikit-learn/issues/21755 */\n",
       "  display: inline-block !important;\n",
       "  position: relative;\n",
       "}\n",
       "\n",
       "#sk-container-id-5 div.sk-text-repr-fallback {\n",
       "  display: none;\n",
       "}\n",
       "\n",
       "div.sk-parallel-item,\n",
       "div.sk-serial,\n",
       "div.sk-item {\n",
       "  /* draw centered vertical line to link estimators */\n",
       "  background-image: linear-gradient(var(--sklearn-color-text-on-default-background), var(--sklearn-color-text-on-default-background));\n",
       "  background-size: 2px 100%;\n",
       "  background-repeat: no-repeat;\n",
       "  background-position: center center;\n",
       "}\n",
       "\n",
       "/* Parallel-specific style estimator block */\n",
       "\n",
       "#sk-container-id-5 div.sk-parallel-item::after {\n",
       "  content: \"\";\n",
       "  width: 100%;\n",
       "  border-bottom: 2px solid var(--sklearn-color-text-on-default-background);\n",
       "  flex-grow: 1;\n",
       "}\n",
       "\n",
       "#sk-container-id-5 div.sk-parallel {\n",
       "  display: flex;\n",
       "  align-items: stretch;\n",
       "  justify-content: center;\n",
       "  background-color: var(--sklearn-color-background);\n",
       "  position: relative;\n",
       "}\n",
       "\n",
       "#sk-container-id-5 div.sk-parallel-item {\n",
       "  display: flex;\n",
       "  flex-direction: column;\n",
       "}\n",
       "\n",
       "#sk-container-id-5 div.sk-parallel-item:first-child::after {\n",
       "  align-self: flex-end;\n",
       "  width: 50%;\n",
       "}\n",
       "\n",
       "#sk-container-id-5 div.sk-parallel-item:last-child::after {\n",
       "  align-self: flex-start;\n",
       "  width: 50%;\n",
       "}\n",
       "\n",
       "#sk-container-id-5 div.sk-parallel-item:only-child::after {\n",
       "  width: 0;\n",
       "}\n",
       "\n",
       "/* Serial-specific style estimator block */\n",
       "\n",
       "#sk-container-id-5 div.sk-serial {\n",
       "  display: flex;\n",
       "  flex-direction: column;\n",
       "  align-items: center;\n",
       "  background-color: var(--sklearn-color-background);\n",
       "  padding-right: 1em;\n",
       "  padding-left: 1em;\n",
       "}\n",
       "\n",
       "\n",
       "/* Toggleable style: style used for estimator/Pipeline/ColumnTransformer box that is\n",
       "clickable and can be expanded/collapsed.\n",
       "- Pipeline and ColumnTransformer use this feature and define the default style\n",
       "- Estimators will overwrite some part of the style using the `sk-estimator` class\n",
       "*/\n",
       "\n",
       "/* Pipeline and ColumnTransformer style (default) */\n",
       "\n",
       "#sk-container-id-5 div.sk-toggleable {\n",
       "  /* Default theme specific background. It is overwritten whether we have a\n",
       "  specific estimator or a Pipeline/ColumnTransformer */\n",
       "  background-color: var(--sklearn-color-background);\n",
       "}\n",
       "\n",
       "/* Toggleable label */\n",
       "#sk-container-id-5 label.sk-toggleable__label {\n",
       "  cursor: pointer;\n",
       "  display: block;\n",
       "  width: 100%;\n",
       "  margin-bottom: 0;\n",
       "  padding: 0.5em;\n",
       "  box-sizing: border-box;\n",
       "  text-align: center;\n",
       "}\n",
       "\n",
       "#sk-container-id-5 label.sk-toggleable__label-arrow:before {\n",
       "  /* Arrow on the left of the label */\n",
       "  content: \"▸\";\n",
       "  float: left;\n",
       "  margin-right: 0.25em;\n",
       "  color: var(--sklearn-color-icon);\n",
       "}\n",
       "\n",
       "#sk-container-id-5 label.sk-toggleable__label-arrow:hover:before {\n",
       "  color: var(--sklearn-color-text);\n",
       "}\n",
       "\n",
       "/* Toggleable content - dropdown */\n",
       "\n",
       "#sk-container-id-5 div.sk-toggleable__content {\n",
       "  max-height: 0;\n",
       "  max-width: 0;\n",
       "  overflow: hidden;\n",
       "  text-align: left;\n",
       "  /* unfitted */\n",
       "  background-color: var(--sklearn-color-unfitted-level-0);\n",
       "}\n",
       "\n",
       "#sk-container-id-5 div.sk-toggleable__content.fitted {\n",
       "  /* fitted */\n",
       "  background-color: var(--sklearn-color-fitted-level-0);\n",
       "}\n",
       "\n",
       "#sk-container-id-5 div.sk-toggleable__content pre {\n",
       "  margin: 0.2em;\n",
       "  border-radius: 0.25em;\n",
       "  color: var(--sklearn-color-text);\n",
       "  /* unfitted */\n",
       "  background-color: var(--sklearn-color-unfitted-level-0);\n",
       "}\n",
       "\n",
       "#sk-container-id-5 div.sk-toggleable__content.fitted pre {\n",
       "  /* unfitted */\n",
       "  background-color: var(--sklearn-color-fitted-level-0);\n",
       "}\n",
       "\n",
       "#sk-container-id-5 input.sk-toggleable__control:checked~div.sk-toggleable__content {\n",
       "  /* Expand drop-down */\n",
       "  max-height: 200px;\n",
       "  max-width: 100%;\n",
       "  overflow: auto;\n",
       "}\n",
       "\n",
       "#sk-container-id-5 input.sk-toggleable__control:checked~label.sk-toggleable__label-arrow:before {\n",
       "  content: \"▾\";\n",
       "}\n",
       "\n",
       "/* Pipeline/ColumnTransformer-specific style */\n",
       "\n",
       "#sk-container-id-5 div.sk-label input.sk-toggleable__control:checked~label.sk-toggleable__label {\n",
       "  color: var(--sklearn-color-text);\n",
       "  background-color: var(--sklearn-color-unfitted-level-2);\n",
       "}\n",
       "\n",
       "#sk-container-id-5 div.sk-label.fitted input.sk-toggleable__control:checked~label.sk-toggleable__label {\n",
       "  background-color: var(--sklearn-color-fitted-level-2);\n",
       "}\n",
       "\n",
       "/* Estimator-specific style */\n",
       "\n",
       "/* Colorize estimator box */\n",
       "#sk-container-id-5 div.sk-estimator input.sk-toggleable__control:checked~label.sk-toggleable__label {\n",
       "  /* unfitted */\n",
       "  background-color: var(--sklearn-color-unfitted-level-2);\n",
       "}\n",
       "\n",
       "#sk-container-id-5 div.sk-estimator.fitted input.sk-toggleable__control:checked~label.sk-toggleable__label {\n",
       "  /* fitted */\n",
       "  background-color: var(--sklearn-color-fitted-level-2);\n",
       "}\n",
       "\n",
       "#sk-container-id-5 div.sk-label label.sk-toggleable__label,\n",
       "#sk-container-id-5 div.sk-label label {\n",
       "  /* The background is the default theme color */\n",
       "  color: var(--sklearn-color-text-on-default-background);\n",
       "}\n",
       "\n",
       "/* On hover, darken the color of the background */\n",
       "#sk-container-id-5 div.sk-label:hover label.sk-toggleable__label {\n",
       "  color: var(--sklearn-color-text);\n",
       "  background-color: var(--sklearn-color-unfitted-level-2);\n",
       "}\n",
       "\n",
       "/* Label box, darken color on hover, fitted */\n",
       "#sk-container-id-5 div.sk-label.fitted:hover label.sk-toggleable__label.fitted {\n",
       "  color: var(--sklearn-color-text);\n",
       "  background-color: var(--sklearn-color-fitted-level-2);\n",
       "}\n",
       "\n",
       "/* Estimator label */\n",
       "\n",
       "#sk-container-id-5 div.sk-label label {\n",
       "  font-family: monospace;\n",
       "  font-weight: bold;\n",
       "  display: inline-block;\n",
       "  line-height: 1.2em;\n",
       "}\n",
       "\n",
       "#sk-container-id-5 div.sk-label-container {\n",
       "  text-align: center;\n",
       "}\n",
       "\n",
       "/* Estimator-specific */\n",
       "#sk-container-id-5 div.sk-estimator {\n",
       "  font-family: monospace;\n",
       "  border: 1px dotted var(--sklearn-color-border-box);\n",
       "  border-radius: 0.25em;\n",
       "  box-sizing: border-box;\n",
       "  margin-bottom: 0.5em;\n",
       "  /* unfitted */\n",
       "  background-color: var(--sklearn-color-unfitted-level-0);\n",
       "}\n",
       "\n",
       "#sk-container-id-5 div.sk-estimator.fitted {\n",
       "  /* fitted */\n",
       "  background-color: var(--sklearn-color-fitted-level-0);\n",
       "}\n",
       "\n",
       "/* on hover */\n",
       "#sk-container-id-5 div.sk-estimator:hover {\n",
       "  /* unfitted */\n",
       "  background-color: var(--sklearn-color-unfitted-level-2);\n",
       "}\n",
       "\n",
       "#sk-container-id-5 div.sk-estimator.fitted:hover {\n",
       "  /* fitted */\n",
       "  background-color: var(--sklearn-color-fitted-level-2);\n",
       "}\n",
       "\n",
       "/* Specification for estimator info (e.g. \"i\" and \"?\") */\n",
       "\n",
       "/* Common style for \"i\" and \"?\" */\n",
       "\n",
       ".sk-estimator-doc-link,\n",
       "a:link.sk-estimator-doc-link,\n",
       "a:visited.sk-estimator-doc-link {\n",
       "  float: right;\n",
       "  font-size: smaller;\n",
       "  line-height: 1em;\n",
       "  font-family: monospace;\n",
       "  background-color: var(--sklearn-color-background);\n",
       "  border-radius: 1em;\n",
       "  height: 1em;\n",
       "  width: 1em;\n",
       "  text-decoration: none !important;\n",
       "  margin-left: 1ex;\n",
       "  /* unfitted */\n",
       "  border: var(--sklearn-color-unfitted-level-1) 1pt solid;\n",
       "  color: var(--sklearn-color-unfitted-level-1);\n",
       "}\n",
       "\n",
       ".sk-estimator-doc-link.fitted,\n",
       "a:link.sk-estimator-doc-link.fitted,\n",
       "a:visited.sk-estimator-doc-link.fitted {\n",
       "  /* fitted */\n",
       "  border: var(--sklearn-color-fitted-level-1) 1pt solid;\n",
       "  color: var(--sklearn-color-fitted-level-1);\n",
       "}\n",
       "\n",
       "/* On hover */\n",
       "div.sk-estimator:hover .sk-estimator-doc-link:hover,\n",
       ".sk-estimator-doc-link:hover,\n",
       "div.sk-label-container:hover .sk-estimator-doc-link:hover,\n",
       ".sk-estimator-doc-link:hover {\n",
       "  /* unfitted */\n",
       "  background-color: var(--sklearn-color-unfitted-level-3);\n",
       "  color: var(--sklearn-color-background);\n",
       "  text-decoration: none;\n",
       "}\n",
       "\n",
       "div.sk-estimator.fitted:hover .sk-estimator-doc-link.fitted:hover,\n",
       ".sk-estimator-doc-link.fitted:hover,\n",
       "div.sk-label-container:hover .sk-estimator-doc-link.fitted:hover,\n",
       ".sk-estimator-doc-link.fitted:hover {\n",
       "  /* fitted */\n",
       "  background-color: var(--sklearn-color-fitted-level-3);\n",
       "  color: var(--sklearn-color-background);\n",
       "  text-decoration: none;\n",
       "}\n",
       "\n",
       "/* Span, style for the box shown on hovering the info icon */\n",
       ".sk-estimator-doc-link span {\n",
       "  display: none;\n",
       "  z-index: 9999;\n",
       "  position: relative;\n",
       "  font-weight: normal;\n",
       "  right: .2ex;\n",
       "  padding: .5ex;\n",
       "  margin: .5ex;\n",
       "  width: min-content;\n",
       "  min-width: 20ex;\n",
       "  max-width: 50ex;\n",
       "  color: var(--sklearn-color-text);\n",
       "  box-shadow: 2pt 2pt 4pt #999;\n",
       "  /* unfitted */\n",
       "  background: var(--sklearn-color-unfitted-level-0);\n",
       "  border: .5pt solid var(--sklearn-color-unfitted-level-3);\n",
       "}\n",
       "\n",
       ".sk-estimator-doc-link.fitted span {\n",
       "  /* fitted */\n",
       "  background: var(--sklearn-color-fitted-level-0);\n",
       "  border: var(--sklearn-color-fitted-level-3);\n",
       "}\n",
       "\n",
       ".sk-estimator-doc-link:hover span {\n",
       "  display: block;\n",
       "}\n",
       "\n",
       "/* \"?\"-specific style due to the `<a>` HTML tag */\n",
       "\n",
       "#sk-container-id-5 a.estimator_doc_link {\n",
       "  float: right;\n",
       "  font-size: 1rem;\n",
       "  line-height: 1em;\n",
       "  font-family: monospace;\n",
       "  background-color: var(--sklearn-color-background);\n",
       "  border-radius: 1rem;\n",
       "  height: 1rem;\n",
       "  width: 1rem;\n",
       "  text-decoration: none;\n",
       "  /* unfitted */\n",
       "  color: var(--sklearn-color-unfitted-level-1);\n",
       "  border: var(--sklearn-color-unfitted-level-1) 1pt solid;\n",
       "}\n",
       "\n",
       "#sk-container-id-5 a.estimator_doc_link.fitted {\n",
       "  /* fitted */\n",
       "  border: var(--sklearn-color-fitted-level-1) 1pt solid;\n",
       "  color: var(--sklearn-color-fitted-level-1);\n",
       "}\n",
       "\n",
       "/* On hover */\n",
       "#sk-container-id-5 a.estimator_doc_link:hover {\n",
       "  /* unfitted */\n",
       "  background-color: var(--sklearn-color-unfitted-level-3);\n",
       "  color: var(--sklearn-color-background);\n",
       "  text-decoration: none;\n",
       "}\n",
       "\n",
       "#sk-container-id-5 a.estimator_doc_link.fitted:hover {\n",
       "  /* fitted */\n",
       "  background-color: var(--sklearn-color-fitted-level-3);\n",
       "}\n",
       "</style><div id=\"sk-container-id-5\" class=\"sk-top-container\"><div class=\"sk-text-repr-fallback\"><pre>GridSearchCV(cv=StratifiedKFold(n_splits=5, random_state=24, shuffle=True),\n",
       "             estimator=Pipeline(steps=[(&#x27;column_transformer&#x27;,\n",
       "                                        ColumnTransformer(transformers=[(&#x27;passthrough&#x27;,\n",
       "                                                                         &#x27;passthrough&#x27;,\n",
       "                                                                         &lt;sklearn.compose._column_transformer.make_column_selector object at 0x0000026108E25820&gt;),\n",
       "                                                                        (&#x27;onehotencoder&#x27;,\n",
       "                                                                         OneHotEncoder(drop=&#x27;first&#x27;,\n",
       "                                                                                       sparse_output=False),\n",
       "                                                                         &lt;sklearn.compose....\n",
       "                         {&#x27;model&#x27;: [DecisionTreeClassifier(random_state=24)],\n",
       "                          &#x27;model__criterion&#x27;: [&#x27;gini&#x27;, &#x27;entropy&#x27;],\n",
       "                          &#x27;model__max_depth&#x27;: [None, 4, 6],\n",
       "                          &#x27;model__min_samples_leaf&#x27;: (1, 10),\n",
       "                          &#x27;model__min_samples_split&#x27;: array([1, 2, 3, 4, 5, 6, 7, 8, 9])},\n",
       "                         {&#x27;model&#x27;: [RandomForestClassifier(random_state=24)],\n",
       "                          &#x27;model__criterion&#x27;: [&#x27;gini&#x27;, &#x27;entropy&#x27;],\n",
       "                          &#x27;model__max_depth&#x27;: [1, 3, 5],\n",
       "                          &#x27;model__n_estimators&#x27;: [10, 50, 100]}],\n",
       "             scoring=&#x27;neg_log_loss&#x27;)</pre><b>In a Jupyter environment, please rerun this cell to show the HTML representation or trust the notebook. <br />On GitHub, the HTML representation is unable to render, please try loading this page with nbviewer.org.</b></div><div class=\"sk-container\" hidden><div class=\"sk-item sk-dashed-wrapped\"><div class=\"sk-label-container\"><div class=\"sk-label fitted sk-toggleable\"><input class=\"sk-toggleable__control sk-hidden--visually\" id=\"sk-estimator-id-33\" type=\"checkbox\" ><label for=\"sk-estimator-id-33\" class=\"sk-toggleable__label fitted sk-toggleable__label-arrow fitted\">&nbsp;&nbsp;GridSearchCV<a class=\"sk-estimator-doc-link fitted\" rel=\"noreferrer\" target=\"_blank\" href=\"https://scikit-learn.org/1.5/modules/generated/sklearn.model_selection.GridSearchCV.html\">?<span>Documentation for GridSearchCV</span></a><span class=\"sk-estimator-doc-link fitted\">i<span>Fitted</span></span></label><div class=\"sk-toggleable__content fitted\"><pre>GridSearchCV(cv=StratifiedKFold(n_splits=5, random_state=24, shuffle=True),\n",
       "             estimator=Pipeline(steps=[(&#x27;column_transformer&#x27;,\n",
       "                                        ColumnTransformer(transformers=[(&#x27;passthrough&#x27;,\n",
       "                                                                         &#x27;passthrough&#x27;,\n",
       "                                                                         &lt;sklearn.compose._column_transformer.make_column_selector object at 0x0000026108E25820&gt;),\n",
       "                                                                        (&#x27;onehotencoder&#x27;,\n",
       "                                                                         OneHotEncoder(drop=&#x27;first&#x27;,\n",
       "                                                                                       sparse_output=False),\n",
       "                                                                         &lt;sklearn.compose....\n",
       "                         {&#x27;model&#x27;: [DecisionTreeClassifier(random_state=24)],\n",
       "                          &#x27;model__criterion&#x27;: [&#x27;gini&#x27;, &#x27;entropy&#x27;],\n",
       "                          &#x27;model__max_depth&#x27;: [None, 4, 6],\n",
       "                          &#x27;model__min_samples_leaf&#x27;: (1, 10),\n",
       "                          &#x27;model__min_samples_split&#x27;: array([1, 2, 3, 4, 5, 6, 7, 8, 9])},\n",
       "                         {&#x27;model&#x27;: [RandomForestClassifier(random_state=24)],\n",
       "                          &#x27;model__criterion&#x27;: [&#x27;gini&#x27;, &#x27;entropy&#x27;],\n",
       "                          &#x27;model__max_depth&#x27;: [1, 3, 5],\n",
       "                          &#x27;model__n_estimators&#x27;: [10, 50, 100]}],\n",
       "             scoring=&#x27;neg_log_loss&#x27;)</pre></div> </div></div><div class=\"sk-parallel\"><div class=\"sk-parallel-item\"><div class=\"sk-item\"><div class=\"sk-label-container\"><div class=\"sk-label fitted sk-toggleable\"><input class=\"sk-toggleable__control sk-hidden--visually\" id=\"sk-estimator-id-34\" type=\"checkbox\" ><label for=\"sk-estimator-id-34\" class=\"sk-toggleable__label fitted sk-toggleable__label-arrow fitted\">best_estimator_: Pipeline</label><div class=\"sk-toggleable__content fitted\"><pre>Pipeline(steps=[(&#x27;column_transformer&#x27;,\n",
       "                 ColumnTransformer(transformers=[(&#x27;passthrough&#x27;, &#x27;passthrough&#x27;,\n",
       "                                                  &lt;sklearn.compose._column_transformer.make_column_selector object at 0x00000261078C5910&gt;),\n",
       "                                                 (&#x27;onehotencoder&#x27;,\n",
       "                                                  OneHotEncoder(drop=&#x27;first&#x27;,\n",
       "                                                                sparse_output=False),\n",
       "                                                  &lt;sklearn.compose._column_transformer.make_column_selector object at 0x00000261078C5160&gt;)],\n",
       "                                   verbose_feature_names_out=False)),\n",
       "                (&#x27;model&#x27;,\n",
       "                 RandomForestClassifier(criterion=&#x27;entropy&#x27;, max_depth=5,\n",
       "                                        random_state=24))])</pre></div> </div></div><div class=\"sk-serial\"><div class=\"sk-item\"><div class=\"sk-serial\"><div class=\"sk-item sk-dashed-wrapped\"><div class=\"sk-label-container\"><div class=\"sk-label fitted sk-toggleable\"><input class=\"sk-toggleable__control sk-hidden--visually\" id=\"sk-estimator-id-35\" type=\"checkbox\" ><label for=\"sk-estimator-id-35\" class=\"sk-toggleable__label fitted sk-toggleable__label-arrow fitted\">&nbsp;column_transformer: ColumnTransformer<a class=\"sk-estimator-doc-link fitted\" rel=\"noreferrer\" target=\"_blank\" href=\"https://scikit-learn.org/1.5/modules/generated/sklearn.compose.ColumnTransformer.html\">?<span>Documentation for column_transformer: ColumnTransformer</span></a></label><div class=\"sk-toggleable__content fitted\"><pre>ColumnTransformer(transformers=[(&#x27;passthrough&#x27;, &#x27;passthrough&#x27;,\n",
       "                                 &lt;sklearn.compose._column_transformer.make_column_selector object at 0x00000261078C5910&gt;),\n",
       "                                (&#x27;onehotencoder&#x27;,\n",
       "                                 OneHotEncoder(drop=&#x27;first&#x27;,\n",
       "                                               sparse_output=False),\n",
       "                                 &lt;sklearn.compose._column_transformer.make_column_selector object at 0x00000261078C5160&gt;)],\n",
       "                  verbose_feature_names_out=False)</pre></div> </div></div><div class=\"sk-parallel\"><div class=\"sk-parallel-item\"><div class=\"sk-item\"><div class=\"sk-label-container\"><div class=\"sk-label fitted sk-toggleable\"><input class=\"sk-toggleable__control sk-hidden--visually\" id=\"sk-estimator-id-36\" type=\"checkbox\" ><label for=\"sk-estimator-id-36\" class=\"sk-toggleable__label fitted sk-toggleable__label-arrow fitted\">passthrough</label><div class=\"sk-toggleable__content fitted\"><pre>&lt;sklearn.compose._column_transformer.make_column_selector object at 0x00000261078C5910&gt;</pre></div> </div></div><div class=\"sk-serial\"><div class=\"sk-item\"><div class=\"sk-estimator fitted sk-toggleable\"><input class=\"sk-toggleable__control sk-hidden--visually\" id=\"sk-estimator-id-37\" type=\"checkbox\" ><label for=\"sk-estimator-id-37\" class=\"sk-toggleable__label fitted sk-toggleable__label-arrow fitted\">passthrough</label><div class=\"sk-toggleable__content fitted\"><pre>passthrough</pre></div> </div></div></div></div></div><div class=\"sk-parallel-item\"><div class=\"sk-item\"><div class=\"sk-label-container\"><div class=\"sk-label fitted sk-toggleable\"><input class=\"sk-toggleable__control sk-hidden--visually\" id=\"sk-estimator-id-38\" type=\"checkbox\" ><label for=\"sk-estimator-id-38\" class=\"sk-toggleable__label fitted sk-toggleable__label-arrow fitted\">onehotencoder</label><div class=\"sk-toggleable__content fitted\"><pre>&lt;sklearn.compose._column_transformer.make_column_selector object at 0x00000261078C5160&gt;</pre></div> </div></div><div class=\"sk-serial\"><div class=\"sk-item\"><div class=\"sk-estimator fitted sk-toggleable\"><input class=\"sk-toggleable__control sk-hidden--visually\" id=\"sk-estimator-id-39\" type=\"checkbox\" ><label for=\"sk-estimator-id-39\" class=\"sk-toggleable__label fitted sk-toggleable__label-arrow fitted\">&nbsp;OneHotEncoder<a class=\"sk-estimator-doc-link fitted\" rel=\"noreferrer\" target=\"_blank\" href=\"https://scikit-learn.org/1.5/modules/generated/sklearn.preprocessing.OneHotEncoder.html\">?<span>Documentation for OneHotEncoder</span></a></label><div class=\"sk-toggleable__content fitted\"><pre>OneHotEncoder(drop=&#x27;first&#x27;, sparse_output=False)</pre></div> </div></div></div></div></div></div></div><div class=\"sk-item\"><div class=\"sk-estimator fitted sk-toggleable\"><input class=\"sk-toggleable__control sk-hidden--visually\" id=\"sk-estimator-id-40\" type=\"checkbox\" ><label for=\"sk-estimator-id-40\" class=\"sk-toggleable__label fitted sk-toggleable__label-arrow fitted\">&nbsp;RandomForestClassifier<a class=\"sk-estimator-doc-link fitted\" rel=\"noreferrer\" target=\"_blank\" href=\"https://scikit-learn.org/1.5/modules/generated/sklearn.ensemble.RandomForestClassifier.html\">?<span>Documentation for RandomForestClassifier</span></a></label><div class=\"sk-toggleable__content fitted\"><pre>RandomForestClassifier(criterion=&#x27;entropy&#x27;, max_depth=5, random_state=24)</pre></div> </div></div></div></div></div></div></div></div></div></div></div>"
      ],
      "text/plain": [
       "GridSearchCV(cv=StratifiedKFold(n_splits=5, random_state=24, shuffle=True),\n",
       "             estimator=Pipeline(steps=[('column_transformer',\n",
       "                                        ColumnTransformer(transformers=[('passthrough',\n",
       "                                                                         'passthrough',\n",
       "                                                                         <sklearn.compose._column_transformer.make_column_selector object at 0x0000026108E25820>),\n",
       "                                                                        ('onehotencoder',\n",
       "                                                                         OneHotEncoder(drop='first',\n",
       "                                                                                       sparse_output=False),\n",
       "                                                                         <sklearn.compose....\n",
       "                         {'model': [DecisionTreeClassifier(random_state=24)],\n",
       "                          'model__criterion': ['gini', 'entropy'],\n",
       "                          'model__max_depth': [None, 4, 6],\n",
       "                          'model__min_samples_leaf': (1, 10),\n",
       "                          'model__min_samples_split': array([1, 2, 3, 4, 5, 6, 7, 8, 9])},\n",
       "                         {'model': [RandomForestClassifier(random_state=24)],\n",
       "                          'model__criterion': ['gini', 'entropy'],\n",
       "                          'model__max_depth': [1, 3, 5],\n",
       "                          'model__n_estimators': [10, 50, 100]}],\n",
       "             scoring='neg_log_loss')"
      ]
     },
     "execution_count": 135,
     "metadata": {},
     "output_type": "execute_result"
    }
   ],
   "source": [
    "# Defininf the grid search\n",
    "gcv = GridSearchCV(\n",
    "    estimator=pipe, \n",
    "    param_grid=params, \n",
    "    cv=kfold, \n",
    "    scoring='neg_log_loss', \n",
    ")\n",
    "\n",
    "# Fitting the model\n",
    "gcv.fit(X, y)"
   ]
  },
  {
   "cell_type": "code",
   "execution_count": 136,
   "metadata": {},
   "outputs": [
    {
     "name": "stdout",
     "output_type": "stream",
     "text": [
      "Best Model\n",
      "Best score: -0.29059112611523336\n",
      "Best params_: {'model': RandomForestClassifier(random_state=24), 'model__criterion': 'entropy', 'model__max_depth': 5, 'model__n_estimators': 100}\n"
     ]
    }
   ],
   "source": [
    "# Print the best model and its log loss error\n",
    "print('Best Model')\n",
    "print('Best score:', gcv.best_score_)\n",
    "print('Best params_:', gcv.best_params_ )"
   ]
  }
 ],
 "metadata": {
  "accelerator": "GPU",
  "colab": {
   "gpuType": "T4",
   "provenance": []
  },
  "kernelspec": {
   "display_name": "pythonProject",
   "language": "python",
   "name": "python3"
  },
  "language_info": {
   "codemirror_mode": {
    "name": "ipython",
    "version": 3
   },
   "file_extension": ".py",
   "mimetype": "text/x-python",
   "name": "python",
   "nbconvert_exporter": "python",
   "pygments_lexer": "ipython3",
   "version": "3.12.4"
  }
 },
 "nbformat": 4,
 "nbformat_minor": 0
}
