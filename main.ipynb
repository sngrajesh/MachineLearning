{
 "cells": [
  {
   "cell_type": "code",
   "execution_count": 6,
   "metadata": {},
   "outputs": [
    {
     "name": "stdout",
     "output_type": "stream",
     "text": [
      "{'model': 'llama3.2-vision', 'created_at': '2024-11-12T08:38:09.0674085Z', 'message': {'role': 'assistant', 'content': 'This image depicts a man with his hand to his ear, next to the words \"Convert JPG to PDF\", an icon of two overlapping pages, and a red Adobe PDF logo. The image appears to be an advertisement for converting photographs (JPG) into PDF documents.'}, 'done_reason': 'stop', 'done': True, 'total_duration': 316542960000, 'load_duration': 16928550400, 'prompt_eval_count': 18, 'prompt_eval_duration': 279617000000, 'eval_count': 55, 'eval_duration': 19692000000}\n"
     ]
    }
   ],
   "source": [
    "import ollama\n",
    "\n",
    "ollama.pull(\"llama3.2-vision\")\n",
    "\n",
    "\n",
    "response = ollama.chat(\n",
    "    model='llama3.2-vision',\n",
    "    messages=[{\n",
    "        'role': 'user',\n",
    "        'content': 'What is in this image?',\n",
    "        'images': [r\"c:\\Users\\DAI.STUDENTSDC\\Downloads\\images.jpg\"]\n",
    "    }]\n",
    ")\n",
    "\n",
    "print(response)"
   ]
  },
  {
   "cell_type": "code",
   "execution_count": 7,
   "metadata": {},
   "outputs": [
    {
     "data": {
      "text/plain": [
       "{'model': 'llama3.2-vision',\n",
       " 'created_at': '2024-11-12T08:38:09.0674085Z',\n",
       " 'message': {'role': 'assistant',\n",
       "  'content': 'This image depicts a man with his hand to his ear, next to the words \"Convert JPG to PDF\", an icon of two overlapping pages, and a red Adobe PDF logo. The image appears to be an advertisement for converting photographs (JPG) into PDF documents.'},\n",
       " 'done_reason': 'stop',\n",
       " 'done': True,\n",
       " 'total_duration': 316542960000,\n",
       " 'load_duration': 16928550400,\n",
       " 'prompt_eval_count': 18,\n",
       " 'prompt_eval_duration': 279617000000,\n",
       " 'eval_count': 55,\n",
       " 'eval_duration': 19692000000}"
      ]
     },
     "execution_count": 7,
     "metadata": {},
     "output_type": "execute_result"
    }
   ],
   "source": [
    "response"
   ]
  }
 ],
 "metadata": {
  "kernelspec": {
   "display_name": "base",
   "language": "python",
   "name": "python3"
  },
  "language_info": {
   "codemirror_mode": {
    "name": "ipython",
    "version": 3
   },
   "file_extension": ".py",
   "mimetype": "text/x-python",
   "name": "python",
   "nbconvert_exporter": "python",
   "pygments_lexer": "ipython3",
   "version": "3.8.5"
  }
 },
 "nbformat": 4,
 "nbformat_minor": 2
}
