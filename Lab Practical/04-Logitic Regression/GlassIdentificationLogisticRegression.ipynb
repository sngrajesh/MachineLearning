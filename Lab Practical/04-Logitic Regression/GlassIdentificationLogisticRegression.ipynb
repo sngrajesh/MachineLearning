{
 "cells": [
  {
   "cell_type": "code",
   "execution_count": 73,
   "metadata": {},
   "outputs": [],
   "source": [
    "import warnings\n",
    "warnings.filterwarnings(\"ignore\")"
   ]
  },
  {
   "cell_type": "code",
   "execution_count": 74,
   "metadata": {},
   "outputs": [
    {
     "name": "stdout",
     "output_type": "stream",
     "text": [
      "1.5.2\n"
     ]
    }
   ],
   "source": [
    "import sklearn\n",
    "import numpy as np\n",
    "import pandas as pd\n",
    "from sklearn.pipeline import Pipeline\n",
    "from sklearn.metrics import accuracy_score, r2_score\n",
    "from sklearn.preprocessing import OneHotEncoder\n",
    "from sklearn.linear_model import LogisticRegression\n",
    "from sklearn.model_selection import GridSearchCV\n",
    "from sklearn.model_selection import StratifiedKFold\n",
    "from sklearn.model_selection import train_test_split\n",
    "from sklearn.preprocessing import LabelEncoder\n",
    "from sklearn.metrics import accuracy_score, confusion_matrix, r2_score\n",
    "\n",
    "\n",
    "print(sklearn.__version__)\n"
   ]
  },
  {
   "cell_type": "code",
   "execution_count": 75,
   "metadata": {},
   "outputs": [
    {
     "name": "stdout",
     "output_type": "stream",
     "text": [
      "             name     role         type demographic       description  \\\n",
      "0       Id_number       ID      Integer        None              None   \n",
      "1              RI  Feature   Continuous        None  refractive index   \n",
      "2              Na  Feature   Continuous        None            Sodium   \n",
      "3              Mg  Feature   Continuous        None         Magnesium   \n",
      "4              Al  Feature   Continuous        None          Aluminum   \n",
      "5              Si  Feature   Continuous        None           Silicon   \n",
      "6               K  Feature   Continuous        None         Potassium   \n",
      "7              Ca  Feature   Continuous        None           Calcium   \n",
      "8              Ba  Feature   Continuous        None            Barium   \n",
      "9              Fe  Feature   Continuous        None              Iron   \n",
      "10  Type_of_glass   Target  Categorical        None              None   \n",
      "\n",
      "                                    units missing_values  \n",
      "0                                    None             no  \n",
      "1                                    None             no  \n",
      "2   weight percent in corresponding oxide             no  \n",
      "3   weight percent in corresponding oxide             no  \n",
      "4   weight percent in corresponding oxide             no  \n",
      "5   weight percent in corresponding oxide             no  \n",
      "6   weight percent in corresponding oxide             no  \n",
      "7   weight percent in corresponding oxide             no  \n",
      "8   weight percent in corresponding oxide             no  \n",
      "9   weight percent in corresponding oxide             no  \n",
      "10                                   None             no  \n"
     ]
    }
   ],
   "source": [
    "from ucimlrepo import fetch_ucirepo \n",
    "  \n",
    "# fetch dataset \n",
    "glass_identification = fetch_ucirepo(id=42) \n",
    "  \n",
    "# data (as pandas dataframes) \n",
    "X = glass_identification.data.features \n",
    "y = glass_identification.data.targets \n",
    "  \n",
    "# metadata  & variable information \n",
    "# print(glass_identification.metadata) \n",
    "print(glass_identification.variables) "
   ]
  },
  {
   "cell_type": "code",
   "execution_count": 79,
   "metadata": {},
   "outputs": [],
   "source": [
    "lr = LogisticRegression(random_state=24)\n",
    "\n",
    "kfold = StratifiedKFold(n_splits=5, random_state=24, shuffle=True)\n",
    "\n",
    "\n",
    "params = {\n",
    "    \"solver\": [\n",
    "        \"lbfgs\",\n",
    "        \"liblinear\",\n",
    "        \"newton-cg\",\n",
    "        \"sag\",\n",
    "        \"saga\"\n",
    "        \"newton-cholesky\"\n",
    "    ],\n",
    "    \"multi_class\": [\n",
    "        \"ovr\",\n",
    "        \"multinomial\"\n",
    "    ],\n",
    "    \"C\" : np.linspace(0.001, 10, 20),\n",
    "}\n",
    "\n",
    "gcv = GridSearchCV(\n",
    "    estimator=lr,\n",
    "    param_grid=params,\n",
    "    cv=kfold,\n",
    ")\n"
   ]
  },
  {
   "cell_type": "code",
   "execution_count": 80,
   "metadata": {},
   "outputs": [
    {
     "name": "stdout",
     "output_type": "stream",
     "text": [
      "{'C': 4.211105263157895, 'multi_class': 'ovr', 'solver': 'newton-cg'}\n",
      "0.6499446290143964\n",
      "(200, 16)\n"
     ]
    }
   ],
   "source": [
    "\n",
    "gcv.fit(X, y['Type_of_glass'])\n",
    "\n",
    "print(gcv.best_params_)\n",
    "print(gcv.best_score_)\n",
    " \n",
    "\n",
    "pd_cv = pd.DataFrame(gcv.cv_results_)\n",
    "print(pd_cv.shape)\n",
    " "
   ]
  },
  {
   "cell_type": "code",
   "execution_count": 81,
   "metadata": {},
   "outputs": [
    {
     "data": {
      "text/html": [
       "<div>\n",
       "<style scoped>\n",
       "    .dataframe tbody tr th:only-of-type {\n",
       "        vertical-align: middle;\n",
       "    }\n",
       "\n",
       "    .dataframe tbody tr th {\n",
       "        vertical-align: top;\n",
       "    }\n",
       "\n",
       "    .dataframe thead th {\n",
       "        text-align: right;\n",
       "    }\n",
       "</style>\n",
       "<table border=\"1\" class=\"dataframe\">\n",
       "  <thead>\n",
       "    <tr style=\"text-align: right;\">\n",
       "      <th></th>\n",
       "      <th>RI</th>\n",
       "      <th>Na</th>\n",
       "      <th>Mg</th>\n",
       "      <th>Al</th>\n",
       "      <th>Si</th>\n",
       "      <th>K</th>\n",
       "      <th>Ca</th>\n",
       "      <th>Ba</th>\n",
       "      <th>Fe</th>\n",
       "    </tr>\n",
       "  </thead>\n",
       "  <tbody>\n",
       "    <tr>\n",
       "      <th>0</th>\n",
       "      <td>1.5321</td>\n",
       "      <td>14.0</td>\n",
       "      <td>0.00</td>\n",
       "      <td>0.34</td>\n",
       "      <td>70.23</td>\n",
       "      <td>0.001</td>\n",
       "      <td>6.7</td>\n",
       "      <td>1.23</td>\n",
       "      <td>0.000</td>\n",
       "    </tr>\n",
       "    <tr>\n",
       "      <th>1</th>\n",
       "      <td>1.5212</td>\n",
       "      <td>15.0</td>\n",
       "      <td>3.00</td>\n",
       "      <td>1.23</td>\n",
       "      <td>75.90</td>\n",
       "      <td>0.100</td>\n",
       "      <td>7.0</td>\n",
       "      <td>0.00</td>\n",
       "      <td>0.440</td>\n",
       "    </tr>\n",
       "    <tr>\n",
       "      <th>2</th>\n",
       "      <td>1.5112</td>\n",
       "      <td>13.0</td>\n",
       "      <td>3.50</td>\n",
       "      <td>2.30</td>\n",
       "      <td>73.00</td>\n",
       "      <td>3.400</td>\n",
       "      <td>14.0</td>\n",
       "      <td>2.30</td>\n",
       "      <td>0.220</td>\n",
       "    </tr>\n",
       "    <tr>\n",
       "      <th>3</th>\n",
       "      <td>1.5000</td>\n",
       "      <td>12.4</td>\n",
       "      <td>1.23</td>\n",
       "      <td>3.22</td>\n",
       "      <td>74.22</td>\n",
       "      <td>4.500</td>\n",
       "      <td>10.0</td>\n",
       "      <td>3.10</td>\n",
       "      <td>0.100</td>\n",
       "    </tr>\n",
       "    <tr>\n",
       "      <th>4</th>\n",
       "      <td>1.5200</td>\n",
       "      <td>13.0</td>\n",
       "      <td>2.40</td>\n",
       "      <td>0.34</td>\n",
       "      <td>71.22</td>\n",
       "      <td>3.200</td>\n",
       "      <td>9.0</td>\n",
       "      <td>1.44</td>\n",
       "      <td>0.001</td>\n",
       "    </tr>\n",
       "    <tr>\n",
       "      <th>5</th>\n",
       "      <td>1.5100</td>\n",
       "      <td>16.0</td>\n",
       "      <td>2.70</td>\n",
       "      <td>4.00</td>\n",
       "      <td>70.00</td>\n",
       "      <td>2.000</td>\n",
       "      <td>6.0</td>\n",
       "      <td>2.90</td>\n",
       "      <td>0.890</td>\n",
       "    </tr>\n",
       "  </tbody>\n",
       "</table>\n",
       "</div>"
      ],
      "text/plain": [
       "       RI    Na    Mg    Al     Si      K    Ca    Ba     Fe\n",
       "0  1.5321  14.0  0.00  0.34  70.23  0.001   6.7  1.23  0.000\n",
       "1  1.5212  15.0  3.00  1.23  75.90  0.100   7.0  0.00  0.440\n",
       "2  1.5112  13.0  3.50  2.30  73.00  3.400  14.0  2.30  0.220\n",
       "3  1.5000  12.4  1.23  3.22  74.22  4.500  10.0  3.10  0.100\n",
       "4  1.5200  13.0  2.40  0.34  71.22  3.200   9.0  1.44  0.001\n",
       "5  1.5100  16.0  2.70  4.00  70.00  2.000   6.0  2.90  0.890"
      ]
     },
     "execution_count": 81,
     "metadata": {},
     "output_type": "execute_result"
    }
   ],
   "source": [
    "# tst_df = pd.read_csv(r\"C:\\Users\\DAI.STUDENTSDC\\Desktop\\Machine Learning\\Data Sets\\tst_Glass.csv\")\n",
    "tst_df = pd.DataFrame({\n",
    "    'RI': {0: 1.5321, 1: 1.5212, 2: 1.5112, 3: 1.5, 4: 1.52, 5: 1.51},\n",
    "    'Na': {0: 14.0, 1: 15.0, 2: 13.0, 3: 12.4, 4: 13.0, 5: 16.0},\n",
    "    'Mg': {0: 0.0, 1: 3.0, 2: 3.5, 3: 1.23, 4: 2.4, 5: 2.7},\n",
    "    'Al': {0: 0.34, 1: 1.23, 2: 2.3, 3: 3.22, 4: 0.34, 5: 4.0},\n",
    "    'Si': {0: 70.23, 1: 75.9, 2: 73.0, 3: 74.22, 4: 71.22, 5: 70.0},\n",
    "    'K': {0: 0.001, 1: 0.1, 2: 3.4, 3: 4.5, 4: 3.2, 5: 2.0},\n",
    "    'Ca': {0: 6.7, 1: 7.0, 2: 14.0, 3: 10.0, 4: 9.0, 5: 6.0},\n",
    "    'Ba': {0: 1.23, 1: 0.0, 2: 2.3, 3: 3.1, 4: 1.44, 5: 2.9},\n",
    "    'Fe': {0: 0.0, 1: 0.44, 2: 0.22, 3: 0.1, 4: 0.001, 5: 0.89}\n",
    "    }\n",
    ")\n",
    "tst_df.head(10)"
   ]
  },
  {
   "cell_type": "markdown",
   "metadata": {},
   "source": [
    "Inferencing : Preding on the Unlabeled Data.\n",
    "\n",
    "Unlabelled Data : The data that we have not labelled yet."
   ]
  },
  {
   "cell_type": "markdown",
   "metadata": {},
   "source": [
    "`.predict()` of any classisifcation model will return the class with the highest probability.\n",
    "\n",
    "`.predict_proba()` will return the probability of each class.\n",
    "\n"
   ]
  },
  {
   "cell_type": "code",
   "execution_count": 107,
   "metadata": {},
   "outputs": [
    {
     "name": "stdout",
     "output_type": "stream",
     "text": [
      "[[ 0.0123551   0.20842819  2.43011462 -1.90387155  1.34745638  0.54039402\n",
      "   0.97597419  0.97464276 -1.03684327]\n",
      " [ 0.04334085 -1.29190458 -0.16990804  0.61149354 -0.82582306 -0.88670009\n",
      "  -0.36218658 -1.60086424  1.30201044]\n",
      " [-0.04873692  0.12164573  0.77086466 -0.38798551 -0.36310504 -0.59247793\n",
      "  -0.11149336 -0.79614014 -0.11833471]\n",
      " [-0.00687261 -1.13744967 -0.84023633  2.6318559  -0.45358029  1.08763935\n",
      "   0.11127178 -1.81785069 -0.52340045]\n",
      " [-0.05969279  1.89047704  0.06615453  0.6393691   0.74084952 -3.14511428\n",
      "   0.43921125 -3.88120924 -0.79494857]\n",
      " [ 0.03907187  0.67790933 -0.74742826  1.35922793  0.59348196 -0.20952724\n",
      "  -0.37065465  1.84006822 -0.94786754]]\n",
      "[-115.62128136   79.92116387   21.66987749   41.20593901  -86.90250019\n",
      "  -52.56780406]\n",
      "[2 1 1 7 1 7]\n",
      "(6, 6)\n"
     ]
    },
    {
     "data": {
      "text/plain": [
       "array(['2', '1', '1', ' 7', '1', ' 7'], dtype=object)"
      ]
     },
     "execution_count": 107,
     "metadata": {},
     "output_type": "execute_result"
    }
   ],
   "source": [
    "lr_best = LogisticRegression(random_state=24, C=4.211105263157895, multi_class='ovr', solver='newton-cg')\n",
    "\n",
    "lr_best.fit(X, y)\n",
    "lr_best.score(X, y)\n",
    "print(lr_best.coef_)\n",
    "print(lr_best.intercept_)\n",
    "print(lr_best.predict(tst_df))\n",
    "print(lr_best.predict_proba(tst_df).shape)\n",
    "# all the index with max probabilities\n",
    "pd.DataFrame(\n",
    "    lr_best.predict_proba(tst_df), \n",
    "    columns=['1', '2', '3','5', '6',' 7']\n",
    ").idxmax(axis=1).values \n"
   ]
  },
  {
   "cell_type": "markdown",
   "metadata": {},
   "source": [
    "or"
   ]
  },
  {
   "cell_type": "code",
   "execution_count": 97,
   "metadata": {},
   "outputs": [
    {
     "name": "stdout",
     "output_type": "stream",
     "text": [
      "[2 1 1 7 1 7]\n",
      "[[2.48844460e-05 6.15218132e-01 2.42757047e-02 1.09289469e-03\n",
      "  5.80501619e-05 3.59330334e-01]\n",
      " [4.14677714e-01 1.09822046e-02 2.13503733e-02 7.26242320e-05\n",
      "  3.95723808e-01 1.57193275e-01]\n",
      " [8.20931197e-01 3.49401009e-04 7.82255221e-04 5.52053068e-02\n",
      "  1.28179599e-09 1.22731839e-01]\n",
      " [1.29408600e-01 1.64712946e-04 1.50056744e-05 3.80308284e-01\n",
      "  2.55194112e-13 4.90103398e-01]\n",
      " [9.26919780e-01 2.46255976e-02 1.12969398e-02 9.80523286e-03\n",
      "  1.32158405e-09 2.73524486e-02]\n",
      " [3.68655132e-05 1.82724983e-02 3.46333209e-03 3.10611262e-02\n",
      "  1.83082656e-08 9.47166160e-01]]\n"
     ]
    }
   ],
   "source": [
    "lr_best = gcv.best_estimator_\n",
    "print(lr_best.predict(tst_df))\n",
    "print(lr_best.predict_proba(tst_df))\n"
   ]
  }
 ],
 "metadata": {
  "kernelspec": {
   "display_name": "pythonProject",
   "language": "python",
   "name": "python3"
  },
  "language_info": {
   "codemirror_mode": {
    "name": "ipython",
    "version": 3
   },
   "file_extension": ".py",
   "mimetype": "text/x-python",
   "name": "python",
   "nbconvert_exporter": "python",
   "pygments_lexer": "ipython3",
   "version": "3.12.4"
  }
 },
 "nbformat": 4,
 "nbformat_minor": 2
}
