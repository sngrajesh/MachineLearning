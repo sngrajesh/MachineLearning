{
 "cells": [
  {
   "cell_type": "code",
   "execution_count": 17,
   "metadata": {},
   "outputs": [],
   "source": [
    "import pandas as pd\n",
    "import numpy as np\n",
    "from catboost import CatBoostRegressor \n",
    "from sklearn.metrics import r2_score\n",
    "from sklearn.model_selection import train_test_split\n",
    "\n",
    "\n",
    "from sklearn.model_selection import KFold\n",
    "from sklearn.model_selection import GridSearchCV\n",
    "from sklearn.model_selection import StratifiedKFold"
   ]
  },
  {
   "cell_type": "code",
   "execution_count": 7,
   "metadata": {},
   "outputs": [],
   "source": [
    "df = pd.read_csv(r'C:\\Users\\DAI.STUDENTSDC\\Desktop\\Machine Learning\\Data Sets\\Cases\\Medical Cost Personal\\insurance.csv')\n",
    "X = df.drop('charges', axis=1)\n",
    "y = df['charges']"
   ]
  },
  {
   "cell_type": "code",
   "execution_count": 10,
   "metadata": {},
   "outputs": [
    {
     "name": "stdout",
     "output_type": "stream",
     "text": [
      "<class 'pandas.core.frame.DataFrame'>\n",
      "RangeIndex: 1338 entries, 0 to 1337\n",
      "Data columns (total 6 columns):\n",
      " #   Column    Non-Null Count  Dtype  \n",
      "---  ------    --------------  -----  \n",
      " 0   age       1338 non-null   int64  \n",
      " 1   sex       1338 non-null   object \n",
      " 2   bmi       1338 non-null   float64\n",
      " 3   children  1338 non-null   int64  \n",
      " 4   smoker    1338 non-null   object \n",
      " 5   region    1338 non-null   object \n",
      "dtypes: float64(1), int64(2), object(3)\n",
      "memory usage: 62.8+ KB\n"
     ]
    }
   ],
   "source": [
    "X.info()"
   ]
  },
  {
   "cell_type": "code",
   "execution_count": 8,
   "metadata": {},
   "outputs": [],
   "source": [
    "X_train, X_test, y_train, y_test = train_test_split(X, y, test_size=0.3, random_state=24)"
   ]
  },
  {
   "cell_type": "markdown",
   "metadata": {},
   "source": [
    "CatGBM dont require labelencoding or hot encoding for categorical features we can directly pass the categorical features to `cat_features` in  the CatGBM model"
   ]
  },
  {
   "cell_type": "code",
   "execution_count": null,
   "metadata": {},
   "outputs": [
    {
     "name": "stdout",
     "output_type": "stream",
     "text": [
      "Accuracy: 0.8360910920123861\n"
     ]
    }
   ],
   "source": [
    "cgbm = CatBoostRegressor(\n",
    "    learning_rate=0.1,\n",
    "    random_state=24, \n",
    "    verbose=0, \n",
    "    cat_features=['sex', 'smoker', 'region']\n",
    ") \n",
    "cgbm.fit(X_train, y_train)\n",
    "y_pred = cgbm.predict(X_test)\n",
    "print(\"Accuracy:\", r2_score(y_test, y_pred))"
   ]
  },
  {
   "cell_type": "code",
   "execution_count": 19,
   "metadata": {},
   "outputs": [
    {
     "name": "stdout",
     "output_type": "stream",
     "text": [
      "Fitting 5 folds for each of 45 candidates, totalling 225 fits\n",
      "Best parameters: {'learning_rate': 0.25075, 'max_depth': 2, 'n_estimators': 100}\n",
      "Best score: 0.8596059455011504\n"
     ]
    }
   ],
   "source": [
    "cgbm = CatBoostRegressor(random_state=24, verbose=0, cat_features=['sex', 'smoker', 'region'])\n",
    "\n",
    "kfold = KFold(n_splits=5, shuffle=True, random_state=24)\n",
    "\n",
    "params={\n",
    "    'n_estimators': [10,50,100],\n",
    "    'max_depth': [2,2,3],\n",
    "    'learning_rate': np.linspace(0.001,1,5)\n",
    "}               \n",
    "\n",
    "gcv = GridSearchCV(\n",
    "    estimator=cgbm, \n",
    "    param_grid=params, \n",
    "    cv=kfold, \n",
    "    scoring='r2',\n",
    "    verbose=1\n",
    ")\n",
    "\n",
    "gcv.fit(X, y)\n",
    "\n",
    "print(f\"Best parameters: {gcv.best_params_}\")\n",
    "print(f\"Best score: {gcv.best_score_}\")\n"
   ]
  }
 ],
 "metadata": {
  "kernelspec": {
   "display_name": "pythonProject",
   "language": "python",
   "name": "python3"
  },
  "language_info": {
   "codemirror_mode": {
    "name": "ipython",
    "version": 3
   },
   "file_extension": ".py",
   "mimetype": "text/x-python",
   "name": "python",
   "nbconvert_exporter": "python",
   "pygments_lexer": "ipython3",
   "version": "3.12.4"
  }
 },
 "nbformat": 4,
 "nbformat_minor": 2
}
