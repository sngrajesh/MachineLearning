{
 "cells": [
  {
   "cell_type": "code",
   "execution_count": 236,
   "metadata": {},
   "outputs": [],
   "source": [
    "import numpy as np\n",
    "import pandas as pd\n",
    "\n",
    "from sklearn.compose import make_column_selector\n",
    "from sklearn.compose import make_column_transformer\n",
    "\n",
    "from sklearn.model_selection import KFold\n",
    "from sklearn.model_selection import StratifiedKFold\n",
    "from sklearn.model_selection import train_test_split\n",
    "\n",
    "from sklearn.pipeline import Pipeline\n",
    "from sklearn.model_selection import GridSearchCV\n",
    "from sklearn.model_selection import RandomizedSearchCV\n",
    "\n",
    "from sklearn.ensemble import AdaBoostClassifier\n",
    "from sklearn.ensemble import AdaBoostRegressor\n",
    "from sklearn.ensemble import GradientBoostingClassifier\n",
    "from sklearn.ensemble import GradientBoostingRegressor\n",
    "\n",
    "from sklearn.tree import DecisionTreeClassifier\n",
    "from sklearn.tree import DecisionTreeRegressor\n",
    "\n",
    "from sklearn.preprocessing import LabelEncoder\n",
    "from sklearn.preprocessing import OneHotEncoder\n",
    "\n",
    "from sklearn.pipeline import Pipeline\n",
    "\n",
    "from sklearn.metrics import r2_score\n",
    "\n",
    "\n",
    "import warnings\n",
    "warnings.filterwarnings(\"ignore\")\n"
   ]
  },
  {
   "cell_type": "code",
   "execution_count": 237,
   "metadata": {},
   "outputs": [
    {
     "name": "stdout",
     "output_type": "stream",
     "text": [
      "Dataset metadata:\n",
      "{'uci_id': 597, 'name': 'Productivity Prediction of Garment Employees', 'repository_url': 'https://archive.ics.uci.edu/dataset/597/productivity+prediction+of+garment+employees', 'data_url': 'https://archive.ics.uci.edu/static/public/597/data.csv', 'abstract': 'This dataset includes important attributes of the garment manufacturing process and the productivity of the employees which had been collected manually and also been validated by the industry experts.', 'area': 'Business', 'tasks': ['Classification', 'Regression'], 'characteristics': ['Multivariate', 'Time-Series'], 'num_instances': 1197, 'num_features': 14, 'feature_types': ['Integer', 'Real'], 'demographics': [], 'target_col': ['actual_productivity'], 'index_col': None, 'has_missing_values': 'yes', 'missing_values_symbol': 'NaN', 'year_of_dataset_creation': 2020, 'last_updated': 'Mon Feb 26 2024', 'dataset_doi': '10.24432/C51S6D', 'creators': [], 'intro_paper': {'ID': 399, 'type': 'NATIVE', 'title': 'Mining the productivity data of the garment industry', 'authors': 'Abdullah Al Imran, Md Shamsur Rahim, Tanvir Ahmed', 'venue': 'International Journal of Business Intelligence and Data Mining', 'year': 2021, 'journal': None, 'DOI': None, 'URL': 'https://dl.acm.org/doi/abs/10.1504/ijbidm.2021.118183', 'sha': None, 'corpus': None, 'arxiv': None, 'mag': None, 'acl': None, 'pmid': None, 'pmcid': None}, 'additional_info': {'summary': 'The Garment Industry is one of the key examples of the industrial globalization of this modern era. It is a highly labour-intensive industry with lots of manual processes. Satisfying the huge global demand for garment products is mostly dependent on the production and delivery performance of the employees in the garment manufacturing companies. So, it is highly desirable among the decision makers in the garments industry to track, analyse and predict the productivity performance of the working teams in their factories. This dataset can be used for regression purpose by predicting the productivity range (0-1) or for classification purpose by transforming the productivity range (0-1) into different classes.', 'purpose': None, 'funded_by': None, 'instances_represent': None, 'recommended_data_splits': None, 'sensitive_data': None, 'preprocessing_description': None, 'variable_info': '01\\tdate\\t\\t\\t:\\tDate in MM-DD-YYYY\\r\\n02\\tday\\t\\t\\t:\\tDay of the Week\\r\\n03\\tquarter\\t\\t\\t:\\tA portion of the month. A month was divided into four quarters\\r\\n04\\tdepartment\\t\\t:\\tAssociated department with the instance\\r\\n05\\tteam_no\\t\\t\\t:\\tAssociated team number with the instance\\r\\n06\\tno_of_workers\\t\\t:\\tNumber of workers in each team\\r\\n07\\tno_of_style_change\\t:\\tNumber of changes in the style of a particular product\\r\\n08\\ttargeted_productivity\\t:\\tTargeted productivity set by the Authority for each team for each day.\\r\\n09\\tsmv\\t\\t\\t:\\tStandard Minute Value, it is the allocated time for a task\\r\\n10\\twip\\t\\t\\t:\\tWork in progress. Includes the number of unfinished items for products\\r\\n11\\tover_time\\t\\t:\\tRepresents the amount of overtime by each team in minutes\\r\\n12\\tincentive\\t\\t:\\tRepresents the amount of financial incentive (in BDT) that enables or motivates a particular course of action.\\r\\n13\\tidle_time\\t\\t:\\tThe amount of time when the production was interrupted due to several reasons\\r\\n14\\tidle_men\\t\\t:\\tThe number of workers who were idle due to production interruption\\r\\n15\\tactual_productivity\\t:\\tThe actual % of productivity that was delivered by the workers. It ranges from 0-1.\\r\\n', 'citation': None}}\n",
      "\n",
      "Variable information:\n",
      "                     name     role         type demographic description units  \\\n",
      "0                    date  Feature         Date        None        None  None   \n",
      "1                 quarter  Feature  Categorical        None        None  None   \n",
      "2              department  Feature  Categorical        None        None  None   \n",
      "3                     day  Feature  Categorical        None        None  None   \n",
      "4                    team  Feature      Integer        None        None  None   \n",
      "5   targeted_productivity  Feature   Continuous        None        None  None   \n",
      "6                     smv  Feature   Continuous        None        None  None   \n",
      "7                     wip  Feature      Integer        None        None  None   \n",
      "8               over_time  Feature      Integer        None        None  None   \n",
      "9               incentive  Feature      Integer        None        None   BDT   \n",
      "10              idle_time  Feature      Integer        None        None  None   \n",
      "11               idle_men  Feature      Integer        None        None  None   \n",
      "12     no_of_style_change  Feature      Integer        None        None  None   \n",
      "13          no_of_workers  Feature      Integer        None        None  None   \n",
      "14    actual_productivity   Target   Continuous        None        None  None   \n",
      "\n",
      "   missing_values  \n",
      "0              no  \n",
      "1              no  \n",
      "2              no  \n",
      "3              no  \n",
      "4              no  \n",
      "5              no  \n",
      "6              no  \n",
      "7             yes  \n",
      "8              no  \n",
      "9              no  \n",
      "10             no  \n",
      "11             no  \n",
      "12             no  \n",
      "13             no  \n",
      "14             no  \n"
     ]
    }
   ],
   "source": [
    "import pandas as pd\n",
    "\n",
    "# Fetch the dataset\n",
    "from ucimlrepo import fetch_ucirepo\n",
    "productivity_prediction_of_garment_employees = fetch_ucirepo(id=597) \n",
    "\n",
    "# Get features and target\n",
    "X = productivity_prediction_of_garment_employees.data.features \n",
    "y = productivity_prediction_of_garment_employees.data.targets \n",
    "\n",
    "\n",
    "# Now you can see metadata and variables\n",
    "print(\"Dataset metadata:\")\n",
    "print(productivity_prediction_of_garment_employees.metadata)\n",
    "print(\"\\nVariable information:\")\n",
    "print(productivity_prediction_of_garment_employees.variables)\n",
    "\n",
    "\n",
    "# Concatenate X and y using pd.concat\n",
    "df = pd.concat([X, y], axis=1)"
   ]
  },
  {
   "cell_type": "code",
   "execution_count": 238,
   "metadata": {},
   "outputs": [
    {
     "data": {
      "text/html": [
       "<div>\n",
       "<style scoped>\n",
       "    .dataframe tbody tr th:only-of-type {\n",
       "        vertical-align: middle;\n",
       "    }\n",
       "\n",
       "    .dataframe tbody tr th {\n",
       "        vertical-align: top;\n",
       "    }\n",
       "\n",
       "    .dataframe thead th {\n",
       "        text-align: right;\n",
       "    }\n",
       "</style>\n",
       "<table border=\"1\" class=\"dataframe\">\n",
       "  <thead>\n",
       "    <tr style=\"text-align: right;\">\n",
       "      <th></th>\n",
       "      <th>quarter</th>\n",
       "      <th>department</th>\n",
       "      <th>day</th>\n",
       "      <th>team</th>\n",
       "      <th>targeted_productivity</th>\n",
       "      <th>smv</th>\n",
       "      <th>wip</th>\n",
       "      <th>over_time</th>\n",
       "      <th>incentive</th>\n",
       "      <th>idle_time</th>\n",
       "      <th>idle_men</th>\n",
       "      <th>no_of_style_change</th>\n",
       "      <th>no_of_workers</th>\n",
       "      <th>actual_productivity</th>\n",
       "      <th>year</th>\n",
       "      <th>month</th>\n",
       "      <th>day_of_week</th>\n",
       "    </tr>\n",
       "  </thead>\n",
       "  <tbody>\n",
       "    <tr>\n",
       "      <th>0</th>\n",
       "      <td>Quarter1</td>\n",
       "      <td>sweing</td>\n",
       "      <td>Thursday</td>\n",
       "      <td>8</td>\n",
       "      <td>0.80</td>\n",
       "      <td>26.16</td>\n",
       "      <td>1108.0</td>\n",
       "      <td>7080</td>\n",
       "      <td>98</td>\n",
       "      <td>0.0</td>\n",
       "      <td>0</td>\n",
       "      <td>0</td>\n",
       "      <td>59.0</td>\n",
       "      <td>0.940725</td>\n",
       "      <td>2015</td>\n",
       "      <td>1</td>\n",
       "      <td>3</td>\n",
       "    </tr>\n",
       "    <tr>\n",
       "      <th>1</th>\n",
       "      <td>Quarter1</td>\n",
       "      <td>finishing</td>\n",
       "      <td>Thursday</td>\n",
       "      <td>1</td>\n",
       "      <td>0.75</td>\n",
       "      <td>3.94</td>\n",
       "      <td>NaN</td>\n",
       "      <td>960</td>\n",
       "      <td>0</td>\n",
       "      <td>0.0</td>\n",
       "      <td>0</td>\n",
       "      <td>0</td>\n",
       "      <td>8.0</td>\n",
       "      <td>0.886500</td>\n",
       "      <td>2015</td>\n",
       "      <td>1</td>\n",
       "      <td>3</td>\n",
       "    </tr>\n",
       "    <tr>\n",
       "      <th>2</th>\n",
       "      <td>Quarter1</td>\n",
       "      <td>sweing</td>\n",
       "      <td>Thursday</td>\n",
       "      <td>11</td>\n",
       "      <td>0.80</td>\n",
       "      <td>11.41</td>\n",
       "      <td>968.0</td>\n",
       "      <td>3660</td>\n",
       "      <td>50</td>\n",
       "      <td>0.0</td>\n",
       "      <td>0</td>\n",
       "      <td>0</td>\n",
       "      <td>30.5</td>\n",
       "      <td>0.800570</td>\n",
       "      <td>2015</td>\n",
       "      <td>1</td>\n",
       "      <td>3</td>\n",
       "    </tr>\n",
       "    <tr>\n",
       "      <th>3</th>\n",
       "      <td>Quarter1</td>\n",
       "      <td>sweing</td>\n",
       "      <td>Thursday</td>\n",
       "      <td>12</td>\n",
       "      <td>0.80</td>\n",
       "      <td>11.41</td>\n",
       "      <td>968.0</td>\n",
       "      <td>3660</td>\n",
       "      <td>50</td>\n",
       "      <td>0.0</td>\n",
       "      <td>0</td>\n",
       "      <td>0</td>\n",
       "      <td>30.5</td>\n",
       "      <td>0.800570</td>\n",
       "      <td>2015</td>\n",
       "      <td>1</td>\n",
       "      <td>3</td>\n",
       "    </tr>\n",
       "    <tr>\n",
       "      <th>4</th>\n",
       "      <td>Quarter1</td>\n",
       "      <td>sweing</td>\n",
       "      <td>Thursday</td>\n",
       "      <td>6</td>\n",
       "      <td>0.80</td>\n",
       "      <td>25.90</td>\n",
       "      <td>1170.0</td>\n",
       "      <td>1920</td>\n",
       "      <td>50</td>\n",
       "      <td>0.0</td>\n",
       "      <td>0</td>\n",
       "      <td>0</td>\n",
       "      <td>56.0</td>\n",
       "      <td>0.800382</td>\n",
       "      <td>2015</td>\n",
       "      <td>1</td>\n",
       "      <td>3</td>\n",
       "    </tr>\n",
       "  </tbody>\n",
       "</table>\n",
       "</div>"
      ],
      "text/plain": [
       "    quarter department       day  team  targeted_productivity    smv     wip  \\\n",
       "0  Quarter1     sweing  Thursday     8                   0.80  26.16  1108.0   \n",
       "1  Quarter1  finishing  Thursday     1                   0.75   3.94     NaN   \n",
       "2  Quarter1     sweing  Thursday    11                   0.80  11.41   968.0   \n",
       "3  Quarter1     sweing  Thursday    12                   0.80  11.41   968.0   \n",
       "4  Quarter1     sweing  Thursday     6                   0.80  25.90  1170.0   \n",
       "\n",
       "   over_time  incentive  idle_time  idle_men  no_of_style_change  \\\n",
       "0       7080         98        0.0         0                   0   \n",
       "1        960          0        0.0         0                   0   \n",
       "2       3660         50        0.0         0                   0   \n",
       "3       3660         50        0.0         0                   0   \n",
       "4       1920         50        0.0         0                   0   \n",
       "\n",
       "   no_of_workers  actual_productivity  year  month  day_of_week  \n",
       "0           59.0             0.940725  2015      1            3  \n",
       "1            8.0             0.886500  2015      1            3  \n",
       "2           30.5             0.800570  2015      1            3  \n",
       "3           30.5             0.800570  2015      1            3  \n",
       "4           56.0             0.800382  2015      1            3  "
      ]
     },
     "execution_count": 238,
     "metadata": {},
     "output_type": "execute_result"
    }
   ],
   "source": [
    "df['date'] = pd.to_datetime(df['date'])\n",
    "df['year'] = df['date'].dt.year\n",
    "df['month'] = df['date'].dt.month\n",
    "df['day_of_week'] = df['date'].dt.dayofweek\n",
    "\n",
    "df.drop('date', axis=1, inplace=True)\n",
    "\n",
    "df.head()"
   ]
  },
  {
   "cell_type": "code",
   "execution_count": 239,
   "metadata": {},
   "outputs": [
    {
     "name": "stdout",
     "output_type": "stream",
     "text": [
      "<class 'pandas.core.frame.DataFrame'>\n",
      "RangeIndex: 1197 entries, 0 to 1196\n",
      "Data columns (total 17 columns):\n",
      " #   Column                 Non-Null Count  Dtype  \n",
      "---  ------                 --------------  -----  \n",
      " 0   quarter                1197 non-null   object \n",
      " 1   department             1197 non-null   object \n",
      " 2   day                    1197 non-null   object \n",
      " 3   team                   1197 non-null   int64  \n",
      " 4   targeted_productivity  1197 non-null   float64\n",
      " 5   smv                    1197 non-null   float64\n",
      " 6   wip                    691 non-null    float64\n",
      " 7   over_time              1197 non-null   int64  \n",
      " 8   incentive              1197 non-null   int64  \n",
      " 9   idle_time              1197 non-null   float64\n",
      " 10  idle_men               1197 non-null   int64  \n",
      " 11  no_of_style_change     1197 non-null   int64  \n",
      " 12  no_of_workers          1197 non-null   float64\n",
      " 13  actual_productivity    1197 non-null   float64\n",
      " 14  year                   1197 non-null   int32  \n",
      " 15  month                  1197 non-null   int32  \n",
      " 16  day_of_week            1197 non-null   int32  \n",
      "dtypes: float64(6), int32(3), int64(5), object(3)\n",
      "memory usage: 145.1+ KB\n"
     ]
    }
   ],
   "source": [
    "df.info()"
   ]
  },
  {
   "cell_type": "code",
   "execution_count": 240,
   "metadata": {},
   "outputs": [],
   "source": [
    "df.drop(columns=['wip'], axis=1, inplace=True)"
   ]
  },
  {
   "cell_type": "code",
   "execution_count": 241,
   "metadata": {},
   "outputs": [
    {
     "data": {
      "text/plain": [
       "quarter                  0\n",
       "department               0\n",
       "day                      0\n",
       "team                     0\n",
       "targeted_productivity    0\n",
       "smv                      0\n",
       "over_time                0\n",
       "incentive                0\n",
       "idle_time                0\n",
       "idle_men                 0\n",
       "no_of_style_change       0\n",
       "no_of_workers            0\n",
       "actual_productivity      0\n",
       "year                     0\n",
       "month                    0\n",
       "day_of_week              0\n",
       "dtype: int64"
      ]
     },
     "execution_count": 241,
     "metadata": {},
     "output_type": "execute_result"
    }
   ],
   "source": [
    "df.isnull().sum()   "
   ]
  },
  {
   "cell_type": "code",
   "execution_count": 242,
   "metadata": {},
   "outputs": [],
   "source": [
    "scores_df = pd.DataFrame(columns=['model', 'r2_score', 'best socre'])"
   ]
  },
  {
   "cell_type": "markdown",
   "metadata": {},
   "source": [
    "### XGBoost"
   ]
  },
  {
   "cell_type": "code",
   "execution_count": 243,
   "metadata": {},
   "outputs": [],
   "source": [
    "from xgboost import XGBRegressor"
   ]
  },
  {
   "cell_type": "code",
   "execution_count": 244,
   "metadata": {},
   "outputs": [],
   "source": [
    "X=df.drop(columns=['actual_productivity'], axis=1)\n",
    "y = df['actual_productivity']"
   ]
  },
  {
   "cell_type": "code",
   "execution_count": 245,
   "metadata": {},
   "outputs": [],
   "source": [
    "label_encoder = LabelEncoder()\n",
    "\n",
    "X['day'] = label_encoder.fit_transform(X['day'])\n",
    "X['quarter'] = label_encoder.fit_transform(X['quarter'])\n",
    "X['department'] = label_encoder.fit_transform(X['department'])"
   ]
  },
  {
   "cell_type": "code",
   "execution_count": 246,
   "metadata": {},
   "outputs": [],
   "source": [
    "X_train, X_test, y_train, y_test = train_test_split(X, y, test_size=0.2, random_state=24)"
   ]
  },
  {
   "cell_type": "code",
   "execution_count": 247,
   "metadata": {},
   "outputs": [
    {
     "name": "stdout",
     "output_type": "stream",
     "text": [
      "<class 'pandas.core.frame.DataFrame'>\n",
      "RangeIndex: 1197 entries, 0 to 1196\n",
      "Data columns (total 15 columns):\n",
      " #   Column                 Non-Null Count  Dtype  \n",
      "---  ------                 --------------  -----  \n",
      " 0   quarter                1197 non-null   int32  \n",
      " 1   department             1197 non-null   int32  \n",
      " 2   day                    1197 non-null   int32  \n",
      " 3   team                   1197 non-null   int64  \n",
      " 4   targeted_productivity  1197 non-null   float64\n",
      " 5   smv                    1197 non-null   float64\n",
      " 6   over_time              1197 non-null   int64  \n",
      " 7   incentive              1197 non-null   int64  \n",
      " 8   idle_time              1197 non-null   float64\n",
      " 9   idle_men               1197 non-null   int64  \n",
      " 10  no_of_style_change     1197 non-null   int64  \n",
      " 11  no_of_workers          1197 non-null   float64\n",
      " 12  year                   1197 non-null   int32  \n",
      " 13  month                  1197 non-null   int32  \n",
      " 14  day_of_week            1197 non-null   int32  \n",
      "dtypes: float64(4), int32(6), int64(5)\n",
      "memory usage: 112.3 KB\n"
     ]
    }
   ],
   "source": [
    "X.info()"
   ]
  },
  {
   "cell_type": "code",
   "execution_count": 248,
   "metadata": {},
   "outputs": [
    {
     "name": "stdout",
     "output_type": "stream",
     "text": [
      "Fitting 5 folds for each of 30 candidates, totalling 150 fits\n",
      "Best parameters: {'learning_rate': 0.25075, 'max_depth': 2, 'n_estimators': 50}\n",
      "Best score: 0.42665596524939503\n",
      "R2 score: 0.7297102107362653\n"
     ]
    }
   ],
   "source": [
    "xgbm = XGBRegressor(random_state=24, enable_categorical=True)\n",
    "\n",
    "kfold = KFold(n_splits=5, shuffle=True, random_state=24)\n",
    "\n",
    "params = {\n",
    "    'n_estimators': [10, 50, 100],\n",
    "    'max_depth': [2, 3],\n",
    "    'learning_rate': np.linspace(0.001, 1, 5)\n",
    "}\n",
    "\n",
    "gcv = GridSearchCV(\n",
    "    estimator=xgbm, \n",
    "    param_grid=params, \n",
    "    cv=kfold, \n",
    "    scoring='r2',\n",
    "    verbose=1\n",
    ")\n",
    "\n",
    "gcv.fit(X_test, y_test)\n",
    "\n",
    "print(f\"Best parameters: {gcv.best_params_}\")\n",
    "print(f\"Best score: {gcv.best_score_}\")\n",
    "\n",
    "\n",
    "\n",
    "y_pred = gcv.best_estimator_.predict(X_test)\n",
    "\n",
    "r2 = r2_score(y_test, y_pred)\n",
    "print(f\"R2 score: {r2}\")\n",
    "\n",
    "\n",
    "new_row = pd.DataFrame({\n",
    "    'model': ['XGBoost'],\n",
    "    'r2_score': [r2],\n",
    "    'best socre': [gcv.best_score_],\n",
    "})\n",
    "\n",
    "scores_df = pd.concat([scores_df, new_row], ignore_index=True)\n"
   ]
  },
  {
   "cell_type": "markdown",
   "metadata": {},
   "source": [
    "### Light GBM"
   ]
  },
  {
   "cell_type": "code",
   "execution_count": 249,
   "metadata": {},
   "outputs": [],
   "source": [
    "from lightgbm import LGBMRegressor"
   ]
  },
  {
   "cell_type": "code",
   "execution_count": 250,
   "metadata": {},
   "outputs": [],
   "source": [
    "X = df.drop(columns=['actual_productivity'], axis=1)\n",
    "y = df['actual_productivity']"
   ]
  },
  {
   "cell_type": "code",
   "execution_count": 251,
   "metadata": {},
   "outputs": [],
   "source": [
    "label_encoder = LabelEncoder()\n",
    "\n",
    "X['day'] = label_encoder.fit_transform(X['day'])\n",
    "X['quarter'] = label_encoder.fit_transform(X['quarter'])\n",
    "X['department'] = label_encoder.fit_transform(X['department'])"
   ]
  },
  {
   "cell_type": "code",
   "execution_count": 252,
   "metadata": {},
   "outputs": [],
   "source": [
    "X = df.drop(columns=['actual_productivity'], axis=1)\n",
    "y = df['actual_productivity']"
   ]
  },
  {
   "cell_type": "code",
   "execution_count": 253,
   "metadata": {},
   "outputs": [],
   "source": [
    "label_encoder = LabelEncoder()\n",
    "\n",
    "X['day'] = label_encoder.fit_transform(X['day'])\n",
    "X['quarter'] = label_encoder.fit_transform(X['quarter'])\n",
    "X['department'] = label_encoder.fit_transform(X['department'])"
   ]
  },
  {
   "cell_type": "code",
   "execution_count": 254,
   "metadata": {},
   "outputs": [],
   "source": [
    "X_train, X_test, y_train, y_test = train_test_split(X, y, test_size=0.3, random_state=24)"
   ]
  },
  {
   "cell_type": "code",
   "execution_count": 255,
   "metadata": {},
   "outputs": [
    {
     "name": "stdout",
     "output_type": "stream",
     "text": [
      "Fitting 5 folds for each of 45 candidates, totalling 225 fits\n",
      "Best parameters: {'learning_rate': 0.25075, 'max_depth': 2, 'n_estimators': 50}\n",
      "Best score: 0.4434591229600763\n",
      "R2 Score: 0.5137020650405978\n"
     ]
    }
   ],
   "source": [
    "lgbm = LGBMRegressor(random_state=24, verbose=0)\n",
    "\n",
    "kfold = KFold(n_splits=5, shuffle=True, random_state=24)\n",
    "\n",
    "params={\n",
    "    'n_estimators': [10,50,100],\n",
    "    'max_depth': [2,2,3],\n",
    "    'learning_rate': np.linspace(0.001,1,5)\n",
    "}               \n",
    "\n",
    "gcv = GridSearchCV(\n",
    "    estimator=lgbm, \n",
    "    param_grid=params, \n",
    "    cv=kfold, \n",
    "    scoring='r2',\n",
    "    verbose=1\n",
    ")\n",
    "\n",
    "gcv.fit(X_train, y_train)\n",
    "\n",
    "print(f\"Best parameters: {gcv.best_params_}\")\n",
    "print(f\"Best score: {gcv.best_score_}\")\n",
    "\n",
    "\n",
    "\n",
    "y_pred = gcv.best_estimator_.predict(X_test)\n",
    "\n",
    "r2 =  r2_score(y_test, y_pred)\n",
    "print(f\"R2 Score: {r2}\")\n",
    "\n",
    "\n",
    "new_row = pd.DataFrame({\n",
    "    'model': ['LightGBM'],\n",
    "    'r2_score': [r2],\n",
    "    'best socre': [gcv.best_score_],\n",
    "})\n",
    "\n",
    "scores_df = pd.concat([scores_df, new_row], ignore_index=True)\n"
   ]
  },
  {
   "cell_type": "markdown",
   "metadata": {},
   "source": [
    "### Cat Boost"
   ]
  },
  {
   "cell_type": "code",
   "execution_count": 256,
   "metadata": {},
   "outputs": [],
   "source": [
    "from catboost import CatBoostRegressor "
   ]
  },
  {
   "cell_type": "code",
   "execution_count": 257,
   "metadata": {},
   "outputs": [],
   "source": [
    "X = df.drop(columns=['actual_productivity'], axis=1)\n",
    "y = df['actual_productivity']"
   ]
  },
  {
   "cell_type": "code",
   "execution_count": 258,
   "metadata": {},
   "outputs": [],
   "source": [
    "X_train, X_test, y_train, y_test = train_test_split(X, y, test_size=0.3, random_state=24)"
   ]
  },
  {
   "cell_type": "code",
   "execution_count": null,
   "metadata": {},
   "outputs": [
    {
     "name": "stdout",
     "output_type": "stream",
     "text": [
      "Fitting 5 folds for each of 45 candidates, totalling 225 fits\n",
      "Best parameters: {'learning_rate': 0.5005, 'max_depth': 3, 'n_estimators': 100}\n",
      "Best score: 0.5034374298889207\n",
      "R2 Score: 0.6760762260077868\n"
     ]
    }
   ],
   "source": [
    "cgbm = CatBoostRegressor(random_state=24, verbose=0, cat_features=['day', 'quarter', 'department'])\n",
    "\n",
    "kfold = KFold(n_splits=5, shuffle=True, random_state=24)\n",
    "\n",
    "params={\n",
    "    'n_estimators': [10,50,100],\n",
    "    'max_depth': [2,2,3],\n",
    "    'learning_rate': np.linspace(0.001,1,5)\n",
    "}               \n",
    "\n",
    "gcv = GridSearchCV(\n",
    "    estimator=cgbm, \n",
    "    param_grid=params, \n",
    "    cv=kfold, \n",
    "    scoring='r2',\n",
    "    verbose=1\n",
    ")\n",
    "\n",
    "\n",
    "gcv.fit(X_train, y_train)\n",
    "\n",
    "print(f\"Best parameters: {gcv.best_params_}\")\n",
    "print(f\"Best score: {gcv.best_score_}\")\n",
    "\n",
    "\n",
    "y_pred = gcv.best_estimator_.predict(X_test)\n",
    "\n",
    "r2 = r2_score(y_test, y_pred)\n",
    "print(f\"R2 Score: {r2}\")\n",
    "\n",
    "\n",
    "new_row = pd.DataFrame({\n",
    "    'model': ['CatBoost-withcat'],\n",
    "    'r2_score': [r2],\n",
    "    'best socre': [gcv.best_score_],\n",
    "})\n",
    "\n",
    "scores_df = pd.concat([scores_df, new_row], ignore_index=True)\n"
   ]
  },
  {
   "cell_type": "code",
   "execution_count": 263,
   "metadata": {},
   "outputs": [],
   "source": [
    "X = df.drop(columns=['actual_productivity'], axis=1)\n",
    "y = df['actual_productivity']"
   ]
  },
  {
   "cell_type": "code",
   "execution_count": 264,
   "metadata": {},
   "outputs": [],
   "source": [
    "label_encoder = LabelEncoder()\n",
    "\n",
    "X['day'] = label_encoder.fit_transform(X['day'])\n",
    "X['quarter'] = label_encoder.fit_transform(X['quarter'])\n",
    "X['department'] = label_encoder.fit_transform(X['department'])"
   ]
  },
  {
   "cell_type": "code",
   "execution_count": 265,
   "metadata": {},
   "outputs": [],
   "source": [
    "X_train, X_test, y_train, y_test = train_test_split(X, y, test_size=0.3, random_state=24)"
   ]
  },
  {
   "cell_type": "code",
   "execution_count": 266,
   "metadata": {},
   "outputs": [
    {
     "name": "stdout",
     "output_type": "stream",
     "text": [
      "Fitting 5 folds for each of 45 candidates, totalling 225 fits\n",
      "Best parameters: {'learning_rate': 0.25075, 'max_depth': 3, 'n_estimators': 100}\n",
      "Best score: 0.4691565783235476\n",
      "R2 Score: 0.5325469547067959\n"
     ]
    }
   ],
   "source": [
    "cgbm = CatBoostRegressor(random_state=24, verbose=0)\n",
    "\n",
    "kfold = KFold(n_splits=5, shuffle=True, random_state=24)\n",
    "\n",
    "params={\n",
    "    'n_estimators': [10,50,100],\n",
    "    'max_depth': [2,2,3],\n",
    "    'learning_rate': np.linspace(0.001,1,5)\n",
    "}               \n",
    "\n",
    "gcv = GridSearchCV(\n",
    "    estimator=cgbm, \n",
    "    param_grid=params, \n",
    "    cv=kfold, \n",
    "    scoring='r2',\n",
    "    verbose=1\n",
    ")\n",
    "\n",
    "gcv.fit(X_train, y_train)\n",
    "\n",
    "print(f\"Best parameters: {gcv.best_params_}\")\n",
    "print(f\"Best score: {gcv.best_score_}\")\n",
    "\n",
    "y_pred = gcv.best_estimator_.predict(X_test)\n",
    "\n",
    "r2 = r2_score(y_test, y_pred)\n",
    "print(f\"R2 Score: {r2}\")\n",
    "\n",
    "\n",
    "new_row = pd.DataFrame({\n",
    "    'model': ['CatBoost-withoutcat'],\n",
    "    'r2_score': [r2],\n",
    "    'best socre': [gcv.best_score_],\n",
    "})\n",
    "\n",
    "scores_df = pd.concat([scores_df, new_row], ignore_index=True)\n"
   ]
  },
  {
   "cell_type": "code",
   "execution_count": 268,
   "metadata": {},
   "outputs": [
    {
     "data": {
      "text/html": [
       "<div>\n",
       "<style scoped>\n",
       "    .dataframe tbody tr th:only-of-type {\n",
       "        vertical-align: middle;\n",
       "    }\n",
       "\n",
       "    .dataframe tbody tr th {\n",
       "        vertical-align: top;\n",
       "    }\n",
       "\n",
       "    .dataframe thead th {\n",
       "        text-align: right;\n",
       "    }\n",
       "</style>\n",
       "<table border=\"1\" class=\"dataframe\">\n",
       "  <thead>\n",
       "    <tr style=\"text-align: right;\">\n",
       "      <th></th>\n",
       "      <th>model</th>\n",
       "      <th>r2_score</th>\n",
       "      <th>best socre</th>\n",
       "    </tr>\n",
       "  </thead>\n",
       "  <tbody>\n",
       "    <tr>\n",
       "      <th>0</th>\n",
       "      <td>XGBoost</td>\n",
       "      <td>0.729710</td>\n",
       "      <td>0.426656</td>\n",
       "    </tr>\n",
       "    <tr>\n",
       "      <th>1</th>\n",
       "      <td>LightGBM</td>\n",
       "      <td>0.513702</td>\n",
       "      <td>0.443459</td>\n",
       "    </tr>\n",
       "    <tr>\n",
       "      <th>2</th>\n",
       "      <td>CatBoost-withcat</td>\n",
       "      <td>0.676076</td>\n",
       "      <td>0.503437</td>\n",
       "    </tr>\n",
       "    <tr>\n",
       "      <th>3</th>\n",
       "      <td>CatBoost-withoutcat</td>\n",
       "      <td>0.532547</td>\n",
       "      <td>0.469157</td>\n",
       "    </tr>\n",
       "  </tbody>\n",
       "</table>\n",
       "</div>"
      ],
      "text/plain": [
       "                 model  r2_score  best socre\n",
       "0              XGBoost  0.729710    0.426656\n",
       "1             LightGBM  0.513702    0.443459\n",
       "2     CatBoost-withcat  0.676076    0.503437\n",
       "3  CatBoost-withoutcat  0.532547    0.469157"
      ]
     },
     "execution_count": 268,
     "metadata": {},
     "output_type": "execute_result"
    }
   ],
   "source": [
    "scores_df"
   ]
  }
 ],
 "metadata": {
  "kernelspec": {
   "display_name": "pythonProject",
   "language": "python",
   "name": "python3"
  },
  "language_info": {
   "codemirror_mode": {
    "name": "ipython",
    "version": 3
   },
   "file_extension": ".py",
   "mimetype": "text/x-python",
   "name": "python",
   "nbconvert_exporter": "python",
   "pygments_lexer": "ipython3",
   "version": "3.12.4"
  }
 },
 "nbformat": 4,
 "nbformat_minor": 2
}
