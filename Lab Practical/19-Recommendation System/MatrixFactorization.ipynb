{
 "cells": [
  {
   "cell_type": "markdown",
   "metadata": {},
   "source": [
    "$$\n",
    "\\Large{\\text{Matrix Factorization}}\n",
    "$$"
   ]
  },
  {
   "cell_type": "markdown",
   "metadata": {},
   "source": [
    "<svg viewBox=\"0 0 800 400\" xmlns=\"http://www.w3.org/2000/svg\">\n",
    "    <rect width=\"800\" height=\"400\" fill=\"white\"/>\n",
    "    <rect x=\"50\" y=\"100\" width=\"200\" height=\"200\" fill=\"#E3F2FD\" stroke=\"#1976D2\" stroke-width=\"2\"/>\n",
    "    <text x=\"150\" y=\"80\" text-anchor=\"middle\" font-size=\"20\" fill=\"#1976D2\">Rating Matrix (R)</text>\n",
    "    <text x=\"150\" y=\"210\" text-anchor=\"middle\" font-size=\"24\">(m × n)</text>\n",
    "    <text x=\"300\" y=\"210\" text-anchor=\"middle\" font-size=\"30\" fill=\"#333\">≈</text>\n",
    "    <rect x=\"350\" y=\"100\" width=\"120\" height=\"200\" fill=\"#E8F5E9\" stroke=\"#388E3C\" stroke-width=\"2\"/>\n",
    "    <text x=\"410\" y=\"80\" text-anchor=\"middle\" font-size=\"20\" fill=\"#388E3C\">User Matrix (U)</text>\n",
    "    <text x=\"410\" y=\"210\" text-anchor=\"middle\" font-size=\"24\">(m × k)</text>\n",
    "    <text x=\"520\" y=\"210\" text-anchor=\"middle\" font-size=\"30\" fill=\"#333\">×</text>\n",
    "    <rect x=\"570\" y=\"100\" width=\"200\" height=\"120\" fill=\"#FFF3E0\" stroke=\"#F57C00\" stroke-width=\"2\"/>\n",
    "    <text x=\"670\" y=\"80\" text-anchor=\"middle\" font-size=\"20\" fill=\"#F57C00\">Item Matrix (V)</text>\n",
    "    <text x=\"670\" y=\"170\" text-anchor=\"middle\" font-size=\"24\">(k × n)</text>\n",
    "    <text x=\"400\" y=\"350\" text-anchor=\"middle\" font-size=\"16\" fill=\"#666\">k = number of latent features</text>\n",
    "    <text x=\"400\" y=\"370\" text-anchor=\"middle\" font-size=\"16\" fill=\"#666\">m = number of users</text>\n",
    "    <text x=\"400\" y=\"390\" text-anchor=\"middle\" font-size=\"16\" fill=\"#666\">n = number of items</text>\n",
    "</svg>"
   ]
  },
  {
   "cell_type": "markdown",
   "metadata": {},
   "source": [
    "\n",
    "#### What is Matrix Factorization?\n",
    "- A technique to decompose a large matrix into smaller matrices\n",
    "- Commonly used in recommender systems and dimensionality reduction\n",
    "- Helps discover hidden features/patterns in data\n",
    "\n",
    "#### Key Concepts\n",
    "\n",
    "##### 1. Basic Principle\n",
    "- Original Matrix ≈ User Matrix × Item Matrix\n",
    "- Breaks down large sparse matrix into dense matrices\n",
    "- Each row represents latent features\n",
    "\n",
    "##### 2. Components\n",
    "- **User Matrix**: Users and their latent features\n",
    "- **Item Matrix**: Items and their latent features\n",
    "- **Latent Features**: Hidden characteristics that explain ratings\n",
    "\n",
    "##### 3. Process\n",
    "1. Initialize random matrices\n",
    "2. Multiply matrices to predict ratings\n",
    "3. Compare with actual ratings\n",
    "4. Update matrices to minimize error\n",
    "5. Repeat until convergence\n",
    "\n",
    "#### Applications\n",
    "- Recommender Systems\n",
    "- Image Processing\n",
    "- Text Analysis\n",
    "- Dimensionality Reduction\n",
    "- Missing Value Prediction\n",
    "\n",
    "#### Advantages\n",
    "- Handles sparsity well\n",
    "- Scalable to large datasets\n",
    "- Captures hidden patterns\n",
    "- Good prediction accuracy\n",
    "\n",
    "#### Limitations\n",
    "- Cold start problem\n",
    "- Need enough data for accuracy\n",
    "- May overfit without regularization\n",
    "- Computationally intensive for large matrices"
   ]
  },
  {
   "cell_type": "markdown",
   "metadata": {},
   "source": [
    "<svg aria-roledescription=\"flowchart-v2\" role=\"graphics-document document\" viewBox=\"0 0 385.203125 779.28125\" style=\"max-width: 385.203125px;\" class=\"flowchart\" xmlns=\"http://www.w3.org/2000/svg\" width=\"100%\" id=\"export-svg\"><style xmlns=\"http://www.w3.org/1999/xhtml\">@import url(\"https://cdnjs.cloudflare.com/ajax/libs/font-awesome/6.2.0/css/all.min.css\"); p {margin: 0;}</style><style>#export-svg{font-family:\"trebuchet ms\",verdana,arial,sans-serif;font-size:14px;fill:#333;}#export-svg .error-icon{fill:#ffffff;}#export-svg .error-text{fill:#000000;stroke:#000000;}#export-svg .edge-thickness-normal{stroke-width:1px;}#export-svg .edge-thickness-thick{stroke-width:3.5px;}#export-svg .edge-pattern-solid{stroke-dasharray:0;}#export-svg .edge-thickness-invisible{stroke-width:0;fill:none;}#export-svg .edge-pattern-dashed{stroke-dasharray:3;}#export-svg .edge-pattern-dotted{stroke-dasharray:2;}#export-svg .marker{fill:#000000;stroke:#000000;}#export-svg .marker.cross{stroke:#000000;}#export-svg svg{font-family:\"trebuchet ms\",verdana,arial,sans-serif;font-size:14px;}#export-svg p{margin:0;}#export-svg .label{font-family:\"trebuchet ms\",verdana,arial,sans-serif;color:#333;}#export-svg .cluster-label text{fill:#000000;}#export-svg .cluster-label span{color:#000000;}#export-svg .cluster-label span p{background-color:transparent;}#export-svg .label text,#export-svg span{fill:#333;color:#333;}#export-svg .node rect,#export-svg .node circle,#export-svg .node ellipse,#export-svg .node polygon,#export-svg .node path{fill:#ffffff;stroke:#000000;stroke-width:1px;}#export-svg .rough-node .label text,#export-svg .node .label text,#export-svg .image-shape .label,#export-svg .icon-shape .label{text-anchor:middle;}#export-svg .node .katex path{fill:#000;stroke:#000;stroke-width:1px;}#export-svg .rough-node .label,#export-svg .node .label,#export-svg .image-shape .label,#export-svg .icon-shape .label{text-align:center;}#export-svg .node.clickable{cursor:pointer;}#export-svg .root .anchor path{fill:#000000!important;stroke-width:0;stroke:#000000;}#export-svg .arrowheadPath{fill:#000000;}#export-svg .edgePath .path{stroke:#000000;stroke-width:2.0px;}#export-svg .flowchart-link{stroke:#000000;fill:none;}#export-svg .edgeLabel{background-color:hsl(-120, 0%, 80%);text-align:center;}#export-svg .edgeLabel p{background-color:hsl(-120, 0%, 80%);}#export-svg .edgeLabel rect{opacity:0.5;background-color:hsl(-120, 0%, 80%);fill:hsl(-120, 0%, 80%);}#export-svg .labelBkg{background-color:rgba(204, 204, 204, 0.5);}#export-svg .cluster rect{fill:#ffffff;stroke:hsl(0, 0%, 90%);stroke-width:1px;}#export-svg .cluster text{fill:#000000;}#export-svg .cluster span{color:#000000;}#export-svg div.mermaidTooltip{position:absolute;text-align:center;max-width:200px;padding:2px;font-family:\"trebuchet ms\",verdana,arial,sans-serif;font-size:12px;background:#ffffff;border:1px solid hsl(0, 0%, 90%);border-radius:2px;pointer-events:none;z-index:100;}#export-svg .flowchartTitleText{text-anchor:middle;font-size:18px;fill:#333;}#export-svg rect.text{fill:none;stroke-width:0;}#export-svg .icon-shape,#export-svg .image-shape{background-color:hsl(-120, 0%, 80%);text-align:center;}#export-svg .icon-shape p,#export-svg .image-shape p{background-color:hsl(-120, 0%, 80%);padding:2px;}#export-svg .icon-shape rect,#export-svg .image-shape rect{opacity:0.5;background-color:hsl(-120, 0%, 80%);fill:hsl(-120, 0%, 80%);}#export-svg .node .neo-node{stroke:#000000;}#export-svg [data-look=\"neo\"].node rect,#export-svg [data-look=\"neo\"].cluster rect,#export-svg [data-look=\"neo\"].node polygon{stroke:url(#export-svg-gradient);filter:drop-shadow( 0px 1px 2px rgba(0, 0, 0, 0.25));}#export-svg [data-look=\"neo\"].node rect,#export-svg [data-look=\"neo\"].node polygon,#export-svg [data-look=\"neo\"].node path{stroke:url(#export-svg-gradient);filter:drop-shadow( 0px 1px 2px rgba(0, 0, 0, 0.25));}#export-svg [data-look=\"neo\"].node .neo-line path{stroke:hsl(0, 0%, 70%);filter:none;}#export-svg [data-look=\"neo\"].node circle{stroke:url(#export-svg-gradient);filter:drop-shadow( 0px 1px 2px rgba(0, 0, 0, 0.25));}#export-svg [data-look=\"neo\"].node circle .state-start{fill:#000000;}#export-svg [data-look=\"neo\"].statediagram-cluster rect{fill:#ffffff;stroke:url(#export-svg-gradient);stroke-width:1px;}#export-svg [data-look=\"neo\"].icon-shape .icon{fill:url(#export-svg-gradient);filter:drop-shadow( 0px 1px 2px rgba(0, 0, 0, 0.25));}#export-svg [data-look=\"neo\"].icon-shape .icon-neo path{stroke:url(#export-svg-gradient);filter:drop-shadow( 0px 1px 2px rgba(0, 0, 0, 0.25));}#export-svg :root{--mermaid-font-family:\"trebuchet ms\",verdana,arial,sans-serif;}</style><g><marker orient=\"auto\" markerHeight=\"8\" markerWidth=\"8\" markerUnits=\"userSpaceOnUse\" refY=\"5\" refX=\"5\" viewBox=\"0 0 10 10\" class=\"marker flowchart-v2\" id=\"export-svg_flowchart-v2-pointEnd\"><path style=\"stroke-width: 1; stroke-dasharray: 1, 0;\" class=\"arrowMarkerPath\" d=\"M 0 0 L 10 5 L 0 10 z\"/></marker><marker orient=\"auto\" markerHeight=\"8\" markerWidth=\"8\" markerUnits=\"userSpaceOnUse\" refY=\"5\" refX=\"4.5\" viewBox=\"0 0 10 10\" class=\"marker flowchart-v2\" id=\"export-svg_flowchart-v2-pointStart\"><path style=\"stroke-width: 1; stroke-dasharray: 1, 0;\" class=\"arrowMarkerPath\" d=\"M 0 5 L 10 10 L 10 0 z\"/></marker><marker orient=\"auto\" markerHeight=\"11\" markerWidth=\"11\" markerUnits=\"userSpaceOnUse\" refY=\"5\" refX=\"11\" viewBox=\"0 0 10 10\" class=\"marker flowchart-v2\" id=\"export-svg_flowchart-v2-circleEnd\"><circle style=\"stroke-width: 1; stroke-dasharray: 1, 0;\" class=\"arrowMarkerPath\" r=\"5\" cy=\"5\" cx=\"5\"/></marker><marker orient=\"auto\" markerHeight=\"11\" markerWidth=\"11\" markerUnits=\"userSpaceOnUse\" refY=\"5\" refX=\"-1\" viewBox=\"0 0 10 10\" class=\"marker flowchart-v2\" id=\"export-svg_flowchart-v2-circleStart\"><circle style=\"stroke-width: 1; stroke-dasharray: 1, 0;\" class=\"arrowMarkerPath\" r=\"5\" cy=\"5\" cx=\"5\"/></marker><marker orient=\"auto\" markerHeight=\"11\" markerWidth=\"11\" markerUnits=\"userSpaceOnUse\" refY=\"5.2\" refX=\"12\" viewBox=\"0 0 11 11\" class=\"marker cross flowchart-v2\" id=\"export-svg_flowchart-v2-crossEnd\"><path style=\"stroke-width: 2; stroke-dasharray: 1, 0;\" class=\"arrowMarkerPath\" d=\"M 1,1 l 9,9 M 10,1 l -9,9\"/></marker><marker orient=\"auto\" markerHeight=\"11\" markerWidth=\"11\" markerUnits=\"userSpaceOnUse\" refY=\"5.2\" refX=\"-1\" viewBox=\"0 0 11 11\" class=\"marker cross flowchart-v2\" id=\"export-svg_flowchart-v2-crossStart\"><path style=\"stroke-width: 2; stroke-dasharray: 1, 0;\" class=\"arrowMarkerPath\" d=\"M 1,1 l 9,9 M 10,1 l -9,9\"/></marker><g class=\"root\"><g class=\"clusters\"/><g class=\"edgePaths\"><path marker-end=\"url(#export-svg_flowchart-v2-pointEnd)\" data-points=\"W3sieCI6MTkxLjIzODI4MTI1LCJ5Ijo1OX0seyJ4IjoxOTEuMjM4MjgxMjUsInkiOjg0fSx7IngiOjE5MS4yMzgyODEyNSwieSI6MTA5fV0=\" data-id=\"L_A_B_0\" data-et=\"edge\" data-edge=\"true\" style=\"\" class=\"edge-thickness-normal edge-pattern-solid edge-thickness-normal edge-pattern-solid flowchart-link\" id=\"L_A_B_0\" d=\"M191.23828125,59L191.23828125,84L191.23828125,96.5L191.23828125,105\"/><path marker-end=\"url(#export-svg_flowchart-v2-pointEnd)\" data-points=\"W3sieCI6MTkxLjIzODI4MTI1LCJ5IjoxNjB9LHsieCI6MTkxLjIzODI4MTI1LCJ5IjoxODV9LHsieCI6MTkxLjIzODI4MTI1LCJ5IjoyMTB9XQ==\" data-id=\"L_B_C_1\" data-et=\"edge\" data-edge=\"true\" style=\"\" class=\"edge-thickness-normal edge-pattern-solid edge-thickness-normal edge-pattern-solid flowchart-link\" id=\"L_B_C_1\" d=\"M191.23828125,160L191.23828125,185L191.23828125,197.5L191.23828125,206\"/><path marker-end=\"url(#export-svg_flowchart-v2-pointEnd)\" data-points=\"W3sieCI6MjMyLjY4NTY0MzU2NDM1NjQ0LCJ5IjoyNjF9LHsieCI6MjczLjMyMDMxMjUsInkiOjI4Nn0seyJ4IjoyNzMuMzIwMzEyNSwieSI6MzExfV0=\" data-id=\"L_C_D_2\" data-et=\"edge\" data-edge=\"true\" style=\"\" class=\"edge-thickness-normal edge-pattern-solid edge-thickness-normal edge-pattern-solid flowchart-link\" id=\"L_C_D_2\" d=\"M232.68564356435644,261L267.99710013030585,282.72495647858915Q273.3203125,286 273.3203125,292.25L273.3203125,298.5L273.3203125,307\"/><path marker-end=\"url(#export-svg_flowchart-v2-pointEnd)\" data-points=\"W3sieCI6MjczLjMyMDMxMjUsInkiOjM2Mn0seyJ4IjoyNzMuMzIwMzEyNSwieSI6Mzg3fSx7IngiOjI3My44MjAzMTI1LCJ5Ijo0MTIuNX1d\" data-id=\"L_D_E_3\" data-et=\"edge\" data-edge=\"true\" style=\"\" class=\"edge-thickness-normal edge-pattern-solid edge-thickness-normal edge-pattern-solid flowchart-link\" id=\"L_D_E_3\" d=\"M273.3203125,362L273.3203125,380.62377462757155Q273.3203125,387 273.4453125,393.375L273.5703125,399.75L273.7418962002622,408.5007687133731\"/><path marker-end=\"url(#export-svg_flowchart-v2-pointEnd)\" data-points=\"W3sieCI6MjM5Ljk3Njg2Mzk1NTUyMzMsInkiOjUxNC45Mzc4MDE0NTU1MjMzfSx7IngiOjE3MS4wNTA3ODEyNSwieSI6NTgzLjc4MTI1fSx7IngiOjEyMy4yODE3MzAyNzY2MzkzNCwieSI6NjE5LjI4MTI1fV0=\" data-id=\"L_E_F_4\" data-et=\"edge\" data-edge=\"true\" style=\"\" class=\"edge-thickness-normal edge-pattern-solid edge-thickness-normal edge-pattern-solid flowchart-link\" id=\"L_E_F_4\" d=\"M239.9768639555233,514.9378014555233L181.57809894462756,573.2665533050234Q171.05078125,583.78125 159.10851850665983,592.65625L147.16625576331967,601.53125L126.4922417013292,616.8953295503757\"/><path marker-end=\"url(#export-svg_flowchart-v2-pointEnd)\" data-points=\"W3sieCI6ODIuOTE3MDcyMjMzNjA2NTYsInkiOjYxOS4yODEyNX0seyJ4Ijo3NC40OTIxODc1LCJ5Ijo1ODMuNzgxMjV9LHsieCI6NzQuNDkyMTg3NSwieSI6NDgwLjE0MDYyNX0seyJ4Ijo3NC40OTIxODc1LCJ5IjozODd9LHsieCI6NzQuNDkyMTg3NSwieSI6MzM2LjV9LHsieCI6NzQuNDkyMTg3NSwieSI6Mjg2fSx7IngiOjEzMi4yODcyODM0MTU4NDE1OSwieSI6MjYxfV0=\" data-id=\"L_F_C_5\" data-et=\"edge\" data-edge=\"true\" style=\"\" class=\"edge-thickness-normal edge-pattern-solid edge-thickness-normal edge-pattern-solid flowchart-link\" id=\"L_F_C_5\" d=\"M82.91707223360656,619.28125L78.70462986680329,601.53125Q74.4921875,583.78125 74.4921875,565.5382466646487L74.4921875,480.140625L74.4921875,387L74.4921875,336.5L74.4921875,295.1060621262874Q74.4921875,286 82.84985415258372,282.38478554272416L103.38973545792079,273.5L128.61602945922436,262.5880473500568\"/><path marker-end=\"url(#export-svg_flowchart-v2-pointEnd)\" data-points=\"W3sieCI6Mjg0LjkyOTE2ODk2Njg3Njk0LCJ5Ijo1MzcuNjcyMzkzNTMzMTIzfSx7IngiOjI5My41MDc4MTI1LCJ5Ijo1ODMuNzgxMjV9LHsieCI6MjkzLjUwNzgxMjUsInkiOjYxOS4yODEyNX1d\" data-id=\"L_E_G_6\" data-et=\"edge\" data-edge=\"true\" style=\"\" class=\"edge-thickness-normal edge-pattern-solid edge-thickness-normal edge-pattern-solid flowchart-link\" id=\"L_E_G_6\" d=\"M284.92916896687694,537.672393533123L291.88445872005354,575.0559793735304Q293.5078125,583.78125 293.5078125,592.65625L293.5078125,601.53125L293.5078125,615.28125\"/><path marker-end=\"url(#export-svg_flowchart-v2-pointEnd)\" data-points=\"W3sieCI6MjkzLjUwNzgxMjUsInkiOjY3MC4yODEyNX0seyJ4IjoyOTMuNTA3ODEyNSwieSI6Njk1LjI4MTI1fSx7IngiOjI5My41MDc4MTI1LCJ5Ijo3MjAuMjgxMjV9XQ==\" data-id=\"L_G_H_7\" data-et=\"edge\" data-edge=\"true\" style=\"\" class=\"edge-thickness-normal edge-pattern-solid edge-thickness-normal edge-pattern-solid flowchart-link\" id=\"L_G_H_7\" d=\"M293.5078125,670.28125L293.5078125,695.28125L293.5078125,707.78125L293.5078125,716.28125\"/></g><g class=\"edgeLabels\"><g class=\"edgeLabel\"><g transform=\"translate(0, 0)\" data-id=\"L_A_B_0\" class=\"label\"><foreignObject height=\"0\" width=\"0\"><div class=\"labelBkg\" xmlns=\"http://www.w3.org/1999/xhtml\" style=\"display: table-cell; white-space: normal; line-height: 1.5; max-width: 200px; text-align: center;\"><span class=\"edgeLabel\"></span></div></foreignObject></g></g><g class=\"edgeLabel\"><g transform=\"translate(0, 0)\" data-id=\"L_B_C_1\" class=\"label\"><foreignObject height=\"0\" width=\"0\"><div class=\"labelBkg\" xmlns=\"http://www.w3.org/1999/xhtml\" style=\"display: table-cell; white-space: normal; line-height: 1.5; max-width: 200px; text-align: center;\"><span class=\"edgeLabel\"></span></div></foreignObject></g></g><g class=\"edgeLabel\"><g transform=\"translate(0, 0)\" data-id=\"L_C_D_2\" class=\"label\"><foreignObject height=\"0\" width=\"0\"><div class=\"labelBkg\" xmlns=\"http://www.w3.org/1999/xhtml\" style=\"display: table-cell; white-space: normal; line-height: 1.5; max-width: 200px; text-align: center;\"><span class=\"edgeLabel\"></span></div></foreignObject></g></g><g class=\"edgeLabel\"><g transform=\"translate(0, 0)\" data-id=\"L_D_E_3\" class=\"label\"><foreignObject height=\"0\" width=\"0\"><div class=\"labelBkg\" xmlns=\"http://www.w3.org/1999/xhtml\" style=\"display: table-cell; white-space: normal; line-height: 1.5; max-width: 200px; text-align: center;\"><span class=\"edgeLabel\"></span></div></foreignObject></g></g><g transform=\"translate(171.05078125, 583.78125)\" class=\"edgeLabel\"><g transform=\"translate(-8.953125, -10.5)\" data-id=\"L_E_F_4\" class=\"label\"><foreignObject height=\"21\" width=\"17.90625\"><div class=\"labelBkg\" xmlns=\"http://www.w3.org/1999/xhtml\" style=\"display: table-cell; white-space: normal; line-height: 1.5; max-width: 200px; text-align: center;\"><span class=\"edgeLabel\"><p>No</p></span></div></foreignObject></g></g><g class=\"edgeLabel\"><g transform=\"translate(0, 0)\" data-id=\"L_F_C_5\" class=\"label\"><foreignObject height=\"0\" width=\"0\"><div class=\"labelBkg\" xmlns=\"http://www.w3.org/1999/xhtml\" style=\"display: table-cell; white-space: normal; line-height: 1.5; max-width: 200px; text-align: center;\"><span class=\"edgeLabel\"></span></div></foreignObject></g></g><g transform=\"translate(293.5078125, 583.78125)\" class=\"edgeLabel\"><g transform=\"translate(-11.421875, -10.5)\" data-id=\"L_E_G_6\" class=\"label\"><foreignObject height=\"21\" width=\"22.84375\"><div class=\"labelBkg\" xmlns=\"http://www.w3.org/1999/xhtml\" style=\"display: table-cell; white-space: normal; line-height: 1.5; max-width: 200px; text-align: center;\"><span class=\"edgeLabel\"><p>Yes</p></span></div></foreignObject></g></g><g class=\"edgeLabel\"><g transform=\"translate(0, 0)\" data-id=\"L_G_H_7\" class=\"label\"><foreignObject height=\"0\" width=\"0\"><div class=\"labelBkg\" xmlns=\"http://www.w3.org/1999/xhtml\" style=\"display: table-cell; white-space: normal; line-height: 1.5; max-width: 200px; text-align: center;\"><span class=\"edgeLabel\"></span></div></foreignObject></g></g></g><g class=\"nodes\"><g transform=\"translate(191.23828125, 33.5)\" data-look=\"neo\" data-et=\"node\" data-node=\"true\" data-id=\"A\" id=\"flowchart-A-60\" class=\"node default\"><rect stroke=\"url(#gradient)\" height=\"51\" width=\"177.5\" y=\"-25.5\" x=\"-88.75\" data-id=\"A\" style=\"fill:#E3F2FD !important\" class=\"basic label-container\"/><g transform=\"translate(-58.75, -10.5)\" style=\"\" class=\"label\"><rect/><foreignObject height=\"21\" width=\"117.5\"><div xmlns=\"http://www.w3.org/1999/xhtml\" style=\"display: table-cell; white-space: normal; line-height: 1.5; max-width: 200px; text-align: center;\"><span class=\"nodeLabel\"><p>Input Rating Matrix</p></span></div></foreignObject></g></g><g transform=\"translate(191.23828125, 134.5)\" data-look=\"neo\" data-et=\"node\" data-node=\"true\" data-id=\"B\" id=\"flowchart-B-61\" class=\"node default\"><rect stroke=\"url(#gradient)\" height=\"51\" width=\"224.171875\" y=\"-25.5\" x=\"-112.0859375\" data-id=\"B\" style=\"fill:#E8F5E9 !important\" class=\"basic label-container\"/><g transform=\"translate(-82.0859375, -10.5)\" style=\"\" class=\"label\"><rect/><foreignObject height=\"21\" width=\"164.171875\"><div xmlns=\"http://www.w3.org/1999/xhtml\" style=\"display: table-cell; white-space: normal; line-height: 1.5; max-width: 200px; text-align: center;\"><span class=\"nodeLabel\"><p>Initialize Random Matrices</p></span></div></foreignObject></g></g><g transform=\"translate(191.23828125, 235.5)\" data-look=\"neo\" data-et=\"node\" data-node=\"true\" data-id=\"C\" id=\"flowchart-C-63\" class=\"node default\"><rect stroke=\"url(#gradient)\" height=\"51\" width=\"182.9375\" y=\"-25.5\" x=\"-91.46875\" data-id=\"C\" style=\"\" class=\"basic label-container\"/><g transform=\"translate(-61.46875, -10.5)\" style=\"\" class=\"label\"><rect/><foreignObject height=\"21\" width=\"122.9375\"><div xmlns=\"http://www.w3.org/1999/xhtml\" style=\"display: table-cell; white-space: normal; line-height: 1.5; max-width: 200px; text-align: center;\"><span class=\"nodeLabel\"><p>Matrix Multiplication</p></span></div></foreignObject></g></g><g transform=\"translate(273.3203125, 336.5)\" data-look=\"neo\" data-et=\"node\" data-node=\"true\" data-id=\"D\" id=\"flowchart-D-65\" class=\"node default\"><rect stroke=\"url(#gradient)\" height=\"51\" width=\"153.375\" y=\"-25.5\" x=\"-76.6875\" data-id=\"D\" style=\"\" class=\"basic label-container\"/><g transform=\"translate(-46.6875, -10.5)\" style=\"\" class=\"label\"><rect/><foreignObject height=\"21\" width=\"93.375\"><div xmlns=\"http://www.w3.org/1999/xhtml\" style=\"display: table-cell; white-space: normal; line-height: 1.5; max-width: 200px; text-align: center;\"><span class=\"nodeLabel\"><p>Calculate Error</p></span></div></foreignObject></g></g><g transform=\"translate(273.3203125, 480.140625)\" data-look=\"neo\" data-et=\"node\" data-node=\"true\" data-id=\"E\" id=\"flowchart-E-67\" class=\"node default\"><polygon transform=\"translate(-68.140625,68.140625)\" class=\"label-container\" points=\"68.140625,0 136.28125,-68.140625 68.140625,-136.28125 0,-68.140625\"/><g transform=\"translate(-38.140625, -10.5)\" style=\"\" class=\"label\"><rect/><foreignObject height=\"21\" width=\"76.28125\"><div xmlns=\"http://www.w3.org/1999/xhtml\" style=\"display: table-cell; white-space: normal; line-height: 1.5; max-width: 200px; text-align: center;\"><span class=\"nodeLabel\"><p>Converged?</p></span></div></foreignObject></g></g><g transform=\"translate(88.96875, 644.78125)\" data-look=\"neo\" data-et=\"node\" data-node=\"true\" data-id=\"F\" id=\"flowchart-F-69\" class=\"node default\"><rect stroke=\"url(#gradient)\" height=\"51\" width=\"161.9375\" y=\"-25.5\" x=\"-80.96875\" data-id=\"F\" style=\"\" class=\"basic label-container\"/><g transform=\"translate(-50.96875, -10.5)\" style=\"\" class=\"label\"><rect/><foreignObject height=\"21\" width=\"101.9375\"><div xmlns=\"http://www.w3.org/1999/xhtml\" style=\"display: table-cell; white-space: normal; line-height: 1.5; max-width: 200px; text-align: center;\"><span class=\"nodeLabel\"><p>Update Matrices</p></span></div></foreignObject></g></g><g transform=\"translate(293.5078125, 644.78125)\" data-look=\"neo\" data-et=\"node\" data-node=\"true\" data-id=\"G\" id=\"flowchart-G-73\" class=\"node default\"><rect stroke=\"url(#gradient)\" height=\"51\" width=\"147.140625\" y=\"-25.5\" x=\"-73.5703125\" data-id=\"G\" style=\"fill:#FFF3E0 !important\" class=\"basic label-container\"/><g transform=\"translate(-43.5703125, -10.5)\" style=\"\" class=\"label\"><rect/><foreignObject height=\"21\" width=\"87.140625\"><div xmlns=\"http://www.w3.org/1999/xhtml\" style=\"display: table-cell; white-space: normal; line-height: 1.5; max-width: 200px; text-align: center;\"><span class=\"nodeLabel\"><p>Final Matrices</p></span></div></foreignObject></g></g><g transform=\"translate(293.5078125, 745.78125)\" data-look=\"neo\" data-et=\"node\" data-node=\"true\" data-id=\"H\" id=\"flowchart-H-75\" class=\"node default\"><rect stroke=\"url(#gradient)\" height=\"51\" width=\"167.390625\" y=\"-25.5\" x=\"-83.6953125\" data-id=\"H\" style=\"fill:#FFF9C4 !important\" class=\"basic label-container\"/><g transform=\"translate(-53.6953125, -10.5)\" style=\"\" class=\"label\"><rect/><foreignObject height=\"21\" width=\"107.390625\"><div xmlns=\"http://www.w3.org/1999/xhtml\" style=\"display: table-cell; white-space: normal; line-height: 1.5; max-width: 200px; text-align: center;\"><span class=\"nodeLabel\"><p>Make Predictions</p></span></div></foreignObject></g></g></g></g></g><linearGradient y2=\"0%\" x2=\"100%\" y1=\"0%\" x1=\"0%\" gradientUnits=\"objectBoundingBox\" id=\"export-svg-gradient\"><stop stop-opacity=\"1\" stop-color=\"#0042eb\" offset=\"0%\"/><stop stop-opacity=\"1\" stop-color=\"#eb0042\" offset=\"100%\"/></linearGradient></svg>"
   ]
  },
  {
   "cell_type": "markdown",
   "metadata": {},
   "source": [
    "Video Link:\n",
    "\n",
    "[![Video Title](https://img.youtube.com/vi/ZspR5PZemcs/0.jpg)](https://www.youtube.com/watch?v=ZspR5PZemcs)\n"
   ]
  },
  {
   "cell_type": "code",
   "execution_count": null,
   "metadata": {},
   "outputs": [],
   "source": [
    "import os\n",
    "import numpy as np\n",
    "import pandas as pd\n",
    "import surprise"
   ]
  },
  {
   "cell_type": "code",
   "execution_count": null,
   "metadata": {},
   "outputs": [],
   "source": [
    "ratings = pd.read_csv(r\"C:\\Users\\DAI.STUDENTSDC\\Desktop\\Machine Learning\\Data\\recomm_datasets\\filmtrust\\ratings.txt\",sep=' ',names = ['uid','iid','rating'])\n",
    "ratings.head()"
   ]
  },
  {
   "cell_type": "code",
   "execution_count": null,
   "metadata": {},
   "outputs": [],
   "source": [
    "lowest_rating = ratings['rating'].min()\n",
    "highest_rating = ratings['rating'].max()\n",
    "print(\"Ratings range between {0} and {1}\".format(lowest_rating,highest_rating))"
   ]
  },
  {
   "cell_type": "code",
   "execution_count": null,
   "metadata": {},
   "outputs": [],
   "source": [
    "reader = surprise.Reader(rating_scale = (lowest_rating,highest_rating))\n",
    "data = surprise.Dataset.load_from_df(ratings,reader)\n",
    "type(data)"
   ]
  },
  {
   "cell_type": "code",
   "execution_count": null,
   "metadata": {},
   "outputs": [],
   "source": [
    "from surprise.model_selection import GridSearchCV\n",
    "from surprise.model_selection.split import KFold"
   ]
  },
  {
   "cell_type": "code",
   "execution_count": null,
   "metadata": {},
   "outputs": [],
   "source": [
    "param_grid = {\n",
    "    'lr_all':np.linspace(0.001,1,3), \n",
    "    'reg_all': np.linspace(0.01,0.8,3),\n",
    "    'n_factors':[40,30]\n",
    "}\n",
    "\n",
    "kfold = KFold(\n",
    "    random_state=23,\n",
    "    n_splits=5,\n",
    "    shuffle=True\n",
    ")\n",
    "\n",
    "gs = GridSearchCV(\n",
    "    surprise.SVD, \n",
    "    param_grid=param_grid,\n",
    "    joblib_verbose =3, \n",
    "    measures=['rmse', 'mae'],\n",
    "    cv=kfold,\n",
    "    n_jobs=-1\n",
    ")\n",
    "gs.fit(data)"
   ]
  },
  {
   "cell_type": "code",
   "execution_count": null,
   "metadata": {},
   "outputs": [],
   "source": [
    "print(gs.best_score['rmse'])"
   ]
  },
  {
   "cell_type": "code",
   "execution_count": null,
   "metadata": {},
   "outputs": [],
   "source": [
    "algo = gs.best_estimator['rmse']\n",
    "algo.fit(data.build_full_trainset())"
   ]
  },
  {
   "cell_type": "code",
   "execution_count": null,
   "metadata": {},
   "outputs": [],
   "source": [
    "iids = ratings['iid'].unique()\n",
    "print(iids)"
   ]
  },
  {
   "cell_type": "code",
   "execution_count": null,
   "metadata": {},
   "outputs": [],
   "source": [
    "u_iid = ratings[ratings['uid']==50]['iid'].unique()\n",
    "print(u_iid)"
   ]
  },
  {
   "cell_type": "code",
   "execution_count": null,
   "metadata": {},
   "outputs": [],
   "source": [
    "iids_to_predict = np.setdiff1d(iids, u_iid)\n",
    "print(iids_to_predict)"
   ]
  },
  {
   "cell_type": "code",
   "execution_count": null,
   "metadata": {},
   "outputs": [],
   "source": [
    "testset = [[50,iid,0.] for iid in iids_to_predict]\n",
    "predictions = algo.test(testset)     "
   ]
  },
  {
   "cell_type": "code",
   "execution_count": null,
   "metadata": {},
   "outputs": [],
   "source": [
    "predictions[0]"
   ]
  },
  {
   "cell_type": "code",
   "execution_count": null,
   "metadata": {},
   "outputs": [],
   "source": [
    "pred_ratings = np.array([pred.est for pred in predictions])"
   ]
  },
  {
   "cell_type": "code",
   "execution_count": null,
   "metadata": {},
   "outputs": [],
   "source": [
    "i_max = np.argmax(pred_ratings)\n",
    "print(\"Item:\",iids_to_predict[i_max],\"is the item with highest expected rating as\",pred_ratings[i_max])"
   ]
  },
  {
   "cell_type": "code",
   "execution_count": null,
   "metadata": {},
   "outputs": [],
   "source": [
    "exp_ratings = pd.DataFrame({'Item_ID': iids_to_predict, 'Exp_Rating':pred_ratings})\n",
    "exp_ratings.sort_values(by=['Exp_Rating','Item_ID'], ascending=[False, True], inplace=True)\n",
    "exp_ratings.head(10)"
   ]
  }
 ],
 "metadata": {
  "language_info": {
   "name": "python"
  }
 },
 "nbformat": 4,
 "nbformat_minor": 2
}
