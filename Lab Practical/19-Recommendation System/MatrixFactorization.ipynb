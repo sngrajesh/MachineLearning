{
 "cells": [
  {
   "cell_type": "markdown",
   "metadata": {},
   "source": [
    "$$\n",
    "\\Large{\\text{Matrix Factorization}}\n",
    "$$"
   ]
  },
  {
   "cell_type": "markdown",
   "metadata": {},
   "source": [
    "<svg viewBox=\"0 0 800 400\" xmlns=\"http://www.w3.org/2000/svg\">\n",
    "    <rect width=\"800\" height=\"400\" fill=\"white\"/>\n",
    "    <rect x=\"50\" y=\"100\" width=\"200\" height=\"200\" fill=\"#E3F2FD\" stroke=\"#1976D2\" stroke-width=\"2\"/>\n",
    "    <text x=\"150\" y=\"80\" text-anchor=\"middle\" font-size=\"20\" fill=\"#1976D2\">Rating Matrix (R)</text>\n",
    "    <text x=\"150\" y=\"210\" text-anchor=\"middle\" font-size=\"24\">(m × n)</text>\n",
    "    <text x=\"300\" y=\"210\" text-anchor=\"middle\" font-size=\"30\" fill=\"#333\">≈</text>\n",
    "    <rect x=\"350\" y=\"100\" width=\"120\" height=\"200\" fill=\"#E8F5E9\" stroke=\"#388E3C\" stroke-width=\"2\"/>\n",
    "    <text x=\"410\" y=\"80\" text-anchor=\"middle\" font-size=\"20\" fill=\"#388E3C\">User Matrix (U)</text>\n",
    "    <text x=\"410\" y=\"210\" text-anchor=\"middle\" font-size=\"24\">(m × k)</text>\n",
    "    <text x=\"520\" y=\"210\" text-anchor=\"middle\" font-size=\"30\" fill=\"#333\">×</text>\n",
    "    <rect x=\"570\" y=\"100\" width=\"200\" height=\"120\" fill=\"#FFF3E0\" stroke=\"#F57C00\" stroke-width=\"2\"/>\n",
    "    <text x=\"670\" y=\"80\" text-anchor=\"middle\" font-size=\"20\" fill=\"#F57C00\">Item Matrix (V)</text>\n",
    "    <text x=\"670\" y=\"170\" text-anchor=\"middle\" font-size=\"24\">(k × n)</text>\n",
    "    <text x=\"400\" y=\"350\" text-anchor=\"middle\" font-size=\"16\" fill=\"#666\">k = number of latent features</text>\n",
    "    <text x=\"400\" y=\"370\" text-anchor=\"middle\" font-size=\"16\" fill=\"#666\">m = number of users</text>\n",
    "    <text x=\"400\" y=\"390\" text-anchor=\"middle\" font-size=\"16\" fill=\"#666\">n = number of items</text>\n",
    "</svg>"
   ]
  },
  {
   "cell_type": "markdown",
   "metadata": {},
   "source": [
    "\n",
    "#### What is Matrix Factorization?\n",
    "- A technique to decompose a large matrix into smaller matrices\n",
    "- Commonly used in recommender systems and dimensionality reduction\n",
    "- Helps discover hidden features/patterns in data\n",
    "\n",
    "#### Key Concepts\n",
    "\n",
    "##### 1. Basic Principle\n",
    "- Original Matrix ≈ User Matrix × Item Matrix\n",
    "- Breaks down large sparse matrix into dense matrices\n",
    "- Each row represents latent features\n",
    "\n",
    "##### 2. Components\n",
    "- **User Matrix**: Users and their latent features\n",
    "- **Item Matrix**: Items and their latent features\n",
    "- **Latent Features**: Hidden characteristics that explain ratings\n",
    "\n",
    "##### 3. Process\n",
    "1. Initialize random matrices\n",
    "2. Multiply matrices to predict ratings\n",
    "3. Compare with actual ratings\n",
    "4. Update matrices to minimize error\n",
    "5. Repeat until convergence\n",
    "\n",
    "#### Applications\n",
    "- Recommender Systems\n",
    "- Image Processing\n",
    "- Text Analysis\n",
    "- Dimensionality Reduction\n",
    "- Missing Value Prediction\n",
    "\n",
    "#### Advantages\n",
    "- Handles sparsity well\n",
    "- Scalable to large datasets\n",
    "- Captures hidden patterns\n",
    "- Good prediction accuracy\n",
    "\n",
    "#### Limitations\n",
    "- Cold start problem\n",
    "- Need enough data for accuracy\n",
    "- May overfit without regularization\n",
    "- Computationally intensive for large matrices"
   ]
  },
  {
   "cell_type": "markdown",
   "metadata": {},
   "source": [
    "<svg aria-roledescription=\"flowchart-v2\" role=\"graphics-document document\" viewBox=\"0 0 385.203125 779.28125\" style=\"max-width: 385.203125px;\" class=\"flowchart\" xmlns=\"http://www.w3.org/2000/svg\" width=\"100%\" id=\"export-svg\"><style xmlns=\"http://www.w3.org/1999/xhtml\">@import url(\"https://cdnjs.cloudflare.com/ajax/libs/font-awesome/6.2.0/css/all.min.css\"); p {margin: 0;}</style><style>#export-svg{font-family:\"trebuchet ms\",verdana,arial,sans-serif;font-size:14px;fill:#333;}#export-svg .error-icon{fill:#ffffff;}#export-svg .error-text{fill:#000000;stroke:#000000;}#export-svg .edge-thickness-normal{stroke-width:1px;}#export-svg .edge-thickness-thick{stroke-width:3.5px;}#export-svg .edge-pattern-solid{stroke-dasharray:0;}#export-svg .edge-thickness-invisible{stroke-width:0;fill:none;}#export-svg .edge-pattern-dashed{stroke-dasharray:3;}#export-svg .edge-pattern-dotted{stroke-dasharray:2;}#export-svg .marker{fill:#000000;stroke:#000000;}#export-svg .marker.cross{stroke:#000000;}#export-svg svg{font-family:\"trebuchet ms\",verdana,arial,sans-serif;font-size:14px;}#export-svg p{margin:0;}#export-svg .label{font-family:\"trebuchet ms\",verdana,arial,sans-serif;color:#333;}#export-svg .cluster-label text{fill:#000000;}#export-svg .cluster-label span{color:#000000;}#export-svg .cluster-label span p{background-color:transparent;}#export-svg .label text,#export-svg span{fill:#333;color:#333;}#export-svg .node rect,#export-svg .node circle,#export-svg .node ellipse,#export-svg .node polygon,#export-svg .node path{fill:#ffffff;stroke:#000000;stroke-width:1px;}#export-svg .rough-node .label text,#export-svg .node .label text,#export-svg .image-shape .label,#export-svg .icon-shape .label{text-anchor:middle;}#export-svg .node .katex path{fill:#000;stroke:#000;stroke-width:1px;}#export-svg .rough-node .label,#export-svg .node .label,#export-svg .image-shape .label,#export-svg .icon-shape .label{text-align:center;}#export-svg .node.clickable{cursor:pointer;}#export-svg .root .anchor path{fill:#000000!important;stroke-width:0;stroke:#000000;}#export-svg .arrowheadPath{fill:#000000;}#export-svg .edgePath .path{stroke:#000000;stroke-width:2.0px;}#export-svg .flowchart-link{stroke:#000000;fill:none;}#export-svg .edgeLabel{background-color:hsl(-120, 0%, 80%);text-align:center;}#export-svg .edgeLabel p{background-color:hsl(-120, 0%, 80%);}#export-svg .edgeLabel rect{opacity:0.5;background-color:hsl(-120, 0%, 80%);fill:hsl(-120, 0%, 80%);}#export-svg .labelBkg{background-color:rgba(204, 204, 204, 0.5);}#export-svg .cluster rect{fill:#ffffff;stroke:hsl(0, 0%, 90%);stroke-width:1px;}#export-svg .cluster text{fill:#000000;}#export-svg .cluster span{color:#000000;}#export-svg div.mermaidTooltip{position:absolute;text-align:center;max-width:200px;padding:2px;font-family:\"trebuchet ms\",verdana,arial,sans-serif;font-size:12px;background:#ffffff;border:1px solid hsl(0, 0%, 90%);border-radius:2px;pointer-events:none;z-index:100;}#export-svg .flowchartTitleText{text-anchor:middle;font-size:18px;fill:#333;}#export-svg rect.text{fill:none;stroke-width:0;}#export-svg .icon-shape,#export-svg .image-shape{background-color:hsl(-120, 0%, 80%);text-align:center;}#export-svg .icon-shape p,#export-svg .image-shape p{background-color:hsl(-120, 0%, 80%);padding:2px;}#export-svg .icon-shape rect,#export-svg .image-shape rect{opacity:0.5;background-color:hsl(-120, 0%, 80%);fill:hsl(-120, 0%, 80%);}#export-svg .node .neo-node{stroke:#000000;}#export-svg [data-look=\"neo\"].node rect,#export-svg [data-look=\"neo\"].cluster rect,#export-svg [data-look=\"neo\"].node polygon{stroke:url(#export-svg-gradient);filter:drop-shadow( 0px 1px 2px rgba(0, 0, 0, 0.25));}#export-svg [data-look=\"neo\"].node rect,#export-svg [data-look=\"neo\"].node polygon,#export-svg [data-look=\"neo\"].node path{stroke:url(#export-svg-gradient);filter:drop-shadow( 0px 1px 2px rgba(0, 0, 0, 0.25));}#export-svg [data-look=\"neo\"].node .neo-line path{stroke:hsl(0, 0%, 70%);filter:none;}#export-svg [data-look=\"neo\"].node circle{stroke:url(#export-svg-gradient);filter:drop-shadow( 0px 1px 2px rgba(0, 0, 0, 0.25));}#export-svg [data-look=\"neo\"].node circle .state-start{fill:#000000;}#export-svg [data-look=\"neo\"].statediagram-cluster rect{fill:#ffffff;stroke:url(#export-svg-gradient);stroke-width:1px;}#export-svg [data-look=\"neo\"].icon-shape .icon{fill:url(#export-svg-gradient);filter:drop-shadow( 0px 1px 2px rgba(0, 0, 0, 0.25));}#export-svg [data-look=\"neo\"].icon-shape .icon-neo path{stroke:url(#export-svg-gradient);filter:drop-shadow( 0px 1px 2px rgba(0, 0, 0, 0.25));}#export-svg :root{--mermaid-font-family:\"trebuchet ms\",verdana,arial,sans-serif;}</style><g><marker orient=\"auto\" markerHeight=\"8\" markerWidth=\"8\" markerUnits=\"userSpaceOnUse\" refY=\"5\" refX=\"5\" viewBox=\"0 0 10 10\" class=\"marker flowchart-v2\" id=\"export-svg_flowchart-v2-pointEnd\"><path style=\"stroke-width: 1; stroke-dasharray: 1, 0;\" class=\"arrowMarkerPath\" d=\"M 0 0 L 10 5 L 0 10 z\"/></marker><marker orient=\"auto\" markerHeight=\"8\" markerWidth=\"8\" markerUnits=\"userSpaceOnUse\" refY=\"5\" refX=\"4.5\" viewBox=\"0 0 10 10\" class=\"marker flowchart-v2\" id=\"export-svg_flowchart-v2-pointStart\"><path style=\"stroke-width: 1; stroke-dasharray: 1, 0;\" class=\"arrowMarkerPath\" d=\"M 0 5 L 10 10 L 10 0 z\"/></marker><marker orient=\"auto\" markerHeight=\"11\" markerWidth=\"11\" markerUnits=\"userSpaceOnUse\" refY=\"5\" refX=\"11\" viewBox=\"0 0 10 10\" class=\"marker flowchart-v2\" id=\"export-svg_flowchart-v2-circleEnd\"><circle style=\"stroke-width: 1; stroke-dasharray: 1, 0;\" class=\"arrowMarkerPath\" r=\"5\" cy=\"5\" cx=\"5\"/></marker><marker orient=\"auto\" markerHeight=\"11\" markerWidth=\"11\" markerUnits=\"userSpaceOnUse\" refY=\"5\" refX=\"-1\" viewBox=\"0 0 10 10\" class=\"marker flowchart-v2\" id=\"export-svg_flowchart-v2-circleStart\"><circle style=\"stroke-width: 1; stroke-dasharray: 1, 0;\" class=\"arrowMarkerPath\" r=\"5\" cy=\"5\" cx=\"5\"/></marker><marker orient=\"auto\" markerHeight=\"11\" markerWidth=\"11\" markerUnits=\"userSpaceOnUse\" refY=\"5.2\" refX=\"12\" viewBox=\"0 0 11 11\" class=\"marker cross flowchart-v2\" id=\"export-svg_flowchart-v2-crossEnd\"><path style=\"stroke-width: 2; stroke-dasharray: 1, 0;\" class=\"arrowMarkerPath\" d=\"M 1,1 l 9,9 M 10,1 l -9,9\"/></marker><marker orient=\"auto\" markerHeight=\"11\" markerWidth=\"11\" markerUnits=\"userSpaceOnUse\" refY=\"5.2\" refX=\"-1\" viewBox=\"0 0 11 11\" class=\"marker cross flowchart-v2\" id=\"export-svg_flowchart-v2-crossStart\"><path style=\"stroke-width: 2; stroke-dasharray: 1, 0;\" class=\"arrowMarkerPath\" d=\"M 1,1 l 9,9 M 10,1 l -9,9\"/></marker><g class=\"root\"><g class=\"clusters\"/><g class=\"edgePaths\"><path marker-end=\"url(#export-svg_flowchart-v2-pointEnd)\" data-points=\"W3sieCI6MTkxLjIzODI4MTI1LCJ5Ijo1OX0seyJ4IjoxOTEuMjM4MjgxMjUsInkiOjg0fSx7IngiOjE5MS4yMzgyODEyNSwieSI6MTA5fV0=\" data-id=\"L_A_B_0\" data-et=\"edge\" data-edge=\"true\" style=\"\" class=\"edge-thickness-normal edge-pattern-solid edge-thickness-normal edge-pattern-solid flowchart-link\" id=\"L_A_B_0\" d=\"M191.23828125,59L191.23828125,84L191.23828125,96.5L191.23828125,105\"/><path marker-end=\"url(#export-svg_flowchart-v2-pointEnd)\" data-points=\"W3sieCI6MTkxLjIzODI4MTI1LCJ5IjoxNjB9LHsieCI6MTkxLjIzODI4MTI1LCJ5IjoxODV9LHsieCI6MTkxLjIzODI4MTI1LCJ5IjoyMTB9XQ==\" data-id=\"L_B_C_1\" data-et=\"edge\" data-edge=\"true\" style=\"\" class=\"edge-thickness-normal edge-pattern-solid edge-thickness-normal edge-pattern-solid flowchart-link\" id=\"L_B_C_1\" d=\"M191.23828125,160L191.23828125,185L191.23828125,197.5L191.23828125,206\"/><path marker-end=\"url(#export-svg_flowchart-v2-pointEnd)\" data-points=\"W3sieCI6MjMyLjY4NTY0MzU2NDM1NjQ0LCJ5IjoyNjF9LHsieCI6MjczLjMyMDMxMjUsInkiOjI4Nn0seyJ4IjoyNzMuMzIwMzEyNSwieSI6MzExfV0=\" data-id=\"L_C_D_2\" data-et=\"edge\" data-edge=\"true\" style=\"\" class=\"edge-thickness-normal edge-pattern-solid edge-thickness-normal edge-pattern-solid flowchart-link\" id=\"L_C_D_2\" d=\"M232.68564356435644,261L267.99710013030585,282.72495647858915Q273.3203125,286 273.3203125,292.25L273.3203125,298.5L273.3203125,307\"/><path marker-end=\"url(#export-svg_flowchart-v2-pointEnd)\" data-points=\"W3sieCI6MjczLjMyMDMxMjUsInkiOjM2Mn0seyJ4IjoyNzMuMzIwMzEyNSwieSI6Mzg3fSx7IngiOjI3My44MjAzMTI1LCJ5Ijo0MTIuNX1d\" data-id=\"L_D_E_3\" data-et=\"edge\" data-edge=\"true\" style=\"\" class=\"edge-thickness-normal edge-pattern-solid edge-thickness-normal edge-pattern-solid flowchart-link\" id=\"L_D_E_3\" d=\"M273.3203125,362L273.3203125,380.62377462757155Q273.3203125,387 273.4453125,393.375L273.5703125,399.75L273.7418962002622,408.5007687133731\"/><path marker-end=\"url(#export-svg_flowchart-v2-pointEnd)\" data-points=\"W3sieCI6MjM5Ljk3Njg2Mzk1NTUyMzMsInkiOjUxNC45Mzc4MDE0NTU1MjMzfSx7IngiOjE3MS4wNTA3ODEyNSwieSI6NTgzLjc4MTI1fSx7IngiOjEyMy4yODE3MzAyNzY2MzkzNCwieSI6NjE5LjI4MTI1fV0=\" data-id=\"L_E_F_4\" data-et=\"edge\" data-edge=\"true\" style=\"\" class=\"edge-thickness-normal edge-pattern-solid edge-thickness-normal edge-pattern-solid flowchart-link\" id=\"L_E_F_4\" d=\"M239.9768639555233,514.9378014555233L181.57809894462756,573.2665533050234Q171.05078125,583.78125 159.10851850665983,592.65625L147.16625576331967,601.53125L126.4922417013292,616.8953295503757\"/><path marker-end=\"url(#export-svg_flowchart-v2-pointEnd)\" data-points=\"W3sieCI6ODIuOTE3MDcyMjMzNjA2NTYsInkiOjYxOS4yODEyNX0seyJ4Ijo3NC40OTIxODc1LCJ5Ijo1ODMuNzgxMjV9LHsieCI6NzQuNDkyMTg3NSwieSI6NDgwLjE0MDYyNX0seyJ4Ijo3NC40OTIxODc1LCJ5IjozODd9LHsieCI6NzQuNDkyMTg3NSwieSI6MzM2LjV9LHsieCI6NzQuNDkyMTg3NSwieSI6Mjg2fSx7IngiOjEzMi4yODcyODM0MTU4NDE1OSwieSI6MjYxfV0=\" data-id=\"L_F_C_5\" data-et=\"edge\" data-edge=\"true\" style=\"\" class=\"edge-thickness-normal edge-pattern-solid edge-thickness-normal edge-pattern-solid flowchart-link\" id=\"L_F_C_5\" d=\"M82.91707223360656,619.28125L78.70462986680329,601.53125Q74.4921875,583.78125 74.4921875,565.5382466646487L74.4921875,480.140625L74.4921875,387L74.4921875,336.5L74.4921875,295.1060621262874Q74.4921875,286 82.84985415258372,282.38478554272416L103.38973545792079,273.5L128.61602945922436,262.5880473500568\"/><path marker-end=\"url(#export-svg_flowchart-v2-pointEnd)\" data-points=\"W3sieCI6Mjg0LjkyOTE2ODk2Njg3Njk0LCJ5Ijo1MzcuNjcyMzkzNTMzMTIzfSx7IngiOjI5My41MDc4MTI1LCJ5Ijo1ODMuNzgxMjV9LHsieCI6MjkzLjUwNzgxMjUsInkiOjYxOS4yODEyNX1d\" data-id=\"L_E_G_6\" data-et=\"edge\" data-edge=\"true\" style=\"\" class=\"edge-thickness-normal edge-pattern-solid edge-thickness-normal edge-pattern-solid flowchart-link\" id=\"L_E_G_6\" d=\"M284.92916896687694,537.672393533123L291.88445872005354,575.0559793735304Q293.5078125,583.78125 293.5078125,592.65625L293.5078125,601.53125L293.5078125,615.28125\"/><path marker-end=\"url(#export-svg_flowchart-v2-pointEnd)\" data-points=\"W3sieCI6MjkzLjUwNzgxMjUsInkiOjY3MC4yODEyNX0seyJ4IjoyOTMuNTA3ODEyNSwieSI6Njk1LjI4MTI1fSx7IngiOjI5My41MDc4MTI1LCJ5Ijo3MjAuMjgxMjV9XQ==\" data-id=\"L_G_H_7\" data-et=\"edge\" data-edge=\"true\" style=\"\" class=\"edge-thickness-normal edge-pattern-solid edge-thickness-normal edge-pattern-solid flowchart-link\" id=\"L_G_H_7\" d=\"M293.5078125,670.28125L293.5078125,695.28125L293.5078125,707.78125L293.5078125,716.28125\"/></g><g class=\"edgeLabels\"><g class=\"edgeLabel\"><g transform=\"translate(0, 0)\" data-id=\"L_A_B_0\" class=\"label\"><foreignObject height=\"0\" width=\"0\"><div class=\"labelBkg\" xmlns=\"http://www.w3.org/1999/xhtml\" style=\"display: table-cell; white-space: normal; line-height: 1.5; max-width: 200px; text-align: center;\"><span class=\"edgeLabel\"></span></div></foreignObject></g></g><g class=\"edgeLabel\"><g transform=\"translate(0, 0)\" data-id=\"L_B_C_1\" class=\"label\"><foreignObject height=\"0\" width=\"0\"><div class=\"labelBkg\" xmlns=\"http://www.w3.org/1999/xhtml\" style=\"display: table-cell; white-space: normal; line-height: 1.5; max-width: 200px; text-align: center;\"><span class=\"edgeLabel\"></span></div></foreignObject></g></g><g class=\"edgeLabel\"><g transform=\"translate(0, 0)\" data-id=\"L_C_D_2\" class=\"label\"><foreignObject height=\"0\" width=\"0\"><div class=\"labelBkg\" xmlns=\"http://www.w3.org/1999/xhtml\" style=\"display: table-cell; white-space: normal; line-height: 1.5; max-width: 200px; text-align: center;\"><span class=\"edgeLabel\"></span></div></foreignObject></g></g><g class=\"edgeLabel\"><g transform=\"translate(0, 0)\" data-id=\"L_D_E_3\" class=\"label\"><foreignObject height=\"0\" width=\"0\"><div class=\"labelBkg\" xmlns=\"http://www.w3.org/1999/xhtml\" style=\"display: table-cell; white-space: normal; line-height: 1.5; max-width: 200px; text-align: center;\"><span class=\"edgeLabel\"></span></div></foreignObject></g></g><g transform=\"translate(171.05078125, 583.78125)\" class=\"edgeLabel\"><g transform=\"translate(-8.953125, -10.5)\" data-id=\"L_E_F_4\" class=\"label\"><foreignObject height=\"21\" width=\"17.90625\"><div class=\"labelBkg\" xmlns=\"http://www.w3.org/1999/xhtml\" style=\"display: table-cell; white-space: normal; line-height: 1.5; max-width: 200px; text-align: center;\"><span class=\"edgeLabel\"><p>No</p></span></div></foreignObject></g></g><g class=\"edgeLabel\"><g transform=\"translate(0, 0)\" data-id=\"L_F_C_5\" class=\"label\"><foreignObject height=\"0\" width=\"0\"><div class=\"labelBkg\" xmlns=\"http://www.w3.org/1999/xhtml\" style=\"display: table-cell; white-space: normal; line-height: 1.5; max-width: 200px; text-align: center;\"><span class=\"edgeLabel\"></span></div></foreignObject></g></g><g transform=\"translate(293.5078125, 583.78125)\" class=\"edgeLabel\"><g transform=\"translate(-11.421875, -10.5)\" data-id=\"L_E_G_6\" class=\"label\"><foreignObject height=\"21\" width=\"22.84375\"><div class=\"labelBkg\" xmlns=\"http://www.w3.org/1999/xhtml\" style=\"display: table-cell; white-space: normal; line-height: 1.5; max-width: 200px; text-align: center;\"><span class=\"edgeLabel\"><p>Yes</p></span></div></foreignObject></g></g><g class=\"edgeLabel\"><g transform=\"translate(0, 0)\" data-id=\"L_G_H_7\" class=\"label\"><foreignObject height=\"0\" width=\"0\"><div class=\"labelBkg\" xmlns=\"http://www.w3.org/1999/xhtml\" style=\"display: table-cell; white-space: normal; line-height: 1.5; max-width: 200px; text-align: center;\"><span class=\"edgeLabel\"></span></div></foreignObject></g></g></g><g class=\"nodes\"><g transform=\"translate(191.23828125, 33.5)\" data-look=\"neo\" data-et=\"node\" data-node=\"true\" data-id=\"A\" id=\"flowchart-A-60\" class=\"node default\"><rect stroke=\"url(#gradient)\" height=\"51\" width=\"177.5\" y=\"-25.5\" x=\"-88.75\" data-id=\"A\" style=\"fill:#E3F2FD !important\" class=\"basic label-container\"/><g transform=\"translate(-58.75, -10.5)\" style=\"\" class=\"label\"><rect/><foreignObject height=\"21\" width=\"117.5\"><div xmlns=\"http://www.w3.org/1999/xhtml\" style=\"display: table-cell; white-space: normal; line-height: 1.5; max-width: 200px; text-align: center;\"><span class=\"nodeLabel\"><p>Input Rating Matrix</p></span></div></foreignObject></g></g><g transform=\"translate(191.23828125, 134.5)\" data-look=\"neo\" data-et=\"node\" data-node=\"true\" data-id=\"B\" id=\"flowchart-B-61\" class=\"node default\"><rect stroke=\"url(#gradient)\" height=\"51\" width=\"224.171875\" y=\"-25.5\" x=\"-112.0859375\" data-id=\"B\" style=\"fill:#E8F5E9 !important\" class=\"basic label-container\"/><g transform=\"translate(-82.0859375, -10.5)\" style=\"\" class=\"label\"><rect/><foreignObject height=\"21\" width=\"164.171875\"><div xmlns=\"http://www.w3.org/1999/xhtml\" style=\"display: table-cell; white-space: normal; line-height: 1.5; max-width: 200px; text-align: center;\"><span class=\"nodeLabel\"><p>Initialize Random Matrices</p></span></div></foreignObject></g></g><g transform=\"translate(191.23828125, 235.5)\" data-look=\"neo\" data-et=\"node\" data-node=\"true\" data-id=\"C\" id=\"flowchart-C-63\" class=\"node default\"><rect stroke=\"url(#gradient)\" height=\"51\" width=\"182.9375\" y=\"-25.5\" x=\"-91.46875\" data-id=\"C\" style=\"\" class=\"basic label-container\"/><g transform=\"translate(-61.46875, -10.5)\" style=\"\" class=\"label\"><rect/><foreignObject height=\"21\" width=\"122.9375\"><div xmlns=\"http://www.w3.org/1999/xhtml\" style=\"display: table-cell; white-space: normal; line-height: 1.5; max-width: 200px; text-align: center;\"><span class=\"nodeLabel\"><p>Matrix Multiplication</p></span></div></foreignObject></g></g><g transform=\"translate(273.3203125, 336.5)\" data-look=\"neo\" data-et=\"node\" data-node=\"true\" data-id=\"D\" id=\"flowchart-D-65\" class=\"node default\"><rect stroke=\"url(#gradient)\" height=\"51\" width=\"153.375\" y=\"-25.5\" x=\"-76.6875\" data-id=\"D\" style=\"\" class=\"basic label-container\"/><g transform=\"translate(-46.6875, -10.5)\" style=\"\" class=\"label\"><rect/><foreignObject height=\"21\" width=\"93.375\"><div xmlns=\"http://www.w3.org/1999/xhtml\" style=\"display: table-cell; white-space: normal; line-height: 1.5; max-width: 200px; text-align: center;\"><span class=\"nodeLabel\"><p>Calculate Error</p></span></div></foreignObject></g></g><g transform=\"translate(273.3203125, 480.140625)\" data-look=\"neo\" data-et=\"node\" data-node=\"true\" data-id=\"E\" id=\"flowchart-E-67\" class=\"node default\"><polygon transform=\"translate(-68.140625,68.140625)\" class=\"label-container\" points=\"68.140625,0 136.28125,-68.140625 68.140625,-136.28125 0,-68.140625\"/><g transform=\"translate(-38.140625, -10.5)\" style=\"\" class=\"label\"><rect/><foreignObject height=\"21\" width=\"76.28125\"><div xmlns=\"http://www.w3.org/1999/xhtml\" style=\"display: table-cell; white-space: normal; line-height: 1.5; max-width: 200px; text-align: center;\"><span class=\"nodeLabel\"><p>Converged?</p></span></div></foreignObject></g></g><g transform=\"translate(88.96875, 644.78125)\" data-look=\"neo\" data-et=\"node\" data-node=\"true\" data-id=\"F\" id=\"flowchart-F-69\" class=\"node default\"><rect stroke=\"url(#gradient)\" height=\"51\" width=\"161.9375\" y=\"-25.5\" x=\"-80.96875\" data-id=\"F\" style=\"\" class=\"basic label-container\"/><g transform=\"translate(-50.96875, -10.5)\" style=\"\" class=\"label\"><rect/><foreignObject height=\"21\" width=\"101.9375\"><div xmlns=\"http://www.w3.org/1999/xhtml\" style=\"display: table-cell; white-space: normal; line-height: 1.5; max-width: 200px; text-align: center;\"><span class=\"nodeLabel\"><p>Update Matrices</p></span></div></foreignObject></g></g><g transform=\"translate(293.5078125, 644.78125)\" data-look=\"neo\" data-et=\"node\" data-node=\"true\" data-id=\"G\" id=\"flowchart-G-73\" class=\"node default\"><rect stroke=\"url(#gradient)\" height=\"51\" width=\"147.140625\" y=\"-25.5\" x=\"-73.5703125\" data-id=\"G\" style=\"fill:#FFF3E0 !important\" class=\"basic label-container\"/><g transform=\"translate(-43.5703125, -10.5)\" style=\"\" class=\"label\"><rect/><foreignObject height=\"21\" width=\"87.140625\"><div xmlns=\"http://www.w3.org/1999/xhtml\" style=\"display: table-cell; white-space: normal; line-height: 1.5; max-width: 200px; text-align: center;\"><span class=\"nodeLabel\"><p>Final Matrices</p></span></div></foreignObject></g></g><g transform=\"translate(293.5078125, 745.78125)\" data-look=\"neo\" data-et=\"node\" data-node=\"true\" data-id=\"H\" id=\"flowchart-H-75\" class=\"node default\"><rect stroke=\"url(#gradient)\" height=\"51\" width=\"167.390625\" y=\"-25.5\" x=\"-83.6953125\" data-id=\"H\" style=\"fill:#FFF9C4 !important\" class=\"basic label-container\"/><g transform=\"translate(-53.6953125, -10.5)\" style=\"\" class=\"label\"><rect/><foreignObject height=\"21\" width=\"107.390625\"><div xmlns=\"http://www.w3.org/1999/xhtml\" style=\"display: table-cell; white-space: normal; line-height: 1.5; max-width: 200px; text-align: center;\"><span class=\"nodeLabel\"><p>Make Predictions</p></span></div></foreignObject></g></g></g></g></g><linearGradient y2=\"0%\" x2=\"100%\" y1=\"0%\" x1=\"0%\" gradientUnits=\"objectBoundingBox\" id=\"export-svg-gradient\"><stop stop-opacity=\"1\" stop-color=\"#0042eb\" offset=\"0%\"/><stop stop-opacity=\"1\" stop-color=\"#eb0042\" offset=\"100%\"/></linearGradient></svg>"
   ]
  },
  {
   "cell_type": "markdown",
   "metadata": {},
   "source": [
    "Video Link:\n",
    "\n",
    "[![Video Title](https://img.youtube.com/vi/ZspR5PZemcs/0.jpg)](https://www.youtube.com/watch?v=ZspR5PZemcs)\n"
   ]
  },
  {
   "cell_type": "markdown",
   "metadata": {},
   "source": [
    "$$\n",
    "\\Large{\\text{Code}}\n",
    "$$"
   ]
  },
  {
   "cell_type": "code",
   "execution_count": 8,
   "metadata": {},
   "outputs": [
    {
     "name": "stdout",
     "output_type": "stream",
     "text": [
      "Collecting numpy\n",
      "  Using cached numpy-2.0.2-cp39-cp39-win_amd64.whl.metadata (59 kB)\n",
      "Collecting scikit-learn\n",
      "  Downloading scikit_learn-1.5.2-cp39-cp39-win_amd64.whl.metadata (13 kB)\n",
      "Collecting pandas\n",
      "  Downloading pandas-2.2.3-cp39-cp39-win_amd64.whl.metadata (19 kB)\n",
      "Collecting matplotlib\n",
      "  Downloading matplotlib-3.9.2-cp39-cp39-win_amd64.whl.metadata (11 kB)\n",
      "Collecting seaborn\n",
      "  Downloading seaborn-0.13.2-py3-none-any.whl.metadata (5.4 kB)\n",
      "Collecting scipy>=1.6.0 (from scikit-learn)\n",
      "  Downloading scipy-1.13.1-cp39-cp39-win_amd64.whl.metadata (60 kB)\n",
      "Collecting joblib>=1.2.0 (from scikit-learn)\n",
      "  Using cached joblib-1.4.2-py3-none-any.whl.metadata (5.4 kB)\n",
      "Collecting threadpoolctl>=3.1.0 (from scikit-learn)\n",
      "  Using cached threadpoolctl-3.5.0-py3-none-any.whl.metadata (13 kB)\n",
      "Requirement already satisfied: python-dateutil>=2.8.2 in c:\\users\\dai.studentsdc\\.conda\\envs\\surprise_env\\lib\\site-packages (from pandas) (2.9.0)\n",
      "Collecting pytz>=2020.1 (from pandas)\n",
      "  Using cached pytz-2024.2-py2.py3-none-any.whl.metadata (22 kB)\n",
      "Collecting tzdata>=2022.7 (from pandas)\n",
      "  Downloading tzdata-2024.2-py2.py3-none-any.whl.metadata (1.4 kB)\n",
      "Collecting contourpy>=1.0.1 (from matplotlib)\n",
      "  Downloading contourpy-1.3.0-cp39-cp39-win_amd64.whl.metadata (5.4 kB)\n",
      "Collecting cycler>=0.10 (from matplotlib)\n",
      "  Downloading cycler-0.12.1-py3-none-any.whl.metadata (3.8 kB)\n",
      "Collecting fonttools>=4.22.0 (from matplotlib)\n",
      "  Downloading fonttools-4.55.0-cp39-cp39-win_amd64.whl.metadata (167 kB)\n",
      "Collecting kiwisolver>=1.3.1 (from matplotlib)\n",
      "  Downloading kiwisolver-1.4.7-cp39-cp39-win_amd64.whl.metadata (6.4 kB)\n",
      "Requirement already satisfied: packaging>=20.0 in c:\\users\\dai.studentsdc\\.conda\\envs\\surprise_env\\lib\\site-packages (from matplotlib) (24.2)\n",
      "Collecting pillow>=8 (from matplotlib)\n",
      "  Downloading pillow-11.0.0-cp39-cp39-win_amd64.whl.metadata (9.3 kB)\n",
      "Collecting pyparsing>=2.3.1 (from matplotlib)\n",
      "  Downloading pyparsing-3.2.0-py3-none-any.whl.metadata (5.0 kB)\n",
      "Collecting importlib-resources>=3.2.0 (from matplotlib)\n",
      "  Using cached importlib_resources-6.4.5-py3-none-any.whl.metadata (4.0 kB)\n",
      "Requirement already satisfied: zipp>=3.1.0 in c:\\users\\dai.studentsdc\\.conda\\envs\\surprise_env\\lib\\site-packages (from importlib-resources>=3.2.0->matplotlib) (3.21.0)\n",
      "Requirement already satisfied: six>=1.5 in c:\\users\\dai.studentsdc\\.conda\\envs\\surprise_env\\lib\\site-packages (from python-dateutil>=2.8.2->pandas) (1.16.0)\n",
      "Downloading numpy-2.0.2-cp39-cp39-win_amd64.whl (15.9 MB)\n",
      "   ---------------------------------------- 0.0/15.9 MB ? eta -:--:--\n",
      "   ------------------------- -------------- 10.0/15.9 MB 47.8 MB/s eta 0:00:01\n",
      "   ---------------------------------------- 15.9/15.9 MB 38.5 MB/s eta 0:00:00\n",
      "Downloading scikit_learn-1.5.2-cp39-cp39-win_amd64.whl (11.0 MB)\n",
      "   ---------------------------------------- 0.0/11.0 MB ? eta -:--:--\n",
      "   ---------------------------------------- 11.0/11.0 MB 52.8 MB/s eta 0:00:00\n",
      "Downloading pandas-2.2.3-cp39-cp39-win_amd64.whl (11.6 MB)\n",
      "   ---------------------------------------- 0.0/11.6 MB ? eta -:--:--\n",
      "   ------------------------------------- -- 11.0/11.6 MB 62.5 MB/s eta 0:00:01\n",
      "   ---------------------------------------- 11.6/11.6 MB 42.7 MB/s eta 0:00:00\n",
      "Downloading matplotlib-3.9.2-cp39-cp39-win_amd64.whl (7.8 MB)\n",
      "   ---------------------------------------- 0.0/7.8 MB ? eta -:--:--\n",
      "   ---------------------------------------- 7.8/7.8 MB 60.4 MB/s eta 0:00:00\n",
      "Downloading seaborn-0.13.2-py3-none-any.whl (294 kB)\n",
      "Downloading contourpy-1.3.0-cp39-cp39-win_amd64.whl (211 kB)\n",
      "Downloading cycler-0.12.1-py3-none-any.whl (8.3 kB)\n",
      "Downloading fonttools-4.55.0-cp39-cp39-win_amd64.whl (2.2 MB)\n",
      "   ---------------------------------------- 0.0/2.2 MB ? eta -:--:--\n",
      "   ---------------------------------------- 2.2/2.2 MB 63.0 MB/s eta 0:00:00\n",
      "Using cached importlib_resources-6.4.5-py3-none-any.whl (36 kB)\n",
      "Using cached joblib-1.4.2-py3-none-any.whl (301 kB)\n",
      "Downloading kiwisolver-1.4.7-cp39-cp39-win_amd64.whl (55 kB)\n",
      "Downloading pillow-11.0.0-cp39-cp39-win_amd64.whl (2.6 MB)\n",
      "   ---------------------------------------- 0.0/2.6 MB ? eta -:--:--\n",
      "   ---------------------------------------- 2.6/2.6 MB 49.0 MB/s eta 0:00:00\n",
      "Downloading pyparsing-3.2.0-py3-none-any.whl (106 kB)\n",
      "Using cached pytz-2024.2-py2.py3-none-any.whl (508 kB)\n",
      "Downloading scipy-1.13.1-cp39-cp39-win_amd64.whl (46.2 MB)\n",
      "   ---------------------------------------- 0.0/46.2 MB ? eta -:--:--\n",
      "   ------ --------------------------------- 7.3/46.2 MB 37.8 MB/s eta 0:00:02\n",
      "   --------------- ------------------------ 18.1/46.2 MB 43.9 MB/s eta 0:00:01\n",
      "   --------------------- ------------------ 24.4/46.2 MB 42.9 MB/s eta 0:00:01\n",
      "   --------------------- ------------------ 24.4/46.2 MB 42.9 MB/s eta 0:00:01\n",
      "   --------------------------------- ------ 38.5/46.2 MB 37.7 MB/s eta 0:00:01\n",
      "   ---------------------------------------  46.1/46.2 MB 39.1 MB/s eta 0:00:01\n",
      "   ---------------------------------------- 46.2/46.2 MB 34.2 MB/s eta 0:00:00\n",
      "Using cached threadpoolctl-3.5.0-py3-none-any.whl (18 kB)\n",
      "Downloading tzdata-2024.2-py2.py3-none-any.whl (346 kB)\n",
      "Installing collected packages: pytz, tzdata, threadpoolctl, pyparsing, pillow, numpy, kiwisolver, joblib, importlib-resources, fonttools, cycler, scipy, pandas, contourpy, scikit-learn, matplotlib, seaborn\n",
      "Successfully installed contourpy-1.3.0 cycler-0.12.1 fonttools-4.55.0 importlib-resources-6.4.5 joblib-1.4.2 kiwisolver-1.4.7 matplotlib-3.9.2 numpy-2.0.2 pandas-2.2.3 pillow-11.0.0 pyparsing-3.2.0 pytz-2024.2 scikit-learn-1.5.2 scipy-1.13.1 seaborn-0.13.2 threadpoolctl-3.5.0 tzdata-2024.2\n"
     ]
    }
   ],
   "source": [
    "!pip install numpy scikit-learn pandas matplotlib seaborn\n"
   ]
  },
  {
   "cell_type": "code",
   "execution_count": 1,
   "metadata": {},
   "outputs": [],
   "source": [
    "import numpy as np\n",
    "import pandas as pd"
   ]
  },
  {
   "cell_type": "code",
   "execution_count": 2,
   "metadata": {},
   "outputs": [],
   "source": [
    "import surprise\n",
    "from surprise.model_selection import GridSearchCV\n",
    "from surprise.model_selection.split import KFold"
   ]
  },
  {
   "cell_type": "markdown",
   "metadata": {},
   "source": [
    "### Example 1"
   ]
  },
  {
   "cell_type": "code",
   "execution_count": 3,
   "metadata": {},
   "outputs": [
    {
     "data": {
      "text/html": [
       "<div>\n",
       "<style scoped>\n",
       "    .dataframe tbody tr th:only-of-type {\n",
       "        vertical-align: middle;\n",
       "    }\n",
       "\n",
       "    .dataframe tbody tr th {\n",
       "        vertical-align: top;\n",
       "    }\n",
       "\n",
       "    .dataframe thead th {\n",
       "        text-align: right;\n",
       "    }\n",
       "</style>\n",
       "<table border=\"1\" class=\"dataframe\">\n",
       "  <thead>\n",
       "    <tr style=\"text-align: right;\">\n",
       "      <th></th>\n",
       "      <th>uid</th>\n",
       "      <th>iid</th>\n",
       "      <th>rating</th>\n",
       "    </tr>\n",
       "  </thead>\n",
       "  <tbody>\n",
       "    <tr>\n",
       "      <th>0</th>\n",
       "      <td>1</td>\n",
       "      <td>1</td>\n",
       "      <td>2.0</td>\n",
       "    </tr>\n",
       "    <tr>\n",
       "      <th>1</th>\n",
       "      <td>1</td>\n",
       "      <td>2</td>\n",
       "      <td>4.0</td>\n",
       "    </tr>\n",
       "    <tr>\n",
       "      <th>2</th>\n",
       "      <td>1</td>\n",
       "      <td>3</td>\n",
       "      <td>3.5</td>\n",
       "    </tr>\n",
       "    <tr>\n",
       "      <th>3</th>\n",
       "      <td>1</td>\n",
       "      <td>4</td>\n",
       "      <td>3.0</td>\n",
       "    </tr>\n",
       "    <tr>\n",
       "      <th>4</th>\n",
       "      <td>1</td>\n",
       "      <td>5</td>\n",
       "      <td>4.0</td>\n",
       "    </tr>\n",
       "  </tbody>\n",
       "</table>\n",
       "</div>"
      ],
      "text/plain": [
       "   uid  iid  rating\n",
       "0    1    1     2.0\n",
       "1    1    2     4.0\n",
       "2    1    3     3.5\n",
       "3    1    4     3.0\n",
       "4    1    5     4.0"
      ]
     },
     "execution_count": 3,
     "metadata": {},
     "output_type": "execute_result"
    }
   ],
   "source": [
    "ratings = pd.read_csv(r\"C:\\Users\\DAI.STUDENTSDC\\Desktop\\Machine Learning\\Data\\recomm_datasets\\filmtrust\\ratings.txt\",sep=' ',names = ['uid','iid','rating'])\n",
    "ratings.head()"
   ]
  },
  {
   "cell_type": "code",
   "execution_count": 4,
   "metadata": {},
   "outputs": [
    {
     "name": "stdout",
     "output_type": "stream",
     "text": [
      "Ratings range between 0.5 and 4.0\n"
     ]
    }
   ],
   "source": [
    "lowest_rating = ratings['rating'].min()\n",
    "highest_rating = ratings['rating'].max()\n",
    "print(\"Ratings range between {0} and {1}\".format(lowest_rating,highest_rating))"
   ]
  },
  {
   "cell_type": "code",
   "execution_count": 5,
   "metadata": {},
   "outputs": [
    {
     "data": {
      "text/plain": [
       "surprise.dataset.DatasetAutoFolds"
      ]
     },
     "execution_count": 5,
     "metadata": {},
     "output_type": "execute_result"
    }
   ],
   "source": [
    "reader = surprise.Reader(rating_scale = (lowest_rating,highest_rating))\n",
    "data = surprise.Dataset.load_from_df(ratings,reader)\n",
    "type(data)"
   ]
  },
  {
   "cell_type": "code",
   "execution_count": 6,
   "metadata": {},
   "outputs": [
    {
     "name": "stderr",
     "output_type": "stream",
     "text": [
      "[Parallel(n_jobs=-1)]: Using backend LokyBackend with 16 concurrent workers.\n",
      "[Parallel(n_jobs=-1)]: Done  90 out of  90 | elapsed:    5.9s finished\n"
     ]
    }
   ],
   "source": [
    "param_grid = {\n",
    "    'lr_all':np.linspace(0.001,1,3), \n",
    "    'reg_all': np.linspace(0.01,0.8,3),\n",
    "    'n_factors':[40,30]\n",
    "}\n",
    "\n",
    "kfold = KFold(\n",
    "    random_state=23,\n",
    "    n_splits=5,\n",
    "    shuffle=True\n",
    ")\n",
    "\n",
    "gs = GridSearchCV(\n",
    "    surprise.SVD, \n",
    "    param_grid=param_grid,\n",
    "    joblib_verbose =3, \n",
    "    measures=['rmse', 'mae'],\n",
    "    cv=kfold,\n",
    "    n_jobs=-1\n",
    ")\n",
    "gs.fit(data)"
   ]
  },
  {
   "cell_type": "code",
   "execution_count": 7,
   "metadata": {},
   "outputs": [
    {
     "name": "stdout",
     "output_type": "stream",
     "text": [
      "0.8286602658399428\n"
     ]
    }
   ],
   "source": [
    "print(gs.best_score['rmse'])"
   ]
  },
  {
   "cell_type": "code",
   "execution_count": 8,
   "metadata": {},
   "outputs": [
    {
     "data": {
      "text/plain": [
       "<surprise.prediction_algorithms.matrix_factorization.SVD at 0x1c585df93d0>"
      ]
     },
     "execution_count": 8,
     "metadata": {},
     "output_type": "execute_result"
    }
   ],
   "source": [
    "algo = gs.best_estimator['rmse']\n",
    "algo.fit(data.build_full_trainset())"
   ]
  },
  {
   "cell_type": "code",
   "execution_count": 9,
   "metadata": {},
   "outputs": [
    {
     "name": "stdout",
     "output_type": "stream",
     "text": [
      "[   1    2    3 ... 2069 2070 2071]\n"
     ]
    }
   ],
   "source": [
    "iids = ratings['iid'].unique()\n",
    "print(iids)"
   ]
  },
  {
   "cell_type": "code",
   "execution_count": 10,
   "metadata": {},
   "outputs": [
    {
     "name": "stdout",
     "output_type": "stream",
     "text": [
      "[  8 211   3   2 219 234  12 254 250 207  11 253 236  84  10   7 233  13\n",
      "   1   5   6 252 241 216 257 206   4 217   9 215 213  17 255 220 121 245\n",
      " 239 251 235]\n"
     ]
    }
   ],
   "source": [
    "u_iid = ratings[ratings['uid']==50]['iid'].unique()\n",
    "print(u_iid)"
   ]
  },
  {
   "cell_type": "code",
   "execution_count": 11,
   "metadata": {},
   "outputs": [
    {
     "name": "stdout",
     "output_type": "stream",
     "text": [
      "[  14   15   16 ... 2069 2070 2071]\n"
     ]
    }
   ],
   "source": [
    "iids_to_predict = np.setdiff1d(iids, u_iid)\n",
    "print(iids_to_predict)"
   ]
  },
  {
   "cell_type": "code",
   "execution_count": 12,
   "metadata": {},
   "outputs": [],
   "source": [
    "testset = [[50,iid,0.] for iid in iids_to_predict]\n",
    "predictions = algo.test(testset)     "
   ]
  },
  {
   "cell_type": "code",
   "execution_count": 13,
   "metadata": {},
   "outputs": [
    {
     "data": {
      "text/plain": [
       "Prediction(uid=50, iid=14, r_ui=0.0, est=3.170699203875565, details={'was_impossible': False})"
      ]
     },
     "execution_count": 13,
     "metadata": {},
     "output_type": "execute_result"
    }
   ],
   "source": [
    "predictions[0]"
   ]
  },
  {
   "cell_type": "code",
   "execution_count": 14,
   "metadata": {},
   "outputs": [],
   "source": [
    "pred_ratings = np.array([pred.est for pred in predictions])"
   ]
  },
  {
   "cell_type": "code",
   "execution_count": 15,
   "metadata": {},
   "outputs": [
    {
     "name": "stdout",
     "output_type": "stream",
     "text": [
      "Item: 675 is the item with highest expected rating as 3.7061755034799493\n"
     ]
    }
   ],
   "source": [
    "i_max = np.argmax(pred_ratings)\n",
    "print(\"Item:\",iids_to_predict[i_max],\"is the item with highest expected rating as\",pred_ratings[i_max])"
   ]
  },
  {
   "cell_type": "code",
   "execution_count": 16,
   "metadata": {},
   "outputs": [
    {
     "data": {
      "text/html": [
       "<div>\n",
       "<style scoped>\n",
       "    .dataframe tbody tr th:only-of-type {\n",
       "        vertical-align: middle;\n",
       "    }\n",
       "\n",
       "    .dataframe tbody tr th {\n",
       "        vertical-align: top;\n",
       "    }\n",
       "\n",
       "    .dataframe thead th {\n",
       "        text-align: right;\n",
       "    }\n",
       "</style>\n",
       "<table border=\"1\" class=\"dataframe\">\n",
       "  <thead>\n",
       "    <tr style=\"text-align: right;\">\n",
       "      <th></th>\n",
       "      <th>Item_ID</th>\n",
       "      <th>Exp_Rating</th>\n",
       "    </tr>\n",
       "  </thead>\n",
       "  <tbody>\n",
       "    <tr>\n",
       "      <th>635</th>\n",
       "      <td>675</td>\n",
       "      <td>3.706176</td>\n",
       "    </tr>\n",
       "    <tr>\n",
       "      <th>194</th>\n",
       "      <td>218</td>\n",
       "      <td>3.671295</td>\n",
       "    </tr>\n",
       "    <tr>\n",
       "      <th>765</th>\n",
       "      <td>805</td>\n",
       "      <td>3.635913</td>\n",
       "    </tr>\n",
       "    <tr>\n",
       "      <th>278</th>\n",
       "      <td>318</td>\n",
       "      <td>3.626039</td>\n",
       "    </tr>\n",
       "    <tr>\n",
       "      <th>295</th>\n",
       "      <td>335</td>\n",
       "      <td>3.609949</td>\n",
       "    </tr>\n",
       "    <tr>\n",
       "      <th>246</th>\n",
       "      <td>286</td>\n",
       "      <td>3.589036</td>\n",
       "    </tr>\n",
       "    <tr>\n",
       "      <th>210</th>\n",
       "      <td>242</td>\n",
       "      <td>3.582681</td>\n",
       "    </tr>\n",
       "    <tr>\n",
       "      <th>392</th>\n",
       "      <td>432</td>\n",
       "      <td>3.535744</td>\n",
       "    </tr>\n",
       "    <tr>\n",
       "      <th>436</th>\n",
       "      <td>476</td>\n",
       "      <td>3.526788</td>\n",
       "    </tr>\n",
       "    <tr>\n",
       "      <th>238</th>\n",
       "      <td>278</td>\n",
       "      <td>3.519778</td>\n",
       "    </tr>\n",
       "  </tbody>\n",
       "</table>\n",
       "</div>"
      ],
      "text/plain": [
       "     Item_ID  Exp_Rating\n",
       "635      675    3.706176\n",
       "194      218    3.671295\n",
       "765      805    3.635913\n",
       "278      318    3.626039\n",
       "295      335    3.609949\n",
       "246      286    3.589036\n",
       "210      242    3.582681\n",
       "392      432    3.535744\n",
       "436      476    3.526788\n",
       "238      278    3.519778"
      ]
     },
     "execution_count": 16,
     "metadata": {},
     "output_type": "execute_result"
    }
   ],
   "source": [
    "exp_ratings = pd.DataFrame({'Item_ID': iids_to_predict, 'Exp_Rating':pred_ratings})\n",
    "exp_ratings.sort_values(by=['Exp_Rating','Item_ID'], ascending=[False, True], inplace=True)\n",
    "exp_ratings.head(10)"
   ]
  },
  {
   "cell_type": "markdown",
   "metadata": {},
   "source": [
    "### Example 2"
   ]
  },
  {
   "cell_type": "code",
   "execution_count": null,
   "metadata": {},
   "outputs": [
    {
     "data": {
      "text/html": [
       "<div>\n",
       "<style scoped>\n",
       "    .dataframe tbody tr th:only-of-type {\n",
       "        vertical-align: middle;\n",
       "    }\n",
       "\n",
       "    .dataframe tbody tr th {\n",
       "        vertical-align: top;\n",
       "    }\n",
       "\n",
       "    .dataframe thead th {\n",
       "        text-align: right;\n",
       "    }\n",
       "</style>\n",
       "<table border=\"1\" class=\"dataframe\">\n",
       "  <thead>\n",
       "    <tr style=\"text-align: right;\">\n",
       "      <th></th>\n",
       "      <th>uid</th>\n",
       "      <th>iid</th>\n",
       "      <th>rating</th>\n",
       "    </tr>\n",
       "  </thead>\n",
       "  <tbody>\n",
       "    <tr>\n",
       "      <th>0</th>\n",
       "      <td>196</td>\n",
       "      <td>242</td>\n",
       "      <td>3</td>\n",
       "    </tr>\n",
       "    <tr>\n",
       "      <th>1</th>\n",
       "      <td>186</td>\n",
       "      <td>302</td>\n",
       "      <td>3</td>\n",
       "    </tr>\n",
       "    <tr>\n",
       "      <th>2</th>\n",
       "      <td>22</td>\n",
       "      <td>377</td>\n",
       "      <td>1</td>\n",
       "    </tr>\n",
       "    <tr>\n",
       "      <th>3</th>\n",
       "      <td>244</td>\n",
       "      <td>51</td>\n",
       "      <td>2</td>\n",
       "    </tr>\n",
       "    <tr>\n",
       "      <th>4</th>\n",
       "      <td>166</td>\n",
       "      <td>346</td>\n",
       "      <td>1</td>\n",
       "    </tr>\n",
       "  </tbody>\n",
       "</table>\n",
       "</div>"
      ],
      "text/plain": [
       "   uid  iid  rating\n",
       "0  196  242       3\n",
       "1  186  302       3\n",
       "2   22  377       1\n",
       "3  244   51       2\n",
       "4  166  346       1"
      ]
     },
     "execution_count": 24,
     "metadata": {},
     "output_type": "execute_result"
    }
   ],
   "source": [
    "ratings = pd.read_csv(r\"C:\\Users\\DAI.STUDENTSDC\\Desktop\\Machine Learning\\Data\\recomm_datasets\\ml-100k\\u.data\",sep='\\t',names = ['uid','iid','rating', 'ts'])\n",
    "ratings.drop('ts', axis=1, inplace=True)\n",
    "ratings.head()"
   ]
  },
  {
   "cell_type": "code",
   "execution_count": 25,
   "metadata": {},
   "outputs": [
    {
     "name": "stdout",
     "output_type": "stream",
     "text": [
      "Ratings range between 1 and 5\n"
     ]
    }
   ],
   "source": [
    "lowest_rating = ratings['rating'].min()\n",
    "highest_rating = ratings['rating'].max()\n",
    "print(\"Ratings range between {0} and {1}\".format(lowest_rating,highest_rating))"
   ]
  },
  {
   "cell_type": "code",
   "execution_count": 26,
   "metadata": {},
   "outputs": [
    {
     "data": {
      "text/plain": [
       "surprise.dataset.DatasetAutoFolds"
      ]
     },
     "execution_count": 26,
     "metadata": {},
     "output_type": "execute_result"
    }
   ],
   "source": [
    "reader = surprise.Reader(rating_scale = (lowest_rating,highest_rating))\n",
    "data = surprise.Dataset.load_from_df(ratings,reader)\n",
    "type(data)"
   ]
  },
  {
   "cell_type": "code",
   "execution_count": 29,
   "metadata": {},
   "outputs": [
    {
     "name": "stderr",
     "output_type": "stream",
     "text": [
      "[Parallel(n_jobs=-1)]: Using backend LokyBackend with 16 concurrent workers.\n",
      "[Parallel(n_jobs=-1)]: Done  90 out of  90 | elapsed:   14.5s finished\n"
     ]
    }
   ],
   "source": [
    "param_grid = {\n",
    "    'lr_all':np.linspace(0.001,1,3), \n",
    "    'reg_all': np.linspace(0.01,0.8,3),\n",
    "    'n_factors':[40,30]\n",
    "}\n",
    "\n",
    "kfold = KFold(\n",
    "    random_state=23,\n",
    "    n_splits=5,\n",
    "    shuffle=True\n",
    ")\n",
    "\n",
    "gs = GridSearchCV(\n",
    "    surprise.SVD, \n",
    "    param_grid=param_grid,\n",
    "    joblib_verbose =3, \n",
    "    measures=['rmse', 'mae'],\n",
    "    cv=kfold,\n",
    "    n_jobs=-1\n",
    ")\n",
    "gs.fit(data)"
   ]
  },
  {
   "cell_type": "code",
   "execution_count": 30,
   "metadata": {},
   "outputs": [
    {
     "name": "stdout",
     "output_type": "stream",
     "text": [
      "0.960368051981213\n"
     ]
    }
   ],
   "source": [
    "print(gs.best_score['rmse'])"
   ]
  },
  {
   "cell_type": "code",
   "execution_count": 31,
   "metadata": {},
   "outputs": [
    {
     "data": {
      "text/plain": [
       "<surprise.prediction_algorithms.matrix_factorization.SVD at 0x1c585581a60>"
      ]
     },
     "execution_count": 31,
     "metadata": {},
     "output_type": "execute_result"
    }
   ],
   "source": [
    "algo = gs.best_estimator['rmse']\n",
    "algo.fit(data.build_full_trainset())"
   ]
  },
  {
   "cell_type": "code",
   "execution_count": 32,
   "metadata": {},
   "outputs": [
    {
     "name": "stdout",
     "output_type": "stream",
     "text": [
      "[ 242  302  377 ... 1637 1630 1641]\n"
     ]
    }
   ],
   "source": [
    "iids = ratings['iid'].unique()\n",
    "print(iids)"
   ]
  },
  {
   "cell_type": "code",
   "execution_count": 33,
   "metadata": {},
   "outputs": [
    {
     "name": "stdout",
     "output_type": "stream",
     "text": [
      "[ 246  823  253  475 1084  286    9  125  123  325  508  288  319  324\n",
      "  276 1008 1010  268  544   15  327  124  547  100]\n"
     ]
    }
   ],
   "source": [
    "u_iid = ratings[ratings['uid']==50]['iid'].unique()\n",
    "print(u_iid)"
   ]
  },
  {
   "cell_type": "code",
   "execution_count": 34,
   "metadata": {},
   "outputs": [
    {
     "name": "stdout",
     "output_type": "stream",
     "text": [
      "[   1    2    3 ... 1680 1681 1682]\n"
     ]
    }
   ],
   "source": [
    "iids_to_predict = np.setdiff1d(iids, u_iid)\n",
    "print(iids_to_predict)"
   ]
  },
  {
   "cell_type": "code",
   "execution_count": 35,
   "metadata": {},
   "outputs": [],
   "source": [
    "testset = [[50,iid,0.] for iid in iids_to_predict]\n",
    "predictions = algo.test(testset)     "
   ]
  },
  {
   "cell_type": "code",
   "execution_count": 36,
   "metadata": {},
   "outputs": [
    {
     "data": {
      "text/plain": [
       "Prediction(uid=50, iid=1, r_ui=0.0, est=3.992029900499555, details={'was_impossible': False})"
      ]
     },
     "execution_count": 36,
     "metadata": {},
     "output_type": "execute_result"
    }
   ],
   "source": [
    "predictions[0]"
   ]
  },
  {
   "cell_type": "code",
   "execution_count": 37,
   "metadata": {},
   "outputs": [],
   "source": [
    "pred_ratings = np.array([pred.est for pred in predictions])"
   ]
  },
  {
   "cell_type": "code",
   "execution_count": 38,
   "metadata": {},
   "outputs": [
    {
     "name": "stdout",
     "output_type": "stream",
     "text": [
      "Item: 64 is the item with highest expected rating as 4.635519780886885\n"
     ]
    }
   ],
   "source": [
    "i_max = np.argmax(pred_ratings)\n",
    "print(\"Item:\",iids_to_predict[i_max],\"is the item with highest expected rating as\",pred_ratings[i_max])"
   ]
  },
  {
   "cell_type": "code",
   "execution_count": 41,
   "metadata": {},
   "outputs": [],
   "source": [
    "exp_ratings = pd.DataFrame({'Item_ID': iids_to_predict, 'Exp_Rating':pred_ratings})\n",
    "exp_ratings.sort_values(by=['Exp_Rating','Item_ID'], ascending=[False, True], inplace=True)"
   ]
  },
  {
   "cell_type": "code",
   "execution_count": 43,
   "metadata": {},
   "outputs": [
    {
     "data": {
      "text/html": [
       "<div>\n",
       "<style scoped>\n",
       "    .dataframe tbody tr th:only-of-type {\n",
       "        vertical-align: middle;\n",
       "    }\n",
       "\n",
       "    .dataframe tbody tr th {\n",
       "        vertical-align: top;\n",
       "    }\n",
       "\n",
       "    .dataframe thead th {\n",
       "        text-align: right;\n",
       "    }\n",
       "</style>\n",
       "<table border=\"1\" class=\"dataframe\">\n",
       "  <thead>\n",
       "    <tr style=\"text-align: right;\">\n",
       "      <th></th>\n",
       "      <th>Item_ID</th>\n",
       "      <th>Exp_Rating</th>\n",
       "    </tr>\n",
       "  </thead>\n",
       "  <tbody>\n",
       "    <tr>\n",
       "      <th>61</th>\n",
       "      <td>64</td>\n",
       "      <td>4.635520</td>\n",
       "    </tr>\n",
       "    <tr>\n",
       "      <th>10</th>\n",
       "      <td>12</td>\n",
       "      <td>4.500368</td>\n",
       "    </tr>\n",
       "    <tr>\n",
       "      <th>305</th>\n",
       "      <td>318</td>\n",
       "      <td>4.478293</td>\n",
       "    </tr>\n",
       "    <tr>\n",
       "      <th>465</th>\n",
       "      <td>483</td>\n",
       "      <td>4.457496</td>\n",
       "    </tr>\n",
       "    <tr>\n",
       "      <th>162</th>\n",
       "      <td>169</td>\n",
       "      <td>4.422117</td>\n",
       "    </tr>\n",
       "    <tr>\n",
       "      <th>...</th>\n",
       "      <td>...</td>\n",
       "      <td>...</td>\n",
       "    </tr>\n",
       "    <tr>\n",
       "      <th>667</th>\n",
       "      <td>688</td>\n",
       "      <td>2.599535</td>\n",
       "    </tr>\n",
       "    <tr>\n",
       "      <th>666</th>\n",
       "      <td>687</td>\n",
       "      <td>2.561210</td>\n",
       "    </tr>\n",
       "    <tr>\n",
       "      <th>236</th>\n",
       "      <td>243</td>\n",
       "      <td>2.551337</td>\n",
       "    </tr>\n",
       "    <tr>\n",
       "      <th>118</th>\n",
       "      <td>122</td>\n",
       "      <td>2.548063</td>\n",
       "    </tr>\n",
       "    <tr>\n",
       "      <th>966</th>\n",
       "      <td>988</td>\n",
       "      <td>2.528023</td>\n",
       "    </tr>\n",
       "  </tbody>\n",
       "</table>\n",
       "<p>1658 rows × 2 columns</p>\n",
       "</div>"
      ],
      "text/plain": [
       "     Item_ID  Exp_Rating\n",
       "61        64    4.635520\n",
       "10        12    4.500368\n",
       "305      318    4.478293\n",
       "465      483    4.457496\n",
       "162      169    4.422117\n",
       "..       ...         ...\n",
       "667      688    2.599535\n",
       "666      687    2.561210\n",
       "236      243    2.551337\n",
       "118      122    2.548063\n",
       "966      988    2.528023\n",
       "\n",
       "[1658 rows x 2 columns]"
      ]
     },
     "execution_count": 43,
     "metadata": {},
     "output_type": "execute_result"
    }
   ],
   "source": [
    "exp_ratings"
   ]
  },
  {
   "cell_type": "code",
   "execution_count": null,
   "metadata": {},
   "outputs": [
    {
     "data": {
      "text/html": [
       "<div>\n",
       "<style scoped>\n",
       "    .dataframe tbody tr th:only-of-type {\n",
       "        vertical-align: middle;\n",
       "    }\n",
       "\n",
       "    .dataframe tbody tr th {\n",
       "        vertical-align: top;\n",
       "    }\n",
       "\n",
       "    .dataframe thead th {\n",
       "        text-align: right;\n",
       "    }\n",
       "</style>\n",
       "<table border=\"1\" class=\"dataframe\">\n",
       "  <thead>\n",
       "    <tr style=\"text-align: right;\">\n",
       "      <th></th>\n",
       "      <th>Item_ID</th>\n",
       "      <th>movie title</th>\n",
       "      <th>Exp_Rating</th>\n",
       "    </tr>\n",
       "  </thead>\n",
       "  <tbody>\n",
       "    <tr>\n",
       "      <th>61</th>\n",
       "      <td>64</td>\n",
       "      <td>Shawshank Redemption, The (1994)</td>\n",
       "      <td>4.635520</td>\n",
       "    </tr>\n",
       "    <tr>\n",
       "      <th>10</th>\n",
       "      <td>12</td>\n",
       "      <td>Usual Suspects, The (1995)</td>\n",
       "      <td>4.500368</td>\n",
       "    </tr>\n",
       "    <tr>\n",
       "      <th>305</th>\n",
       "      <td>318</td>\n",
       "      <td>Schindler's List (1993)</td>\n",
       "      <td>4.478293</td>\n",
       "    </tr>\n",
       "    <tr>\n",
       "      <th>465</th>\n",
       "      <td>483</td>\n",
       "      <td>Casablanca (1942)</td>\n",
       "      <td>4.457496</td>\n",
       "    </tr>\n",
       "    <tr>\n",
       "      <th>162</th>\n",
       "      <td>169</td>\n",
       "      <td>Wrong Trousers, The (1993)</td>\n",
       "      <td>4.422117</td>\n",
       "    </tr>\n",
       "  </tbody>\n",
       "</table>\n",
       "</div>"
      ],
      "text/plain": [
       "     Item_ID                      movie title   Exp_Rating\n",
       "61        64  Shawshank Redemption, The (1994)    4.635520\n",
       "10        12        Usual Suspects, The (1995)    4.500368\n",
       "305      318           Schindler's List (1993)    4.478293\n",
       "465      483                 Casablanca (1942)    4.457496\n",
       "162      169        Wrong Trousers, The (1993)    4.422117"
      ]
     },
     "execution_count": 42,
     "metadata": {},
     "output_type": "execute_result"
    }
   ],
   "source": [
    "movie_list_path = r'C:\\Users\\DAI.STUDENTSDC\\Desktop\\Machine Learning\\Data\\recomm_datasets\\ml-100k\\movies_list.csv'\n",
    "movies = pd.read_csv(movie_list_path, encoding='latin-1')\n",
    "movies = movies[\n",
    "    ['movie id ',' movie title ']\n",
    "].rename(columns={'movie id ':'Item_ID'})\n",
    "\n",
    "\n",
    "m_names = movies.merge(\n",
    "    exp_ratings, \n",
    "    left_on='Item_ID', \n",
    "    right_on='Item_ID'\n",
    ").sort_values(\n",
    "    by=['Exp_Rating','Item_ID'], \n",
    "    ascending=[False, True]\n",
    ")\n",
    "\n",
    "\n",
    "m_names.head(5)"
   ]
  }
 ],
 "metadata": {
  "kernelspec": {
   "display_name": "surprise_env",
   "language": "python",
   "name": "python3"
  },
  "language_info": {
   "codemirror_mode": {
    "name": "ipython",
    "version": 3
   },
   "file_extension": ".py",
   "mimetype": "text/x-python",
   "name": "python",
   "nbconvert_exporter": "python",
   "pygments_lexer": "ipython3",
   "version": "3.9.20"
  }
 },
 "nbformat": 4,
 "nbformat_minor": 2
}
