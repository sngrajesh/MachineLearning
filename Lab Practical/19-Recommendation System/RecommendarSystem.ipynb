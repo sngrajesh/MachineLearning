{
 "cells": [
  {
   "cell_type": "markdown",
   "metadata": {},
   "source": [
    "$$\n",
    "\\Large \\text{Recommender Systems}\n",
    "$$\n"
   ]
  },
  {
   "cell_type": "markdown",
   "metadata": {},
   "source": [
    "\n",
    "#### What are Recommender Systems?\n",
    "- Systems that suggest relevant items to users\n",
    "- Used by Netflix, Amazon, Spotify, and many other platforms\n",
    "- Help users discover products, content, or services they might like\n",
    "\n",
    "#### Main Types\n",
    "\n",
    "##### 1. Collaborative Filtering\n",
    "- Based on user behavior and preferences\n",
    "- **User-Based (UBCF)**: \"Users like you also liked...\"\n",
    "- **Item-Based (IBFC)**: \"Items liked by you also liked...\"\n",
    "- Works well with large user datasets\n",
    "\n",
    "##### 2. Content-Based Filtering\n",
    "- Uses item features and characteristics\n",
    "- Matches items with user preferences\n",
    "- Example: Movie recommendations based on genre, actors, director\n",
    "\n",
    "##### 3. Hybrid Systems\n",
    "- Combines multiple recommendation approaches\n",
    "- Balances the strengths of different methods\n",
    "- More robust and accurate recommendations\n",
    "\n",
    "#### Common Metrics\n",
    "- Accuracy\n",
    "- Precision and Recall\n",
    "- Mean Absolute Error (MAE)\n",
    "- Root Mean Square Error (RMSE)\n",
    "- User Satisfaction\n",
    "\n",
    "#### Challenges\n",
    "- Cold Start Problem (new users/items)\n",
    "- Data Sparsity\n",
    "- Scalability\n",
    "- Privacy Concerns\n",
    "- Filter Bubbles\n",
    "\n",
    "#### Applications\n",
    "- E-commerce Product Suggestions\n",
    "- Movie/TV Show Recommendations\n",
    "- Music Playlists\n"
   ]
  },
  {
   "cell_type": "markdown",
   "metadata": {},
   "source": [
    "\n",
    "<svg aria-roledescription=\"flowchart-v2\" role=\"graphics-document document\" viewBox=\"0 0 1029.578125 949\" style=\"max-width: 1029.578125px;\" class=\"flowchart\" xmlns=\"http://www.w3.org/2000/svg\" width=\"100%\" id=\"export-svg\"><style xmlns=\"http://www.w3.org/1999/xhtml\">@import url(\"https://cdnjs.cloudflare.com/ajax/libs/font-awesome/6.2.0/css/all.min.css\"); p {margin: 0;}</style><style>#export-svg{font-family:\"trebuchet ms\",verdana,arial,sans-serif;font-size:14px;fill:#333;}#export-svg .error-icon{fill:#ffffff;}#export-svg .error-text{fill:#000000;stroke:#000000;}#export-svg .edge-thickness-normal{stroke-width:1px;}#export-svg .edge-thickness-thick{stroke-width:3.5px;}#export-svg .edge-pattern-solid{stroke-dasharray:0;}#export-svg .edge-thickness-invisible{stroke-width:0;fill:none;}#export-svg .edge-pattern-dashed{stroke-dasharray:3;}#export-svg .edge-pattern-dotted{stroke-dasharray:2;}#export-svg .marker{fill:#000000;stroke:#000000;}#export-svg .marker.cross{stroke:#000000;}#export-svg svg{font-family:\"trebuchet ms\",verdana,arial,sans-serif;font-size:14px;}#export-svg p{margin:0;}#export-svg .label{font-family:\"trebuchet ms\",verdana,arial,sans-serif;color:#333;}#export-svg .cluster-label text{fill:#000000;}#export-svg .cluster-label span{color:#000000;}#export-svg .cluster-label span p{background-color:transparent;}#export-svg .label text,#export-svg span{fill:#333;color:#333;}#export-svg .node rect,#export-svg .node circle,#export-svg .node ellipse,#export-svg .node polygon,#export-svg .node path{fill:#ffffff;stroke:#000000;stroke-width:1px;}#export-svg .rough-node .label text,#export-svg .node .label text,#export-svg .image-shape .label,#export-svg .icon-shape .label{text-anchor:middle;}#export-svg .node .katex path{fill:#000;stroke:#000;stroke-width:1px;}#export-svg .rough-node .label,#export-svg .node .label,#export-svg .image-shape .label,#export-svg .icon-shape .label{text-align:center;}#export-svg .node.clickable{cursor:pointer;}#export-svg .root .anchor path{fill:#000000!important;stroke-width:0;stroke:#000000;}#export-svg .arrowheadPath{fill:#000000;}#export-svg .edgePath .path{stroke:#000000;stroke-width:2.0px;}#export-svg .flowchart-link{stroke:#000000;fill:none;}#export-svg .edgeLabel{background-color:hsl(-120, 0%, 80%);text-align:center;}#export-svg .edgeLabel p{background-color:hsl(-120, 0%, 80%);}#export-svg .edgeLabel rect{opacity:0.5;background-color:hsl(-120, 0%, 80%);fill:hsl(-120, 0%, 80%);}#export-svg .labelBkg{background-color:rgba(204, 204, 204, 0.5);}#export-svg .cluster rect{fill:#ffffff;stroke:hsl(0, 0%, 90%);stroke-width:1px;}#export-svg .cluster text{fill:#000000;}#export-svg .cluster span{color:#000000;}#export-svg div.mermaidTooltip{position:absolute;text-align:center;max-width:200px;padding:2px;font-family:\"trebuchet ms\",verdana,arial,sans-serif;font-size:12px;background:#ffffff;border:1px solid hsl(0, 0%, 90%);border-radius:2px;pointer-events:none;z-index:100;}#export-svg .flowchartTitleText{text-anchor:middle;font-size:18px;fill:#333;}#export-svg rect.text{fill:none;stroke-width:0;}#export-svg .icon-shape,#export-svg .image-shape{background-color:hsl(-120, 0%, 80%);text-align:center;}#export-svg .icon-shape p,#export-svg .image-shape p{background-color:hsl(-120, 0%, 80%);padding:2px;}#export-svg .icon-shape rect,#export-svg .image-shape rect{opacity:0.5;background-color:hsl(-120, 0%, 80%);fill:hsl(-120, 0%, 80%);}#export-svg .node .neo-node{stroke:#000000;}#export-svg [data-look=\"neo\"].node rect,#export-svg [data-look=\"neo\"].cluster rect,#export-svg [data-look=\"neo\"].node polygon{stroke:url(#export-svg-gradient);filter:drop-shadow( 0px 1px 2px rgba(0, 0, 0, 0.25));}#export-svg [data-look=\"neo\"].node rect,#export-svg [data-look=\"neo\"].node polygon,#export-svg [data-look=\"neo\"].node path{stroke:url(#export-svg-gradient);filter:drop-shadow( 0px 1px 2px rgba(0, 0, 0, 0.25));}#export-svg [data-look=\"neo\"].node .neo-line path{stroke:hsl(0, 0%, 70%);filter:none;}#export-svg [data-look=\"neo\"].node circle{stroke:url(#export-svg-gradient);filter:drop-shadow( 0px 1px 2px rgba(0, 0, 0, 0.25));}#export-svg [data-look=\"neo\"].node circle .state-start{fill:#000000;}#export-svg [data-look=\"neo\"].statediagram-cluster rect{fill:#ffffff;stroke:url(#export-svg-gradient);stroke-width:1px;}#export-svg [data-look=\"neo\"].icon-shape .icon{fill:url(#export-svg-gradient);filter:drop-shadow( 0px 1px 2px rgba(0, 0, 0, 0.25));}#export-svg [data-look=\"neo\"].icon-shape .icon-neo path{stroke:url(#export-svg-gradient);filter:drop-shadow( 0px 1px 2px rgba(0, 0, 0, 0.25));}#export-svg :root{--mermaid-font-family:\"trebuchet ms\",verdana,arial,sans-serif;}</style><g><marker orient=\"auto\" markerHeight=\"8\" markerWidth=\"8\" markerUnits=\"userSpaceOnUse\" refY=\"5\" refX=\"5\" viewBox=\"0 0 10 10\" class=\"marker flowchart-v2\" id=\"export-svg_flowchart-v2-pointEnd\"><path style=\"stroke-width: 1; stroke-dasharray: 1, 0;\" class=\"arrowMarkerPath\" d=\"M 0 0 L 10 5 L 0 10 z\"/></marker><marker orient=\"auto\" markerHeight=\"8\" markerWidth=\"8\" markerUnits=\"userSpaceOnUse\" refY=\"5\" refX=\"4.5\" viewBox=\"0 0 10 10\" class=\"marker flowchart-v2\" id=\"export-svg_flowchart-v2-pointStart\"><path style=\"stroke-width: 1; stroke-dasharray: 1, 0;\" class=\"arrowMarkerPath\" d=\"M 0 5 L 10 10 L 10 0 z\"/></marker><marker orient=\"auto\" markerHeight=\"11\" markerWidth=\"11\" markerUnits=\"userSpaceOnUse\" refY=\"5\" refX=\"11\" viewBox=\"0 0 10 10\" class=\"marker flowchart-v2\" id=\"export-svg_flowchart-v2-circleEnd\"><circle style=\"stroke-width: 1; stroke-dasharray: 1, 0;\" class=\"arrowMarkerPath\" r=\"5\" cy=\"5\" cx=\"5\"/></marker><marker orient=\"auto\" markerHeight=\"11\" markerWidth=\"11\" markerUnits=\"userSpaceOnUse\" refY=\"5\" refX=\"-1\" viewBox=\"0 0 10 10\" class=\"marker flowchart-v2\" id=\"export-svg_flowchart-v2-circleStart\"><circle style=\"stroke-width: 1; stroke-dasharray: 1, 0;\" class=\"arrowMarkerPath\" r=\"5\" cy=\"5\" cx=\"5\"/></marker><marker orient=\"auto\" markerHeight=\"11\" markerWidth=\"11\" markerUnits=\"userSpaceOnUse\" refY=\"5.2\" refX=\"12\" viewBox=\"0 0 11 11\" class=\"marker cross flowchart-v2\" id=\"export-svg_flowchart-v2-crossEnd\"><path style=\"stroke-width: 2; stroke-dasharray: 1, 0;\" class=\"arrowMarkerPath\" d=\"M 1,1 l 9,9 M 10,1 l -9,9\"/></marker><marker orient=\"auto\" markerHeight=\"11\" markerWidth=\"11\" markerUnits=\"userSpaceOnUse\" refY=\"5.2\" refX=\"-1\" viewBox=\"0 0 11 11\" class=\"marker cross flowchart-v2\" id=\"export-svg_flowchart-v2-crossStart\"><path style=\"stroke-width: 2; stroke-dasharray: 1, 0;\" class=\"arrowMarkerPath\" d=\"M 1,1 l 9,9 M 10,1 l -9,9\"/></marker><g class=\"root\"><g class=\"clusters\"/><g class=\"edgePaths\"><path marker-end=\"url(#export-svg_flowchart-v2-pointEnd)\" data-points=\"W3sieCI6NTI4LjU3MDMxMjUsInkiOjM0OC41fSx7IngiOjI1Ny43MTg3NSwieSI6NjYzfSx7IngiOjI1Ny43MTg3NSwieSI6Njg4fV0=\" data-id=\"L_A_B_0\" data-et=\"edge\" data-edge=\"true\" style=\"\" class=\"edge-thickness-normal edge-pattern-solid edge-thickness-normal edge-pattern-solid flowchart-link\" id=\"L_A_B_0\" d=\"M528.5703125,348.5L261.7972973023943,658.2641841355336Q257.71875,663 257.71875,669.25L257.71875,675.5L257.71875,684\"/><path marker-end=\"url(#export-svg_flowchart-v2-pointEnd)\" data-points=\"W3sieCI6NTU4LjMxODM1OTM3NSwieSI6MzQ4LjV9LHsieCI6NjU0LjM1OTM3NSwieSI6NjYzfSx7IngiOjY1NC4zNTkzNzUsInkiOjY4OH1d\" data-id=\"L_A_C_1\" data-et=\"edge\" data-edge=\"true\" style=\"\" class=\"edge-thickness-normal edge-pattern-solid edge-thickness-normal edge-pattern-solid flowchart-link\" id=\"L_A_C_1\" d=\"M558.318359375,348.5L652.5339862365464,657.0225042147855Q654.359375,663 654.359375,669.25L654.359375,675.5L654.359375,684\"/><path marker-end=\"url(#export-svg_flowchart-v2-pointEnd)\" data-points=\"W3sieCI6NTc3LjEzMTY0MDYyNSwieSI6MzQ4LjV9LHsieCI6OTA1LjIwMzEyNSwieSI6NjYzfSx7IngiOjkwNS4yMDMxMjUsInkiOjY4OH1d\" data-id=\"L_A_D_2\" data-et=\"edge\" data-edge=\"true\" style=\"\" class=\"edge-thickness-normal edge-pattern-solid edge-thickness-normal edge-pattern-solid flowchart-link\" id=\"L_A_D_2\" d=\"M577.131640625,348.5L900.6913731326506,658.6748878526137Q905.203125,663 905.203125,669.25L905.203125,675.5L905.203125,684\"/><path marker-end=\"url(#export-svg_flowchart-v2-pointEnd)\" data-points=\"W3sieCI6MTY1LjQzNTEwMjEwMzk2MDQsInkiOjczOX0seyJ4Ijo3NC45NjA5Mzc1LCJ5Ijo3NjR9LHsieCI6NzQuOTYwOTM3NSwieSI6Nzg5fV0=\" data-id=\"L_B_B1_3\" data-et=\"edge\" data-edge=\"true\" style=\"\" class=\"edge-thickness-normal edge-pattern-solid edge-thickness-normal edge-pattern-solid flowchart-link\" id=\"L_B_B1_3\" d=\"M165.4351021039604,739L80.98518056150148,762.3353692493675Q74.9609375,764 74.9609375,770.25L74.9609375,776.5L74.9609375,785\"/><path marker-end=\"url(#export-svg_flowchart-v2-pointEnd)\" data-points=\"W3sieCI6MjU3LjcxODc1LCJ5Ijo3Mzl9LHsieCI6MjU3LjcxODc1LCJ5Ijo3NjR9LHsieCI6MjU3LjcxODc1LCJ5Ijo3ODl9XQ==\" data-id=\"L_B_B2_4\" data-et=\"edge\" data-edge=\"true\" style=\"\" class=\"edge-thickness-normal edge-pattern-solid edge-thickness-normal edge-pattern-solid flowchart-link\" id=\"L_B_B2_4\" d=\"M257.71875,739L257.71875,764L257.71875,776.5L257.71875,785\"/><path marker-end=\"url(#export-svg_flowchart-v2-pointEnd)\" data-points=\"W3sieCI6NTUwLjgyMDMxMjUsInkiOjczOC42Nzk3MDI3ODQwNDgxfSx7IngiOjQ0Ni43MDMxMjUsInkiOjc2NH0seyJ4Ijo0NDYuNzAzMTI1LCJ5Ijo3ODl9XQ==\" data-id=\"L_C_C1_5\" data-et=\"edge\" data-edge=\"true\" style=\"\" class=\"edge-thickness-normal edge-pattern-solid edge-thickness-normal edge-pattern-solid flowchart-link\" id=\"L_C_C1_5\" d=\"M550.8203125,738.6797027840481L452.77612125605845,762.5231058013859Q446.703125,764 446.703125,770.25L446.703125,776.5L446.703125,785\"/><path marker-end=\"url(#export-svg_flowchart-v2-pointEnd)\" data-points=\"W3sieCI6NjU0LjM1OTM3NSwieSI6NzM5fSx7IngiOjY1NC4zNTkzNzUsInkiOjc2NH0seyJ4Ijo2NTQuMzU5Mzc1LCJ5Ijo3ODl9XQ==\" data-id=\"L_C_C2_6\" data-et=\"edge\" data-edge=\"true\" style=\"\" class=\"edge-thickness-normal edge-pattern-solid edge-thickness-normal edge-pattern-solid flowchart-link\" id=\"L_C_C2_6\" d=\"M654.359375,739L654.359375,764L654.359375,776.5L654.359375,785\"/><path marker-end=\"url(#export-svg_flowchart-v2-pointEnd)\" data-points=\"W3sieCI6OTA1LjIwMzEyNSwieSI6NzM5fSx7IngiOjkwNS4yMDMxMjUsInkiOjc2NH0seyJ4Ijo5MDUuMjAzMTI1LCJ5Ijo3ODl9XQ==\" data-id=\"L_D_D1_7\" data-et=\"edge\" data-edge=\"true\" style=\"\" class=\"edge-thickness-normal edge-pattern-solid edge-thickness-normal edge-pattern-solid flowchart-link\" id=\"L_D_D1_7\" d=\"M905.203125,739L905.203125,764L905.203125,776.5L905.203125,785\"/><path marker-end=\"url(#export-svg_flowchart-v2-pointEnd)\" data-points=\"W3sieCI6NzQuOTYwOTM3NSwieSI6ODQwfSx7IngiOjc0Ljk2MDkzNzUsInkiOjg2NX0seyJ4Ijo1MjcuNzQyMTg3NSwieSI6OTA3LjI1MzU2OTUyMDgzOTZ9XQ==\" data-id=\"L_B1_E_8\" data-et=\"edge\" data-edge=\"true\" style=\"\" class=\"edge-thickness-normal edge-pattern-solid edge-thickness-normal edge-pattern-solid flowchart-link\" id=\"L_B1_E_8\" d=\"M74.9609375,840L74.9609375,857.5756005376381Q74.9609375,865 82.35321841092095,865.6898480345358L301.3515625,886.1267847604198L523.7594918229173,906.8819041555623\"/><path marker-end=\"url(#export-svg_flowchart-v2-pointEnd)\" data-points=\"W3sieCI6MjU3LjcxODc1LCJ5Ijo4NDB9LHsieCI6MjU3LjcxODc1LCJ5Ijo4NjV9LHsieCI6NTI3Ljc0MjE4NzUsInkiOjkwMy4wNDgzODI1MjYwNDk2fV0=\" data-id=\"L_B2_E_9\" data-et=\"edge\" data-edge=\"true\" style=\"\" class=\"edge-thickness-normal edge-pattern-solid edge-thickness-normal edge-pattern-solid flowchart-link\" id=\"L_B2_E_9\" d=\"M257.71875,840L257.71875,857.3771571278588Q257.71875,865 265.2670257494541,866.0636102028267L392.73046875,884.0241912630248L523.7813157485749,902.4902651828659\"/><path marker-end=\"url(#export-svg_flowchart-v2-pointEnd)\" data-points=\"W3sieCI6NDQ2LjcwMzEyNSwieSI6ODQwfSx7IngiOjQ0Ni43MDMxMjUsInkiOjg2NX0seyJ4Ijo1MzAuNTY3NjA1MTk4MDE5OCwieSI6ODkwfV0=\" data-id=\"L_C1_E_10\" data-et=\"edge\" data-edge=\"true\" style=\"\" class=\"edge-thickness-normal edge-pattern-solid edge-thickness-normal edge-pattern-solid flowchart-link\" id=\"L_C1_E_10\" d=\"M446.703125,840L446.703125,856.6336183528517Q446.703125,865 454.72084586026585,867.3900824405441L488.6353650990099,877.5L526.7343012927414,888.8572921765486\"/><path marker-end=\"url(#export-svg_flowchart-v2-pointEnd)\" data-points=\"W3sieCI6NjU0LjM1OTM3NSwieSI6ODQwfSx7IngiOjY1NC4zNTkzNzUsInkiOjg2NX0seyJ4Ijo2MzUuNDIzNzMxNDM1NjQzNiwieSI6ODkwfV0=\" data-id=\"L_C2_E_11\" data-et=\"edge\" data-edge=\"true\" style=\"\" class=\"edge-thickness-normal edge-pattern-solid edge-thickness-normal edge-pattern-solid flowchart-link\" id=\"L_C2_E_11\" d=\"M654.359375,840L654.359375,857.1595655525493Q654.359375,865 649.6254641089109,871.25L644.8915532178219,877.5L637.8388582620038,886.8114011834983\"/><path marker-end=\"url(#export-svg_flowchart-v2-pointEnd)\" data-points=\"W3sieCI6OTA1LjIwMzEyNSwieSI6ODQwfSx7IngiOjkwNS4yMDMxMjUsInkiOjg2NX0seyJ4Ijo3MDQuNDc2NTYyNSwieSI6OTAwLjA2MzY4MjMwNDYxNTd9XQ==\" data-id=\"L_D1_E_12\" data-et=\"edge\" data-edge=\"true\" style=\"\" class=\"edge-thickness-normal edge-pattern-solid edge-thickness-normal edge-pattern-solid flowchart-link\" id=\"L_D1_E_12\" d=\"M905.203125,840L905.203125,857.2287600215099Q905.203125,865 897.5478062176431,866.3372603126461L804.83984375,882.5318411523078L708.416895730499,899.3753698518552\"/></g><g class=\"edgeLabels\"><g class=\"edgeLabel\"><g transform=\"translate(0, 0)\" data-id=\"L_A_B_0\" class=\"label\"><foreignObject height=\"0\" width=\"0\"><div class=\"labelBkg\" xmlns=\"http://www.w3.org/1999/xhtml\" style=\"display: table-cell; white-space: normal; line-height: 1.5; max-width: 200px; text-align: center;\"><span class=\"edgeLabel\"></span></div></foreignObject></g></g><g class=\"edgeLabel\"><g transform=\"translate(0, 0)\" data-id=\"L_A_C_1\" class=\"label\"><foreignObject height=\"0\" width=\"0\"><div class=\"labelBkg\" xmlns=\"http://www.w3.org/1999/xhtml\" style=\"display: table-cell; white-space: normal; line-height: 1.5; max-width: 200px; text-align: center;\"><span class=\"edgeLabel\"></span></div></foreignObject></g></g><g class=\"edgeLabel\"><g transform=\"translate(0, 0)\" data-id=\"L_A_D_2\" class=\"label\"><foreignObject height=\"0\" width=\"0\"><div class=\"labelBkg\" xmlns=\"http://www.w3.org/1999/xhtml\" style=\"display: table-cell; white-space: normal; line-height: 1.5; max-width: 200px; text-align: center;\"><span class=\"edgeLabel\"></span></div></foreignObject></g></g><g class=\"edgeLabel\"><g transform=\"translate(0, 0)\" data-id=\"L_B_B1_3\" class=\"label\"><foreignObject height=\"0\" width=\"0\"><div class=\"labelBkg\" xmlns=\"http://www.w3.org/1999/xhtml\" style=\"display: table-cell; white-space: normal; line-height: 1.5; max-width: 200px; text-align: center;\"><span class=\"edgeLabel\"></span></div></foreignObject></g></g><g class=\"edgeLabel\"><g transform=\"translate(0, 0)\" data-id=\"L_B_B2_4\" class=\"label\"><foreignObject height=\"0\" width=\"0\"><div class=\"labelBkg\" xmlns=\"http://www.w3.org/1999/xhtml\" style=\"display: table-cell; white-space: normal; line-height: 1.5; max-width: 200px; text-align: center;\"><span class=\"edgeLabel\"></span></div></foreignObject></g></g><g class=\"edgeLabel\"><g transform=\"translate(0, 0)\" data-id=\"L_C_C1_5\" class=\"label\"><foreignObject height=\"0\" width=\"0\"><div class=\"labelBkg\" xmlns=\"http://www.w3.org/1999/xhtml\" style=\"display: table-cell; white-space: normal; line-height: 1.5; max-width: 200px; text-align: center;\"><span class=\"edgeLabel\"></span></div></foreignObject></g></g><g class=\"edgeLabel\"><g transform=\"translate(0, 0)\" data-id=\"L_C_C2_6\" class=\"label\"><foreignObject height=\"0\" width=\"0\"><div class=\"labelBkg\" xmlns=\"http://www.w3.org/1999/xhtml\" style=\"display: table-cell; white-space: normal; line-height: 1.5; max-width: 200px; text-align: center;\"><span class=\"edgeLabel\"></span></div></foreignObject></g></g><g class=\"edgeLabel\"><g transform=\"translate(0, 0)\" data-id=\"L_D_D1_7\" class=\"label\"><foreignObject height=\"0\" width=\"0\"><div class=\"labelBkg\" xmlns=\"http://www.w3.org/1999/xhtml\" style=\"display: table-cell; white-space: normal; line-height: 1.5; max-width: 200px; text-align: center;\"><span class=\"edgeLabel\"></span></div></foreignObject></g></g><g class=\"edgeLabel\"><g transform=\"translate(0, 0)\" data-id=\"L_B1_E_8\" class=\"label\"><foreignObject height=\"0\" width=\"0\"><div class=\"labelBkg\" xmlns=\"http://www.w3.org/1999/xhtml\" style=\"display: table-cell; white-space: normal; line-height: 1.5; max-width: 200px; text-align: center;\"><span class=\"edgeLabel\"></span></div></foreignObject></g></g><g class=\"edgeLabel\"><g transform=\"translate(0, 0)\" data-id=\"L_B2_E_9\" class=\"label\"><foreignObject height=\"0\" width=\"0\"><div class=\"labelBkg\" xmlns=\"http://www.w3.org/1999/xhtml\" style=\"display: table-cell; white-space: normal; line-height: 1.5; max-width: 200px; text-align: center;\"><span class=\"edgeLabel\"></span></div></foreignObject></g></g><g class=\"edgeLabel\"><g transform=\"translate(0, 0)\" data-id=\"L_C1_E_10\" class=\"label\"><foreignObject height=\"0\" width=\"0\"><div class=\"labelBkg\" xmlns=\"http://www.w3.org/1999/xhtml\" style=\"display: table-cell; white-space: normal; line-height: 1.5; max-width: 200px; text-align: center;\"><span class=\"edgeLabel\"></span></div></foreignObject></g></g><g class=\"edgeLabel\"><g transform=\"translate(0, 0)\" data-id=\"L_C2_E_11\" class=\"label\"><foreignObject height=\"0\" width=\"0\"><div class=\"labelBkg\" xmlns=\"http://www.w3.org/1999/xhtml\" style=\"display: table-cell; white-space: normal; line-height: 1.5; max-width: 200px; text-align: center;\"><span class=\"edgeLabel\"></span></div></foreignObject></g></g><g class=\"edgeLabel\"><g transform=\"translate(0, 0)\" data-id=\"L_D1_E_12\" class=\"label\"><foreignObject height=\"0\" width=\"0\"><div class=\"labelBkg\" xmlns=\"http://www.w3.org/1999/xhtml\" style=\"display: table-cell; white-space: normal; line-height: 1.5; max-width: 200px; text-align: center;\"><span class=\"edgeLabel\"></span></div></foreignObject></g></g></g><g class=\"nodes\"><g transform=\"translate(16.1015625, 0)\" class=\"root\"><g class=\"clusters\"><g data-look=\"neo\" data-et=\"cluster\" data-id=\"Process\" id=\"Process\" class=\"cluster\"><rect height=\"630\" width=\"375.234375\" y=\"8\" x=\"8\" style=\"\"/><g transform=\"translate(170.328125, 8)\" class=\"cluster-label\"><foreignObject height=\"21\" width=\"50.578125\"><div xmlns=\"http://www.w3.org/1999/xhtml\" style=\"display: table-cell; white-space: normal; line-height: 1.5; max-width: 200px; text-align: center;\"><span class=\"nodeLabel\"><p>Process</p></span></div></foreignObject></g></g></g><g class=\"edgePaths\"><path marker-end=\"url(#export-svg_flowchart-v2-pointEnd)\" data-points=\"W3sieCI6MjA4LjQ4MjE0Mjg1NzE0Mjg2LCJ5Ijo5Ni41fSx7IngiOjE2Mi41LCJ5IjoxMzR9LHsieCI6MTYyLjUsInkiOjE3MS41fV0=\" data-id=\"L_F_G_13\" data-et=\"edge\" data-edge=\"true\" style=\"\" class=\"edge-thickness-normal edge-pattern-solid edge-thickness-normal edge-pattern-solid flowchart-link\" id=\"L_F_G_13\" d=\"M208.48214285714286,96.5L169.76526868767843,128.07492650713604Q162.5,134 162.5,143.375L162.5,152.75L162.5,167.5\"/><path marker-end=\"url(#export-svg_flowchart-v2-pointEnd)\" data-points=\"W3sieCI6MTYyLjUsInkiOjIyMi41fSx7IngiOjE2Mi41LCJ5IjoyNjB9LHsieCI6MTYyLjUsInkiOjI5Ny41fV0=\" data-id=\"L_G_H_14\" data-et=\"edge\" data-edge=\"true\" style=\"\" class=\"edge-thickness-normal edge-pattern-solid edge-thickness-normal edge-pattern-solid flowchart-link\" id=\"L_G_H_14\" d=\"M162.5,222.5L162.5,260L162.5,278.75L162.5,293.5\"/><path marker-end=\"url(#export-svg_flowchart-v2-pointEnd)\" data-points=\"W3sieCI6MTYyLjUsInkiOjM0OC41fSx7IngiOjE2Mi41LCJ5IjozODZ9LHsieCI6MTYyLjUsInkiOjQyMy41fV0=\" data-id=\"L_H_I_15\" data-et=\"edge\" data-edge=\"true\" style=\"\" class=\"edge-thickness-normal edge-pattern-solid edge-thickness-normal edge-pattern-solid flowchart-link\" id=\"L_H_I_15\" d=\"M162.5,348.5L162.5,386L162.5,404.75L162.5,419.5\"/><path marker-end=\"url(#export-svg_flowchart-v2-pointEnd)\" data-points=\"W3sieCI6MTYyLjUsInkiOjQ3NC41fSx7IngiOjE2Mi41LCJ5Ijo1MTJ9LHsieCI6MjA4LjQ4MjE0Mjg1NzE0Mjg2LCJ5Ijo1NDkuNX1d\" data-id=\"L_I_J_16\" data-et=\"edge\" data-edge=\"true\" style=\"\" class=\"edge-thickness-normal edge-pattern-solid edge-thickness-normal edge-pattern-solid flowchart-link\" id=\"L_I_J_16\" d=\"M162.5,474.5L162.5,500.34356574202513Q162.5,512 171.53329352794103,519.366957828612L185.49107142857144,530.75L205.3822948837334,546.9719686430448\"/><path marker-end=\"url(#export-svg_flowchart-v2-pointEnd)\" data-points=\"W3sieCI6MjcxLjAxNzg1NzE0Mjg1NzE3LCJ5Ijo1NDkuNX0seyJ4IjozMTcsInkiOjUxMn0seyJ4IjozMTcsInkiOjQ0OX0seyJ4IjozMTcsInkiOjM4Nn0seyJ4IjozMTcsInkiOjMyM30seyJ4IjozMTcsInkiOjI2MH0seyJ4IjozMTcsInkiOjE5N30seyJ4IjozMTcsInkiOjEzNH0seyJ4IjoyNzEuMDE3ODU3MTQyODU3MTcsInkiOjk2LjV9XQ==\" data-id=\"L_J_F_17\" data-et=\"edge\" data-edge=\"true\" style=\"\" class=\"edge-thickness-normal edge-pattern-solid edge-thickness-normal edge-pattern-solid flowchart-link\" id=\"L_J_F_17\" d=\"M271.01785714285717,549.5L307.966706472059,519.3669578286122Q317,512 317,500.34356574202513L317,449L317,386L317,323L317,260L317,197L317,145.65643425797487Q317,134 307.966706472059,126.63304217138791L294.00892857142856,115.25L274.1177051162666,99.0280313569553\"/></g><g class=\"edgeLabels\"><g class=\"edgeLabel\"><g transform=\"translate(0, 0)\" data-id=\"L_F_G_13\" class=\"label\"><foreignObject height=\"0\" width=\"0\"><div class=\"labelBkg\" xmlns=\"http://www.w3.org/1999/xhtml\" style=\"display: table-cell; white-space: normal; line-height: 1.5; max-width: 200px; text-align: center;\"><span class=\"edgeLabel\"></span></div></foreignObject></g></g><g class=\"edgeLabel\"><g transform=\"translate(0, 0)\" data-id=\"L_G_H_14\" class=\"label\"><foreignObject height=\"0\" width=\"0\"><div class=\"labelBkg\" xmlns=\"http://www.w3.org/1999/xhtml\" style=\"display: table-cell; white-space: normal; line-height: 1.5; max-width: 200px; text-align: center;\"><span class=\"edgeLabel\"></span></div></foreignObject></g></g><g class=\"edgeLabel\"><g transform=\"translate(0, 0)\" data-id=\"L_H_I_15\" class=\"label\"><foreignObject height=\"0\" width=\"0\"><div class=\"labelBkg\" xmlns=\"http://www.w3.org/1999/xhtml\" style=\"display: table-cell; white-space: normal; line-height: 1.5; max-width: 200px; text-align: center;\"><span class=\"edgeLabel\"></span></div></foreignObject></g></g><g class=\"edgeLabel\"><g transform=\"translate(0, 0)\" data-id=\"L_I_J_16\" class=\"label\"><foreignObject height=\"0\" width=\"0\"><div class=\"labelBkg\" xmlns=\"http://www.w3.org/1999/xhtml\" style=\"display: table-cell; white-space: normal; line-height: 1.5; max-width: 200px; text-align: center;\"><span class=\"edgeLabel\"></span></div></foreignObject></g></g><g class=\"edgeLabel\"><g transform=\"translate(0, 0)\" data-id=\"L_J_F_17\" class=\"label\"><foreignObject height=\"0\" width=\"0\"><div class=\"labelBkg\" xmlns=\"http://www.w3.org/1999/xhtml\" style=\"display: table-cell; white-space: normal; line-height: 1.5; max-width: 200px; text-align: center;\"><span class=\"edgeLabel\"></span></div></foreignObject></g></g></g><g class=\"nodes\"><g transform=\"translate(239.75, 71)\" data-look=\"neo\" data-et=\"node\" data-node=\"true\" data-id=\"F\" id=\"flowchart-F-1156\" class=\"node default\"><rect stroke=\"url(#gradient)\" height=\"51\" width=\"154.9375\" y=\"-25.5\" x=\"-77.46875\" data-id=\"F\" style=\"\" class=\"basic label-container\"/><g transform=\"translate(-47.46875, -10.5)\" style=\"\" class=\"label\"><rect/><foreignObject height=\"21\" width=\"94.9375\"><div xmlns=\"http://www.w3.org/1999/xhtml\" style=\"display: table-cell; white-space: normal; line-height: 1.5; max-width: 200px; text-align: center;\"><span class=\"nodeLabel\"><p>Data Collection</p></span></div></foreignObject></g></g><g transform=\"translate(162.5, 197)\" data-look=\"neo\" data-et=\"node\" data-node=\"true\" data-id=\"G\" id=\"flowchart-G-1157\" class=\"node default\"><rect stroke=\"url(#gradient)\" height=\"51\" width=\"162.71875\" y=\"-25.5\" x=\"-81.359375\" data-id=\"G\" style=\"\" class=\"basic label-container\"/><g transform=\"translate(-51.359375, -10.5)\" style=\"\" class=\"label\"><rect/><foreignObject height=\"21\" width=\"102.71875\"><div xmlns=\"http://www.w3.org/1999/xhtml\" style=\"display: table-cell; white-space: normal; line-height: 1.5; max-width: 200px; text-align: center;\"><span class=\"nodeLabel\"><p>Data Processing</p></span></div></foreignObject></g></g><g transform=\"translate(162.5, 323)\" data-look=\"neo\" data-et=\"node\" data-node=\"true\" data-id=\"H\" id=\"flowchart-H-1159\" class=\"node default\"><rect stroke=\"url(#gradient)\" height=\"51\" width=\"151.828125\" y=\"-25.5\" x=\"-75.9140625\" data-id=\"H\" style=\"\" class=\"basic label-container\"/><g transform=\"translate(-45.9140625, -10.5)\" style=\"\" class=\"label\"><rect/><foreignObject height=\"21\" width=\"91.828125\"><div xmlns=\"http://www.w3.org/1999/xhtml\" style=\"display: table-cell; white-space: normal; line-height: 1.5; max-width: 200px; text-align: center;\"><span class=\"nodeLabel\"><p>Model Training</p></span></div></foreignObject></g></g><g transform=\"translate(162.5, 449)\" data-look=\"neo\" data-et=\"node\" data-node=\"true\" data-id=\"I\" id=\"flowchart-I-1161\" class=\"node default\"><rect stroke=\"url(#gradient)\" height=\"51\" width=\"239\" y=\"-25.5\" x=\"-119.5\" data-id=\"I\" style=\"\" class=\"basic label-container\"/><g transform=\"translate(-89.5, -10.5)\" style=\"\" class=\"label\"><rect/><foreignObject height=\"21\" width=\"179\"><div xmlns=\"http://www.w3.org/1999/xhtml\" style=\"display: table-cell; white-space: normal; line-height: 1.5; max-width: 200px; text-align: center;\"><span class=\"nodeLabel\"><p>Generate Recommendations</p></span></div></foreignObject></g></g><g transform=\"translate(239.75, 575)\" data-look=\"neo\" data-et=\"node\" data-node=\"true\" data-id=\"J\" id=\"flowchart-J-1163\" class=\"node default\"><rect stroke=\"url(#gradient)\" height=\"51\" width=\"154.9375\" y=\"-25.5\" x=\"-77.46875\" data-id=\"J\" style=\"\" class=\"basic label-container\"/><g transform=\"translate(-47.46875, -10.5)\" style=\"\" class=\"label\"><rect/><foreignObject height=\"21\" width=\"94.9375\"><div xmlns=\"http://www.w3.org/1999/xhtml\" style=\"display: table-cell; white-space: normal; line-height: 1.5; max-width: 200px; text-align: center;\"><span class=\"nodeLabel\"><p>User Feedback</p></span></div></foreignObject></g></g></g></g><g transform=\"translate(550.53125, 323)\" data-look=\"neo\" data-et=\"node\" data-node=\"true\" data-id=\"A\" id=\"flowchart-A-1130\" class=\"node default\"><rect stroke=\"url(#gradient)\" height=\"51\" width=\"202.390625\" y=\"-25.5\" x=\"-101.1953125\" data-id=\"A\" style=\"\" class=\"basic label-container\"/><g transform=\"translate(-71.1953125, -10.5)\" style=\"\" class=\"label\"><rect/><foreignObject height=\"21\" width=\"142.390625\"><div xmlns=\"http://www.w3.org/1999/xhtml\" style=\"display: table-cell; white-space: normal; line-height: 1.5; max-width: 200px; text-align: center;\"><span class=\"nodeLabel\"><p>Recommender System</p></span></div></foreignObject></g></g><g transform=\"translate(257.71875, 713.5)\" data-look=\"neo\" data-et=\"node\" data-node=\"true\" data-id=\"B\" id=\"flowchart-B-1131\" class=\"node default\"><rect stroke=\"url(#gradient)\" height=\"51\" width=\"195.40625\" y=\"-25.5\" x=\"-97.703125\" data-id=\"B\" style=\"\" class=\"basic label-container\"/><g transform=\"translate(-67.703125, -10.5)\" style=\"\" class=\"label\"><rect/><foreignObject height=\"21\" width=\"135.40625\"><div xmlns=\"http://www.w3.org/1999/xhtml\" style=\"display: table-cell; white-space: normal; line-height: 1.5; max-width: 200px; text-align: center;\"><span class=\"nodeLabel\"><p>Collaborative Filtering</p></span></div></foreignObject></g></g><g transform=\"translate(654.359375, 713.5)\" data-look=\"neo\" data-et=\"node\" data-node=\"true\" data-id=\"C\" id=\"flowchart-C-1133\" class=\"node default\"><rect stroke=\"url(#gradient)\" height=\"51\" width=\"207.078125\" y=\"-25.5\" x=\"-103.5390625\" data-id=\"C\" style=\"\" class=\"basic label-container\"/><g transform=\"translate(-73.5390625, -10.5)\" style=\"\" class=\"label\"><rect/><foreignObject height=\"21\" width=\"147.078125\"><div xmlns=\"http://www.w3.org/1999/xhtml\" style=\"display: table-cell; white-space: normal; line-height: 1.5; max-width: 200px; text-align: center;\"><span class=\"nodeLabel\"><p>Content-Based Filtering</p></span></div></foreignObject></g></g><g transform=\"translate(905.203125, 713.5)\" data-look=\"neo\" data-et=\"node\" data-node=\"true\" data-id=\"D\" id=\"flowchart-D-1135\" class=\"node default\"><rect stroke=\"url(#gradient)\" height=\"51\" width=\"158.03125\" y=\"-25.5\" x=\"-79.015625\" data-id=\"D\" style=\"\" class=\"basic label-container\"/><g transform=\"translate(-49.015625, -10.5)\" style=\"\" class=\"label\"><rect/><foreignObject height=\"21\" width=\"98.03125\"><div xmlns=\"http://www.w3.org/1999/xhtml\" style=\"display: table-cell; white-space: normal; line-height: 1.5; max-width: 200px; text-align: center;\"><span class=\"nodeLabel\"><p>Hybrid Systems</p></span></div></foreignObject></g></g><g transform=\"translate(74.9609375, 814.5)\" data-look=\"neo\" data-et=\"node\" data-node=\"true\" data-id=\"B1\" id=\"flowchart-B1-1137\" class=\"node default\"><rect stroke=\"url(#gradient)\" height=\"51\" width=\"133.921875\" y=\"-25.5\" x=\"-66.9609375\" data-id=\"B1\" style=\"\" class=\"basic label-container\"/><g transform=\"translate(-36.9609375, -10.5)\" style=\"\" class=\"label\"><rect/><foreignObject height=\"21\" width=\"73.921875\"><div xmlns=\"http://www.w3.org/1999/xhtml\" style=\"display: table-cell; white-space: normal; line-height: 1.5; max-width: 200px; text-align: center;\"><span class=\"nodeLabel\"><p>User-Based</p></span></div></foreignObject></g></g><g transform=\"translate(257.71875, 814.5)\" data-look=\"neo\" data-et=\"node\" data-node=\"true\" data-id=\"B2\" id=\"flowchart-B2-1139\" class=\"node default\"><rect stroke=\"url(#gradient)\" height=\"51\" width=\"131.59375\" y=\"-25.5\" x=\"-65.796875\" data-id=\"B2\" style=\"\" class=\"basic label-container\"/><g transform=\"translate(-35.796875, -10.5)\" style=\"\" class=\"label\"><rect/><foreignObject height=\"21\" width=\"71.59375\"><div xmlns=\"http://www.w3.org/1999/xhtml\" style=\"display: table-cell; white-space: normal; line-height: 1.5; max-width: 200px; text-align: center;\"><span class=\"nodeLabel\"><p>Item-Based</p></span></div></foreignObject></g></g><g transform=\"translate(446.703125, 814.5)\" data-look=\"neo\" data-et=\"node\" data-node=\"true\" data-id=\"C1\" id=\"flowchart-C1-1141\" class=\"node default\"><rect stroke=\"url(#gradient)\" height=\"51\" width=\"146.375\" y=\"-25.5\" x=\"-73.1875\" data-id=\"C1\" style=\"\" class=\"basic label-container\"/><g transform=\"translate(-43.1875, -10.5)\" style=\"\" class=\"label\"><rect/><foreignObject height=\"21\" width=\"86.375\"><div xmlns=\"http://www.w3.org/1999/xhtml\" style=\"display: table-cell; white-space: normal; line-height: 1.5; max-width: 200px; text-align: center;\"><span class=\"nodeLabel\"><p>Item Features</p></span></div></foreignObject></g></g><g transform=\"translate(654.359375, 814.5)\" data-look=\"neo\" data-et=\"node\" data-node=\"true\" data-id=\"C2\" id=\"flowchart-C2-1143\" class=\"node default\"><rect stroke=\"url(#gradient)\" height=\"51\" width=\"168.9375\" y=\"-25.5\" x=\"-84.46875\" data-id=\"C2\" style=\"\" class=\"basic label-container\"/><g transform=\"translate(-54.46875, -10.5)\" style=\"\" class=\"label\"><rect/><foreignObject height=\"21\" width=\"108.9375\"><div xmlns=\"http://www.w3.org/1999/xhtml\" style=\"display: table-cell; white-space: normal; line-height: 1.5; max-width: 200px; text-align: center;\"><span class=\"nodeLabel\"><p>User Preferences</p></span></div></foreignObject></g></g><g transform=\"translate(905.203125, 814.5)\" data-look=\"neo\" data-et=\"node\" data-node=\"true\" data-id=\"D1\" id=\"flowchart-D1-1145\" class=\"node default\"><rect stroke=\"url(#gradient)\" height=\"51\" width=\"232.75\" y=\"-25.5\" x=\"-116.375\" data-id=\"D1\" style=\"\" class=\"basic label-container\"/><g transform=\"translate(-86.375, -10.5)\" style=\"\" class=\"label\"><rect/><foreignObject height=\"21\" width=\"172.75\"><div xmlns=\"http://www.w3.org/1999/xhtml\" style=\"display: table-cell; white-space: normal; line-height: 1.5; max-width: 200px; text-align: center;\"><span class=\"nodeLabel\"><p>Combines Multiple Methods</p></span></div></foreignObject></g></g><g transform=\"translate(616.109375, 915.5)\" data-look=\"neo\" data-et=\"node\" data-node=\"true\" data-id=\"E\" id=\"flowchart-E-1147\" class=\"node default\"><rect stroke=\"url(#gradient)\" height=\"51\" width=\"176.734375\" y=\"-25.5\" x=\"-88.3671875\" data-id=\"E\" style=\"\" class=\"basic label-container\"/><g transform=\"translate(-58.3671875, -10.5)\" style=\"\" class=\"label\"><rect/><foreignObject height=\"21\" width=\"116.734375\"><div xmlns=\"http://www.w3.org/1999/xhtml\" style=\"display: table-cell; white-space: normal; line-height: 1.5; max-width: 200px; text-align: center;\"><span class=\"nodeLabel\"><p>Recommendations</p></span></div></foreignObject></g></g></g></g></g><linearGradient y2=\"0%\" x2=\"100%\" y1=\"0%\" x1=\"0%\" gradientUnits=\"objectBoundingBox\" id=\"export-svg-gradient\"><stop stop-opacity=\"1\" stop-color=\"#0042eb\" offset=\"0%\"/><stop stop-opacity=\"1\" stop-color=\"#eb0042\" offset=\"100%\"/></linearGradient></svg>\n",
    "\n"
   ]
  },
  {
   "cell_type": "markdown",
   "metadata": {},
   "source": [
    "### Sparse matrix\n",
    "- It is a matrix in which most of the elements are zero. \n",
    "- Saves memory by not storing zero values.\n",
    "- Increases efficiency in matrix operations.\n",
    " \n"
   ]
  },
  {
   "cell_type": "markdown",
   "metadata": {},
   "source": [
    "### Similarity Measures\n",
    "\n",
    "#### Karl Pearson's Correlation Coefficient\n",
    "\n",
    "##### Overview\n",
    "- Measures linear correlation between two variables\n",
    "- Range: -1 to +1\n",
    "    - +1 means perfect positive correlation\n",
    "    - -1 means perfect negative correlation\n",
    "    - 0 means no linear correlation\n",
    "\n",
    "##### Formula\n",
    "$$r = \\frac{\\sum_{i=1}^{n} (x_i - \\bar{x})(y_i - \\bar{y})}{\\sqrt{\\sum_{i=1}^{n} (x_i - \\bar{x})^2} \\sqrt{\\sum_{i=1}^{n} (y_i - \\bar{y})^2}}$$\n",
    "\n",
    "\n",
    "#### Cosine Similarity\n",
    "\n",
    "##### Overview\n",
    "- Measures angle between two vectors\n",
    "- Range: -1 to +1 (for normalized vectors)\n",
    "    - +1 means same direction\n",
    "    - -1 means opposite direction\n",
    "    - 0 means orthogonal (90° angle)\n",
    "\n",
    "##### Formula\n",
    "$$cos(\\theta) = \\frac{A \\cdot B}{\\|A\\| \\|B\\|} = \\frac{\\sum_{i=1}^{n} A_i B_i}{\\sqrt{\\sum_{i=1}^{n} A_i^2} \\sqrt{\\sum_{i=1}^{n} B_i^2}}$$\n",
    "\n",
    "\n"
   ]
  },
  {
   "cell_type": "markdown",
   "metadata": {},
   "source": [
    "<svg aria-roledescription=\"flowchart-v2\" role=\"graphics-document document\" viewBox=\"0 0 2553.21875 420\" style=\"max-width: 2553.21875px;\" class=\"flowchart\" xmlns=\"http://www.w3.org/2000/svg\" width=\"100%\" id=\"export-svg\"><style xmlns=\"http://www.w3.org/1999/xhtml\">@import url(\"https://cdnjs.cloudflare.com/ajax/libs/font-awesome/6.2.0/css/all.min.css\"); p {margin: 0;}</style><style>#export-svg{font-family:\"trebuchet ms\",verdana,arial,sans-serif;font-size:14px;fill:#333;}#export-svg .error-icon{fill:#ffffff;}#export-svg .error-text{fill:#000000;stroke:#000000;}#export-svg .edge-thickness-normal{stroke-width:1px;}#export-svg .edge-thickness-thick{stroke-width:3.5px;}#export-svg .edge-pattern-solid{stroke-dasharray:0;}#export-svg .edge-thickness-invisible{stroke-width:0;fill:none;}#export-svg .edge-pattern-dashed{stroke-dasharray:3;}#export-svg .edge-pattern-dotted{stroke-dasharray:2;}#export-svg .marker{fill:#000000;stroke:#000000;}#export-svg .marker.cross{stroke:#000000;}#export-svg svg{font-family:\"trebuchet ms\",verdana,arial,sans-serif;font-size:14px;}#export-svg p{margin:0;}#export-svg .label{font-family:\"trebuchet ms\",verdana,arial,sans-serif;color:#333;}#export-svg .cluster-label text{fill:#000000;}#export-svg .cluster-label span{color:#000000;}#export-svg .cluster-label span p{background-color:transparent;}#export-svg .label text,#export-svg span{fill:#333;color:#333;}#export-svg .node rect,#export-svg .node circle,#export-svg .node ellipse,#export-svg .node polygon,#export-svg .node path{fill:#ffffff;stroke:#000000;stroke-width:1px;}#export-svg .rough-node .label text,#export-svg .node .label text,#export-svg .image-shape .label,#export-svg .icon-shape .label{text-anchor:middle;}#export-svg .node .katex path{fill:#000;stroke:#000;stroke-width:1px;}#export-svg .rough-node .label,#export-svg .node .label,#export-svg .image-shape .label,#export-svg .icon-shape .label{text-align:center;}#export-svg .node.clickable{cursor:pointer;}#export-svg .root .anchor path{fill:#000000!important;stroke-width:0;stroke:#000000;}#export-svg .arrowheadPath{fill:#000000;}#export-svg .edgePath .path{stroke:#000000;stroke-width:2.0px;}#export-svg .flowchart-link{stroke:#000000;fill:none;}#export-svg .edgeLabel{background-color:hsl(-120, 0%, 80%);text-align:center;}#export-svg .edgeLabel p{background-color:hsl(-120, 0%, 80%);}#export-svg .edgeLabel rect{opacity:0.5;background-color:hsl(-120, 0%, 80%);fill:hsl(-120, 0%, 80%);}#export-svg .labelBkg{background-color:rgba(204, 204, 204, 0.5);}#export-svg .cluster rect{fill:#ffffff;stroke:hsl(0, 0%, 90%);stroke-width:1px;}#export-svg .cluster text{fill:#000000;}#export-svg .cluster span{color:#000000;}#export-svg div.mermaidTooltip{position:absolute;text-align:center;max-width:200px;padding:2px;font-family:\"trebuchet ms\",verdana,arial,sans-serif;font-size:12px;background:#ffffff;border:1px solid hsl(0, 0%, 90%);border-radius:2px;pointer-events:none;z-index:100;}#export-svg .flowchartTitleText{text-anchor:middle;font-size:18px;fill:#333;}#export-svg rect.text{fill:none;stroke-width:0;}#export-svg .icon-shape,#export-svg .image-shape{background-color:hsl(-120, 0%, 80%);text-align:center;}#export-svg .icon-shape p,#export-svg .image-shape p{background-color:hsl(-120, 0%, 80%);padding:2px;}#export-svg .icon-shape rect,#export-svg .image-shape rect{opacity:0.5;background-color:hsl(-120, 0%, 80%);fill:hsl(-120, 0%, 80%);}#export-svg .node .neo-node{stroke:#000000;}#export-svg [data-look=\"neo\"].node rect,#export-svg [data-look=\"neo\"].cluster rect,#export-svg [data-look=\"neo\"].node polygon{stroke:url(#export-svg-gradient);filter:drop-shadow( 0px 1px 2px rgba(0, 0, 0, 0.25));}#export-svg [data-look=\"neo\"].node rect,#export-svg [data-look=\"neo\"].node polygon,#export-svg [data-look=\"neo\"].node path{stroke:url(#export-svg-gradient);filter:drop-shadow( 0px 1px 2px rgba(0, 0, 0, 0.25));}#export-svg [data-look=\"neo\"].node .neo-line path{stroke:hsl(0, 0%, 70%);filter:none;}#export-svg [data-look=\"neo\"].node circle{stroke:url(#export-svg-gradient);filter:drop-shadow( 0px 1px 2px rgba(0, 0, 0, 0.25));}#export-svg [data-look=\"neo\"].node circle .state-start{fill:#000000;}#export-svg [data-look=\"neo\"].statediagram-cluster rect{fill:#ffffff;stroke:url(#export-svg-gradient);stroke-width:1px;}#export-svg [data-look=\"neo\"].icon-shape .icon{fill:url(#export-svg-gradient);filter:drop-shadow( 0px 1px 2px rgba(0, 0, 0, 0.25));}#export-svg [data-look=\"neo\"].icon-shape .icon-neo path{stroke:url(#export-svg-gradient);filter:drop-shadow( 0px 1px 2px rgba(0, 0, 0, 0.25));}#export-svg :root{--mermaid-font-family:\"trebuchet ms\",verdana,arial,sans-serif;}</style><g><marker orient=\"auto\" markerHeight=\"8\" markerWidth=\"8\" markerUnits=\"userSpaceOnUse\" refY=\"5\" refX=\"5\" viewBox=\"0 0 10 10\" class=\"marker flowchart-v2\" id=\"export-svg_flowchart-v2-pointEnd\"><path style=\"stroke-width: 1; stroke-dasharray: 1, 0;\" class=\"arrowMarkerPath\" d=\"M 0 0 L 10 5 L 0 10 z\"/></marker><marker orient=\"auto\" markerHeight=\"8\" markerWidth=\"8\" markerUnits=\"userSpaceOnUse\" refY=\"5\" refX=\"4.5\" viewBox=\"0 0 10 10\" class=\"marker flowchart-v2\" id=\"export-svg_flowchart-v2-pointStart\"><path style=\"stroke-width: 1; stroke-dasharray: 1, 0;\" class=\"arrowMarkerPath\" d=\"M 0 5 L 10 10 L 10 0 z\"/></marker><marker orient=\"auto\" markerHeight=\"11\" markerWidth=\"11\" markerUnits=\"userSpaceOnUse\" refY=\"5\" refX=\"11\" viewBox=\"0 0 10 10\" class=\"marker flowchart-v2\" id=\"export-svg_flowchart-v2-circleEnd\"><circle style=\"stroke-width: 1; stroke-dasharray: 1, 0;\" class=\"arrowMarkerPath\" r=\"5\" cy=\"5\" cx=\"5\"/></marker><marker orient=\"auto\" markerHeight=\"11\" markerWidth=\"11\" markerUnits=\"userSpaceOnUse\" refY=\"5\" refX=\"-1\" viewBox=\"0 0 10 10\" class=\"marker flowchart-v2\" id=\"export-svg_flowchart-v2-circleStart\"><circle style=\"stroke-width: 1; stroke-dasharray: 1, 0;\" class=\"arrowMarkerPath\" r=\"5\" cy=\"5\" cx=\"5\"/></marker><marker orient=\"auto\" markerHeight=\"11\" markerWidth=\"11\" markerUnits=\"userSpaceOnUse\" refY=\"5.2\" refX=\"12\" viewBox=\"0 0 11 11\" class=\"marker cross flowchart-v2\" id=\"export-svg_flowchart-v2-crossEnd\"><path style=\"stroke-width: 2; stroke-dasharray: 1, 0;\" class=\"arrowMarkerPath\" d=\"M 1,1 l 9,9 M 10,1 l -9,9\"/></marker><marker orient=\"auto\" markerHeight=\"11\" markerWidth=\"11\" markerUnits=\"userSpaceOnUse\" refY=\"5.2\" refX=\"-1\" viewBox=\"0 0 11 11\" class=\"marker cross flowchart-v2\" id=\"export-svg_flowchart-v2-crossStart\"><path style=\"stroke-width: 2; stroke-dasharray: 1, 0;\" class=\"arrowMarkerPath\" d=\"M 1,1 l 9,9 M 10,1 l -9,9\"/></marker><g class=\"root\"><g class=\"clusters\"><g data-look=\"neo\" data-et=\"cluster\" data-id=\"Cosine\" id=\"Cosine\" class=\"cluster\"><rect height=\"404\" width=\"872.2734375\" y=\"8\" x=\"8\" style=\"\"/><g transform=\"translate(422.33984375, 8)\" class=\"cluster-label\"><foreignObject height=\"21\" width=\"43.59375\"><div xmlns=\"http://www.w3.org/1999/xhtml\" style=\"display: table-cell; white-space: normal; line-height: 1.5; max-width: 200px; text-align: center;\"><span class=\"nodeLabel\"><p>Cosine</p></span></div></foreignObject></g></g><g data-look=\"neo\" data-et=\"cluster\" data-id=\"Pearson\" id=\"Pearson\" class=\"cluster\"><rect height=\"404\" width=\"906.8984375\" y=\"8\" x=\"1638.3203125\" style=\"\"/><g transform=\"translate(2065.69140625, 8)\" class=\"cluster-label\"><foreignObject height=\"21\" width=\"52.15625\"><div xmlns=\"http://www.w3.org/1999/xhtml\" style=\"display: table-cell; white-space: normal; line-height: 1.5; max-width: 200px; text-align: center;\"><span class=\"nodeLabel\"><p>Pearson</p></span></div></foreignObject></g></g></g><g class=\"edgePaths\"><path marker-end=\"url(#export-svg_flowchart-v2-pointEnd)\" data-points=\"W3sieCI6MTc2NS41NzgxMjUsInkiOjg0fSx7IngiOjE3NjUuNTc4MTI1LCJ5IjoxMDl9LHsieCI6MTc2NS41NzgxMjUsInkiOjEzNH1d\" data-id=\"L_P_P1_0\" data-et=\"edge\" data-edge=\"true\" style=\"\" class=\"edge-thickness-normal edge-pattern-solid edge-thickness-normal edge-pattern-solid flowchart-link\" id=\"L_P_P1_0\" d=\"M1765.578125,84L1765.578125,109L1765.578125,121.5L1765.578125,130\"/><path marker-end=\"url(#export-svg_flowchart-v2-pointEnd)\" data-points=\"W3sieCI6MTc2NS41NzgxMjUsInkiOjE4NX0seyJ4IjoxNzY1LjU3ODEyNSwieSI6MjEwfSx7IngiOjE3NjUuNTc4MTI1LCJ5IjoyMzV9XQ==\" data-id=\"L_P1_P2_1\" data-et=\"edge\" data-edge=\"true\" style=\"\" class=\"edge-thickness-normal edge-pattern-solid edge-thickness-normal edge-pattern-solid flowchart-link\" id=\"L_P1_P2_1\" d=\"M1765.578125,185L1765.578125,210L1765.578125,222.5L1765.578125,231\"/><path marker-end=\"url(#export-svg_flowchart-v2-pointEnd)\" data-points=\"W3sieCI6MTc2NS41NzgxMjUsInkiOjI4Nn0seyJ4IjoxNzY1LjU3ODEyNSwieSI6MzExfSx7IngiOjE3NjUuNTc4MTI1LCJ5IjozMzZ9XQ==\" data-id=\"L_P2_P3_2\" data-et=\"edge\" data-edge=\"true\" style=\"\" class=\"edge-thickness-normal edge-pattern-solid edge-thickness-normal edge-pattern-solid flowchart-link\" id=\"L_P2_P3_2\" d=\"M1765.578125,286L1765.578125,311L1765.578125,323.5L1765.578125,332\"/><path marker-end=\"url(#export-svg_flowchart-v2-pointEnd)\" data-points=\"W3sieCI6MTg1Ny44MzU5Mzc1LCJ5Ijo2OS4xMjUwOTEzMTA3NzczNX0seyJ4IjoyMjA0LjA3MDMxMjUsInkiOjEwOX0seyJ4IjoyMjA0LjA3MDMxMjUsInkiOjEzNH1d\" data-id=\"L_P_PU_3\" data-et=\"edge\" data-edge=\"true\" style=\"\" class=\"edge-thickness-normal edge-pattern-solid edge-thickness-normal edge-pattern-solid flowchart-link\" id=\"L_P_PU_3\" d=\"M1857.8359375,69.12509131077735L2197.861353212677,108.28493037516247Q2204.0703125,109 2204.0703125,115.25L2204.0703125,121.5L2204.0703125,130\"/><path marker-end=\"url(#export-svg_flowchart-v2-pointEnd)\" data-points=\"W3sieCI6MjEzOS44MzU5Mzc1LCJ5IjoxNzQuMDgyMTA5OTk1MDgzMjR9LHsieCI6MTk4MS42MTcxODc1LCJ5IjoyMTB9LHsieCI6MTk4MS42MTcxODc1LCJ5IjoyMzV9XQ==\" data-id=\"L_PU_PU1_4\" data-et=\"edge\" data-edge=\"true\" style=\"\" class=\"edge-thickness-normal edge-pattern-solid edge-thickness-normal edge-pattern-solid flowchart-link\" id=\"L_PU_PU1_4\" d=\"M2139.8359375,174.08210999508324L1987.7121082974859,208.61636693000816Q1981.6171875,210 1981.6171875,216.25L1981.6171875,222.5L1981.6171875,231\"/><path marker-end=\"url(#export-svg_flowchart-v2-pointEnd)\" data-points=\"W3sieCI6MjIwNC4wNzAzMTI1LCJ5IjoxODV9LHsieCI6MjIwNC4wNzAzMTI1LCJ5IjoyMTB9LHsieCI6MjIwNC4wNzAzMTI1LCJ5IjoyMzV9XQ==\" data-id=\"L_PU_PU2_5\" data-et=\"edge\" data-edge=\"true\" style=\"\" class=\"edge-thickness-normal edge-pattern-solid edge-thickness-normal edge-pattern-solid flowchart-link\" id=\"L_PU_PU2_5\" d=\"M2204.0703125,185L2204.0703125,210L2204.0703125,222.5L2204.0703125,231\"/><path marker-end=\"url(#export-svg_flowchart-v2-pointEnd)\" data-points=\"W3sieCI6MjI2OC4zMDQ2ODc1LCJ5IjoxNzQuMjEwNzUyODc4NjUzNjZ9LHsieCI6MjQyNC41NzgxMjUsInkiOjIxMH0seyJ4IjoyNDI0LjU3ODEyNSwieSI6MjM1fV0=\" data-id=\"L_PU_PU3_6\" data-et=\"edge\" data-edge=\"true\" style=\"\" class=\"edge-thickness-normal edge-pattern-solid edge-thickness-normal edge-pattern-solid flowchart-link\" id=\"L_PU_PU3_6\" d=\"M2268.3046875,174.21075287865366L2418.4858493138695,208.6047663406502Q2424.578125,210 2424.578125,216.25L2424.578125,222.5L2424.578125,231\"/><path marker-end=\"url(#export-svg_flowchart-v2-pointEnd)\" data-points=\"W3sieCI6NDU4LjkzNzUsInkiOjY4LjY3MTAxOTEwMjE3ODQ1fSx7IngiOjEzMy4zMDQ2ODc1LCJ5IjoxMDl9LHsieCI6MTMzLjMwNDY4NzUsInkiOjEzNH1d\" data-id=\"L_C_C1_7\" data-et=\"edge\" data-edge=\"true\" style=\"\" class=\"edge-thickness-normal edge-pattern-solid edge-thickness-normal edge-pattern-solid flowchart-link\" id=\"L_C_C1_7\" d=\"M458.9375,68.67101910217845L139.5072996544198,108.23181873112928Q133.3046875,109 133.3046875,115.25L133.3046875,121.5L133.3046875,130\"/><path marker-end=\"url(#export-svg_flowchart-v2-pointEnd)\" data-points=\"W3sieCI6MTMzLjMwNDY4NzUsInkiOjE4NX0seyJ4IjoxMzMuMzA0Njg3NSwieSI6MjEwfSx7IngiOjEzMy4zMDQ2ODc1LCJ5IjoyMzV9XQ==\" data-id=\"L_C1_C2_8\" data-et=\"edge\" data-edge=\"true\" style=\"\" class=\"edge-thickness-normal edge-pattern-solid edge-thickness-normal edge-pattern-solid flowchart-link\" id=\"L_C1_C2_8\" d=\"M133.3046875,185L133.3046875,210L133.3046875,222.5L133.3046875,231\"/><path marker-end=\"url(#export-svg_flowchart-v2-pointEnd)\" data-points=\"W3sieCI6MTMzLjMwNDY4NzUsInkiOjI4Nn0seyJ4IjoxMzMuMzA0Njg3NSwieSI6MzExfSx7IngiOjEzMy4zMDQ2ODc1LCJ5IjozMzZ9XQ==\" data-id=\"L_C2_C3_9\" data-et=\"edge\" data-edge=\"true\" style=\"\" class=\"edge-thickness-normal edge-pattern-solid edge-thickness-normal edge-pattern-solid flowchart-link\" id=\"L_C2_C3_9\" d=\"M133.3046875,286L133.3046875,311L133.3046875,323.5L133.3046875,332\"/><path marker-end=\"url(#export-svg_flowchart-v2-pointEnd)\" data-points=\"W3sieCI6NTQxLjA2MjUsInkiOjg0fSx7IngiOjU0MS4wNjI1LCJ5IjoxMDl9LHsieCI6NTQxLjA2MjUsInkiOjEzNH1d\" data-id=\"L_C_CU_10\" data-et=\"edge\" data-edge=\"true\" style=\"\" class=\"edge-thickness-normal edge-pattern-solid edge-thickness-normal edge-pattern-solid flowchart-link\" id=\"L_C_CU_10\" d=\"M541.0625,84L541.0625,109L541.0625,121.5L541.0625,130\"/><path marker-end=\"url(#export-svg_flowchart-v2-pointEnd)\" data-points=\"W3sieCI6NDc2LjgyODEyNSwieSI6MTc1LjAzMjkzOTI4Mzk3NzR9LHsieCI6MzMyLjIyNjU2MjUsInkiOjIxMH0seyJ4IjozMzIuMjI2NTYyNSwieSI6MjM1fV0=\" data-id=\"L_CU_CU1_11\" data-et=\"edge\" data-edge=\"true\" style=\"\" class=\"edge-thickness-normal edge-pattern-solid edge-thickness-normal edge-pattern-solid flowchart-link\" id=\"L_CU_CU1_11\" d=\"M476.828125,175.0329392839774L338.3014698413871,208.53098645562358Q332.2265625,210 332.2265625,216.25L332.2265625,222.5L332.2265625,231\"/><path marker-end=\"url(#export-svg_flowchart-v2-pointEnd)\" data-points=\"W3sieCI6NTQxLjA2MjUsInkiOjE4NX0seyJ4Ijo1NDEuMDYyNSwieSI6MjEwfSx7IngiOjU0MS4wNjI1LCJ5IjoyMzV9XQ==\" data-id=\"L_CU_CU2_12\" data-et=\"edge\" data-edge=\"true\" style=\"\" class=\"edge-thickness-normal edge-pattern-solid edge-thickness-normal edge-pattern-solid flowchart-link\" id=\"L_CU_CU2_12\" d=\"M541.0625,185L541.0625,210L541.0625,222.5L541.0625,231\"/><path marker-end=\"url(#export-svg_flowchart-v2-pointEnd)\" data-points=\"W3sieCI6NjA1LjI5Njg3NSwieSI6MTc0LjE1ODgxNzI5OTIwNTY1fSx7IngiOjc2Mi4zNTE1NjI1LCJ5IjoyMTB9LHsieCI6NzYyLjM1MTU2MjUsInkiOjIzNX1d\" data-id=\"L_CU_CU3_13\" data-et=\"edge\" data-edge=\"true\" style=\"\" class=\"edge-thickness-normal edge-pattern-solid edge-thickness-normal edge-pattern-solid flowchart-link\" id=\"L_CU_CU3_13\" d=\"M605.296875,174.15881729920565L756.2582165506276,208.6094479005563Q762.3515625,210 762.3515625,216.25L762.3515625,222.5L762.3515625,231\"/><path marker-end=\"url(#export-svg_flowchart-v2-pointEnd)\" data-points=\"W3sieCI6MTczMy40NDg2NzcyODk2MDQsInkiOjg0fSx7IngiOjE3MDEuOTQ5MjE4NzUsInkiOjEwOX0seyJ4IjoxMjg0Ljk5MjE4NzUsInkiOjE1Mi40NDIwNTQ5MTQ4NTU0fV0=\" data-id=\"L_P_CM_14\" data-et=\"edge\" data-edge=\"true\" style=\"\" class=\"edge-thickness-normal edge-pattern-dotted edge-thickness-normal edge-pattern-solid flowchart-link\" id=\"L_P_CM_14\" d=\"M1733.448677289604,84L1715.9492958088715,97.88863673539859Q1701.94921875,109 1684.1718753774558,110.85219163882444L1493.470703125,130.72102745742768L1288.970652255049,152.02754533374218\"/><path marker-end=\"url(#export-svg_flowchart-v2-pointEnd)\" data-points=\"W3sieCI6NjIzLjE4NzUsInkiOjczLjk0NjAwNDMzNTM2NTIzfSx7IngiOjgwOS41NjY0MDYyNSwieSI6MTA5fSx7IngiOjExNDkuNTA3ODEyNSwieSI6MTUxLjEwODczNjQ3ODAwNTV9XQ==\" data-id=\"L_C_CM_15\" data-et=\"edge\" data-edge=\"true\" style=\"\" class=\"edge-thickness-normal edge-pattern-dotted edge-thickness-normal edge-pattern-solid flowchart-link\" id=\"L_C_CM_15\" d=\"M623.1875,73.94600433536523L725.4071131776701,93.1713874501494Q809.56640625,109 894.5517578125,119.52718411950138L979.537109375,130.05436823900277L1145.5381516393484,150.61701231609126\"/><path marker-end=\"url(#export-svg_flowchart-v2-pointEnd)\" data-points=\"W3sieCI6MTE0OS41MDc4MTI1LCJ5IjoxNzQuNzI4NjgxMjI2OTU5NzR9LHsieCI6OTkyLjYwOTM3NSwieSI6MjEwfSx7IngiOjk5Mi42MDkzNzUsInkiOjIzNX1d\" data-id=\"L_CM_D1_16\" data-et=\"edge\" data-edge=\"true\" style=\"\" class=\"edge-thickness-normal edge-pattern-solid edge-thickness-normal edge-pattern-solid flowchart-link\" id=\"L_CM_D1_16\" d=\"M1149.5078125,174.72868122695974L998.707192470574,208.62918925611078Q992.609375,210 992.609375,216.25L992.609375,222.5L992.609375,231\"/><path marker-end=\"url(#export-svg_flowchart-v2-pointEnd)\" data-points=\"W3sieCI6MTIxNy4yNSwieSI6MTg1fSx7IngiOjEyMTcuMjUsInkiOjIxMH0seyJ4IjoxMjE3LjI1LCJ5IjoyMzV9XQ==\" data-id=\"L_CM_D2_17\" data-et=\"edge\" data-edge=\"true\" style=\"\" class=\"edge-thickness-normal edge-pattern-solid edge-thickness-normal edge-pattern-solid flowchart-link\" id=\"L_CM_D2_17\" d=\"M1217.25,185L1217.25,210L1217.25,222.5L1217.25,231\"/><path marker-end=\"url(#export-svg_flowchart-v2-pointEnd)\" data-points=\"W3sieCI6MTI4NC45OTIxODc1LCJ5IjoxNzIuMzI3Njc0NTk1NzM0NzJ9LHsieCI6MTQ4My45Mzc1LCJ5IjoyMTB9LHsieCI6MTQ4My45Mzc1LCJ5IjoyMzV9XQ==\" data-id=\"L_CM_D3_18\" data-et=\"edge\" data-edge=\"true\" style=\"\" class=\"edge-thickness-normal edge-pattern-solid edge-thickness-normal edge-pattern-solid flowchart-link\" id=\"L_CM_D3_18\" d=\"M1284.9921875,172.32767459573472L1477.7966278676938,208.8371631865706Q1483.9375,210 1483.9375,216.25L1483.9375,222.5L1483.9375,231\"/></g><g class=\"edgeLabels\"><g class=\"edgeLabel\"><g transform=\"translate(0, 0)\" data-id=\"L_P_P1_0\" class=\"label\"><foreignObject height=\"0\" width=\"0\"><div class=\"labelBkg\" xmlns=\"http://www.w3.org/1999/xhtml\" style=\"display: table-cell; white-space: normal; line-height: 1.5; max-width: 200px; text-align: center;\"><span class=\"edgeLabel\"></span></div></foreignObject></g></g><g class=\"edgeLabel\"><g transform=\"translate(0, 0)\" data-id=\"L_P1_P2_1\" class=\"label\"><foreignObject height=\"0\" width=\"0\"><div class=\"labelBkg\" xmlns=\"http://www.w3.org/1999/xhtml\" style=\"display: table-cell; white-space: normal; line-height: 1.5; max-width: 200px; text-align: center;\"><span class=\"edgeLabel\"></span></div></foreignObject></g></g><g class=\"edgeLabel\"><g transform=\"translate(0, 0)\" data-id=\"L_P2_P3_2\" class=\"label\"><foreignObject height=\"0\" width=\"0\"><div class=\"labelBkg\" xmlns=\"http://www.w3.org/1999/xhtml\" style=\"display: table-cell; white-space: normal; line-height: 1.5; max-width: 200px; text-align: center;\"><span class=\"edgeLabel\"></span></div></foreignObject></g></g><g class=\"edgeLabel\"><g transform=\"translate(0, 0)\" data-id=\"L_P_PU_3\" class=\"label\"><foreignObject height=\"0\" width=\"0\"><div class=\"labelBkg\" xmlns=\"http://www.w3.org/1999/xhtml\" style=\"display: table-cell; white-space: normal; line-height: 1.5; max-width: 200px; text-align: center;\"><span class=\"edgeLabel\"></span></div></foreignObject></g></g><g class=\"edgeLabel\"><g transform=\"translate(0, 0)\" data-id=\"L_PU_PU1_4\" class=\"label\"><foreignObject height=\"0\" width=\"0\"><div class=\"labelBkg\" xmlns=\"http://www.w3.org/1999/xhtml\" style=\"display: table-cell; white-space: normal; line-height: 1.5; max-width: 200px; text-align: center;\"><span class=\"edgeLabel\"></span></div></foreignObject></g></g><g class=\"edgeLabel\"><g transform=\"translate(0, 0)\" data-id=\"L_PU_PU2_5\" class=\"label\"><foreignObject height=\"0\" width=\"0\"><div class=\"labelBkg\" xmlns=\"http://www.w3.org/1999/xhtml\" style=\"display: table-cell; white-space: normal; line-height: 1.5; max-width: 200px; text-align: center;\"><span class=\"edgeLabel\"></span></div></foreignObject></g></g><g class=\"edgeLabel\"><g transform=\"translate(0, 0)\" data-id=\"L_PU_PU3_6\" class=\"label\"><foreignObject height=\"0\" width=\"0\"><div class=\"labelBkg\" xmlns=\"http://www.w3.org/1999/xhtml\" style=\"display: table-cell; white-space: normal; line-height: 1.5; max-width: 200px; text-align: center;\"><span class=\"edgeLabel\"></span></div></foreignObject></g></g><g class=\"edgeLabel\"><g transform=\"translate(0, 0)\" data-id=\"L_C_C1_7\" class=\"label\"><foreignObject height=\"0\" width=\"0\"><div class=\"labelBkg\" xmlns=\"http://www.w3.org/1999/xhtml\" style=\"display: table-cell; white-space: normal; line-height: 1.5; max-width: 200px; text-align: center;\"><span class=\"edgeLabel\"></span></div></foreignObject></g></g><g class=\"edgeLabel\"><g transform=\"translate(0, 0)\" data-id=\"L_C1_C2_8\" class=\"label\"><foreignObject height=\"0\" width=\"0\"><div class=\"labelBkg\" xmlns=\"http://www.w3.org/1999/xhtml\" style=\"display: table-cell; white-space: normal; line-height: 1.5; max-width: 200px; text-align: center;\"><span class=\"edgeLabel\"></span></div></foreignObject></g></g><g class=\"edgeLabel\"><g transform=\"translate(0, 0)\" data-id=\"L_C2_C3_9\" class=\"label\"><foreignObject height=\"0\" width=\"0\"><div class=\"labelBkg\" xmlns=\"http://www.w3.org/1999/xhtml\" style=\"display: table-cell; white-space: normal; line-height: 1.5; max-width: 200px; text-align: center;\"><span class=\"edgeLabel\"></span></div></foreignObject></g></g><g class=\"edgeLabel\"><g transform=\"translate(0, 0)\" data-id=\"L_C_CU_10\" class=\"label\"><foreignObject height=\"0\" width=\"0\"><div class=\"labelBkg\" xmlns=\"http://www.w3.org/1999/xhtml\" style=\"display: table-cell; white-space: normal; line-height: 1.5; max-width: 200px; text-align: center;\"><span class=\"edgeLabel\"></span></div></foreignObject></g></g><g class=\"edgeLabel\"><g transform=\"translate(0, 0)\" data-id=\"L_CU_CU1_11\" class=\"label\"><foreignObject height=\"0\" width=\"0\"><div class=\"labelBkg\" xmlns=\"http://www.w3.org/1999/xhtml\" style=\"display: table-cell; white-space: normal; line-height: 1.5; max-width: 200px; text-align: center;\"><span class=\"edgeLabel\"></span></div></foreignObject></g></g><g class=\"edgeLabel\"><g transform=\"translate(0, 0)\" data-id=\"L_CU_CU2_12\" class=\"label\"><foreignObject height=\"0\" width=\"0\"><div class=\"labelBkg\" xmlns=\"http://www.w3.org/1999/xhtml\" style=\"display: table-cell; white-space: normal; line-height: 1.5; max-width: 200px; text-align: center;\"><span class=\"edgeLabel\"></span></div></foreignObject></g></g><g class=\"edgeLabel\"><g transform=\"translate(0, 0)\" data-id=\"L_CU_CU3_13\" class=\"label\"><foreignObject height=\"0\" width=\"0\"><div class=\"labelBkg\" xmlns=\"http://www.w3.org/1999/xhtml\" style=\"display: table-cell; white-space: normal; line-height: 1.5; max-width: 200px; text-align: center;\"><span class=\"edgeLabel\"></span></div></foreignObject></g></g><g class=\"edgeLabel\"><g transform=\"translate(0, 0)\" data-id=\"L_P_CM_14\" class=\"label\"><foreignObject height=\"0\" width=\"0\"><div class=\"labelBkg\" xmlns=\"http://www.w3.org/1999/xhtml\" style=\"display: table-cell; white-space: normal; line-height: 1.5; max-width: 200px; text-align: center;\"><span class=\"edgeLabel\"></span></div></foreignObject></g></g><g class=\"edgeLabel\"><g transform=\"translate(0, 0)\" data-id=\"L_C_CM_15\" class=\"label\"><foreignObject height=\"0\" width=\"0\"><div class=\"labelBkg\" xmlns=\"http://www.w3.org/1999/xhtml\" style=\"display: table-cell; white-space: normal; line-height: 1.5; max-width: 200px; text-align: center;\"><span class=\"edgeLabel\"></span></div></foreignObject></g></g><g class=\"edgeLabel\"><g transform=\"translate(0, 0)\" data-id=\"L_CM_D1_16\" class=\"label\"><foreignObject height=\"0\" width=\"0\"><div class=\"labelBkg\" xmlns=\"http://www.w3.org/1999/xhtml\" style=\"display: table-cell; white-space: normal; line-height: 1.5; max-width: 200px; text-align: center;\"><span class=\"edgeLabel\"></span></div></foreignObject></g></g><g class=\"edgeLabel\"><g transform=\"translate(0, 0)\" data-id=\"L_CM_D2_17\" class=\"label\"><foreignObject height=\"0\" width=\"0\"><div class=\"labelBkg\" xmlns=\"http://www.w3.org/1999/xhtml\" style=\"display: table-cell; white-space: normal; line-height: 1.5; max-width: 200px; text-align: center;\"><span class=\"edgeLabel\"></span></div></foreignObject></g></g><g class=\"edgeLabel\"><g transform=\"translate(0, 0)\" data-id=\"L_CM_D3_18\" class=\"label\"><foreignObject height=\"0\" width=\"0\"><div class=\"labelBkg\" xmlns=\"http://www.w3.org/1999/xhtml\" style=\"display: table-cell; white-space: normal; line-height: 1.5; max-width: 200px; text-align: center;\"><span class=\"edgeLabel\"></span></div></foreignObject></g></g></g><g class=\"nodes\"><g transform=\"translate(1765.578125, 58.5)\" data-look=\"neo\" data-et=\"node\" data-node=\"true\" data-id=\"P\" id=\"flowchart-P-760\" class=\"node default\"><rect stroke=\"url(#gradient)\" height=\"51\" width=\"184.515625\" y=\"-25.5\" x=\"-92.2578125\" data-id=\"P\" style=\"\" class=\"basic label-container\"/><g transform=\"translate(-62.2578125, -10.5)\" style=\"\" class=\"label\"><rect/><foreignObject height=\"21\" width=\"124.515625\"><div xmlns=\"http://www.w3.org/1999/xhtml\" style=\"display: table-cell; white-space: normal; line-height: 1.5; max-width: 200px; text-align: center;\"><span class=\"nodeLabel\"><p>Pearson Correlation</p></span></div></foreignObject></g></g><g transform=\"translate(1765.578125, 159.5)\" data-look=\"neo\" data-et=\"node\" data-node=\"true\" data-id=\"P1\" id=\"flowchart-P1-761\" class=\"node default\"><rect stroke=\"url(#gradient)\" height=\"51\" width=\"179.859375\" y=\"-25.5\" x=\"-89.9296875\" data-id=\"P1\" style=\"\" class=\"basic label-container\"/><g transform=\"translate(-59.9296875, -10.5)\" style=\"\" class=\"label\"><rect/><foreignObject height=\"21\" width=\"119.859375\"><div xmlns=\"http://www.w3.org/1999/xhtml\" style=\"display: table-cell; white-space: normal; line-height: 1.5; max-width: 200px; text-align: center;\"><span class=\"nodeLabel\"><p>Linear Relationship</p></span></div></foreignObject></g></g><g transform=\"translate(1765.578125, 260.5)\" data-look=\"neo\" data-et=\"node\" data-node=\"true\" data-id=\"P2\" id=\"flowchart-P2-763\" class=\"node default\"><rect stroke=\"url(#gradient)\" height=\"51\" width=\"156.90625\" y=\"-25.5\" x=\"-78.453125\" data-id=\"P2\" style=\"\" class=\"basic label-container\"/><g transform=\"translate(-48.453125, -10.5)\" style=\"\" class=\"label\"><rect/><foreignObject height=\"21\" width=\"96.90625\"><div xmlns=\"http://www.w3.org/1999/xhtml\" style=\"display: table-cell; white-space: normal; line-height: 1.5; max-width: 200px; text-align: center;\"><span class=\"nodeLabel\"><p>Range: -1 to +1</p></span></div></foreignObject></g></g><g transform=\"translate(1765.578125, 361.5)\" data-look=\"neo\" data-et=\"node\" data-node=\"true\" data-id=\"P3\" id=\"flowchart-P3-765\" class=\"node default\"><rect stroke=\"url(#gradient)\" height=\"51\" width=\"170.5\" y=\"-25.5\" x=\"-85.25\" data-id=\"P3\" style=\"\" class=\"basic label-container\"/><g transform=\"translate(-55.25, -10.5)\" style=\"\" class=\"label\"><rect/><foreignObject height=\"21\" width=\"110.5\"><div xmlns=\"http://www.w3.org/1999/xhtml\" style=\"display: table-cell; white-space: normal; line-height: 1.5; max-width: 200px; text-align: center;\"><span class=\"nodeLabel\"><p>Measures Pattern</p></span></div></foreignObject></g></g><g transform=\"translate(2204.0703125, 159.5)\" data-look=\"neo\" data-et=\"node\" data-node=\"true\" data-id=\"PU\" id=\"flowchart-PU-767\" class=\"node default\"><rect stroke=\"url(#gradient)\" height=\"51\" width=\"128.46875\" y=\"-25.5\" x=\"-64.234375\" data-id=\"PU\" style=\"\" class=\"basic label-container\"/><g transform=\"translate(-34.234375, -10.5)\" style=\"\" class=\"label\"><rect/><foreignObject height=\"21\" width=\"68.46875\"><div xmlns=\"http://www.w3.org/1999/xhtml\" style=\"display: table-cell; white-space: normal; line-height: 1.5; max-width: 200px; text-align: center;\"><span class=\"nodeLabel\"><p>Use Cases</p></span></div></foreignObject></g></g><g transform=\"translate(1981.6171875, 260.5)\" data-look=\"neo\" data-et=\"node\" data-node=\"true\" data-id=\"PU1\" id=\"flowchart-PU1-769\" class=\"node default\"><rect stroke=\"url(#gradient)\" height=\"51\" width=\"175.171875\" y=\"-25.5\" x=\"-87.5859375\" data-id=\"PU1\" style=\"\" class=\"basic label-container\"/><g transform=\"translate(-57.5859375, -10.5)\" style=\"\" class=\"label\"><rect/><foreignObject height=\"21\" width=\"115.171875\"><div xmlns=\"http://www.w3.org/1999/xhtml\" style=\"display: table-cell; white-space: normal; line-height: 1.5; max-width: 200px; text-align: center;\"><span class=\"nodeLabel\"><p>Statistical Analysis</p></span></div></foreignObject></g></g><g transform=\"translate(2204.0703125, 260.5)\" data-look=\"neo\" data-et=\"node\" data-node=\"true\" data-id=\"PU2\" id=\"flowchart-PU2-771\" class=\"node default\"><rect stroke=\"url(#gradient)\" height=\"51\" width=\"169.734375\" y=\"-25.5\" x=\"-84.8671875\" data-id=\"PU2\" style=\"\" class=\"basic label-container\"/><g transform=\"translate(-54.8671875, -10.5)\" style=\"\" class=\"label\"><rect/><foreignObject height=\"21\" width=\"109.734375\"><div xmlns=\"http://www.w3.org/1999/xhtml\" style=\"display: table-cell; white-space: normal; line-height: 1.5; max-width: 200px; text-align: center;\"><span class=\"nodeLabel\"><p>Feature Selection</p></span></div></foreignObject></g></g><g transform=\"translate(2424.578125, 260.5)\" data-look=\"neo\" data-et=\"node\" data-node=\"true\" data-id=\"PU3\" id=\"flowchart-PU3-773\" class=\"node default\"><rect stroke=\"url(#gradient)\" height=\"51\" width=\"171.28125\" y=\"-25.5\" x=\"-85.640625\" data-id=\"PU3\" style=\"\" class=\"basic label-container\"/><g transform=\"translate(-55.640625, -10.5)\" style=\"\" class=\"label\"><rect/><foreignObject height=\"21\" width=\"111.28125\"><div xmlns=\"http://www.w3.org/1999/xhtml\" style=\"display: table-cell; white-space: normal; line-height: 1.5; max-width: 200px; text-align: center;\"><span class=\"nodeLabel\"><p>Financial Analysis</p></span></div></foreignObject></g></g><g transform=\"translate(541.0625, 58.5)\" data-look=\"neo\" data-et=\"node\" data-node=\"true\" data-id=\"C\" id=\"flowchart-C-774\" class=\"node default\"><rect stroke=\"url(#gradient)\" height=\"51\" width=\"164.25\" y=\"-25.5\" x=\"-82.125\" data-id=\"C\" style=\"\" class=\"basic label-container\"/><g transform=\"translate(-52.125, -10.5)\" style=\"\" class=\"label\"><rect/><foreignObject height=\"21\" width=\"104.25\"><div xmlns=\"http://www.w3.org/1999/xhtml\" style=\"display: table-cell; white-space: normal; line-height: 1.5; max-width: 200px; text-align: center;\"><span class=\"nodeLabel\"><p>Cosine Similarity</p></span></div></foreignObject></g></g><g transform=\"translate(133.3046875, 159.5)\" data-look=\"neo\" data-et=\"node\" data-node=\"true\" data-id=\"C1\" id=\"flowchart-C1-775\" class=\"node default\"><rect stroke=\"url(#gradient)\" height=\"51\" width=\"168.9375\" y=\"-25.5\" x=\"-84.46875\" data-id=\"C1\" style=\"\" class=\"basic label-container\"/><g transform=\"translate(-54.46875, -10.5)\" style=\"\" class=\"label\"><rect/><foreignObject height=\"21\" width=\"108.9375\"><div xmlns=\"http://www.w3.org/1999/xhtml\" style=\"display: table-cell; white-space: normal; line-height: 1.5; max-width: 200px; text-align: center;\"><span class=\"nodeLabel\"><p>Angular Similarity</p></span></div></foreignObject></g></g><g transform=\"translate(133.3046875, 260.5)\" data-look=\"neo\" data-et=\"node\" data-node=\"true\" data-id=\"C2\" id=\"flowchart-C2-777\" class=\"node default\"><rect stroke=\"url(#gradient)\" height=\"51\" width=\"156.90625\" y=\"-25.5\" x=\"-78.453125\" data-id=\"C2\" style=\"\" class=\"basic label-container\"/><g transform=\"translate(-48.453125, -10.5)\" style=\"\" class=\"label\"><rect/><foreignObject height=\"21\" width=\"96.90625\"><div xmlns=\"http://www.w3.org/1999/xhtml\" style=\"display: table-cell; white-space: normal; line-height: 1.5; max-width: 200px; text-align: center;\"><span class=\"nodeLabel\"><p>Range: -1 to +1</p></span></div></foreignObject></g></g><g transform=\"translate(133.3046875, 361.5)\" data-look=\"neo\" data-et=\"node\" data-node=\"true\" data-id=\"C3\" id=\"flowchart-C3-779\" class=\"node default\"><rect stroke=\"url(#gradient)\" height=\"51\" width=\"180.609375\" y=\"-25.5\" x=\"-90.3046875\" data-id=\"C3\" style=\"\" class=\"basic label-container\"/><g transform=\"translate(-60.3046875, -10.5)\" style=\"\" class=\"label\"><rect/><foreignObject height=\"21\" width=\"120.609375\"><div xmlns=\"http://www.w3.org/1999/xhtml\" style=\"display: table-cell; white-space: normal; line-height: 1.5; max-width: 200px; text-align: center;\"><span class=\"nodeLabel\"><p>Measures Direction</p></span></div></foreignObject></g></g><g transform=\"translate(541.0625, 159.5)\" data-look=\"neo\" data-et=\"node\" data-node=\"true\" data-id=\"CU\" id=\"flowchart-CU-781\" class=\"node default\"><rect stroke=\"url(#gradient)\" height=\"51\" width=\"128.46875\" y=\"-25.5\" x=\"-64.234375\" data-id=\"CU\" style=\"\" class=\"basic label-container\"/><g transform=\"translate(-34.234375, -10.5)\" style=\"\" class=\"label\"><rect/><foreignObject height=\"21\" width=\"68.46875\"><div xmlns=\"http://www.w3.org/1999/xhtml\" style=\"display: table-cell; white-space: normal; line-height: 1.5; max-width: 200px; text-align: center;\"><span class=\"nodeLabel\"><p>Use Cases</p></span></div></foreignObject></g></g><g transform=\"translate(332.2265625, 260.5)\" data-look=\"neo\" data-et=\"node\" data-node=\"true\" data-id=\"CU1\" id=\"flowchart-CU1-783\" class=\"node default\"><rect stroke=\"url(#gradient)\" height=\"51\" width=\"140.9375\" y=\"-25.5\" x=\"-70.46875\" data-id=\"CU1\" style=\"\" class=\"basic label-container\"/><g transform=\"translate(-40.46875, -10.5)\" style=\"\" class=\"label\"><rect/><foreignObject height=\"21\" width=\"80.9375\"><div xmlns=\"http://www.w3.org/1999/xhtml\" style=\"display: table-cell; white-space: normal; line-height: 1.5; max-width: 200px; text-align: center;\"><span class=\"nodeLabel\"><p>Text Analysis</p></span></div></foreignObject></g></g><g transform=\"translate(541.0625, 260.5)\" data-look=\"neo\" data-et=\"node\" data-node=\"true\" data-id=\"CU2\" id=\"flowchart-CU2-785\" class=\"node default\"><rect stroke=\"url(#gradient)\" height=\"51\" width=\"176.734375\" y=\"-25.5\" x=\"-88.3671875\" data-id=\"CU2\" style=\"\" class=\"basic label-container\"/><g transform=\"translate(-58.3671875, -10.5)\" style=\"\" class=\"label\"><rect/><foreignObject height=\"21\" width=\"116.734375\"><div xmlns=\"http://www.w3.org/1999/xhtml\" style=\"display: table-cell; white-space: normal; line-height: 1.5; max-width: 200px; text-align: center;\"><span class=\"nodeLabel\"><p>Recommendations</p></span></div></foreignObject></g></g><g transform=\"translate(762.3515625, 260.5)\" data-look=\"neo\" data-et=\"node\" data-node=\"true\" data-id=\"CU3\" id=\"flowchart-CU3-787\" class=\"node default\"><rect stroke=\"url(#gradient)\" height=\"51\" width=\"165.84375\" y=\"-25.5\" x=\"-82.921875\" data-id=\"CU3\" style=\"\" class=\"basic label-container\"/><g transform=\"translate(-52.921875, -10.5)\" style=\"\" class=\"label\"><rect/><foreignObject height=\"21\" width=\"105.84375\"><div xmlns=\"http://www.w3.org/1999/xhtml\" style=\"display: table-cell; white-space: normal; line-height: 1.5; max-width: 200px; text-align: center;\"><span class=\"nodeLabel\"><p>Pattern Matching</p></span></div></foreignObject></g></g><g transform=\"translate(1217.25, 159.5)\" data-look=\"neo\" data-et=\"node\" data-node=\"true\" data-id=\"CM\" id=\"flowchart-CM-789\" class=\"node default\"><rect stroke=\"url(#gradient)\" height=\"51\" width=\"135.484375\" y=\"-25.5\" x=\"-67.7421875\" data-id=\"CM\" style=\"\" class=\"basic label-container\"/><g transform=\"translate(-37.7421875, -10.5)\" style=\"\" class=\"label\"><rect/><foreignObject height=\"21\" width=\"75.484375\"><div xmlns=\"http://www.w3.org/1999/xhtml\" style=\"display: table-cell; white-space: normal; line-height: 1.5; max-width: 200px; text-align: center;\"><span class=\"nodeLabel\"><p>Comparison</p></span></div></foreignObject></g></g><g transform=\"translate(992.609375, 260.5)\" data-look=\"neo\" data-et=\"node\" data-node=\"true\" data-id=\"D1\" id=\"flowchart-D1-793\" class=\"node default\"><rect stroke=\"url(#gradient)\" height=\"51\" width=\"154.671875\" y=\"-25.5\" x=\"-77.3359375\" data-id=\"D1\" style=\"\" class=\"basic label-container\"/><g transform=\"translate(-47.3359375, -10.5)\" style=\"\" class=\"label\"><rect/><foreignObject height=\"21\" width=\"94.671875\"><div xmlns=\"http://www.w3.org/1999/xhtml\" style=\"display: table-cell; white-space: normal; line-height: 1.5; max-width: 200px; text-align: center;\"><span class=\"nodeLabel\"><p>Different Focus</p></span></div></foreignObject></g></g><g transform=\"translate(1217.25, 260.5)\" data-look=\"neo\" data-et=\"node\" data-node=\"true\" data-id=\"D2\" id=\"flowchart-D2-795\" class=\"node default\"><rect stroke=\"url(#gradient)\" height=\"51\" width=\"194.609375\" y=\"-25.5\" x=\"-97.3046875\" data-id=\"D2\" style=\"\" class=\"basic label-container\"/><g transform=\"translate(-67.3046875, -10.5)\" style=\"\" class=\"label\"><rect/><foreignObject height=\"21\" width=\"134.609375\"><div xmlns=\"http://www.w3.org/1999/xhtml\" style=\"display: table-cell; white-space: normal; line-height: 1.5; max-width: 200px; text-align: center;\"><span class=\"nodeLabel\"><p>Complementary Uses</p></span></div></foreignObject></g></g><g transform=\"translate(1483.9375, 260.5)\" data-look=\"neo\" data-et=\"node\" data-node=\"true\" data-id=\"D3\" id=\"flowchart-D3-797\" class=\"node default\"><rect stroke=\"url(#gradient)\" height=\"51\" width=\"238.765625\" y=\"-25.5\" x=\"-119.3828125\" data-id=\"D3\" style=\"\" class=\"basic label-container\"/><g transform=\"translate(-89.3828125, -10.5)\" style=\"\" class=\"label\"><rect/><foreignObject height=\"21\" width=\"178.765625\"><div xmlns=\"http://www.w3.org/1999/xhtml\" style=\"display: table-cell; white-space: normal; line-height: 1.5; max-width: 200px; text-align: center;\"><span class=\"nodeLabel\"><p>Choose Based on Data Type</p></span></div></foreignObject></g></g></g></g></g><linearGradient y2=\"0%\" x2=\"100%\" y1=\"0%\" x1=\"0%\" gradientUnits=\"objectBoundingBox\" id=\"export-svg-gradient\"><stop stop-opacity=\"1\" stop-color=\"#0042eb\" offset=\"0%\"/><stop stop-opacity=\"1\" stop-color=\"#eb0042\" offset=\"100%\"/></linearGradient></svg>"
   ]
  },
  {
   "cell_type": "markdown",
   "metadata": {},
   "source": [
    "#### Jaccard Index\n",
    "\n",
    "##### Overview\n",
    "- Measures similarity between two sets\n",
    "- Range: 0 to 1\n",
    "    - 0 means no overlap\n",
    "    - 1 means perfect overlap\n",
    "\n",
    "##### Formula\n",
    "$$\n",
    "Jaccard Index = \\frac{\\text{Number of Overlapping Items}}{\\text{Total Number of Items}}\n",
    "$$\n",
    "\n",
    "$$\n",
    "J(A, B) = \\frac{|A \\cap B|}{|A \\cup B|}\n",
    "$$\n",
    "\n",
    "\n"
   ]
  },
  {
   "cell_type": "markdown",
   "metadata": {},
   "source": [
    "---\n",
    "$$\n",
    "\\Large\\text{Code}\n",
    "$$"
   ]
  },
  {
   "cell_type": "markdown",
   "metadata": {},
   "source": [
    "$$\n",
    "Ratings-Dataset\n",
    "$$"
   ]
  },
  {
   "cell_type": "code",
   "execution_count": 1,
   "metadata": {},
   "outputs": [],
   "source": [
    "import surprise\n",
    "import numpy as np\n",
    "import pandas as pd"
   ]
  },
  {
   "cell_type": "code",
   "execution_count": 2,
   "metadata": {},
   "outputs": [
    {
     "data": {
      "text/html": [
       "<div>\n",
       "<style scoped>\n",
       "    .dataframe tbody tr th:only-of-type {\n",
       "        vertical-align: middle;\n",
       "    }\n",
       "\n",
       "    .dataframe tbody tr th {\n",
       "        vertical-align: top;\n",
       "    }\n",
       "\n",
       "    .dataframe thead th {\n",
       "        text-align: right;\n",
       "    }\n",
       "</style>\n",
       "<table border=\"1\" class=\"dataframe\">\n",
       "  <thead>\n",
       "    <tr style=\"text-align: right;\">\n",
       "      <th></th>\n",
       "      <th>uid</th>\n",
       "      <th>iid</th>\n",
       "      <th>rating</th>\n",
       "    </tr>\n",
       "  </thead>\n",
       "  <tbody>\n",
       "    <tr>\n",
       "      <th>0</th>\n",
       "      <td>1</td>\n",
       "      <td>1</td>\n",
       "      <td>2.0</td>\n",
       "    </tr>\n",
       "    <tr>\n",
       "      <th>1</th>\n",
       "      <td>1</td>\n",
       "      <td>2</td>\n",
       "      <td>4.0</td>\n",
       "    </tr>\n",
       "    <tr>\n",
       "      <th>2</th>\n",
       "      <td>1</td>\n",
       "      <td>3</td>\n",
       "      <td>3.5</td>\n",
       "    </tr>\n",
       "    <tr>\n",
       "      <th>3</th>\n",
       "      <td>1</td>\n",
       "      <td>4</td>\n",
       "      <td>3.0</td>\n",
       "    </tr>\n",
       "    <tr>\n",
       "      <th>4</th>\n",
       "      <td>1</td>\n",
       "      <td>5</td>\n",
       "      <td>4.0</td>\n",
       "    </tr>\n",
       "  </tbody>\n",
       "</table>\n",
       "</div>"
      ],
      "text/plain": [
       "   uid  iid  rating\n",
       "0    1    1     2.0\n",
       "1    1    2     4.0\n",
       "2    1    3     3.5\n",
       "3    1    4     3.0\n",
       "4    1    5     4.0"
      ]
     },
     "execution_count": 2,
     "metadata": {},
     "output_type": "execute_result"
    }
   ],
   "source": [
    "ratings = pd.read_csv(r\"C:\\Users\\DAI.STUDENTSDC\\Desktop\\Machine Learning\\Data\\recomm_datasets\\filmtrust\\ratings.txt\",sep=' ',names = ['uid','iid','rating'])\n",
    "ratings.head()"
   ]
  },
  {
   "cell_type": "code",
   "execution_count": 3,
   "metadata": {},
   "outputs": [
    {
     "name": "stdout",
     "output_type": "stream",
     "text": [
      "Ratings range between 0.5 and 4.0\n"
     ]
    }
   ],
   "source": [
    "lowest_rating = ratings['rating'].min()\n",
    "highest_rating = ratings['rating'].max()\n",
    "print(\"Ratings range between {0} and {1}\".format(lowest_rating,highest_rating))"
   ]
  },
  {
   "cell_type": "code",
   "execution_count": 4,
   "metadata": {},
   "outputs": [
    {
     "data": {
      "text/plain": [
       "surprise.dataset.DatasetAutoFolds"
      ]
     },
     "execution_count": 4,
     "metadata": {},
     "output_type": "execute_result"
    }
   ],
   "source": [
    "reader = surprise.Reader(rating_scale = (lowest_rating,highest_rating))\n",
    "data = surprise.Dataset.load_from_df(ratings,reader)\n",
    "type(data)"
   ]
  },
  {
   "cell_type": "markdown",
   "metadata": {},
   "source": [
    "A derived class from class: `Dataset` for which folds (for\n",
    "cross-validation) are not predefined. (Or for when there are no folds at\n",
    "all)."
   ]
  },
  {
   "cell_type": "code",
   "execution_count": 6,
   "metadata": {},
   "outputs": [
    {
     "name": "stdout",
     "output_type": "stream",
     "text": [
      "Computing the cosine similarity matrix...\n",
      "Done computing similarity matrix.\n"
     ]
    }
   ],
   "source": [
    "similarity_options = {\n",
    "    'name': 'cosine', \n",
    "    'user_based': True\n",
    "}\n",
    "\n",
    "# Default k = 40\n",
    "\n",
    "algo = surprise.KNNBasic(\n",
    "    sim_options = similarity_options\n",
    ")\n",
    "\n",
    "output = algo.fit(data.build_full_trainset())"
   ]
  },
  {
   "cell_type": "markdown",
   "metadata": {},
   "source": [
    "List of User IDs"
   ]
  },
  {
   "cell_type": "code",
   "execution_count": 7,
   "metadata": {},
   "outputs": [
    {
     "data": {
      "text/plain": [
       "array([   1,    2,    3, ..., 1506, 1507, 1508], dtype=int64)"
      ]
     },
     "execution_count": 7,
     "metadata": {},
     "output_type": "execute_result"
    }
   ],
   "source": [
    "ratings['uid'].unique()"
   ]
  },
  {
   "cell_type": "markdown",
   "metadata": {},
   "source": [
    "Expected rating for user 100 for item 217:\n",
    "\n"
   ]
  },
  {
   "cell_type": "code",
   "execution_count": 8,
   "metadata": {},
   "outputs": [
    {
     "name": "stdout",
     "output_type": "stream",
     "text": [
      "3.0028030537791928\n"
     ]
    }
   ],
   "source": [
    "pred = algo.predict(\n",
    "    uid='100',\n",
    "    iid='900'\n",
    ")\n",
    "\n",
    "\n",
    "print(pred.est)"
   ]
  },
  {
   "cell_type": "code",
   "execution_count": 9,
   "metadata": {},
   "outputs": [
    {
     "data": {
      "text/plain": [
       "Prediction(uid='100', iid='900', r_ui=None, est=3.0028030537791928, details={'was_impossible': True, 'reason': 'User and/or item is unknown.'})"
      ]
     },
     "execution_count": 9,
     "metadata": {},
     "output_type": "execute_result"
    }
   ],
   "source": [
    "pred"
   ]
  },
  {
   "cell_type": "markdown",
   "metadata": {},
   "source": [
    "Total Items:\n",
    "\n"
   ]
  },
  {
   "cell_type": "code",
   "execution_count": 10,
   "metadata": {},
   "outputs": [
    {
     "name": "stdout",
     "output_type": "stream",
     "text": [
      "[   1    2    3 ... 2069 2070 2071]\n"
     ]
    }
   ],
   "source": [
    "iids = ratings['iid'].unique()\n",
    "print(iids)"
   ]
  },
  {
   "cell_type": "markdown",
   "metadata": {},
   "source": [
    "The list of items rated by user 100:\n",
    "\n"
   ]
  },
  {
   "cell_type": "code",
   "execution_count": 11,
   "metadata": {},
   "outputs": [
    {
     "name": "stdout",
     "output_type": "stream",
     "text": [
      "List of items rated by user 100: [215]\n",
      "No. of items rated by user 100: 1\n"
     ]
    }
   ],
   "source": [
    "u_iid = ratings[ratings['uid']==100]['iid'].unique()\n",
    "\n",
    "print(\"List of items rated by user 100:\", u_iid)\n",
    "print(\"No. of items rated by user {0}: {1}\".format(100, len(u_iid)))"
   ]
  },
  {
   "cell_type": "markdown",
   "metadata": {},
   "source": [
    "List of the items not rated by user 50:\n",
    "\n"
   ]
  },
  {
   "cell_type": "code",
   "execution_count": 12,
   "metadata": {},
   "outputs": [
    {
     "name": "stdout",
     "output_type": "stream",
     "text": [
      "Items not rated by 100 or those items for which the expected ratings are to be predicted: [   1    2    3 ... 2069 2070 2071]\n"
     ]
    }
   ],
   "source": [
    "iids_to_predict = np.setdiff1d(iids, u_iid)\n",
    "\n",
    "print(\"Items not rated by 100 or those items for which the expected ratings are to be predicted:\",iids_to_predict )"
   ]
  },
  {
   "cell_type": "code",
   "execution_count": 13,
   "metadata": {},
   "outputs": [
    {
     "data": {
      "text/plain": [
       "2070"
      ]
     },
     "execution_count": 13,
     "metadata": {},
     "output_type": "execute_result"
    }
   ],
   "source": [
    "len(iids_to_predict)"
   ]
  },
  {
   "cell_type": "markdown",
   "metadata": {},
   "source": [
    "Extracting the estimated rating for iids_to_predict\n",
    "\n"
   ]
  },
  {
   "cell_type": "code",
   "execution_count": 14,
   "metadata": {},
   "outputs": [
    {
     "data": {
      "text/html": [
       "<div>\n",
       "<style scoped>\n",
       "    .dataframe tbody tr th:only-of-type {\n",
       "        vertical-align: middle;\n",
       "    }\n",
       "\n",
       "    .dataframe tbody tr th {\n",
       "        vertical-align: top;\n",
       "    }\n",
       "\n",
       "    .dataframe thead th {\n",
       "        text-align: right;\n",
       "    }\n",
       "</style>\n",
       "<table border=\"1\" class=\"dataframe\">\n",
       "  <thead>\n",
       "    <tr style=\"text-align: right;\">\n",
       "      <th></th>\n",
       "      <th>iid</th>\n",
       "      <th>est_rating</th>\n",
       "    </tr>\n",
       "  </thead>\n",
       "  <tbody>\n",
       "    <tr>\n",
       "      <th>482</th>\n",
       "      <td>484</td>\n",
       "      <td>4.0</td>\n",
       "    </tr>\n",
       "    <tr>\n",
       "      <th>543</th>\n",
       "      <td>545</td>\n",
       "      <td>4.0</td>\n",
       "    </tr>\n",
       "    <tr>\n",
       "      <th>1763</th>\n",
       "      <td>1765</td>\n",
       "      <td>4.0</td>\n",
       "    </tr>\n",
       "    <tr>\n",
       "      <th>1339</th>\n",
       "      <td>1341</td>\n",
       "      <td>4.0</td>\n",
       "    </tr>\n",
       "    <tr>\n",
       "      <th>1764</th>\n",
       "      <td>1766</td>\n",
       "      <td>4.0</td>\n",
       "    </tr>\n",
       "  </tbody>\n",
       "</table>\n",
       "</div>"
      ],
      "text/plain": [
       "       iid  est_rating\n",
       "482    484         4.0\n",
       "543    545         4.0\n",
       "1763  1765         4.0\n",
       "1339  1341         4.0\n",
       "1764  1766         4.0"
      ]
     },
     "execution_count": 14,
     "metadata": {},
     "output_type": "execute_result"
    }
   ],
   "source": [
    "testset = [[100,iid,0.] for iid in iids_to_predict]\n",
    "\n",
    "predictions = algo.test(testset)\n",
    "\n",
    "exp_ratings = [\n",
    "    (predictions[i].iid,predictions[i].est) for i in range(0,len(predictions)) \n",
    "]\n",
    "\n",
    "exp_ratings = pd.DataFrame(\n",
    "    exp_ratings, \n",
    "    columns=['iid','est_rating']\n",
    ")\n",
    "\n",
    "exp_ratings.sort_values(\n",
    "    by='est_rating',\n",
    "    ascending=False\n",
    ").head()"
   ]
  },
  {
   "cell_type": "markdown",
   "metadata": {},
   "source": [
    "Tuning for best K\n",
    "\n"
   ]
  },
  {
   "cell_type": "code",
   "execution_count": 15,
   "metadata": {},
   "outputs": [],
   "source": [
    "from surprise.model_selection import GridSearchCV\n",
    "from surprise.model_selection.split import KFold"
   ]
  },
  {
   "cell_type": "markdown",
   "metadata": {},
   "source": [
    "$$\n",
    "\\text {User-Based Filtering}\n",
    "$$"
   ]
  },
  {
   "cell_type": "code",
   "execution_count": 16,
   "metadata": {},
   "outputs": [
    {
     "data": {
      "text/plain": [
       "{'k': array([30, 40, 50, 60]), 'user_based': [True]}"
      ]
     },
     "execution_count": 16,
     "metadata": {},
     "output_type": "execute_result"
    }
   ],
   "source": [
    "param_grid = {\n",
    "    'k': np.arange(30,70,10),  \n",
    "    'user_based':[True]\n",
    "}\n",
    "param_grid"
   ]
  },
  {
   "cell_type": "code",
   "execution_count": 17,
   "metadata": {},
   "outputs": [],
   "source": [
    "kfold = KFold(\n",
    "    n_splits=5, \n",
    "    random_state=23, \n",
    "    shuffle=True\n",
    ")\n",
    "\n",
    "gs = GridSearchCV(\n",
    "    surprise.KNNBasic, \n",
    "    param_grid,\n",
    "    measures=['rmse', 'mae'], \n",
    "    cv=kfold\n",
    ")"
   ]
  },
  {
   "cell_type": "code",
   "execution_count": 18,
   "metadata": {},
   "outputs": [
    {
     "name": "stdout",
     "output_type": "stream",
     "text": [
      "Computing the msd similarity matrix...\n",
      "Done computing similarity matrix.\n",
      "Computing the msd similarity matrix...\n",
      "Done computing similarity matrix.\n",
      "Computing the msd similarity matrix...\n",
      "Done computing similarity matrix.\n",
      "Computing the msd similarity matrix...\n",
      "Done computing similarity matrix.\n",
      "Computing the msd similarity matrix...\n",
      "Done computing similarity matrix.\n",
      "Computing the msd similarity matrix...\n",
      "Done computing similarity matrix.\n",
      "Computing the msd similarity matrix...\n",
      "Done computing similarity matrix.\n",
      "Computing the msd similarity matrix...\n",
      "Done computing similarity matrix.\n",
      "Computing the msd similarity matrix...\n",
      "Done computing similarity matrix.\n",
      "Computing the msd similarity matrix...\n",
      "Done computing similarity matrix.\n",
      "Computing the msd similarity matrix...\n",
      "Done computing similarity matrix.\n",
      "Computing the msd similarity matrix...\n",
      "Done computing similarity matrix.\n",
      "Computing the msd similarity matrix...\n",
      "Done computing similarity matrix.\n",
      "Computing the msd similarity matrix...\n",
      "Done computing similarity matrix.\n",
      "Computing the msd similarity matrix...\n",
      "Done computing similarity matrix.\n",
      "Computing the msd similarity matrix...\n",
      "Done computing similarity matrix.\n",
      "Computing the msd similarity matrix...\n",
      "Done computing similarity matrix.\n",
      "Computing the msd similarity matrix...\n",
      "Done computing similarity matrix.\n",
      "Computing the msd similarity matrix...\n",
      "Done computing similarity matrix.\n",
      "Computing the msd similarity matrix...\n",
      "Done computing similarity matrix.\n"
     ]
    }
   ],
   "source": [
    "gs.fit(data)"
   ]
  },
  {
   "cell_type": "code",
   "execution_count": 19,
   "metadata": {},
   "outputs": [
    {
     "name": "stdout",
     "output_type": "stream",
     "text": [
      "0.8641633357915124\n",
      "{'k': 60, 'user_based': True}\n"
     ]
    }
   ],
   "source": [
    "print(gs.best_score['rmse'])\n",
    "print(gs.best_params['rmse'])"
   ]
  },
  {
   "cell_type": "code",
   "execution_count": 20,
   "metadata": {},
   "outputs": [
    {
     "name": "stdout",
     "output_type": "stream",
     "text": [
      "Computing the msd similarity matrix...\n",
      "Done computing similarity matrix.\n"
     ]
    },
    {
     "data": {
      "text/plain": [
       "<surprise.prediction_algorithms.knns.KNNBasic at 0x2367e840970>"
      ]
     },
     "execution_count": 20,
     "metadata": {},
     "output_type": "execute_result"
    }
   ],
   "source": [
    "algo = gs.best_estimator['rmse']\n",
    "algo.fit(data.build_full_trainset())"
   ]
  },
  {
   "cell_type": "markdown",
   "metadata": {},
   "source": [
    "$$\n",
    "\\text{Item-Based Filtering}\n",
    "$$\n"
   ]
  },
  {
   "cell_type": "code",
   "execution_count": 21,
   "metadata": {},
   "outputs": [
    {
     "data": {
      "text/plain": [
       "{'k': array([30, 40, 50, 60]), 'user_based': [False]}"
      ]
     },
     "execution_count": 21,
     "metadata": {},
     "output_type": "execute_result"
    }
   ],
   "source": [
    "param_grid = {'k': np.arange(30,70,10), 'user_based':[False]}\n",
    "param_grid"
   ]
  },
  {
   "cell_type": "code",
   "execution_count": 22,
   "metadata": {},
   "outputs": [],
   "source": [
    "kfold = KFold(\n",
    "    n_splits=5, \n",
    "    random_state=23, \n",
    "    shuffle=True\n",
    ")\n",
    "\n",
    "gs = GridSearchCV(\n",
    "    surprise.KNNBasic, \n",
    "    param_grid,\n",
    "    measures=['rmse', 'mae'], \n",
    "    cv=kfold\n",
    ")"
   ]
  },
  {
   "cell_type": "code",
   "execution_count": 29,
   "metadata": {},
   "outputs": [
    {
     "name": "stdout",
     "output_type": "stream",
     "text": [
      "Computing the msd similarity matrix...\n",
      "Done computing similarity matrix.\n",
      "Computing the msd similarity matrix...\n",
      "Done computing similarity matrix.\n",
      "Computing the msd similarity matrix...\n",
      "Done computing similarity matrix.\n",
      "Computing the msd similarity matrix...\n",
      "Done computing similarity matrix.\n",
      "Computing the msd similarity matrix...\n",
      "Done computing similarity matrix.\n",
      "Computing the msd similarity matrix...\n",
      "Done computing similarity matrix.\n",
      "Computing the msd similarity matrix...\n",
      "Done computing similarity matrix.\n",
      "Computing the msd similarity matrix...\n",
      "Done computing similarity matrix.\n",
      "Computing the msd similarity matrix...\n",
      "Done computing similarity matrix.\n",
      "Computing the msd similarity matrix...\n",
      "Done computing similarity matrix.\n",
      "Computing the msd similarity matrix...\n",
      "Done computing similarity matrix.\n",
      "Computing the msd similarity matrix...\n",
      "Done computing similarity matrix.\n",
      "Computing the msd similarity matrix...\n",
      "Done computing similarity matrix.\n",
      "Computing the msd similarity matrix...\n",
      "Done computing similarity matrix.\n",
      "Computing the msd similarity matrix...\n",
      "Done computing similarity matrix.\n",
      "Computing the msd similarity matrix...\n",
      "Done computing similarity matrix.\n",
      "Computing the msd similarity matrix...\n",
      "Done computing similarity matrix.\n",
      "Computing the msd similarity matrix...\n",
      "Done computing similarity matrix.\n",
      "Computing the msd similarity matrix...\n",
      "Done computing similarity matrix.\n",
      "Computing the msd similarity matrix...\n",
      "Done computing similarity matrix.\n"
     ]
    }
   ],
   "source": [
    "# Fit GridSearchCV\n",
    "gs.fit(data)\n"
   ]
  },
  {
   "cell_type": "code",
   "execution_count": 30,
   "metadata": {},
   "outputs": [
    {
     "name": "stdout",
     "output_type": "stream",
     "text": [
      "0.8641633357915124\n"
     ]
    }
   ],
   "source": [
    "print(gs.best_score['rmse'])"
   ]
  },
  {
   "cell_type": "code",
   "execution_count": 31,
   "metadata": {},
   "outputs": [
    {
     "name": "stdout",
     "output_type": "stream",
     "text": [
      "{'k': 60, 'user_based': False}\n"
     ]
    }
   ],
   "source": [
    "print(gs.best_params['rmse'])"
   ]
  },
  {
   "cell_type": "code",
   "execution_count": 32,
   "metadata": {},
   "outputs": [
    {
     "name": "stdout",
     "output_type": "stream",
     "text": [
      "Computing the msd similarity matrix...\n",
      "Done computing similarity matrix.\n"
     ]
    },
    {
     "data": {
      "text/plain": [
       "<surprise.prediction_algorithms.knns.KNNBasic at 0x23602acea90>"
      ]
     },
     "execution_count": 32,
     "metadata": {},
     "output_type": "execute_result"
    }
   ],
   "source": [
    "algo = gs.best_estimator['rmse']\n",
    "algo.fit(data.build_full_trainset())"
   ]
  }
 ],
 "metadata": {
  "kernelspec": {
   "display_name": "surprise_env",
   "language": "python",
   "name": "python3"
  },
  "language_info": {
   "codemirror_mode": {
    "name": "ipython",
    "version": 3
   },
   "file_extension": ".py",
   "mimetype": "text/x-python",
   "name": "python",
   "nbconvert_exporter": "python",
   "pygments_lexer": "ipython3",
   "version": "3.9.20"
  }
 },
 "nbformat": 4,
 "nbformat_minor": 2
}
