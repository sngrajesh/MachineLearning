{
 "cells": [
  {
   "cell_type": "code",
   "execution_count": 9,
   "metadata": {},
   "outputs": [],
   "source": [
    "import numpy as np\n",
    "import pandas as pd\n",
    "import matplotlib.pyplot as plt\n",
    "\n",
    "from sklearn.pipeline import Pipeline  \n",
    "from sklearn.model_selection import GridSearchCV\n",
    "from sklearn.preprocessing import OneHotEncoder\n",
    "from sklearn.model_selection import StratifiedKFold\n",
    "\n",
    "\n",
    "from sklearn.svm import SVC\n",
    "from sklearn.naive_bayes import GaussianNB\n",
    "from sklearn.neighbors import KNeighborsClassifier\n",
    "from sklearn.linear_model import LogisticRegression\n",
    "from sklearn.ensemble import RandomForestClassifier\n",
    "from sklearn.tree import DecisionTreeClassifier\n",
    "\n",
    "from sklearn.ensemble import StackingClassifier\n",
    "\n",
    "from sklearn.model_selection import train_test_split, KFold\n",
    "from sklearn.metrics import accuracy_score, log_loss, roc_auc_score\n",
    "\n",
    "import warnings\n",
    "warnings.filterwarnings(\"ignore\")\n"
   ]
  },
  {
   "cell_type": "code",
   "execution_count": 10,
   "metadata": {},
   "outputs": [
    {
     "data": {
      "text/html": [
       "<div>\n",
       "<style scoped>\n",
       "    .dataframe tbody tr th:only-of-type {\n",
       "        vertical-align: middle;\n",
       "    }\n",
       "\n",
       "    .dataframe tbody tr th {\n",
       "        vertical-align: top;\n",
       "    }\n",
       "\n",
       "    .dataframe thead th {\n",
       "        text-align: right;\n",
       "    }\n",
       "</style>\n",
       "<table border=\"1\" class=\"dataframe\">\n",
       "  <thead>\n",
       "    <tr style=\"text-align: right;\">\n",
       "      <th></th>\n",
       "      <th>x.1</th>\n",
       "      <th>x.2</th>\n",
       "      <th>x.3</th>\n",
       "      <th>x.4</th>\n",
       "      <th>x.5</th>\n",
       "      <th>x.6</th>\n",
       "      <th>x.7</th>\n",
       "      <th>x.8</th>\n",
       "      <th>x.9</th>\n",
       "      <th>x.10</th>\n",
       "      <th>...</th>\n",
       "      <th>x.28</th>\n",
       "      <th>x.29</th>\n",
       "      <th>x.30</th>\n",
       "      <th>x.31</th>\n",
       "      <th>x.32</th>\n",
       "      <th>x.33</th>\n",
       "      <th>x.34</th>\n",
       "      <th>x.35</th>\n",
       "      <th>x.36</th>\n",
       "      <th>classes</th>\n",
       "    </tr>\n",
       "  </thead>\n",
       "  <tbody>\n",
       "    <tr>\n",
       "      <th>0</th>\n",
       "      <td>92</td>\n",
       "      <td>115</td>\n",
       "      <td>120</td>\n",
       "      <td>94</td>\n",
       "      <td>84</td>\n",
       "      <td>102</td>\n",
       "      <td>106</td>\n",
       "      <td>79</td>\n",
       "      <td>84</td>\n",
       "      <td>102</td>\n",
       "      <td>...</td>\n",
       "      <td>104</td>\n",
       "      <td>88</td>\n",
       "      <td>121</td>\n",
       "      <td>128</td>\n",
       "      <td>100</td>\n",
       "      <td>84</td>\n",
       "      <td>107</td>\n",
       "      <td>113</td>\n",
       "      <td>87</td>\n",
       "      <td>grey soil</td>\n",
       "    </tr>\n",
       "    <tr>\n",
       "      <th>1</th>\n",
       "      <td>84</td>\n",
       "      <td>102</td>\n",
       "      <td>106</td>\n",
       "      <td>79</td>\n",
       "      <td>84</td>\n",
       "      <td>102</td>\n",
       "      <td>102</td>\n",
       "      <td>83</td>\n",
       "      <td>80</td>\n",
       "      <td>102</td>\n",
       "      <td>...</td>\n",
       "      <td>100</td>\n",
       "      <td>84</td>\n",
       "      <td>107</td>\n",
       "      <td>113</td>\n",
       "      <td>87</td>\n",
       "      <td>84</td>\n",
       "      <td>99</td>\n",
       "      <td>104</td>\n",
       "      <td>79</td>\n",
       "      <td>grey soil</td>\n",
       "    </tr>\n",
       "    <tr>\n",
       "      <th>2</th>\n",
       "      <td>84</td>\n",
       "      <td>102</td>\n",
       "      <td>102</td>\n",
       "      <td>83</td>\n",
       "      <td>80</td>\n",
       "      <td>102</td>\n",
       "      <td>102</td>\n",
       "      <td>79</td>\n",
       "      <td>84</td>\n",
       "      <td>94</td>\n",
       "      <td>...</td>\n",
       "      <td>87</td>\n",
       "      <td>84</td>\n",
       "      <td>99</td>\n",
       "      <td>104</td>\n",
       "      <td>79</td>\n",
       "      <td>84</td>\n",
       "      <td>99</td>\n",
       "      <td>104</td>\n",
       "      <td>79</td>\n",
       "      <td>grey soil</td>\n",
       "    </tr>\n",
       "    <tr>\n",
       "      <th>3</th>\n",
       "      <td>80</td>\n",
       "      <td>102</td>\n",
       "      <td>102</td>\n",
       "      <td>79</td>\n",
       "      <td>84</td>\n",
       "      <td>94</td>\n",
       "      <td>102</td>\n",
       "      <td>79</td>\n",
       "      <td>80</td>\n",
       "      <td>94</td>\n",
       "      <td>...</td>\n",
       "      <td>79</td>\n",
       "      <td>84</td>\n",
       "      <td>99</td>\n",
       "      <td>104</td>\n",
       "      <td>79</td>\n",
       "      <td>84</td>\n",
       "      <td>103</td>\n",
       "      <td>104</td>\n",
       "      <td>79</td>\n",
       "      <td>grey soil</td>\n",
       "    </tr>\n",
       "    <tr>\n",
       "      <th>4</th>\n",
       "      <td>84</td>\n",
       "      <td>94</td>\n",
       "      <td>102</td>\n",
       "      <td>79</td>\n",
       "      <td>80</td>\n",
       "      <td>94</td>\n",
       "      <td>98</td>\n",
       "      <td>76</td>\n",
       "      <td>80</td>\n",
       "      <td>102</td>\n",
       "      <td>...</td>\n",
       "      <td>79</td>\n",
       "      <td>84</td>\n",
       "      <td>103</td>\n",
       "      <td>104</td>\n",
       "      <td>79</td>\n",
       "      <td>79</td>\n",
       "      <td>107</td>\n",
       "      <td>109</td>\n",
       "      <td>87</td>\n",
       "      <td>grey soil</td>\n",
       "    </tr>\n",
       "  </tbody>\n",
       "</table>\n",
       "<p>5 rows × 37 columns</p>\n",
       "</div>"
      ],
      "text/plain": [
       "   x.1  x.2  x.3  x.4  x.5  x.6  x.7  x.8  x.9  x.10  ...  x.28  x.29  x.30  \\\n",
       "0   92  115  120   94   84  102  106   79   84   102  ...   104    88   121   \n",
       "1   84  102  106   79   84  102  102   83   80   102  ...   100    84   107   \n",
       "2   84  102  102   83   80  102  102   79   84    94  ...    87    84    99   \n",
       "3   80  102  102   79   84   94  102   79   80    94  ...    79    84    99   \n",
       "4   84   94  102   79   80   94   98   76   80   102  ...    79    84   103   \n",
       "\n",
       "   x.31  x.32  x.33  x.34  x.35  x.36    classes  \n",
       "0   128   100    84   107   113    87  grey soil  \n",
       "1   113    87    84    99   104    79  grey soil  \n",
       "2   104    79    84    99   104    79  grey soil  \n",
       "3   104    79    84   103   104    79  grey soil  \n",
       "4   104    79    79   107   109    87  grey soil  \n",
       "\n",
       "[5 rows x 37 columns]"
      ]
     },
     "execution_count": 10,
     "metadata": {},
     "output_type": "execute_result"
    }
   ],
   "source": [
    "df = pd.read_csv(r'C:\\Users\\DAI.STUDENTSDC\\Desktop\\Machine Learning\\Data Sets\\Cases\\Satellite Imaging\\Satellite.csv', sep=';')\n",
    "df.head()"
   ]
  },
  {
   "cell_type": "code",
   "execution_count": 11,
   "metadata": {},
   "outputs": [],
   "source": [
    "X = df.drop(['classes'],axis=1)\n",
    "y = df['classes']"
   ]
  },
  {
   "cell_type": "code",
   "execution_count": 12,
   "metadata": {},
   "outputs": [],
   "source": [
    "X_train, X_test, y_train, y_test = train_test_split(X, y, test_size=0.3, random_state=24)"
   ]
  },
  {
   "cell_type": "code",
   "execution_count": 13,
   "metadata": {},
   "outputs": [],
   "source": [
    "nb = GaussianNB()\n",
    "knn = KNeighborsClassifier(n_neighbors=5) \n",
    "dtc = DecisionTreeClassifier(random_state=24)  \n",
    "svm = SVC(probability=True, random_state=24)\n",
    "lr = LogisticRegression(random_state=24)\n",
    "rf = RandomForestClassifier(random_state=24)\n",
    "\n",
    "kfold = StratifiedKFold(n_splits=5, shuffle=True, random_state=24)\n",
    "\n",
    "stack = StackingClassifier(\n",
    "    estimators=[\n",
    "        ('knn', knn),\n",
    "        ('dtc', dtc),\n",
    "        ('nb', nb),    \n",
    "        ('svm', svm), \n",
    "    ],\n",
    ")\n",
    "params = [\n",
    "    {\n",
    "        'final_estimator': [lr],\n",
    "        'passthrough': [True, False],\n",
    "        'final_estimator__C': [0.01, 0.1, 1],\n",
    "    }, \n",
    "    {\n",
    "        'final_estimator': [rf],\n",
    "        'passthrough': [True, False],\n",
    "        'final_estimator__n_estimators': [5, 10 ],   \n",
    "        'final_estimator__max_depth': [None, 5, 10],\n",
    "        'final_estimator__max_features': [None, 'auto', 'sqrt', 'log2'],\n",
    "        'final_estimator__min_samples_split': [2, 5, 10],\n",
    "    }\n",
    "]\n",
    "\n",
    "\n",
    "grid = GridSearchCV(\n",
    "    estimator=stack, \n",
    "    param_grid=params,\n",
    "    cv=kfold, \n",
    "    scoring='neg_log_loss'\n",
    ")\n"
   ]
  },
  {
   "cell_type": "code",
   "execution_count": null,
   "metadata": {},
   "outputs": [
    {
     "data": {
      "text/plain": [
       "<bound method BaseEstimator.get_params of GridSearchCV(cv=StratifiedKFold(n_splits=5, random_state=24, shuffle=True),\n",
       "             estimator=StackingClassifier(estimators=[('knn',\n",
       "                                                       KNeighborsClassifier()),\n",
       "                                                      ('dtc',\n",
       "                                                       DecisionTreeClassifier(random_state=24)),\n",
       "                                                      ('nb', GaussianNB()),\n",
       "                                                      ('svm',\n",
       "                                                       SVC(probability=True,\n",
       "                                                           random_state=24))]),\n",
       "             param_grid=[{'final_estimator': [LogisticRegression(random_state=24)],\n",
       "                          'final_estimator__C': [0.01, 0.1, 1],\n",
       "                          'passthrough': [True, False]},\n",
       "                         {'final_estimator': [RandomForestClassifier(random_state=24)],\n",
       "                          'final_estimator__max_depth': [None, 5, 10],\n",
       "                          'final_estimator__max_features': [None, 'auto',\n",
       "                                                            'sqrt', 'log2'],\n",
       "                          'final_estimator__min_samples_split': [2, 5, 10],\n",
       "                          'final_estimator__n_estimators': [5, 10],\n",
       "                          'passthrough': [True, False]}],\n",
       "             scoring='neg_log_loss')>"
      ]
     },
     "execution_count": 14,
     "metadata": {},
     "output_type": "execute_result"
    }
   ],
   "source": [
    "grid.get_params"
   ]
  },
  {
   "cell_type": "code",
   "execution_count": null,
   "metadata": {},
   "outputs": [],
   "source": [
    "grid.fit(X_train, y_train)"
   ]
  },
  {
   "cell_type": "code",
   "execution_count": null,
   "metadata": {},
   "outputs": [
    {
     "data": {
      "text/plain": [
       "(-0.25588962632760576,\n",
       " {'final_estimator': RandomForestClassifier(random_state=24),\n",
       "  'passthrough': True})"
      ]
     },
     "execution_count": 9,
     "metadata": {},
     "output_type": "execute_result"
    }
   ],
   "source": [
    "grid.best_score_, grid.best_params_"
   ]
  },
  {
   "cell_type": "code",
   "execution_count": null,
   "metadata": {},
   "outputs": [
    {
     "data": {
      "text/plain": [
       "0.9181771103055412"
      ]
     },
     "execution_count": 12,
     "metadata": {},
     "output_type": "execute_result"
    }
   ],
   "source": [
    "best_model = grid.best_estimator_\n",
    "\n",
    "y_pred = best_model.predict(X_test)\n",
    "accuracy_score(y_test, y_pred)"
   ]
  },
  {
   "cell_type": "code",
   "execution_count": null,
   "metadata": {},
   "outputs": [],
   "source": [
    "tst_df = pd.read_csv(r'C:\\Users\\DAI.STUDENTSDC\\Desktop\\Machine Learning\\Data Sets\\Cases\\Satellite Imaging\\tst_satellite.csv')"
   ]
  },
  {
   "cell_type": "code",
   "execution_count": null,
   "metadata": {},
   "outputs": [
    {
     "data": {
      "text/plain": [
       "array(['grey soil', 'grey soil', 'grey soil', 'grey soil', 'grey soil',\n",
       "       'grey soil', 'very damp grey soil', 'grey soil', 'grey soil',\n",
       "       'grey soil', 'grey soil', 'grey soil', 'grey soil', 'grey soil',\n",
       "       'grey soil', 'grey soil', 'grey soil', 'grey soil'], dtype=object)"
      ]
     },
     "execution_count": 14,
     "metadata": {},
     "output_type": "execute_result"
    }
   ],
   "source": [
    "import pickle\n",
    "with open('best_model_satellite.pkl', 'wb') as f:\n",
    "    pickle.dump(best_model, f)\n",
    "\n",
    "\n",
    "with open('best_model_satellite.pkl', 'rb') as f:\n",
    "    best_model = pickle.load(f)\n",
    "\n",
    "pred = best_model.predict(tst_df)\n",
    "\n",
    "pred"
   ]
  },
  {
   "cell_type": "code",
   "execution_count": null,
   "metadata": {},
   "outputs": [],
   "source": [
    "!pip install gradio"
   ]
  },
  {
   "cell_type": "code",
   "execution_count": null,
   "metadata": {},
   "outputs": [],
   "source": [
    "import gradio as gr \n",
    "import os \n",
    "os.chdir(\"C:\\Users\\DAI.STUDENTSDC\\Desktop\\Machine Learning\\Lab Practical\\15-Stacking\")\n",
    "\n",
    "def predict(RI, Na, Mg, Al, Si, K, Ca, Ba, Fe):\n",
    "    tst = pd.DataFrame([[RI, Na, Mg, Al, Si, K, Ca, Ba, Fe]],\n",
    "          columns=['RI', 'Na', 'Mg', 'Al', 'Si', 'K', 'Ca', 'Ba', 'Fe'])    \n",
    "    filehandler = open(\"best_model_satellite.pkl\", \"rb\")\n",
    "    bm_loaded = pickle.load(filehandler)\n",
    "    print(tst)\n",
    "    return bm_loaded.predict(tst)[0] \n",
    "      \n",
    "\n",
    "# demo = gr.Interface(\n",
    "#     fn=predict,\n",
    "#     inputs=[\"number\"] * 9,\n",
    "#     outputs=[\"text\"]\n",
    "# )\n",
    "\n",
    "with gr.Blocks() as demo:\n",
    "    with gr.Row():\n",
    "      RI = gr.Number(label='RI')\n",
    "      Na = gr.Number(label='Na')\n",
    "      Mg = gr.Number(label='Mg')\n",
    "    with gr.Row():\n",
    "      Al = gr.Number(label='Al')\n",
    "      Si = gr.Number(label='Si')\n",
    "      K = gr.Number(label='K')\n",
    "    with gr.Row():\n",
    "      Ca = gr.Number(label='Ca')\n",
    "      Ba = gr.Number(label='Ba')\n",
    "      Fe = gr.Number(label='Fe')\n",
    "    with gr.Row(): \n",
    "      Type = gr.Text(label='Type') \n",
    "    with gr.Row():  \n",
    "      button = gr.Button(value=\"Which Glass?\")\n",
    "      button.click(predict,\n",
    "            inputs=[RI, Na, Mg, Al, Si, K, Ca, Ba, Fe],\n",
    "            outputs=[Type])\n",
    "\n",
    "\n",
    "\n",
    "demo.launch()\n",
    "\n"
   ]
  }
 ],
 "metadata": {
  "kernelspec": {
   "display_name": "base",
   "language": "python",
   "name": "python3"
  },
  "language_info": {
   "codemirror_mode": {
    "name": "ipython",
    "version": 3
   },
   "file_extension": ".py",
   "mimetype": "text/x-python",
   "name": "python",
   "nbconvert_exporter": "python",
   "pygments_lexer": "ipython3",
   "version": "3.8.5"
  }
 },
 "nbformat": 4,
 "nbformat_minor": 2
}
