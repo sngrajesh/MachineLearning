{
 "cells": [
  {
   "cell_type": "markdown",
   "metadata": {},
   "source": [
    "| Aspect                     | KNN Regression                                      | KNN Classification                                 |\n",
    "|----------------------------|-----------------------------------------------------|----------------------------------------------------|\n",
    "| **Goal**                   | Predict a continuous numerical value                | Predict a discrete class label                     |\n",
    "| **Output**                 | Average (e.g., mean) of k-nearest neighbors’ values | Most common class (majority vote) among neighbors  |\n",
    "| **Distance Metric**        | Commonly Euclidean, Manhattan, etc.                 | Same as in regression, often Euclidean or similar  |\n",
    "| **Handling Outliers**      | Sensitive to outliers in neighbor values            | Less sensitive; only depends on majority label     |\n",
    "| **Use Case Examples**      | House price prediction, temperature forecasting     | Image recognition, spam detection                  |\n",
    "| **Performance Evaluation** | Mean Squared Error (MSE)                            | Accuracy, F1 score, Precision, Recall              |\n"
   ]
  }
 ],
 "metadata": {
  "language_info": {
   "name": "python"
  }
 },
 "nbformat": 4,
 "nbformat_minor": 2
}
