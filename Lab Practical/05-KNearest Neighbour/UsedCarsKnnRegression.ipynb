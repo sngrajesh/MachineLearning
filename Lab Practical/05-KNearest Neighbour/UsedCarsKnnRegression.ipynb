{
 "cells": [
  {
   "cell_type": "code",
   "execution_count": 70,
   "metadata": {},
   "outputs": [],
   "source": [
    "import warnings\n",
    "warnings.filterwarnings(\"ignore\")"
   ]
  },
  {
   "cell_type": "code",
   "execution_count": 107,
   "metadata": {},
   "outputs": [],
   "source": [
    "import numpy as np\n",
    "import pandas as pd  \n",
    "import seaborn as sns\n",
    "import matplotlib.pyplot as plt\n",
    "\n",
    "from sklearn.pipeline import Pipeline\n",
    "from sklearn.metrics import r2_score, mean_squared_error, mean_absolute_error, root_mean_squared_error\n",
    "from sklearn.preprocessing import OneHotEncoder\n",
    "from sklearn.compose import make_column_selector\n",
    "from sklearn.linear_model import LinearRegression, ElasticNet\n",
    "from sklearn.neighbors import KNeighborsRegressor\n",
    "from sklearn.compose import make_column_transformer \n",
    "from sklearn.model_selection import train_test_split\n",
    "from sklearn.preprocessing import MinMaxScaler, StandardScaler\n",
    "from sklearn.model_selection import KFold, GridSearchCV"
   ]
  },
  {
   "cell_type": "code",
   "execution_count": 72,
   "metadata": {},
   "outputs": [
    {
     "data": {
      "text/html": [
       "<div>\n",
       "<style scoped>\n",
       "    .dataframe tbody tr th:only-of-type {\n",
       "        vertical-align: middle;\n",
       "    }\n",
       "\n",
       "    .dataframe tbody tr th {\n",
       "        vertical-align: top;\n",
       "    }\n",
       "\n",
       "    .dataframe thead th {\n",
       "        text-align: right;\n",
       "    }\n",
       "</style>\n",
       "<table border=\"1\" class=\"dataframe\">\n",
       "  <thead>\n",
       "    <tr style=\"text-align: right;\">\n",
       "      <th></th>\n",
       "      <th>brand</th>\n",
       "      <th>model</th>\n",
       "      <th>model_year</th>\n",
       "      <th>milage</th>\n",
       "      <th>fuel_type</th>\n",
       "      <th>engine</th>\n",
       "      <th>transmission</th>\n",
       "      <th>ext_col</th>\n",
       "      <th>int_col</th>\n",
       "      <th>accident</th>\n",
       "      <th>clean_title</th>\n",
       "      <th>price</th>\n",
       "    </tr>\n",
       "    <tr>\n",
       "      <th>id</th>\n",
       "      <th></th>\n",
       "      <th></th>\n",
       "      <th></th>\n",
       "      <th></th>\n",
       "      <th></th>\n",
       "      <th></th>\n",
       "      <th></th>\n",
       "      <th></th>\n",
       "      <th></th>\n",
       "      <th></th>\n",
       "      <th></th>\n",
       "      <th></th>\n",
       "    </tr>\n",
       "  </thead>\n",
       "  <tbody>\n",
       "    <tr>\n",
       "      <th>0</th>\n",
       "      <td>MINI</td>\n",
       "      <td>Cooper S Base</td>\n",
       "      <td>2007</td>\n",
       "      <td>213000</td>\n",
       "      <td>Gasoline</td>\n",
       "      <td>172.0HP 1.6L 4 Cylinder Engine Gasoline Fuel</td>\n",
       "      <td>A/T</td>\n",
       "      <td>Yellow</td>\n",
       "      <td>Gray</td>\n",
       "      <td>None reported</td>\n",
       "      <td>Yes</td>\n",
       "      <td>4200</td>\n",
       "    </tr>\n",
       "    <tr>\n",
       "      <th>1</th>\n",
       "      <td>Lincoln</td>\n",
       "      <td>LS V8</td>\n",
       "      <td>2002</td>\n",
       "      <td>143250</td>\n",
       "      <td>Gasoline</td>\n",
       "      <td>252.0HP 3.9L 8 Cylinder Engine Gasoline Fuel</td>\n",
       "      <td>A/T</td>\n",
       "      <td>Silver</td>\n",
       "      <td>Beige</td>\n",
       "      <td>At least 1 accident or damage reported</td>\n",
       "      <td>Yes</td>\n",
       "      <td>4999</td>\n",
       "    </tr>\n",
       "    <tr>\n",
       "      <th>2</th>\n",
       "      <td>Chevrolet</td>\n",
       "      <td>Silverado 2500 LT</td>\n",
       "      <td>2002</td>\n",
       "      <td>136731</td>\n",
       "      <td>E85 Flex Fuel</td>\n",
       "      <td>320.0HP 5.3L 8 Cylinder Engine Flex Fuel Capab...</td>\n",
       "      <td>A/T</td>\n",
       "      <td>Blue</td>\n",
       "      <td>Gray</td>\n",
       "      <td>None reported</td>\n",
       "      <td>Yes</td>\n",
       "      <td>13900</td>\n",
       "    </tr>\n",
       "    <tr>\n",
       "      <th>3</th>\n",
       "      <td>Genesis</td>\n",
       "      <td>G90 5.0 Ultimate</td>\n",
       "      <td>2017</td>\n",
       "      <td>19500</td>\n",
       "      <td>Gasoline</td>\n",
       "      <td>420.0HP 5.0L 8 Cylinder Engine Gasoline Fuel</td>\n",
       "      <td>Transmission w/Dual Shift Mode</td>\n",
       "      <td>Black</td>\n",
       "      <td>Black</td>\n",
       "      <td>None reported</td>\n",
       "      <td>Yes</td>\n",
       "      <td>45000</td>\n",
       "    </tr>\n",
       "    <tr>\n",
       "      <th>4</th>\n",
       "      <td>Mercedes-Benz</td>\n",
       "      <td>Metris Base</td>\n",
       "      <td>2021</td>\n",
       "      <td>7388</td>\n",
       "      <td>Gasoline</td>\n",
       "      <td>208.0HP 2.0L 4 Cylinder Engine Gasoline Fuel</td>\n",
       "      <td>7-Speed A/T</td>\n",
       "      <td>Black</td>\n",
       "      <td>Beige</td>\n",
       "      <td>None reported</td>\n",
       "      <td>Yes</td>\n",
       "      <td>97500</td>\n",
       "    </tr>\n",
       "  </tbody>\n",
       "</table>\n",
       "</div>"
      ],
      "text/plain": [
       "            brand              model  model_year  milage      fuel_type  \\\n",
       "id                                                                        \n",
       "0            MINI      Cooper S Base        2007  213000       Gasoline   \n",
       "1         Lincoln              LS V8        2002  143250       Gasoline   \n",
       "2       Chevrolet  Silverado 2500 LT        2002  136731  E85 Flex Fuel   \n",
       "3         Genesis   G90 5.0 Ultimate        2017   19500       Gasoline   \n",
       "4   Mercedes-Benz        Metris Base        2021    7388       Gasoline   \n",
       "\n",
       "                                               engine  \\\n",
       "id                                                      \n",
       "0        172.0HP 1.6L 4 Cylinder Engine Gasoline Fuel   \n",
       "1        252.0HP 3.9L 8 Cylinder Engine Gasoline Fuel   \n",
       "2   320.0HP 5.3L 8 Cylinder Engine Flex Fuel Capab...   \n",
       "3        420.0HP 5.0L 8 Cylinder Engine Gasoline Fuel   \n",
       "4        208.0HP 2.0L 4 Cylinder Engine Gasoline Fuel   \n",
       "\n",
       "                      transmission ext_col int_col  \\\n",
       "id                                                   \n",
       "0                              A/T  Yellow    Gray   \n",
       "1                              A/T  Silver   Beige   \n",
       "2                              A/T    Blue    Gray   \n",
       "3   Transmission w/Dual Shift Mode   Black   Black   \n",
       "4                      7-Speed A/T   Black   Beige   \n",
       "\n",
       "                                  accident clean_title  price  \n",
       "id                                                             \n",
       "0                            None reported         Yes   4200  \n",
       "1   At least 1 accident or damage reported         Yes   4999  \n",
       "2                            None reported         Yes  13900  \n",
       "3                            None reported         Yes  45000  \n",
       "4                            None reported         Yes  97500  "
      ]
     },
     "execution_count": 72,
     "metadata": {},
     "output_type": "execute_result"
    }
   ],
   "source": [
    "cars_df = pd.read_csv(r\"C:\\Users\\DAI.STUDENTSDC\\Desktop\\Machine Learning\\Data Sets\\Used Card Price\\train.csv\", index_col=0)\n",
    "cars_df.head()"
   ]
  },
  {
   "cell_type": "code",
   "execution_count": 73,
   "metadata": {},
   "outputs": [
    {
     "name": "stdout",
     "output_type": "stream",
     "text": [
      "<class 'pandas.core.frame.DataFrame'>\n",
      "Index: 188533 entries, 0 to 188532\n",
      "Data columns (total 12 columns):\n",
      " #   Column        Non-Null Count   Dtype \n",
      "---  ------        --------------   ----- \n",
      " 0   brand         188533 non-null  object\n",
      " 1   model         188533 non-null  object\n",
      " 2   model_year    188533 non-null  int64 \n",
      " 3   milage        188533 non-null  int64 \n",
      " 4   fuel_type     183450 non-null  object\n",
      " 5   engine        188533 non-null  object\n",
      " 6   transmission  188533 non-null  object\n",
      " 7   ext_col       188533 non-null  object\n",
      " 8   int_col       188533 non-null  object\n",
      " 9   accident      186081 non-null  object\n",
      " 10  clean_title   167114 non-null  object\n",
      " 11  price         188533 non-null  int64 \n",
      "dtypes: int64(3), object(9)\n",
      "memory usage: 18.7+ MB\n"
     ]
    }
   ],
   "source": [
    "cars_df.info()"
   ]
  },
  {
   "cell_type": "code",
   "execution_count": 74,
   "metadata": {},
   "outputs": [
    {
     "data": {
      "text/plain": [
       "brand               0\n",
       "model               0\n",
       "model_year          0\n",
       "milage              0\n",
       "fuel_type        5083\n",
       "engine              0\n",
       "transmission        0\n",
       "ext_col             0\n",
       "int_col             0\n",
       "accident         2452\n",
       "clean_title     21419\n",
       "price               0\n",
       "dtype: int64"
      ]
     },
     "execution_count": 74,
     "metadata": {},
     "output_type": "execute_result"
    }
   ],
   "source": [
    "cars_df.isnull().sum()"
   ]
  },
  {
   "cell_type": "code",
   "execution_count": 75,
   "metadata": {},
   "outputs": [
    {
     "name": "stdout",
     "output_type": "stream",
     "text": [
      "fuel_type\n",
      "Gasoline          165940\n",
      "Hybrid              6832\n",
      "E85 Flex Fuel       5406\n",
      "Diesel              3955\n",
      "–                    781\n",
      "Plug-In Hybrid       521\n",
      "not supported         15\n",
      "Name: count, dtype: int64\n"
     ]
    }
   ],
   "source": [
    "print(cars_df['fuel_type'].value_counts())"
   ]
  },
  {
   "cell_type": "code",
   "execution_count": 76,
   "metadata": {},
   "outputs": [
    {
     "name": "stdout",
     "output_type": "stream",
     "text": [
      "accident\n",
      "None reported                             144514\n",
      "At least 1 accident or damage reported     41567\n",
      "Name: count, dtype: int64\n"
     ]
    }
   ],
   "source": [
    "print(cars_df['accident'].value_counts())"
   ]
  },
  {
   "cell_type": "code",
   "execution_count": 77,
   "metadata": {},
   "outputs": [
    {
     "name": "stdout",
     "output_type": "stream",
     "text": [
      "1117\n"
     ]
    }
   ],
   "source": [
    "print(len(cars_df['engine'].unique()))"
   ]
  },
  {
   "cell_type": "code",
   "execution_count": 78,
   "metadata": {},
   "outputs": [
    {
     "name": "stdout",
     "output_type": "stream",
     "text": [
      "transmission\n",
      "A/T                                                   49904\n",
      "8-Speed A/T                                           20645\n",
      "Transmission w/Dual Shift Mode                        19255\n",
      "6-Speed A/T                                           18044\n",
      "6-Speed M/T                                           11998\n",
      "7-Speed A/T                                           11124\n",
      "Automatic                                             10691\n",
      "8-Speed Automatic                                      8431\n",
      "10-Speed A/T                                           8044\n",
      "9-Speed A/T                                            3866\n",
      "5-Speed A/T                                            3217\n",
      "10-Speed Automatic                                     3164\n",
      "6-Speed Automatic                                      2799\n",
      "4-Speed A/T                                            2546\n",
      "5-Speed M/T                                            2409\n",
      "9-Speed Automatic                                      2325\n",
      "CVT Transmission                                       1990\n",
      "1-Speed A/T                                            1869\n",
      "M/T                                                    1179\n",
      "7-Speed Automatic with Auto-Shift                      1172\n",
      "Automatic CVT                                           829\n",
      "8-Speed Automatic with Auto-Shift                       549\n",
      "1-Speed Automatic                                       365\n",
      "7-Speed M/T                                             355\n",
      "6-Speed Manual                                          211\n",
      "7-Speed Automatic                                       178\n",
      "5-Speed Automatic                                       159\n",
      "Transmission Overdrive Switch                           156\n",
      "7-Speed Manual                                          151\n",
      "6-Speed Automatic with Auto-Shift                       111\n",
      "2                                                        91\n",
      "–                                                        87\n",
      "2-Speed A/T                                              71\n",
      "Variable                                                 66\n",
      "F                                                        65\n",
      "4-Speed Automatic                                        48\n",
      "10-Speed Automatic with Overdrive                        40\n",
      "6 Speed Mt                                               37\n",
      "9-Speed Automatic with Auto-Shift                        33\n",
      "6-Speed Electronically Controlled Automatic with O       31\n",
      "7-Speed                                                  29\n",
      "8-Speed Manual                                           28\n",
      "Manual                                                   27\n",
      "6-Speed                                                  27\n",
      "2-Speed Automatic                                        22\n",
      "6 Speed At/Mt                                            20\n",
      "7-Speed DCT Automatic                                    18\n",
      "Single-Speed Fixed Gear                                  16\n",
      "CVT-F                                                    15\n",
      "8-SPEED AT                                               13\n",
      "8-SPEED A/T                                               7\n",
      "SCHEDULED FOR OR IN PRODUCTION                            6\n",
      "Name: count, dtype: int64\n"
     ]
    }
   ],
   "source": [
    "print(cars_df['transmission'].value_counts())"
   ]
  },
  {
   "cell_type": "code",
   "execution_count": 79,
   "metadata": {},
   "outputs": [
    {
     "name": "stdout",
     "output_type": "stream",
     "text": [
      "21419\n",
      "clean_title\n",
      "Yes    167114\n",
      "Name: count, dtype: int64\n"
     ]
    }
   ],
   "source": [
    "print(len(cars_df['clean_title']) - cars_df['clean_title'].value_counts()['Yes'])\n",
    "print(cars_df['clean_title'].value_counts())"
   ]
  },
  {
   "cell_type": "code",
   "execution_count": 80,
   "metadata": {},
   "outputs": [],
   "source": [
    "X_train = cars_df.drop('price', axis=1)\n",
    "y_train = cars_df['price']"
   ]
  },
  {
   "cell_type": "code",
   "execution_count": 99,
   "metadata": {},
   "outputs": [],
   "source": [
    "y_test = pd.read_csv(r'C:\\Users\\DAI.STUDENTSDC\\Desktop\\Machine Learning\\Data Sets\\Used Card Price\\sample_submission.csv')"
   ]
  },
  {
   "cell_type": "code",
   "execution_count": 81,
   "metadata": {},
   "outputs": [],
   "source": [
    "ohe = OneHotEncoder(\n",
    "    sparse_output=False, \n",
    "    drop='first',\n",
    "    handle_unknown='infrequent_if_exist',\n",
    "    min_frequency=3000\n",
    ").set_output(transform='pandas')\n",
    "\n",
    "\n",
    "\n",
    "ct_ohe = make_column_transformer(\n",
    "    ('passthrough', make_column_selector(dtype_exclude=object)),\n",
    "    (ohe, make_column_selector(dtype_include=object)),\n",
    "    verbose_feature_names_out=False\n",
    ").set_output(transform='pandas')"
   ]
  },
  {
   "cell_type": "code",
   "execution_count": 82,
   "metadata": {},
   "outputs": [],
   "source": [
    "X_test = pd.read_csv(r\"C:\\Users\\DAI.STUDENTSDC\\Desktop\\Machine Learning\\Data Sets\\Used Card Price\\test.csv\", index_col=0)"
   ]
  },
  {
   "cell_type": "code",
   "execution_count": 83,
   "metadata": {},
   "outputs": [],
   "source": [
    "X_train_ohe = ct_ohe.fit_transform(X_train)\n",
    "X_test_ohe = ct_ohe.transform(X_test)"
   ]
  },
  {
   "cell_type": "code",
   "execution_count": 84,
   "metadata": {},
   "outputs": [
    {
     "data": {
      "text/plain": [
       "0"
      ]
     },
     "execution_count": 84,
     "metadata": {},
     "output_type": "execute_result"
    }
   ],
   "source": [
    "X_train_ohe.isnull().sum().sum()"
   ]
  },
  {
   "cell_type": "code",
   "execution_count": 108,
   "metadata": {},
   "outputs": [],
   "source": [
    "lr = LinearRegression()\n",
    "lr.fit(X_train_ohe, y_train)\n",
    "y_pred = lr.predict(X_test_ohe)"
   ]
  },
  {
   "cell_type": "code",
   "execution_count": 115,
   "metadata": {},
   "outputs": [],
   "source": [
    "y_pred[y_pred< 150] = 150"
   ]
  },
  {
   "cell_type": "code",
   "execution_count": 116,
   "metadata": {},
   "outputs": [
    {
     "name": "stdout",
     "output_type": "stream",
     "text": [
      "R2:  -1.1318248362524035e+30\n",
      "MAE:  19457.81823605122\n",
      "MSE:  539264771.3399001\n",
      "RMSE:  23222.075086862933\n"
     ]
    }
   ],
   "source": [
    "print('R2: ',r2_score(y_test['price'], y_pred))\n",
    "print('MAE: ',mean_absolute_error(y_test['price'], y_pred))\n",
    "print('MSE: ',mean_squared_error(y_test['price'], y_pred))\n",
    "print('RMSE: ',root_mean_squared_error(y_test['price'], y_pred))"
   ]
  },
  {
   "cell_type": "code",
   "execution_count": 119,
   "metadata": {},
   "outputs": [],
   "source": [
    "en = ElasticNet(alpha=0.5, l1_ratio=0.5)\n",
    "en.fit(X_train_ohe, y_train)\n",
    "y_pred = en.predict(X_test_ohe)"
   ]
  },
  {
   "cell_type": "code",
   "execution_count": 117,
   "metadata": {},
   "outputs": [],
   "source": [
    "y_pred[y_pred< 150] = 150"
   ]
  },
  {
   "cell_type": "code",
   "execution_count": 118,
   "metadata": {},
   "outputs": [
    {
     "name": "stdout",
     "output_type": "stream",
     "text": [
      "R2:  -1.1318248362524035e+30\n",
      "MAE:  19457.81823605122\n",
      "MSE:  539264771.3399001\n",
      "RMSE:  23222.075086862933\n"
     ]
    }
   ],
   "source": [
    "print('R2: ',r2_score(y_test['price'], y_pred))\n",
    "print('MAE: ',mean_absolute_error(y_test['price'], y_pred))\n",
    "print('MSE: ',mean_squared_error(y_test['price'], y_pred))\n",
    "print('RMSE: ',root_mean_squared_error(y_test['price'], y_pred))"
   ]
  },
  {
   "cell_type": "code",
   "execution_count": 122,
   "metadata": {},
   "outputs": [],
   "source": [
    "sanple_out = y_test.copy()\n",
    "sanple_out['price'] = y_pred\n",
    "sanple_out.to_csv('UsedCarsKnnRegression.csv', index=False)"
   ]
  },
  {
   "cell_type": "code",
   "execution_count": null,
   "metadata": {},
   "outputs": [],
   "source": []
  },
  {
   "cell_type": "code",
   "execution_count": null,
   "metadata": {},
   "outputs": [],
   "source": []
  },
  {
   "cell_type": "code",
   "execution_count": null,
   "metadata": {},
   "outputs": [],
   "source": []
  },
  {
   "cell_type": "code",
   "execution_count": null,
   "metadata": {},
   "outputs": [],
   "source": []
  }
 ],
 "metadata": {
  "kernelspec": {
   "display_name": "pythonProject",
   "language": "python",
   "name": "python3"
  },
  "language_info": {
   "codemirror_mode": {
    "name": "ipython",
    "version": 3
   },
   "file_extension": ".py",
   "mimetype": "text/x-python",
   "name": "python",
   "nbconvert_exporter": "python",
   "pygments_lexer": "ipython3",
   "version": "3.12.4"
  }
 },
 "nbformat": 4,
 "nbformat_minor": 2
}
