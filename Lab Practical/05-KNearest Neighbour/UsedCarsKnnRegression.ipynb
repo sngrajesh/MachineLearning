{
 "cells": [
  {
   "cell_type": "code",
   "execution_count": 4,
   "metadata": {},
   "outputs": [],
   "source": [
    "import warnings\n",
    "warnings.filterwarnings(\"ignore\")"
   ]
  },
  {
   "cell_type": "code",
   "execution_count": 43,
   "metadata": {},
   "outputs": [],
   "source": [
    "import numpy as np\n",
    "import pandas as pd  \n",
    "import seaborn as sns\n",
    "import matplotlib.pyplot as plt\n",
    "\n",
    "from sklearn.pipeline import Pipeline\n",
    "from sklearn.metrics import r2_score, mean_squared_error, mean_absolute_error, root_mean_squared_error, accuracy_score\n",
    "from sklearn.preprocessing import OneHotEncoder\n",
    "from sklearn.compose import make_column_selector\n",
    "from sklearn.linear_model import LinearRegression, ElasticNet\n",
    "from sklearn.neighbors import KNeighborsRegressor\n",
    "from sklearn.compose import make_column_transformer \n",
    "from sklearn.model_selection import train_test_split\n",
    "from sklearn.preprocessing import MinMaxScaler, StandardScaler\n",
    "from sklearn.model_selection import KFold, GridSearchCV"
   ]
  },
  {
   "cell_type": "code",
   "execution_count": 6,
   "metadata": {},
   "outputs": [
    {
     "data": {
      "text/html": [
       "<div>\n",
       "<style scoped>\n",
       "    .dataframe tbody tr th:only-of-type {\n",
       "        vertical-align: middle;\n",
       "    }\n",
       "\n",
       "    .dataframe tbody tr th {\n",
       "        vertical-align: top;\n",
       "    }\n",
       "\n",
       "    .dataframe thead th {\n",
       "        text-align: right;\n",
       "    }\n",
       "</style>\n",
       "<table border=\"1\" class=\"dataframe\">\n",
       "  <thead>\n",
       "    <tr style=\"text-align: right;\">\n",
       "      <th></th>\n",
       "      <th>brand</th>\n",
       "      <th>model</th>\n",
       "      <th>model_year</th>\n",
       "      <th>milage</th>\n",
       "      <th>fuel_type</th>\n",
       "      <th>engine</th>\n",
       "      <th>transmission</th>\n",
       "      <th>ext_col</th>\n",
       "      <th>int_col</th>\n",
       "      <th>accident</th>\n",
       "      <th>clean_title</th>\n",
       "      <th>price</th>\n",
       "    </tr>\n",
       "    <tr>\n",
       "      <th>id</th>\n",
       "      <th></th>\n",
       "      <th></th>\n",
       "      <th></th>\n",
       "      <th></th>\n",
       "      <th></th>\n",
       "      <th></th>\n",
       "      <th></th>\n",
       "      <th></th>\n",
       "      <th></th>\n",
       "      <th></th>\n",
       "      <th></th>\n",
       "      <th></th>\n",
       "    </tr>\n",
       "  </thead>\n",
       "  <tbody>\n",
       "    <tr>\n",
       "      <th>0</th>\n",
       "      <td>MINI</td>\n",
       "      <td>Cooper S Base</td>\n",
       "      <td>2007</td>\n",
       "      <td>213000</td>\n",
       "      <td>Gasoline</td>\n",
       "      <td>172.0HP 1.6L 4 Cylinder Engine Gasoline Fuel</td>\n",
       "      <td>A/T</td>\n",
       "      <td>Yellow</td>\n",
       "      <td>Gray</td>\n",
       "      <td>None reported</td>\n",
       "      <td>Yes</td>\n",
       "      <td>4200</td>\n",
       "    </tr>\n",
       "    <tr>\n",
       "      <th>1</th>\n",
       "      <td>Lincoln</td>\n",
       "      <td>LS V8</td>\n",
       "      <td>2002</td>\n",
       "      <td>143250</td>\n",
       "      <td>Gasoline</td>\n",
       "      <td>252.0HP 3.9L 8 Cylinder Engine Gasoline Fuel</td>\n",
       "      <td>A/T</td>\n",
       "      <td>Silver</td>\n",
       "      <td>Beige</td>\n",
       "      <td>At least 1 accident or damage reported</td>\n",
       "      <td>Yes</td>\n",
       "      <td>4999</td>\n",
       "    </tr>\n",
       "    <tr>\n",
       "      <th>2</th>\n",
       "      <td>Chevrolet</td>\n",
       "      <td>Silverado 2500 LT</td>\n",
       "      <td>2002</td>\n",
       "      <td>136731</td>\n",
       "      <td>E85 Flex Fuel</td>\n",
       "      <td>320.0HP 5.3L 8 Cylinder Engine Flex Fuel Capab...</td>\n",
       "      <td>A/T</td>\n",
       "      <td>Blue</td>\n",
       "      <td>Gray</td>\n",
       "      <td>None reported</td>\n",
       "      <td>Yes</td>\n",
       "      <td>13900</td>\n",
       "    </tr>\n",
       "    <tr>\n",
       "      <th>3</th>\n",
       "      <td>Genesis</td>\n",
       "      <td>G90 5.0 Ultimate</td>\n",
       "      <td>2017</td>\n",
       "      <td>19500</td>\n",
       "      <td>Gasoline</td>\n",
       "      <td>420.0HP 5.0L 8 Cylinder Engine Gasoline Fuel</td>\n",
       "      <td>Transmission w/Dual Shift Mode</td>\n",
       "      <td>Black</td>\n",
       "      <td>Black</td>\n",
       "      <td>None reported</td>\n",
       "      <td>Yes</td>\n",
       "      <td>45000</td>\n",
       "    </tr>\n",
       "    <tr>\n",
       "      <th>4</th>\n",
       "      <td>Mercedes-Benz</td>\n",
       "      <td>Metris Base</td>\n",
       "      <td>2021</td>\n",
       "      <td>7388</td>\n",
       "      <td>Gasoline</td>\n",
       "      <td>208.0HP 2.0L 4 Cylinder Engine Gasoline Fuel</td>\n",
       "      <td>7-Speed A/T</td>\n",
       "      <td>Black</td>\n",
       "      <td>Beige</td>\n",
       "      <td>None reported</td>\n",
       "      <td>Yes</td>\n",
       "      <td>97500</td>\n",
       "    </tr>\n",
       "  </tbody>\n",
       "</table>\n",
       "</div>"
      ],
      "text/plain": [
       "            brand              model  model_year  milage      fuel_type  \\\n",
       "id                                                                        \n",
       "0            MINI      Cooper S Base        2007  213000       Gasoline   \n",
       "1         Lincoln              LS V8        2002  143250       Gasoline   \n",
       "2       Chevrolet  Silverado 2500 LT        2002  136731  E85 Flex Fuel   \n",
       "3         Genesis   G90 5.0 Ultimate        2017   19500       Gasoline   \n",
       "4   Mercedes-Benz        Metris Base        2021    7388       Gasoline   \n",
       "\n",
       "                                               engine  \\\n",
       "id                                                      \n",
       "0        172.0HP 1.6L 4 Cylinder Engine Gasoline Fuel   \n",
       "1        252.0HP 3.9L 8 Cylinder Engine Gasoline Fuel   \n",
       "2   320.0HP 5.3L 8 Cylinder Engine Flex Fuel Capab...   \n",
       "3        420.0HP 5.0L 8 Cylinder Engine Gasoline Fuel   \n",
       "4        208.0HP 2.0L 4 Cylinder Engine Gasoline Fuel   \n",
       "\n",
       "                      transmission ext_col int_col  \\\n",
       "id                                                   \n",
       "0                              A/T  Yellow    Gray   \n",
       "1                              A/T  Silver   Beige   \n",
       "2                              A/T    Blue    Gray   \n",
       "3   Transmission w/Dual Shift Mode   Black   Black   \n",
       "4                      7-Speed A/T   Black   Beige   \n",
       "\n",
       "                                  accident clean_title  price  \n",
       "id                                                             \n",
       "0                            None reported         Yes   4200  \n",
       "1   At least 1 accident or damage reported         Yes   4999  \n",
       "2                            None reported         Yes  13900  \n",
       "3                            None reported         Yes  45000  \n",
       "4                            None reported         Yes  97500  "
      ]
     },
     "execution_count": 6,
     "metadata": {},
     "output_type": "execute_result"
    }
   ],
   "source": [
    "cars_df = pd.read_csv(r\"C:\\Users\\DAI.STUDENTSDC\\Desktop\\Machine Learning\\Data Sets\\Used Card Price\\train.csv\", index_col=0)\n",
    "cars_df.head()"
   ]
  },
  {
   "cell_type": "code",
   "execution_count": 7,
   "metadata": {},
   "outputs": [
    {
     "name": "stdout",
     "output_type": "stream",
     "text": [
      "<class 'pandas.core.frame.DataFrame'>\n",
      "Index: 188533 entries, 0 to 188532\n",
      "Data columns (total 12 columns):\n",
      " #   Column        Non-Null Count   Dtype \n",
      "---  ------        --------------   ----- \n",
      " 0   brand         188533 non-null  object\n",
      " 1   model         188533 non-null  object\n",
      " 2   model_year    188533 non-null  int64 \n",
      " 3   milage        188533 non-null  int64 \n",
      " 4   fuel_type     183450 non-null  object\n",
      " 5   engine        188533 non-null  object\n",
      " 6   transmission  188533 non-null  object\n",
      " 7   ext_col       188533 non-null  object\n",
      " 8   int_col       188533 non-null  object\n",
      " 9   accident      186081 non-null  object\n",
      " 10  clean_title   167114 non-null  object\n",
      " 11  price         188533 non-null  int64 \n",
      "dtypes: int64(3), object(9)\n",
      "memory usage: 18.7+ MB\n"
     ]
    }
   ],
   "source": [
    "cars_df.info()"
   ]
  },
  {
   "cell_type": "code",
   "execution_count": 8,
   "metadata": {},
   "outputs": [
    {
     "data": {
      "text/plain": [
       "brand               0\n",
       "model               0\n",
       "model_year          0\n",
       "milage              0\n",
       "fuel_type        5083\n",
       "engine              0\n",
       "transmission        0\n",
       "ext_col             0\n",
       "int_col             0\n",
       "accident         2452\n",
       "clean_title     21419\n",
       "price               0\n",
       "dtype: int64"
      ]
     },
     "execution_count": 8,
     "metadata": {},
     "output_type": "execute_result"
    }
   ],
   "source": [
    "cars_df.isnull().sum()"
   ]
  },
  {
   "cell_type": "code",
   "execution_count": 9,
   "metadata": {},
   "outputs": [
    {
     "name": "stdout",
     "output_type": "stream",
     "text": [
      "fuel_type\n",
      "Gasoline          165940\n",
      "Hybrid              6832\n",
      "E85 Flex Fuel       5406\n",
      "Diesel              3955\n",
      "–                    781\n",
      "Plug-In Hybrid       521\n",
      "not supported         15\n",
      "Name: count, dtype: int64\n"
     ]
    }
   ],
   "source": [
    "print(cars_df['fuel_type'].value_counts())"
   ]
  },
  {
   "cell_type": "code",
   "execution_count": 10,
   "metadata": {},
   "outputs": [
    {
     "name": "stdout",
     "output_type": "stream",
     "text": [
      "accident\n",
      "None reported                             144514\n",
      "At least 1 accident or damage reported     41567\n",
      "Name: count, dtype: int64\n"
     ]
    }
   ],
   "source": [
    "print(cars_df['accident'].value_counts())"
   ]
  },
  {
   "cell_type": "code",
   "execution_count": 11,
   "metadata": {},
   "outputs": [
    {
     "name": "stdout",
     "output_type": "stream",
     "text": [
      "1117\n"
     ]
    }
   ],
   "source": [
    "print(len(cars_df['engine'].unique()))"
   ]
  },
  {
   "cell_type": "code",
   "execution_count": 12,
   "metadata": {},
   "outputs": [
    {
     "name": "stdout",
     "output_type": "stream",
     "text": [
      "transmission\n",
      "A/T                                                   49904\n",
      "8-Speed A/T                                           20645\n",
      "Transmission w/Dual Shift Mode                        19255\n",
      "6-Speed A/T                                           18044\n",
      "6-Speed M/T                                           11998\n",
      "7-Speed A/T                                           11124\n",
      "Automatic                                             10691\n",
      "8-Speed Automatic                                      8431\n",
      "10-Speed A/T                                           8044\n",
      "9-Speed A/T                                            3866\n",
      "5-Speed A/T                                            3217\n",
      "10-Speed Automatic                                     3164\n",
      "6-Speed Automatic                                      2799\n",
      "4-Speed A/T                                            2546\n",
      "5-Speed M/T                                            2409\n",
      "9-Speed Automatic                                      2325\n",
      "CVT Transmission                                       1990\n",
      "1-Speed A/T                                            1869\n",
      "M/T                                                    1179\n",
      "7-Speed Automatic with Auto-Shift                      1172\n",
      "Automatic CVT                                           829\n",
      "8-Speed Automatic with Auto-Shift                       549\n",
      "1-Speed Automatic                                       365\n",
      "7-Speed M/T                                             355\n",
      "6-Speed Manual                                          211\n",
      "7-Speed Automatic                                       178\n",
      "5-Speed Automatic                                       159\n",
      "Transmission Overdrive Switch                           156\n",
      "7-Speed Manual                                          151\n",
      "6-Speed Automatic with Auto-Shift                       111\n",
      "2                                                        91\n",
      "–                                                        87\n",
      "2-Speed A/T                                              71\n",
      "Variable                                                 66\n",
      "F                                                        65\n",
      "4-Speed Automatic                                        48\n",
      "10-Speed Automatic with Overdrive                        40\n",
      "6 Speed Mt                                               37\n",
      "9-Speed Automatic with Auto-Shift                        33\n",
      "6-Speed Electronically Controlled Automatic with O       31\n",
      "7-Speed                                                  29\n",
      "8-Speed Manual                                           28\n",
      "Manual                                                   27\n",
      "6-Speed                                                  27\n",
      "2-Speed Automatic                                        22\n",
      "6 Speed At/Mt                                            20\n",
      "7-Speed DCT Automatic                                    18\n",
      "Single-Speed Fixed Gear                                  16\n",
      "CVT-F                                                    15\n",
      "8-SPEED AT                                               13\n",
      "8-SPEED A/T                                               7\n",
      "SCHEDULED FOR OR IN PRODUCTION                            6\n",
      "Name: count, dtype: int64\n"
     ]
    }
   ],
   "source": [
    "print(cars_df['transmission'].value_counts())"
   ]
  },
  {
   "cell_type": "code",
   "execution_count": 13,
   "metadata": {},
   "outputs": [
    {
     "name": "stdout",
     "output_type": "stream",
     "text": [
      "21419\n",
      "clean_title\n",
      "Yes    167114\n",
      "Name: count, dtype: int64\n"
     ]
    }
   ],
   "source": [
    "print(len(cars_df['clean_title']) - cars_df['clean_title'].value_counts()['Yes'])\n",
    "print(cars_df['clean_title'].value_counts())"
   ]
  },
  {
   "cell_type": "code",
   "execution_count": 14,
   "metadata": {},
   "outputs": [],
   "source": [
    "X_train = cars_df.drop('price', axis=1)\n",
    "y_train = cars_df['price']"
   ]
  },
  {
   "cell_type": "code",
   "execution_count": 15,
   "metadata": {},
   "outputs": [],
   "source": [
    "y_test = pd.read_csv(r'C:\\Users\\DAI.STUDENTSDC\\Desktop\\Machine Learning\\Data Sets\\Used Card Price\\sample_submission.csv')"
   ]
  },
  {
   "cell_type": "code",
   "execution_count": null,
   "metadata": {},
   "outputs": [],
   "source": [
    "ohe = OneHotEncoder(\n",
    "    sparse_output=False, \n",
    "    drop='first',\n",
    "    handle_unknown='infrequent_if_exist',\n",
    "    min_frequency=3000\n",
    ").set_output(transform='pandas')\n",
    "\n",
    "\n",
    "\n",
    "ct_ohe = make_column_transformer(\n",
    "    ('passthrough', make_column_selector(dtype_exclude=object)),\n",
    "    (ohe, make_column_selector(dtype_include=object)),\n",
    "    verbose_feature_names_out=False\n",
    ").set_output(transform='pandas')"
   ]
  },
  {
   "cell_type": "code",
   "execution_count": 17,
   "metadata": {},
   "outputs": [],
   "source": [
    "X_test = pd.read_csv(r\"C:\\Users\\DAI.STUDENTSDC\\Desktop\\Machine Learning\\Data Sets\\Used Card Price\\test.csv\", index_col=0)"
   ]
  },
  {
   "cell_type": "code",
   "execution_count": 18,
   "metadata": {},
   "outputs": [],
   "source": [
    "X_train_ohe = ct_ohe.fit_transform(X_train)\n",
    "X_test_ohe = ct_ohe.transform(X_test)"
   ]
  },
  {
   "cell_type": "code",
   "execution_count": 19,
   "metadata": {},
   "outputs": [
    {
     "data": {
      "text/plain": [
       "0"
      ]
     },
     "execution_count": 19,
     "metadata": {},
     "output_type": "execute_result"
    }
   ],
   "source": [
    "X_train_ohe.isnull().sum().sum()"
   ]
  },
  {
   "cell_type": "markdown",
   "metadata": {},
   "source": [
    "---\n",
    "\n",
    "Linear Regression"
   ]
  },
  {
   "cell_type": "code",
   "execution_count": 20,
   "metadata": {},
   "outputs": [],
   "source": [
    "lr = LinearRegression()\n",
    "lr.fit(X_train_ohe, y_train)\n",
    "y_pred = lr.predict(X_test_ohe)"
   ]
  },
  {
   "cell_type": "code",
   "execution_count": 21,
   "metadata": {},
   "outputs": [],
   "source": [
    "y_pred[y_pred< 150] = 150"
   ]
  },
  {
   "cell_type": "code",
   "execution_count": 22,
   "metadata": {},
   "outputs": [
    {
     "name": "stdout",
     "output_type": "stream",
     "text": [
      "R2:  -1.1318248362524035e+30\n",
      "MAE:  19457.81823605122\n",
      "MSE:  539264771.3399001\n",
      "RMSE:  23222.075086862933\n"
     ]
    }
   ],
   "source": [
    "print('R2: ',r2_score(y_test['price'], y_pred))\n",
    "print('MAE: ',mean_absolute_error(y_test['price'], y_pred))\n",
    "print('MSE: ',mean_squared_error(y_test['price'], y_pred))\n",
    "print('RMSE: ',root_mean_squared_error(y_test['price'], y_pred))"
   ]
  },
  {
   "cell_type": "markdown",
   "metadata": {},
   "source": [
    "---\n",
    "Elastic Regression"
   ]
  },
  {
   "cell_type": "code",
   "execution_count": 23,
   "metadata": {},
   "outputs": [
    {
     "name": "stdout",
     "output_type": "stream",
     "text": [
      "Fitting 5 folds for each of 9 candidates, totalling 45 fits\n",
      "[CV] END ..................EN__alpha=0.001, EN__l1_ratio=0.1; total time=   3.6s\n",
      "[CV] END ..................EN__alpha=0.001, EN__l1_ratio=0.1; total time=   3.5s\n",
      "[CV] END ..................EN__alpha=0.001, EN__l1_ratio=0.1; total time=   3.4s\n",
      "[CV] END ..................EN__alpha=0.001, EN__l1_ratio=0.1; total time=   3.5s\n",
      "[CV] END ..................EN__alpha=0.001, EN__l1_ratio=0.1; total time=   3.5s\n",
      "[CV] END .................EN__alpha=0.001, EN__l1_ratio=0.55; total time=   3.4s\n",
      "[CV] END .................EN__alpha=0.001, EN__l1_ratio=0.55; total time=   3.5s\n",
      "[CV] END .................EN__alpha=0.001, EN__l1_ratio=0.55; total time=   3.5s\n",
      "[CV] END .................EN__alpha=0.001, EN__l1_ratio=0.55; total time=   3.6s\n",
      "[CV] END .................EN__alpha=0.001, EN__l1_ratio=0.55; total time=   3.4s\n",
      "[CV] END ..................EN__alpha=0.001, EN__l1_ratio=1.0; total time=   3.9s\n",
      "[CV] END ..................EN__alpha=0.001, EN__l1_ratio=1.0; total time=   3.7s\n",
      "[CV] END ..................EN__alpha=0.001, EN__l1_ratio=1.0; total time=   3.8s\n",
      "[CV] END ..................EN__alpha=0.001, EN__l1_ratio=1.0; total time=   3.7s\n",
      "[CV] END ..................EN__alpha=0.001, EN__l1_ratio=1.0; total time=   3.7s\n",
      "[CV] END .....EN__alpha=2.5004999999999997, EN__l1_ratio=0.1; total time=   2.5s\n",
      "[CV] END .....EN__alpha=2.5004999999999997, EN__l1_ratio=0.1; total time=   2.7s\n",
      "[CV] END .....EN__alpha=2.5004999999999997, EN__l1_ratio=0.1; total time=   2.9s\n",
      "[CV] END .....EN__alpha=2.5004999999999997, EN__l1_ratio=0.1; total time=   2.6s\n",
      "[CV] END .....EN__alpha=2.5004999999999997, EN__l1_ratio=0.1; total time=   2.7s\n",
      "[CV] END ....EN__alpha=2.5004999999999997, EN__l1_ratio=0.55; total time=   2.7s\n",
      "[CV] END ....EN__alpha=2.5004999999999997, EN__l1_ratio=0.55; total time=   2.9s\n",
      "[CV] END ....EN__alpha=2.5004999999999997, EN__l1_ratio=0.55; total time=   2.7s\n",
      "[CV] END ....EN__alpha=2.5004999999999997, EN__l1_ratio=0.55; total time=   2.7s\n",
      "[CV] END ....EN__alpha=2.5004999999999997, EN__l1_ratio=0.55; total time=   2.7s\n",
      "[CV] END .....EN__alpha=2.5004999999999997, EN__l1_ratio=1.0; total time=   3.3s\n",
      "[CV] END .....EN__alpha=2.5004999999999997, EN__l1_ratio=1.0; total time=   3.2s\n",
      "[CV] END .....EN__alpha=2.5004999999999997, EN__l1_ratio=1.0; total time=   3.2s\n",
      "[CV] END .....EN__alpha=2.5004999999999997, EN__l1_ratio=1.0; total time=   3.0s\n",
      "[CV] END .....EN__alpha=2.5004999999999997, EN__l1_ratio=1.0; total time=   3.3s\n",
      "[CV] END ....................EN__alpha=5.0, EN__l1_ratio=0.1; total time=   2.7s\n",
      "[CV] END ....................EN__alpha=5.0, EN__l1_ratio=0.1; total time=   2.6s\n",
      "[CV] END ....................EN__alpha=5.0, EN__l1_ratio=0.1; total time=   2.8s\n",
      "[CV] END ....................EN__alpha=5.0, EN__l1_ratio=0.1; total time=   3.1s\n",
      "[CV] END ....................EN__alpha=5.0, EN__l1_ratio=0.1; total time=   3.2s\n",
      "[CV] END ...................EN__alpha=5.0, EN__l1_ratio=0.55; total time=   3.3s\n",
      "[CV] END ...................EN__alpha=5.0, EN__l1_ratio=0.55; total time=   3.3s\n",
      "[CV] END ...................EN__alpha=5.0, EN__l1_ratio=0.55; total time=   3.2s\n",
      "[CV] END ...................EN__alpha=5.0, EN__l1_ratio=0.55; total time=   3.2s\n",
      "[CV] END ...................EN__alpha=5.0, EN__l1_ratio=0.55; total time=   3.2s\n",
      "[CV] END ....................EN__alpha=5.0, EN__l1_ratio=1.0; total time=   3.8s\n",
      "[CV] END ....................EN__alpha=5.0, EN__l1_ratio=1.0; total time=   3.9s\n",
      "[CV] END ....................EN__alpha=5.0, EN__l1_ratio=1.0; total time=   3.8s\n",
      "[CV] END ....................EN__alpha=5.0, EN__l1_ratio=1.0; total time=   3.9s\n",
      "[CV] END ....................EN__alpha=5.0, EN__l1_ratio=1.0; total time=   3.8s\n"
     ]
    }
   ],
   "source": [
    "en = ElasticNet()\n",
    " \n",
    "kfold = KFold(n_splits=5, random_state=24, shuffle=True)\n",
    "pipe = Pipeline(\n",
    "    [\n",
    "        ('CT', ct_ohe),\n",
    "        ('EN' , en)\n",
    "    ]\n",
    ")\n",
    "\n",
    "params = {\n",
    "    'EN__alpha': np.linspace(0.001, 5, 3),\n",
    "    'EN__l1_ratio': np.linspace(0.1, 1, 3)\n",
    "}\n",
    "\n",
    "\n",
    "gcv = GridSearchCV(\n",
    "    pipe, \n",
    "    param_grid=params,\n",
    "    scoring='r2',\n",
    "    cv=kfold,\n",
    "    verbose=2,\n",
    ")\n",
    "\n",
    "gcv.fit(X_train, y_train)\n",
    "\n",
    "y_pred = gcv.best_estimator_.predict(X_test)"
   ]
  },
  {
   "cell_type": "code",
   "execution_count": 24,
   "metadata": {},
   "outputs": [
    {
     "data": {
      "text/plain": [
       "({'EN__alpha': 2.5004999999999997, 'EN__l1_ratio': 1.0}, 0.09453570194403726)"
      ]
     },
     "execution_count": 24,
     "metadata": {},
     "output_type": "execute_result"
    }
   ],
   "source": [
    "gcv.best_params_, gcv.best_score_"
   ]
  },
  {
   "cell_type": "code",
   "execution_count": 25,
   "metadata": {},
   "outputs": [],
   "source": [
    "y_pred[y_pred< 150] = 150"
   ]
  },
  {
   "cell_type": "code",
   "execution_count": 26,
   "metadata": {},
   "outputs": [
    {
     "name": "stdout",
     "output_type": "stream",
     "text": [
      "R2:  -1.1292562662574492e+30\n",
      "MAE:  19433.094424059476\n",
      "MSE:  538040960.6700567\n",
      "RMSE:  23195.709962621466\n"
     ]
    }
   ],
   "source": [
    "print('R2: ',r2_score(y_test['price'], y_pred))\n",
    "print('MAE: ',mean_absolute_error(y_test['price'], y_pred))\n",
    "print('MSE: ',mean_squared_error(y_test['price'], y_pred))\n",
    "print('RMSE: ',root_mean_squared_error(y_test['price'], y_pred))"
   ]
  },
  {
   "cell_type": "code",
   "execution_count": 27,
   "metadata": {},
   "outputs": [],
   "source": [
    "sanple_out = y_test.copy()\n",
    "sanple_out['price'] = y_pred\n",
    "sanple_out.to_csv('UsedCarsKnnRegression.csv', index=False)"
   ]
  },
  {
   "cell_type": "markdown",
   "metadata": {},
   "source": [
    "---\n",
    "KNN Regression"
   ]
  },
  {
   "cell_type": "code",
   "execution_count": 28,
   "metadata": {},
   "outputs": [
    {
     "name": "stdout",
     "output_type": "stream",
     "text": [
      "Fitting 5 folds for each of 10 candidates, totalling 50 fits\n",
      "[CV] END .................................KNN__n_neighbors=1; total time=  21.4s\n",
      "[CV] END .................................KNN__n_neighbors=1; total time=  21.4s\n",
      "[CV] END .................................KNN__n_neighbors=1; total time=  19.9s\n",
      "[CV] END .................................KNN__n_neighbors=1; total time=  22.1s\n",
      "[CV] END .................................KNN__n_neighbors=1; total time=  21.5s\n",
      "[CV] END .................................KNN__n_neighbors=6; total time=  21.6s\n",
      "[CV] END .................................KNN__n_neighbors=6; total time=  21.2s\n",
      "[CV] END .................................KNN__n_neighbors=6; total time=  21.0s\n",
      "[CV] END .................................KNN__n_neighbors=6; total time=  21.8s\n",
      "[CV] END .................................KNN__n_neighbors=6; total time=  22.2s\n",
      "[CV] END ................................KNN__n_neighbors=11; total time=  21.7s\n",
      "[CV] END ................................KNN__n_neighbors=11; total time=  21.6s\n",
      "[CV] END ................................KNN__n_neighbors=11; total time=  18.9s\n",
      "[CV] END ................................KNN__n_neighbors=11; total time=  19.0s\n",
      "[CV] END ................................KNN__n_neighbors=11; total time=  18.4s\n",
      "[CV] END ................................KNN__n_neighbors=16; total time=  18.5s\n",
      "[CV] END ................................KNN__n_neighbors=16; total time=  18.5s\n",
      "[CV] END ................................KNN__n_neighbors=16; total time=  18.5s\n",
      "[CV] END ................................KNN__n_neighbors=16; total time=  18.5s\n",
      "[CV] END ................................KNN__n_neighbors=16; total time=  18.4s\n",
      "[CV] END ................................KNN__n_neighbors=21; total time=  18.4s\n",
      "[CV] END ................................KNN__n_neighbors=21; total time=  18.4s\n",
      "[CV] END ................................KNN__n_neighbors=21; total time=  18.6s\n",
      "[CV] END ................................KNN__n_neighbors=21; total time=  18.5s\n",
      "[CV] END ................................KNN__n_neighbors=21; total time=  18.5s\n",
      "[CV] END ................................KNN__n_neighbors=26; total time=  18.5s\n",
      "[CV] END ................................KNN__n_neighbors=26; total time=  18.6s\n",
      "[CV] END ................................KNN__n_neighbors=26; total time=  18.4s\n",
      "[CV] END ................................KNN__n_neighbors=26; total time=  18.5s\n",
      "[CV] END ................................KNN__n_neighbors=26; total time=  18.4s\n",
      "[CV] END ................................KNN__n_neighbors=31; total time=  18.5s\n",
      "[CV] END ................................KNN__n_neighbors=31; total time=  18.4s\n",
      "[CV] END ................................KNN__n_neighbors=31; total time=  18.5s\n",
      "[CV] END ................................KNN__n_neighbors=31; total time=  18.4s\n",
      "[CV] END ................................KNN__n_neighbors=31; total time=  18.5s\n",
      "[CV] END ................................KNN__n_neighbors=36; total time=  18.5s\n",
      "[CV] END ................................KNN__n_neighbors=36; total time=  18.8s\n",
      "[CV] END ................................KNN__n_neighbors=36; total time=  18.9s\n",
      "[CV] END ................................KNN__n_neighbors=36; total time=  19.0s\n",
      "[CV] END ................................KNN__n_neighbors=36; total time=  18.8s\n",
      "[CV] END ................................KNN__n_neighbors=41; total time=  18.8s\n",
      "[CV] END ................................KNN__n_neighbors=41; total time=  18.9s\n",
      "[CV] END ................................KNN__n_neighbors=41; total time=  18.7s\n",
      "[CV] END ................................KNN__n_neighbors=41; total time=  18.6s\n",
      "[CV] END ................................KNN__n_neighbors=41; total time=  18.7s\n",
      "[CV] END ................................KNN__n_neighbors=46; total time=  18.6s\n",
      "[CV] END ................................KNN__n_neighbors=46; total time=  19.0s\n",
      "[CV] END ................................KNN__n_neighbors=46; total time=  18.9s\n",
      "[CV] END ................................KNN__n_neighbors=46; total time=  18.7s\n",
      "[CV] END ................................KNN__n_neighbors=46; total time=  18.7s\n",
      "\n",
      "Best Parameters: {'KNN__n_neighbors': 46}\n",
      "\n",
      "Best neg_log_loss Score: 0.09014579007716772\n"
     ]
    }
   ],
   "source": [
    "scaler_std = StandardScaler()\n",
    "knnr = KNeighborsRegressor()\n",
    "\n",
    "pipe = Pipeline(\n",
    "    [\n",
    "        ('CT', ct_ohe),\n",
    "        ('SCL', scaler_std),\n",
    "        ('KNN', knnr)\n",
    "    ]\n",
    ")\n",
    "\n",
    "params = {\n",
    "        'KNN__n_neighbors': np.arange(1, 50, 5),     \n",
    "        # 'KNN__metric': ['cityblock','haversine', 'manhattan', 'minkowski'] # Calculate hote hote maut ho jayegi\n",
    "}\n",
    "\n",
    "gcv = GridSearchCV(\n",
    "    pipe, \n",
    "    param_grid=params,\n",
    "    scoring='r2',\n",
    "    cv=5,\n",
    "    verbose=2, \n",
    ")\n",
    "\n",
    "\n",
    "gcv.fit(X_train, y_train)\n",
    "\n",
    "# Print results for all metrics\n",
    "print(\"\\nBest Parameters:\", gcv.best_params_)\n",
    "print(\"\\nBest neg_log_loss Score:\", gcv.best_score_)\n"
   ]
  },
  {
   "cell_type": "code",
   "execution_count": 1,
   "metadata": {},
   "outputs": [
    {
     "ename": "NameError",
     "evalue": "name 'gcv' is not defined",
     "output_type": "error",
     "traceback": [
      "\u001b[1;31m---------------------------------------------------------------------------\u001b[0m",
      "\u001b[1;31mNameError\u001b[0m                                 Traceback (most recent call last)",
      "Cell \u001b[1;32mIn[1], line 1\u001b[0m\n\u001b[1;32m----> 1\u001b[0m y_pred \u001b[38;5;241m=\u001b[39m \u001b[43mgcv\u001b[49m\u001b[38;5;241m.\u001b[39mbest_estimator_\u001b[38;5;241m.\u001b[39mpredict(X_test)\n",
      "\u001b[1;31mNameError\u001b[0m: name 'gcv' is not defined"
     ]
    }
   ],
   "source": [
    "y_pred = gcv.best_estimator_.predict(X_test)"
   ]
  },
  {
   "cell_type": "code",
   "execution_count": 33,
   "metadata": {},
   "outputs": [],
   "source": [
    "y_pred[y_pred< 150] = 150"
   ]
  },
  {
   "cell_type": "code",
   "execution_count": 34,
   "metadata": {},
   "outputs": [
    {
     "name": "stdout",
     "output_type": "stream",
     "text": [
      "R2:  -1.495803547358748e+30\n",
      "MAE:  20480.640085077503\n",
      "MSE:  712684624.0684038\n",
      "RMSE:  26696.153731734536\n"
     ]
    }
   ],
   "source": [
    "print('R2: ',r2_score(y_test['price'], y_pred))\n",
    "print('MAE: ',mean_absolute_error(y_test['price'], y_pred))\n",
    "print('MSE: ',mean_squared_error(y_test['price'], y_pred))\n",
    "print('RMSE: ',root_mean_squared_error(y_test['price'], y_pred))"
   ]
  },
  {
   "cell_type": "code",
   "execution_count": null,
   "metadata": {},
   "outputs": [],
   "source": []
  }
 ],
 "metadata": {
  "kernelspec": {
   "display_name": "pythonProject",
   "language": "python",
   "name": "python3"
  },
  "language_info": {
   "codemirror_mode": {
    "name": "ipython",
    "version": 3
   },
   "file_extension": ".py",
   "mimetype": "text/x-python",
   "name": "python",
   "nbconvert_exporter": "python",
   "pygments_lexer": "ipython3",
   "version": "3.12.4"
  }
 },
 "nbformat": 4,
 "nbformat_minor": 2
}
