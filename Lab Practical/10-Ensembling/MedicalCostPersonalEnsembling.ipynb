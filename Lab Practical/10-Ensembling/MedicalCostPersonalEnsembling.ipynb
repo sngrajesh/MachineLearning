{
 "cells": [
  {
   "cell_type": "code",
   "execution_count": 16,
   "metadata": {},
   "outputs": [],
   "source": [
    "import numpy as np\n",
    "import pandas as pd\n",
    "from sklearn.pipeline import Pipeline\n",
    "from sklearn.metrics import r2_score\n",
    "from sklearn.preprocessing import OneHotEncoder\n",
    "from sklearn.linear_model import LinearRegression, ElasticNet\n",
    "from sklearn.tree import DecisionTreeRegressor\n",
    "from sklearn.ensemble import VotingRegressor\n",
    "\n",
    "from sklearn.model_selection import train_test_split\n",
    "from sklearn.compose import make_column_selector, make_column_transformer\n",
    "\n",
    "import warnings\n",
    "warnings.filterwarnings(\"ignore\")\n"
   ]
  },
  {
   "cell_type": "code",
   "execution_count": 17,
   "metadata": {},
   "outputs": [
    {
     "data": {
      "text/html": [
       "<div>\n",
       "<style scoped>\n",
       "    .dataframe tbody tr th:only-of-type {\n",
       "        vertical-align: middle;\n",
       "    }\n",
       "\n",
       "    .dataframe tbody tr th {\n",
       "        vertical-align: top;\n",
       "    }\n",
       "\n",
       "    .dataframe thead th {\n",
       "        text-align: right;\n",
       "    }\n",
       "</style>\n",
       "<table border=\"1\" class=\"dataframe\">\n",
       "  <thead>\n",
       "    <tr style=\"text-align: right;\">\n",
       "      <th></th>\n",
       "      <th>age</th>\n",
       "      <th>sex</th>\n",
       "      <th>bmi</th>\n",
       "      <th>children</th>\n",
       "      <th>smoker</th>\n",
       "      <th>region</th>\n",
       "      <th>charges</th>\n",
       "    </tr>\n",
       "  </thead>\n",
       "  <tbody>\n",
       "    <tr>\n",
       "      <th>0</th>\n",
       "      <td>19</td>\n",
       "      <td>female</td>\n",
       "      <td>27.900</td>\n",
       "      <td>0</td>\n",
       "      <td>yes</td>\n",
       "      <td>southwest</td>\n",
       "      <td>16884.92400</td>\n",
       "    </tr>\n",
       "    <tr>\n",
       "      <th>1</th>\n",
       "      <td>18</td>\n",
       "      <td>male</td>\n",
       "      <td>33.770</td>\n",
       "      <td>1</td>\n",
       "      <td>no</td>\n",
       "      <td>southeast</td>\n",
       "      <td>1725.55230</td>\n",
       "    </tr>\n",
       "    <tr>\n",
       "      <th>2</th>\n",
       "      <td>28</td>\n",
       "      <td>male</td>\n",
       "      <td>33.000</td>\n",
       "      <td>3</td>\n",
       "      <td>no</td>\n",
       "      <td>southeast</td>\n",
       "      <td>4449.46200</td>\n",
       "    </tr>\n",
       "    <tr>\n",
       "      <th>3</th>\n",
       "      <td>33</td>\n",
       "      <td>male</td>\n",
       "      <td>22.705</td>\n",
       "      <td>0</td>\n",
       "      <td>no</td>\n",
       "      <td>northwest</td>\n",
       "      <td>21984.47061</td>\n",
       "    </tr>\n",
       "    <tr>\n",
       "      <th>4</th>\n",
       "      <td>32</td>\n",
       "      <td>male</td>\n",
       "      <td>28.880</td>\n",
       "      <td>0</td>\n",
       "      <td>no</td>\n",
       "      <td>northwest</td>\n",
       "      <td>3866.85520</td>\n",
       "    </tr>\n",
       "  </tbody>\n",
       "</table>\n",
       "</div>"
      ],
      "text/plain": [
       "   age     sex     bmi  children smoker     region      charges\n",
       "0   19  female  27.900         0    yes  southwest  16884.92400\n",
       "1   18    male  33.770         1     no  southeast   1725.55230\n",
       "2   28    male  33.000         3     no  southeast   4449.46200\n",
       "3   33    male  22.705         0     no  northwest  21984.47061\n",
       "4   32    male  28.880         0     no  northwest   3866.85520"
      ]
     },
     "execution_count": 17,
     "metadata": {},
     "output_type": "execute_result"
    }
   ],
   "source": [
    "df = pd.read_csv(r'C:\\Users\\DAI.STUDENTSDC\\Desktop\\Machine Learning\\Data Sets\\Cases\\Medical Cost Personal\\insurance.csv')\n",
    "df.head()"
   ]
  },
  {
   "cell_type": "code",
   "execution_count": 18,
   "metadata": {},
   "outputs": [],
   "source": [
    "X = df.drop(columns=['charges'], axis=1)\n",
    "y = df['charges']"
   ]
  },
  {
   "cell_type": "code",
   "execution_count": 19,
   "metadata": {},
   "outputs": [],
   "source": [
    "X_train, X_test, y_train, y_test = train_test_split(X, y, test_size=0.3, random_state=24)"
   ]
  },
  {
   "cell_type": "code",
   "execution_count": 21,
   "metadata": {},
   "outputs": [
    {
     "name": "stdout",
     "output_type": "stream",
     "text": [
      "<class 'pandas.core.frame.DataFrame'>\n",
      "Index: 936 entries, 476 to 418\n",
      "Data columns (total 6 columns):\n",
      " #   Column    Non-Null Count  Dtype  \n",
      "---  ------    --------------  -----  \n",
      " 0   age       936 non-null    int64  \n",
      " 1   sex       936 non-null    object \n",
      " 2   bmi       936 non-null    float64\n",
      " 3   children  936 non-null    int64  \n",
      " 4   smoker    936 non-null    object \n",
      " 5   region    936 non-null    object \n",
      "dtypes: float64(1), int64(2), object(3)\n",
      "memory usage: 51.2+ KB\n"
     ]
    }
   ],
   "source": [
    "X_train.info()"
   ]
  },
  {
   "cell_type": "markdown",
   "metadata": {},
   "source": [
    "GridSearch: Creating pipelines so that we can use ColumnTransformer"
   ]
  },
  {
   "cell_type": "code",
   "execution_count": 22,
   "metadata": {},
   "outputs": [],
   "source": [
    "ohe = OneHotEncoder(\n",
    "    sparse_output=False, \n",
    "    drop='first'\n",
    ").set_output(transform='pandas')\n",
    "\n",
    "\n",
    "ct = make_column_transformer(\n",
    "    ('passthrough', make_column_selector(dtype_exclude=[\n",
    "        'object',\n",
    "        'category',\n",
    "    ])),\n",
    "    (ohe, make_column_selector(dtype_include=[\n",
    "        'object',\n",
    "        'category',\n",
    "    ])),\n",
    "    verbose_feature_names_out=False,\n",
    ").set_output(transform='pandas')\n"
   ]
  },
  {
   "cell_type": "code",
   "execution_count": null,
   "metadata": {},
   "outputs": [],
   "source": [
    "lr = LinearRegression()\n",
    "el = ElasticNet(random_state=24)\n",
    "dtr = DecisionTreeRegressor(random_state=24)\n",
    "\n",
    "pipe_lr = Pipeline([\n",
    "    ('CT', ct),\n",
    "    ('LR', lr),\n",
    "])\n",
    "\n",
    "pipe_el = Pipeline([\n",
    "    ('CT', ct),\n",
    "    ('EL', el),\n",
    "])\n",
    "\n",
    "pipe_dtr = Pipeline([\n",
    "    ('CT', ct),\n",
    "    ('DT', dtr),\n",
    "])\n"
   ]
  },
  {
   "cell_type": "code",
   "execution_count": 26,
   "metadata": {},
   "outputs": [
    {
     "name": "stdout",
     "output_type": "stream",
     "text": [
      "0.7495467414729552\n"
     ]
    }
   ],
   "source": [
    "#Using pipelines as estimators\n",
    "voting = VotingRegressor([('DTR',pipe_dtr),('EN',pipe_el),('LR',pipe_lr)])\n",
    "voting.fit(X_train, y_train)\n",
    "y_pred = voting.predict(X_test)\n",
    "print(r2_score(y_test, y_pred))"
   ]
  },
  {
   "cell_type": "code",
   "execution_count": 27,
   "metadata": {},
   "outputs": [
    {
     "name": "stdout",
     "output_type": "stream",
     "text": [
      "0.7605378297033076\n"
     ]
    }
   ],
   "source": [
    "#VotingRegressor with weights for different estimators\n",
    "voting = VotingRegressor([('DTR',pipe_dtr),('EN',pipe_el),('LR',pipe_lr)], weights=[ 0.7, 0.15, 0.15])\n",
    "voting.fit(X_train, y_train)\n",
    "y_pred = voting.predict(X_test)\n",
    "print(r2_score(y_test, y_pred))"
   ]
  },
  {
   "cell_type": "code",
   "execution_count": null,
   "metadata": {},
   "outputs": [],
   "source": [
    "#Using pipelines as estimators\n",
    "voting = VotingRegressor([('DTR',pipe_dtr),('EN',pipe_el),('LR',pipe_lr)])\n",
    "voting.fit(X_train, y_train)\n",
    "y_pred = voting.predict(X_test)\n",
    "print(r2_score(y_test, y_pred))"
   ]
  },
  {
   "cell_type": "markdown",
   "metadata": {},
   "source": [
    "Using algorithms with different parameters"
   ]
  },
  {
   "cell_type": "code",
   "execution_count": 37,
   "metadata": {},
   "outputs": [],
   "source": [
    "from sklearn.model_selection import KFold\n",
    "\n",
    "kfold = KFold(n_splits=5, shuffle=True, random_state=24)"
   ]
  },
  {
   "cell_type": "code",
   "execution_count": 44,
   "metadata": {},
   "outputs": [
    {
     "name": "stdout",
     "output_type": "stream",
     "text": [
      "r2_score:  0.7665391799816874\n"
     ]
    }
   ],
   "source": [
    "from sklearn.model_selection import GridSearchCV\n",
    "\n",
    "lr = LinearRegression()\n",
    "\n",
    "pipe_lr = Pipeline([\n",
    "    ('CT', ct),\n",
    "    ('LR', lr),\n",
    "])\n",
    "\n",
    "\n",
    "gcv_lr = GridSearchCV(\n",
    "    estimator=pipe_lr,\n",
    "    cv=kfold,\n",
    "    param_grid={},\n",
    "    scoring='r2',\n",
    "    \n",
    ")\n",
    "\n",
    "gcv_lr.fit(X_train, y_train)\n",
    "\n",
    "y_pred = gcv_lr.best_estimator_.predict(X_test)\n",
    "print(\"r2_score: \", r2_score(y_test, y_pred))\n"
   ]
  },
  {
   "cell_type": "code",
   "execution_count": 49,
   "metadata": {},
   "outputs": [
    {
     "name": "stdout",
     "output_type": "stream",
     "text": [
      "r2_score:  0.7660471539571693\n"
     ]
    }
   ],
   "source": [
    "el = ElasticNet(random_state=24)\n",
    "\n",
    "pipe_el = Pipeline([\n",
    "    ('ct', ct),\n",
    "    ('EL', el),\n",
    "])\n",
    "\n",
    "params = {\n",
    "    'EL__l1_ratio': [0.2, 0.4, 0.6, 0.8, 1.0],\n",
    "    'EL__alpha': np.linspace(0.001, 5, 20),\n",
    "}\n",
    "gcv_el = GridSearchCV(\n",
    "    estimator=pipe_el,\n",
    "    param_grid=params,\n",
    "    cv=kfold,\n",
    "    scoring='r2'\n",
    ")\n",
    "\n",
    "gcv_el.fit(X_train, y_train)\n",
    "\n",
    "y_pred = gcv_el.best_estimator_.predict(X_test)\n",
    "print(\"r2_score: \", r2_score(y_test, y_pred))"
   ]
  },
  {
   "cell_type": "code",
   "execution_count": 48,
   "metadata": {},
   "outputs": [
    {
     "name": "stdout",
     "output_type": "stream",
     "text": [
      "r2_score:  0.8709966420482848\n"
     ]
    }
   ],
   "source": [
    "dtr = DecisionTreeRegressor(random_state=24)\n",
    "\n",
    "pipe_dtr = Pipeline([\n",
    "    ('ct', ct),\n",
    "    ('DT', dtr),\n",
    "])\n",
    "\n",
    "params = {\n",
    "    'DT__max_depth': [None, 2, 3],\n",
    "    'DT__min_samples_leaf':  [2, 10, 20],\n",
    "    'DT__min_samples_split':  [1, 10, 20],\n",
    "}\n",
    "\n",
    "gcv_dtr = GridSearchCV(\n",
    "    estimator=pipe_dtr,\n",
    "    param_grid=params,\n",
    "    cv=kfold,\n",
    "    scoring='r2'\n",
    ")\n",
    "\n",
    "gcv_dtr.fit(X_train, y_train)\n",
    "\n",
    "y_pred = gcv_dtr.best_estimator_.predict(X_test)\n",
    "print(\"r2_score: \", r2_score(y_test, y_pred))"
   ]
  },
  {
   "cell_type": "code",
   "execution_count": null,
   "metadata": {},
   "outputs": [],
   "source": []
  }
 ],
 "metadata": {
  "kernelspec": {
   "display_name": "pythonProject",
   "language": "python",
   "name": "python3"
  },
  "language_info": {
   "codemirror_mode": {
    "name": "ipython",
    "version": 3
   },
   "file_extension": ".py",
   "mimetype": "text/x-python",
   "name": "python",
   "nbconvert_exporter": "python",
   "pygments_lexer": "ipython3",
   "version": "3.12.4"
  }
 },
 "nbformat": 4,
 "nbformat_minor": 2
}
