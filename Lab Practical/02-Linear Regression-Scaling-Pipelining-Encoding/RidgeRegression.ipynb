{
 "cells": [
  {
   "cell_type": "code",
   "execution_count": 283,
   "metadata": {},
   "outputs": [],
   "source": [
    "import numpy as np\n",
    "import pandas as pd\n",
    "import matplotlib.pyplot as plt\n",
    "import seaborn as sns\n",
    "\n",
    "from ucimlrepo import fetch_ucirepo \n",
    "\n",
    "\n",
    "from sklearn.metrics import r2_score \n",
    "from sklearn.pipeline import Pipeline\n",
    "from sklearn.linear_model import LinearRegression, Ridge, Lasso, ElasticNet\n",
    "from sklearn.preprocessing import PolynomialFeatures\n",
    "from sklearn.compose import make_column_selector\n",
    "from sklearn.compose import make_column_transformer\n",
    "from sklearn.model_selection import train_test_split\n",
    "from sklearn.preprocessing import StandardScaler, MinMaxScaler, OneHotEncoder"
   ]
  },
  {
   "cell_type": "code",
   "execution_count": 263,
   "metadata": {},
   "outputs": [],
   "source": [
    "# fetch dataset \n",
    "concrete_compressive_strength = fetch_ucirepo(id=165) \n"
   ]
  },
  {
   "cell_type": "code",
   "execution_count": 264,
   "metadata": {},
   "outputs": [
    {
     "data": {
      "text/plain": [
       "(pandas.core.frame.DataFrame, pandas.core.frame.DataFrame)"
      ]
     },
     "execution_count": 264,
     "metadata": {},
     "output_type": "execute_result"
    }
   ],
   "source": [
    "# data (as pandas dataframes) \n",
    "X = concrete_compressive_strength.data.features \n",
    "y = concrete_compressive_strength.data.targets \n",
    "\n",
    "type(X), type(y)"
   ]
  },
  {
   "cell_type": "code",
   "execution_count": 265,
   "metadata": {},
   "outputs": [
    {
     "name": "stdout",
     "output_type": "stream",
     "text": [
      "{'uci_id': 165, 'name': 'Concrete Compressive Strength', 'repository_url': 'https://archive.ics.uci.edu/dataset/165/concrete+compressive+strength', 'data_url': 'https://archive.ics.uci.edu/static/public/165/data.csv', 'abstract': 'Concrete is the most important material in civil engineering. The concrete compressive strength is a highly nonlinear function of age and ingredients. ', 'area': 'Physics and Chemistry', 'tasks': ['Regression'], 'characteristics': ['Multivariate'], 'num_instances': 1030, 'num_features': 8, 'feature_types': ['Real'], 'demographics': [], 'target_col': ['Concrete compressive strength'], 'index_col': None, 'has_missing_values': 'no', 'missing_values_symbol': None, 'year_of_dataset_creation': 1998, 'last_updated': 'Sun Feb 11 2024', 'dataset_doi': '10.24432/C5PK67', 'creators': ['I-Cheng Yeh'], 'intro_paper': {'ID': 383, 'type': 'NATIVE', 'title': 'Modeling of strength of high-performance concrete using artificial neural networks', 'authors': 'I. Yeh', 'venue': 'Cement and Concrete Research, Vol. 28, No. 12', 'year': 1998, 'journal': None, 'DOI': '10.1016/S0008-8846(98)00165-3', 'URL': 'https://www.semanticscholar.org/paper/9310cae70452ea11465f338483e79cc36a68881c', 'sha': None, 'corpus': None, 'arxiv': None, 'mag': None, 'acl': None, 'pmid': None, 'pmcid': None}, 'additional_info': {'summary': 'Number of instances \\t1030\\r\\nNumber of Attributes\\t9\\r\\nAttribute breakdown\\t8 quantitative input variables, and 1 quantitative output variable\\r\\nMissing Attribute Values\\tNone \\r\\n', 'purpose': None, 'funded_by': None, 'instances_represent': None, 'recommended_data_splits': None, 'sensitive_data': None, 'preprocessing_description': None, 'variable_info': 'Given are the variable name, variable type, the measurement unit and a brief description. The concrete compressive strength is the regression problem. The order of this listing corresponds to the order of numerals along the rows of the database. \\r\\n\\r\\nName -- Data Type -- Measurement -- Description\\r\\n\\r\\nCement (component 1) -- quantitative -- kg in a m3 mixture -- Input Variable\\r\\nBlast Furnace Slag (component 2) -- quantitative -- kg in a m3 mixture -- Input Variable\\r\\nFly Ash (component 3) -- quantitative  -- kg in a m3 mixture -- Input Variable\\r\\nWater  (component 4) -- quantitative  -- kg in a m3 mixture -- Input Variable\\r\\nSuperplasticizer (component 5) -- quantitative -- kg in a m3 mixture -- Input Variable\\r\\nCoarse Aggregate  (component 6) -- quantitative -- kg in a m3 mixture -- Input Variable\\r\\nFine Aggregate (component 7)\\t -- quantitative  -- kg in a m3 mixture -- Input Variable\\r\\nAge -- quantitative  -- Day (1~365) -- Input Variable\\r\\nConcrete compressive strength -- quantitative -- MPa -- Output Variable\\r\\n\\r\\n', 'citation': None}}\n",
      "                            name     role        type demographic description  \\\n",
      "0                         Cement  Feature  Continuous        None        None   \n",
      "1             Blast Furnace Slag  Feature     Integer        None        None   \n",
      "2                        Fly Ash  Feature  Continuous        None        None   \n",
      "3                          Water  Feature  Continuous        None        None   \n",
      "4               Superplasticizer  Feature  Continuous        None        None   \n",
      "5               Coarse Aggregate  Feature  Continuous        None        None   \n",
      "6                 Fine Aggregate  Feature  Continuous        None        None   \n",
      "7                            Age  Feature     Integer        None        None   \n",
      "8  Concrete compressive strength   Target  Continuous        None        None   \n",
      "\n",
      "    units missing_values  \n",
      "0  kg/m^3             no  \n",
      "1  kg/m^3             no  \n",
      "2  kg/m^3             no  \n",
      "3  kg/m^3             no  \n",
      "4  kg/m^3             no  \n",
      "5  kg/m^3             no  \n",
      "6  kg/m^3             no  \n",
      "7     day             no  \n",
      "8     MPa             no  \n"
     ]
    }
   ],
   "source": [
    "# Metadata and variable info \n",
    "print(concrete_compressive_strength.metadata)  \n",
    "print(concrete_compressive_strength.variables)  "
   ]
  },
  {
   "cell_type": "code",
   "execution_count": 266,
   "metadata": {},
   "outputs": [
    {
     "data": {
      "text/html": [
       "<div>\n",
       "<style scoped>\n",
       "    .dataframe tbody tr th:only-of-type {\n",
       "        vertical-align: middle;\n",
       "    }\n",
       "\n",
       "    .dataframe tbody tr th {\n",
       "        vertical-align: top;\n",
       "    }\n",
       "\n",
       "    .dataframe thead th {\n",
       "        text-align: right;\n",
       "    }\n",
       "</style>\n",
       "<table border=\"1\" class=\"dataframe\">\n",
       "  <thead>\n",
       "    <tr style=\"text-align: right;\">\n",
       "      <th></th>\n",
       "      <th>Cement</th>\n",
       "      <th>Blast Furnace Slag</th>\n",
       "      <th>Fly Ash</th>\n",
       "      <th>Water</th>\n",
       "      <th>Superplasticizer</th>\n",
       "      <th>Coarse Aggregate</th>\n",
       "      <th>Fine Aggregate</th>\n",
       "      <th>Age</th>\n",
       "      <th>Concrete compressive strength</th>\n",
       "    </tr>\n",
       "  </thead>\n",
       "  <tbody>\n",
       "    <tr>\n",
       "      <th>0</th>\n",
       "      <td>540.0</td>\n",
       "      <td>0.0</td>\n",
       "      <td>0.0</td>\n",
       "      <td>162.0</td>\n",
       "      <td>2.5</td>\n",
       "      <td>1040.0</td>\n",
       "      <td>676.0</td>\n",
       "      <td>28</td>\n",
       "      <td>79.99</td>\n",
       "    </tr>\n",
       "    <tr>\n",
       "      <th>1</th>\n",
       "      <td>540.0</td>\n",
       "      <td>0.0</td>\n",
       "      <td>0.0</td>\n",
       "      <td>162.0</td>\n",
       "      <td>2.5</td>\n",
       "      <td>1055.0</td>\n",
       "      <td>676.0</td>\n",
       "      <td>28</td>\n",
       "      <td>61.89</td>\n",
       "    </tr>\n",
       "    <tr>\n",
       "      <th>2</th>\n",
       "      <td>332.5</td>\n",
       "      <td>142.5</td>\n",
       "      <td>0.0</td>\n",
       "      <td>228.0</td>\n",
       "      <td>0.0</td>\n",
       "      <td>932.0</td>\n",
       "      <td>594.0</td>\n",
       "      <td>270</td>\n",
       "      <td>40.27</td>\n",
       "    </tr>\n",
       "    <tr>\n",
       "      <th>3</th>\n",
       "      <td>332.5</td>\n",
       "      <td>142.5</td>\n",
       "      <td>0.0</td>\n",
       "      <td>228.0</td>\n",
       "      <td>0.0</td>\n",
       "      <td>932.0</td>\n",
       "      <td>594.0</td>\n",
       "      <td>365</td>\n",
       "      <td>41.05</td>\n",
       "    </tr>\n",
       "    <tr>\n",
       "      <th>4</th>\n",
       "      <td>198.6</td>\n",
       "      <td>132.4</td>\n",
       "      <td>0.0</td>\n",
       "      <td>192.0</td>\n",
       "      <td>0.0</td>\n",
       "      <td>978.4</td>\n",
       "      <td>825.5</td>\n",
       "      <td>360</td>\n",
       "      <td>44.30</td>\n",
       "    </tr>\n",
       "    <tr>\n",
       "      <th>...</th>\n",
       "      <td>...</td>\n",
       "      <td>...</td>\n",
       "      <td>...</td>\n",
       "      <td>...</td>\n",
       "      <td>...</td>\n",
       "      <td>...</td>\n",
       "      <td>...</td>\n",
       "      <td>...</td>\n",
       "      <td>...</td>\n",
       "    </tr>\n",
       "    <tr>\n",
       "      <th>1025</th>\n",
       "      <td>276.4</td>\n",
       "      <td>116.0</td>\n",
       "      <td>90.3</td>\n",
       "      <td>179.6</td>\n",
       "      <td>8.9</td>\n",
       "      <td>870.1</td>\n",
       "      <td>768.3</td>\n",
       "      <td>28</td>\n",
       "      <td>44.28</td>\n",
       "    </tr>\n",
       "    <tr>\n",
       "      <th>1026</th>\n",
       "      <td>322.2</td>\n",
       "      <td>0.0</td>\n",
       "      <td>115.6</td>\n",
       "      <td>196.0</td>\n",
       "      <td>10.4</td>\n",
       "      <td>817.9</td>\n",
       "      <td>813.4</td>\n",
       "      <td>28</td>\n",
       "      <td>31.18</td>\n",
       "    </tr>\n",
       "    <tr>\n",
       "      <th>1027</th>\n",
       "      <td>148.5</td>\n",
       "      <td>139.4</td>\n",
       "      <td>108.6</td>\n",
       "      <td>192.7</td>\n",
       "      <td>6.1</td>\n",
       "      <td>892.4</td>\n",
       "      <td>780.0</td>\n",
       "      <td>28</td>\n",
       "      <td>23.70</td>\n",
       "    </tr>\n",
       "    <tr>\n",
       "      <th>1028</th>\n",
       "      <td>159.1</td>\n",
       "      <td>186.7</td>\n",
       "      <td>0.0</td>\n",
       "      <td>175.6</td>\n",
       "      <td>11.3</td>\n",
       "      <td>989.6</td>\n",
       "      <td>788.9</td>\n",
       "      <td>28</td>\n",
       "      <td>32.77</td>\n",
       "    </tr>\n",
       "    <tr>\n",
       "      <th>1029</th>\n",
       "      <td>260.9</td>\n",
       "      <td>100.5</td>\n",
       "      <td>78.3</td>\n",
       "      <td>200.6</td>\n",
       "      <td>8.6</td>\n",
       "      <td>864.5</td>\n",
       "      <td>761.5</td>\n",
       "      <td>28</td>\n",
       "      <td>32.40</td>\n",
       "    </tr>\n",
       "  </tbody>\n",
       "</table>\n",
       "<p>1030 rows × 9 columns</p>\n",
       "</div>"
      ],
      "text/plain": [
       "      Cement  Blast Furnace Slag  Fly Ash  Water  Superplasticizer  \\\n",
       "0      540.0                 0.0      0.0  162.0               2.5   \n",
       "1      540.0                 0.0      0.0  162.0               2.5   \n",
       "2      332.5               142.5      0.0  228.0               0.0   \n",
       "3      332.5               142.5      0.0  228.0               0.0   \n",
       "4      198.6               132.4      0.0  192.0               0.0   \n",
       "...      ...                 ...      ...    ...               ...   \n",
       "1025   276.4               116.0     90.3  179.6               8.9   \n",
       "1026   322.2                 0.0    115.6  196.0              10.4   \n",
       "1027   148.5               139.4    108.6  192.7               6.1   \n",
       "1028   159.1               186.7      0.0  175.6              11.3   \n",
       "1029   260.9               100.5     78.3  200.6               8.6   \n",
       "\n",
       "      Coarse Aggregate  Fine Aggregate  Age  Concrete compressive strength  \n",
       "0               1040.0           676.0   28                          79.99  \n",
       "1               1055.0           676.0   28                          61.89  \n",
       "2                932.0           594.0  270                          40.27  \n",
       "3                932.0           594.0  365                          41.05  \n",
       "4                978.4           825.5  360                          44.30  \n",
       "...                ...             ...  ...                            ...  \n",
       "1025             870.1           768.3   28                          44.28  \n",
       "1026             817.9           813.4   28                          31.18  \n",
       "1027             892.4           780.0   28                          23.70  \n",
       "1028             989.6           788.9   28                          32.77  \n",
       "1029             864.5           761.5   28                          32.40  \n",
       "\n",
       "[1030 rows x 9 columns]"
      ]
     },
     "execution_count": 266,
     "metadata": {},
     "output_type": "execute_result"
    }
   ],
   "source": [
    "entire_data = pd.concat([X,y], axis=1)\n",
    "entire_data"
   ]
  },
  {
   "cell_type": "code",
   "execution_count": 267,
   "metadata": {},
   "outputs": [
    {
     "data": {
      "text/plain": [
       "((721, 8), (721, 1))"
      ]
     },
     "execution_count": 267,
     "metadata": {},
     "output_type": "execute_result"
    }
   ],
   "source": [
    "X_train, X_test, y_train, y_test = train_test_split(X, y, test_size=0.3, random_state=24)\n",
    "X_train.shape, y_train.shape"
   ]
  },
  {
   "cell_type": "markdown",
   "metadata": {},
   "source": [
    "# linear regression"
   ]
  },
  {
   "cell_type": "code",
   "execution_count": 268,
   "metadata": {},
   "outputs": [
    {
     "data": {
      "text/plain": [
       "(array([-35.44918333]),\n",
       " array([[ 0.12726535,  0.11257926,  0.09835135, -0.13691381,  0.23733402,\n",
       "          0.02020436,  0.02616505,  0.12251105]]))"
      ]
     },
     "execution_count": 268,
     "metadata": {},
     "output_type": "execute_result"
    }
   ],
   "source": [
    "lr = LinearRegression()\n",
    "lr.fit(X_train, y_train)\n",
    "lr.intercept_, lr.coef_\n"
   ]
  },
  {
   "cell_type": "markdown",
   "metadata": {},
   "source": [
    "# Ridge Regression (L2 Norm)"
   ]
  },
  {
   "cell_type": "code",
   "execution_count": 269,
   "metadata": {},
   "outputs": [
    {
     "data": {
      "text/plain": [
       "(array([-35.44730826]),\n",
       " array([[ 0.12726535,  0.11257926,  0.09835135, -0.13691381,  0.23733402,\n",
       "          0.02020436,  0.02616505,  0.12251105]]))"
      ]
     },
     "execution_count": 269,
     "metadata": {},
     "output_type": "execute_result"
    }
   ],
   "source": [
    "rr = Ridge()\n",
    "rr.fit(X_train, y_train)\n",
    "rr.intercept_, lr.coef_"
   ]
  },
  {
   "cell_type": "markdown",
   "metadata": {},
   "source": [
    "### With Polynomial Features"
   ]
  },
  {
   "cell_type": "code",
   "execution_count": 270,
   "metadata": {},
   "outputs": [],
   "source": [
    "ploy  = PolynomialFeatures(degree=3, include_bias=False).set_output(transform='pandas')"
   ]
  },
  {
   "cell_type": "code",
   "execution_count": 271,
   "metadata": {},
   "outputs": [
    {
     "data": {
      "text/plain": [
       "0.7787728514693077"
      ]
     },
     "execution_count": 271,
     "metadata": {},
     "output_type": "execute_result"
    }
   ],
   "source": [
    "# degree: 2\n",
    "poly = PolynomialFeatures(degree=2, include_bias=False).set_output(transform='pandas')\n",
    "X_poly_trn = poly.fit_transform(X_train)\n",
    "X_poly_tst = poly.transform(X_test)\n",
    "rr.fit(X_poly_trn, y_train)\n",
    "y_pred = rr.predict(X_poly_tst)\n",
    "r2_score(y_test, y_pred)"
   ]
  },
  {
   "cell_type": "code",
   "execution_count": 272,
   "metadata": {},
   "outputs": [
    {
     "name": "stderr",
     "output_type": "stream",
     "text": [
      "C:\\Users\\DAI.STUDENTSDC\\AppData\\Roaming\\Python\\Python38\\site-packages\\sklearn\\linear_model\\_ridge.py:200: LinAlgWarning: Ill-conditioned matrix (rcond=9.96075e-21): result may not be accurate.\n",
      "  return linalg.solve(A, Xy, assume_a=\"pos\", overwrite_a=True).T\n"
     ]
    },
    {
     "data": {
      "text/plain": [
       "0.8695065063940556"
      ]
     },
     "execution_count": 272,
     "metadata": {},
     "output_type": "execute_result"
    }
   ],
   "source": [
    "# degree: 3\n",
    "poly = PolynomialFeatures(degree=3, include_bias=False).set_output(transform='pandas')\n",
    "X_poly_trn = poly.fit_transform(X_train)\n",
    "X_poly_tst = poly.transform(X_test)\n",
    "rr.fit(X_poly_trn, y_train)\n",
    "y_pred = rr.predict(X_poly_tst)\n",
    "r2_score(y_test, y_pred)"
   ]
  },
  {
   "cell_type": "code",
   "execution_count": 273,
   "metadata": {},
   "outputs": [
    {
     "name": "stdout",
     "output_type": "stream",
     "text": [
      "     Cement  Blast Furnace Slag  Fly Ash  Water  Superplasticizer  \\\n",
      "538   480.0                 0.0      0.0  192.0               0.0   \n",
      "434   178.0               129.8    118.6  179.9               3.6   \n",
      "454   250.0                 0.0     95.7  191.8               5.3   \n",
      "804   393.0                 0.0      0.0  192.0               0.0   \n",
      "518   202.0                11.0    141.0  206.0               1.7   \n",
      "..      ...                 ...      ...    ...               ...   \n",
      "145   469.0               117.2      0.0  137.8              32.2   \n",
      "343   297.2                 0.0    117.5  174.8               9.5   \n",
      "192   233.8                 0.0     94.6  197.9               4.6   \n",
      "899   145.0                 0.0    134.0  181.0              11.0   \n",
      "418   251.4                 0.0    118.3  192.9               5.8   \n",
      "\n",
      "     Coarse Aggregate  Fine Aggregate    Age   Cement^2  \\\n",
      "538             936.2           712.2    7.0  230400.00   \n",
      "434            1007.3           746.8   28.0   31684.00   \n",
      "454             948.9           857.2   56.0   62500.00   \n",
      "804             940.0           758.0   28.0  154449.00   \n",
      "518             942.0           801.0   56.0   40804.00   \n",
      "..                ...             ...    ...        ...   \n",
      "145             852.1           840.5   56.0  219961.00   \n",
      "343            1022.8           753.5  100.0   88327.84   \n",
      "192             947.0           852.2   56.0   54662.44   \n",
      "899             979.0           812.0   28.0   21025.00   \n",
      "418            1043.6           754.3    3.0   63201.96   \n",
      "\n",
      "     Cement Blast Furnace Slag  ...  Coarse Aggregate^3  \\\n",
      "538                        0.0  ...        8.205516e+08   \n",
      "434                    23104.4  ...        1.022060e+09   \n",
      "454                        0.0  ...        8.544002e+08   \n",
      "804                        0.0  ...        8.305840e+08   \n",
      "518                     2222.0  ...        8.358969e+08   \n",
      "..                         ...  ...                 ...   \n",
      "145                    54966.8  ...        6.186880e+08   \n",
      "343                        0.0  ...        1.069971e+09   \n",
      "192                        0.0  ...        8.492781e+08   \n",
      "899                        0.0  ...        9.383137e+08   \n",
      "418                        0.0  ...        1.136586e+09   \n",
      "\n",
      "     Coarse Aggregate^2 Fine Aggregate  Coarse Aggregate^2 Age  \\\n",
      "538                       6.242222e+08            6.135293e+06   \n",
      "434                       7.577431e+08            2.841029e+07   \n",
      "454                       7.718325e+08            5.042303e+07   \n",
      "804                       6.697688e+08            2.474080e+07   \n",
      "518                       7.107786e+08            4.969238e+07   \n",
      "..                                 ...                     ...   \n",
      "145                       6.102655e+08            4.066017e+07   \n",
      "343                       7.882513e+08            1.046120e+08   \n",
      "192                       7.642606e+08            5.022130e+07   \n",
      "899                       7.782541e+08            2.683635e+07   \n",
      "418                       8.215089e+08            3.267303e+06   \n",
      "\n",
      "     Coarse Aggregate Fine Aggregate^2  Coarse Aggregate Fine Aggregate Age  \\\n",
      "538                       4.748676e+08                           4667331.48   \n",
      "434                       5.617815e+08                          21063045.92   \n",
      "454                       6.972440e+08                          45550236.48   \n",
      "804                       5.400902e+08                          19950560.00   \n",
      "518                       6.043881e+08                          42254352.00   \n",
      "..                                 ...                                  ...   \n",
      "145                       6.019577e+08                          40106642.80   \n",
      "343                       5.807072e+08                          77067980.00   \n",
      "192                       6.877539e+08                          45193870.40   \n",
      "899                       6.454978e+08                          22258544.00   \n",
      "418                       5.937755e+08                           2361562.44   \n",
      "\n",
      "     Coarse Aggregate Age^2  Fine Aggregate^3  Fine Aggregate^2 Age  \\\n",
      "538                 45873.8      3.612484e+08            3550601.88   \n",
      "434                789723.2      4.164980e+08           15615886.72   \n",
      "454               2975750.4      6.298636e+08           41148343.04   \n",
      "804                736960.0      4.355195e+08           16087792.00   \n",
      "518               2954112.0      5.139224e+08           35929656.00   \n",
      "..                      ...               ...                   ...   \n",
      "145               2672185.6      5.937630e+08           39560654.00   \n",
      "343              10228000.0      4.278089e+08           56776225.00   \n",
      "192               2969792.0      6.189059e+08           40669711.04   \n",
      "899                767536.0      5.353873e+08           18461632.00   \n",
      "418                  9392.4      4.291729e+08            1706905.47   \n",
      "\n",
      "     Fine Aggregate Age^2      Age^3  \n",
      "538               34897.8      343.0  \n",
      "434              585491.2    21952.0  \n",
      "454             2688179.2   175616.0  \n",
      "804              594272.0    21952.0  \n",
      "518             2511936.0   175616.0  \n",
      "..                    ...        ...  \n",
      "145             2635808.0   175616.0  \n",
      "343             7535000.0  1000000.0  \n",
      "192             2672499.2   175616.0  \n",
      "899              636608.0    21952.0  \n",
      "418                6788.7       27.0  \n",
      "\n",
      "[721 rows x 164 columns]\n"
     ]
    }
   ],
   "source": [
    "print(X_poly_trn)"
   ]
  },
  {
   "cell_type": "code",
   "execution_count": 274,
   "metadata": {},
   "outputs": [
    {
     "name": "stdout",
     "output_type": "stream",
     "text": [
      "(164, 2)\n"
     ]
    },
    {
     "data": {
      "text/html": [
       "<div>\n",
       "<style scoped>\n",
       "    .dataframe tbody tr th:only-of-type {\n",
       "        vertical-align: middle;\n",
       "    }\n",
       "\n",
       "    .dataframe tbody tr th {\n",
       "        vertical-align: top;\n",
       "    }\n",
       "\n",
       "    .dataframe thead th {\n",
       "        text-align: right;\n",
       "    }\n",
       "</style>\n",
       "<table border=\"1\" class=\"dataframe\">\n",
       "  <thead>\n",
       "    <tr style=\"text-align: right;\">\n",
       "      <th></th>\n",
       "      <th>col_names</th>\n",
       "      <th>coef</th>\n",
       "    </tr>\n",
       "  </thead>\n",
       "  <tbody>\n",
       "    <tr>\n",
       "      <th>1</th>\n",
       "      <td>Blast Furnace Slag</td>\n",
       "      <td>0.636144</td>\n",
       "    </tr>\n",
       "    <tr>\n",
       "      <th>5</th>\n",
       "      <td>Coarse Aggregate</td>\n",
       "      <td>2.612272</td>\n",
       "    </tr>\n",
       "    <tr>\n",
       "      <th>6</th>\n",
       "      <td>Fine Aggregate</td>\n",
       "      <td>0.909094</td>\n",
       "    </tr>\n",
       "    <tr>\n",
       "      <th>7</th>\n",
       "      <td>Age</td>\n",
       "      <td>0.123618</td>\n",
       "    </tr>\n",
       "    <tr>\n",
       "      <th>8</th>\n",
       "      <td>Cement^2</td>\n",
       "      <td>0.010445</td>\n",
       "    </tr>\n",
       "    <tr>\n",
       "      <th>9</th>\n",
       "      <td>Cement Blast Furnace Slag</td>\n",
       "      <td>0.031224</td>\n",
       "    </tr>\n",
       "    <tr>\n",
       "      <th>10</th>\n",
       "      <td>Cement Fly Ash</td>\n",
       "      <td>0.008666</td>\n",
       "    </tr>\n",
       "    <tr>\n",
       "      <th>14</th>\n",
       "      <td>Cement Fine Aggregate</td>\n",
       "      <td>0.023399</td>\n",
       "    </tr>\n",
       "    <tr>\n",
       "      <th>16</th>\n",
       "      <td>Blast Furnace Slag^2</td>\n",
       "      <td>0.004927</td>\n",
       "    </tr>\n",
       "    <tr>\n",
       "      <th>17</th>\n",
       "      <td>Blast Furnace Slag Fly Ash</td>\n",
       "      <td>0.015132</td>\n",
       "    </tr>\n",
       "    <tr>\n",
       "      <th>18</th>\n",
       "      <td>Blast Furnace Slag Water</td>\n",
       "      <td>0.011398</td>\n",
       "    </tr>\n",
       "    <tr>\n",
       "      <th>19</th>\n",
       "      <td>Blast Furnace Slag Superplasticizer</td>\n",
       "      <td>0.108260</td>\n",
       "    </tr>\n",
       "    <tr>\n",
       "      <th>21</th>\n",
       "      <td>Blast Furnace Slag Fine Aggregate</td>\n",
       "      <td>0.040342</td>\n",
       "    </tr>\n",
       "    <tr>\n",
       "      <th>22</th>\n",
       "      <td>Blast Furnace Slag Age</td>\n",
       "      <td>0.016544</td>\n",
       "    </tr>\n",
       "    <tr>\n",
       "      <th>24</th>\n",
       "      <td>Fly Ash Water</td>\n",
       "      <td>0.021236</td>\n",
       "    </tr>\n",
       "    <tr>\n",
       "      <th>25</th>\n",
       "      <td>Fly Ash Superplasticizer</td>\n",
       "      <td>0.288636</td>\n",
       "    </tr>\n",
       "    <tr>\n",
       "      <th>27</th>\n",
       "      <td>Fly Ash Fine Aggregate</td>\n",
       "      <td>0.050909</td>\n",
       "    </tr>\n",
       "    <tr>\n",
       "      <th>31</th>\n",
       "      <td>Water Coarse Aggregate</td>\n",
       "      <td>0.020078</td>\n",
       "    </tr>\n",
       "    <tr>\n",
       "      <th>32</th>\n",
       "      <td>Water Fine Aggregate</td>\n",
       "      <td>0.010407</td>\n",
       "    </tr>\n",
       "    <tr>\n",
       "      <th>33</th>\n",
       "      <td>Water Age</td>\n",
       "      <td>0.016039</td>\n",
       "    </tr>\n",
       "    <tr>\n",
       "      <th>35</th>\n",
       "      <td>Superplasticizer Coarse Aggregate</td>\n",
       "      <td>0.357927</td>\n",
       "    </tr>\n",
       "    <tr>\n",
       "      <th>37</th>\n",
       "      <td>Superplasticizer Age</td>\n",
       "      <td>0.601483</td>\n",
       "    </tr>\n",
       "    <tr>\n",
       "      <th>38</th>\n",
       "      <td>Coarse Aggregate^2</td>\n",
       "      <td>0.004922</td>\n",
       "    </tr>\n",
       "    <tr>\n",
       "      <th>42</th>\n",
       "      <td>Fine Aggregate Age</td>\n",
       "      <td>0.010530</td>\n",
       "    </tr>\n",
       "    <tr>\n",
       "      <th>43</th>\n",
       "      <td>Age^2</td>\n",
       "      <td>0.001606</td>\n",
       "    </tr>\n",
       "    <tr>\n",
       "      <th>66</th>\n",
       "      <td>Cement Water Superplasticizer</td>\n",
       "      <td>0.000638</td>\n",
       "    </tr>\n",
       "    <tr>\n",
       "      <th>70</th>\n",
       "      <td>Cement Superplasticizer^2</td>\n",
       "      <td>0.000930</td>\n",
       "    </tr>\n",
       "    <tr>\n",
       "      <th>94</th>\n",
       "      <td>Blast Furnace Slag Water Superplasticizer</td>\n",
       "      <td>0.000233</td>\n",
       "    </tr>\n",
       "    <tr>\n",
       "      <th>98</th>\n",
       "      <td>Blast Furnace Slag Superplasticizer^2</td>\n",
       "      <td>0.000221</td>\n",
       "    </tr>\n",
       "    <tr>\n",
       "      <th>115</th>\n",
       "      <td>Fly Ash Water Superplasticizer</td>\n",
       "      <td>0.000591</td>\n",
       "    </tr>\n",
       "    <tr>\n",
       "      <th>119</th>\n",
       "      <td>Fly Ash Superplasticizer^2</td>\n",
       "      <td>0.001580</td>\n",
       "    </tr>\n",
       "    <tr>\n",
       "      <th>130</th>\n",
       "      <td>Water^2 Superplasticizer</td>\n",
       "      <td>0.001146</td>\n",
       "    </tr>\n",
       "    <tr>\n",
       "      <th>136</th>\n",
       "      <td>Water Superplasticizer Fine Aggregate</td>\n",
       "      <td>0.000637</td>\n",
       "    </tr>\n",
       "    <tr>\n",
       "      <th>146</th>\n",
       "      <td>Superplasticizer^2 Fine Aggregate</td>\n",
       "      <td>0.000393</td>\n",
       "    </tr>\n",
       "    <tr>\n",
       "      <th>147</th>\n",
       "      <td>Superplasticizer^2 Age</td>\n",
       "      <td>0.000688</td>\n",
       "    </tr>\n",
       "  </tbody>\n",
       "</table>\n",
       "</div>"
      ],
      "text/plain": [
       "                                     col_names      coef\n",
       "1                           Blast Furnace Slag  0.636144\n",
       "5                             Coarse Aggregate  2.612272\n",
       "6                               Fine Aggregate  0.909094\n",
       "7                                          Age  0.123618\n",
       "8                                     Cement^2  0.010445\n",
       "9                    Cement Blast Furnace Slag  0.031224\n",
       "10                              Cement Fly Ash  0.008666\n",
       "14                       Cement Fine Aggregate  0.023399\n",
       "16                        Blast Furnace Slag^2  0.004927\n",
       "17                  Blast Furnace Slag Fly Ash  0.015132\n",
       "18                    Blast Furnace Slag Water  0.011398\n",
       "19         Blast Furnace Slag Superplasticizer  0.108260\n",
       "21           Blast Furnace Slag Fine Aggregate  0.040342\n",
       "22                      Blast Furnace Slag Age  0.016544\n",
       "24                               Fly Ash Water  0.021236\n",
       "25                    Fly Ash Superplasticizer  0.288636\n",
       "27                      Fly Ash Fine Aggregate  0.050909\n",
       "31                      Water Coarse Aggregate  0.020078\n",
       "32                        Water Fine Aggregate  0.010407\n",
       "33                                   Water Age  0.016039\n",
       "35           Superplasticizer Coarse Aggregate  0.357927\n",
       "37                        Superplasticizer Age  0.601483\n",
       "38                          Coarse Aggregate^2  0.004922\n",
       "42                          Fine Aggregate Age  0.010530\n",
       "43                                       Age^2  0.001606\n",
       "66               Cement Water Superplasticizer  0.000638\n",
       "70                   Cement Superplasticizer^2  0.000930\n",
       "94   Blast Furnace Slag Water Superplasticizer  0.000233\n",
       "98       Blast Furnace Slag Superplasticizer^2  0.000221\n",
       "115             Fly Ash Water Superplasticizer  0.000591\n",
       "119                 Fly Ash Superplasticizer^2  0.001580\n",
       "130                   Water^2 Superplasticizer  0.001146\n",
       "136      Water Superplasticizer Fine Aggregate  0.000637\n",
       "146          Superplasticizer^2 Fine Aggregate  0.000393\n",
       "147                     Superplasticizer^2 Age  0.000688"
      ]
     },
     "execution_count": 274,
     "metadata": {},
     "output_type": "execute_result"
    }
   ],
   "source": [
    "df_coef = pd.DataFrame({'col_names': list(X_poly_trn.columns), 'coef':list(rr.coef_[0])})\n",
    "print(df_coef.shape)\n",
    "df_coef[df_coef['coef'] > 0.0001]"
   ]
  },
  {
   "cell_type": "code",
   "execution_count": 275,
   "metadata": {},
   "outputs": [
    {
     "data": {
      "text/plain": [
       "0.5771745422643093"
      ]
     },
     "execution_count": 275,
     "metadata": {},
     "output_type": "execute_result"
    }
   ],
   "source": [
    "# Different alpha values\n",
    "rr = Ridge(alpha=2)\n",
    "rr.fit(X_train, y_train)\n",
    "y_pred = rr.predict(X_test)\n",
    "r2_score(y_test, y_pred)"
   ]
  },
  {
   "cell_type": "markdown",
   "metadata": {},
   "source": [
    "**Hyperparameter** is a setting in a machine learning model that is not learned from data but set before training (e.g., learning rate, tree depth). \n",
    "\n",
    "**Hyperparameter tuning** is the process of selecting the best values for these settings to improve model performance."
   ]
  },
  {
   "cell_type": "markdown",
   "metadata": {},
   "source": [
    "Tuning fir alpha = [0.01, 0.1, 0.3, 0.6, 1.0, 3.10]"
   ]
  },
  {
   "cell_type": "code",
   "execution_count": 276,
   "metadata": {},
   "outputs": [
    {
     "name": "stdout",
     "output_type": "stream",
     "text": [
      "[0.5771752740273375, 0.5771752409296148, 0.577175167380108, 0.5771750570584018, 0.5771749099675627, 0.5771747261116779, 0.5771745422643093, 0.5771738069600132, 0.5771716018651835]\n",
      "Best alpha:  0.01\n",
      "Best score:  0.5771752740273375\n"
     ]
    }
   ],
   "source": [
    "alphas = [0.01, 0.1, 0.3, 0.6, 1, 1.5, 2, 4, 10]\n",
    "scores = []\n",
    "for a in alphas:\n",
    "    rr = Ridge(alpha=a)\n",
    "    rr.fit(X_train, y_train)\n",
    "    y_pred = rr.predict(X_test)\n",
    "    scores.append(r2_score(y_test, y_pred))\n",
    "\n",
    "print(scores)\n",
    "\n",
    "idxmax = np.argmax(scores)\n",
    "\n",
    "print(\"Best alpha: \",alphas[idxmax])\n",
    "print(\"Best score: \",scores[idxmax])"
   ]
  },
  {
   "cell_type": "markdown",
   "metadata": {},
   "source": [
    "Hyperparameters optimization"
   ]
  },
  {
   "cell_type": "code",
   "execution_count": 277,
   "metadata": {},
   "outputs": [
    {
     "name": "stdout",
     "output_type": "stream",
     "text": [
      "Best alpha:  0.0001\n",
      "Best score:  0.5771752776681036\n",
      " 0.0001\n",
      "Best score:  0.5771752776681036\n"
     ]
    }
   ],
   "source": [
    "alphas = np.linspace(0.0001, 10, 20)  \n",
    "scores = []\n",
    "for a in alphas:\n",
    "    rr = Ridge(alpha=a)\n",
    "    rr.fit(X_train, y_train)\n",
    "    y_pred = rr.predict(X_test)\n",
    "    scores.append(r2_score(y_test, y_pred))\n",
    "\n",
    "idxmax = np.argmax(scores)\n",
    "\n",
    "print(\"Best alpha: \",alphas[idxmax])\n",
    "print(\"Best score: \",scores[idxmax])"
   ]
  },
  {
   "cell_type": "markdown",
   "metadata": {},
   "source": [
    "# Lasso Regression (L1 Norm)"
   ]
  },
  {
   "cell_type": "code",
   "execution_count": 279,
   "metadata": {},
   "outputs": [
    {
     "data": {
      "text/plain": [
       "0.576333587787164"
      ]
     },
     "execution_count": 279,
     "metadata": {},
     "output_type": "execute_result"
    }
   ],
   "source": [
    "lasso = Lasso()\n",
    "lasso.fit(X_train, y_train)\n",
    "y_pred = lasso.predict(X_test)\n",
    "r2_score(y_test, y_pred)"
   ]
  },
  {
   "cell_type": "markdown",
   "metadata": {},
   "source": [
    "Hyper parameters optimization"
   ]
  },
  {
   "cell_type": "code",
   "execution_count": 280,
   "metadata": {},
   "outputs": [
    {
     "name": "stdout",
     "output_type": "stream",
     "text": [
      "Best alpha:  0.0001\n",
      "Best score:  0.5771752162488388\n"
     ]
    }
   ],
   "source": [
    "alphas = np.linspace(0.0001, 10, 20)  \n",
    "scores = []\n",
    "for a in alphas:\n",
    "    lassor = Lasso(alpha=a)\n",
    "    lassor.fit(X_train, y_train)\n",
    "    y_pred = lassor.predict(X_test)\n",
    "    scores.append(r2_score(y_test, y_pred))\n",
    "\n",
    "idxmax = np.argmax(scores)\n",
    "\n",
    "print(\"Best alpha: \",alphas[idxmax])\n",
    "print(\"Best score: \",scores[idxmax])"
   ]
  },
  {
   "cell_type": "markdown",
   "metadata": {},
   "source": [
    "# Elastic Regression"
   ]
  },
  {
   "cell_type": "code",
   "execution_count": 284,
   "metadata": {},
   "outputs": [
    {
     "data": {
      "text/plain": [
       "0.5766806310401154"
      ]
     },
     "execution_count": 284,
     "metadata": {},
     "output_type": "execute_result"
    }
   ],
   "source": [
    "er = ElasticNet()\n",
    "er.fit(X_train, y_train)\n",
    "y_pred = er.predict(X_test)\n",
    "r2_score(y_test, y_pred)"
   ]
  },
  {
   "cell_type": "code",
   "execution_count": 291,
   "metadata": {},
   "outputs": [
    {
     "data": {
      "text/html": [
       "<div>\n",
       "<style scoped>\n",
       "    .dataframe tbody tr th:only-of-type {\n",
       "        vertical-align: middle;\n",
       "    }\n",
       "\n",
       "    .dataframe tbody tr th {\n",
       "        vertical-align: top;\n",
       "    }\n",
       "\n",
       "    .dataframe thead th {\n",
       "        text-align: right;\n",
       "    }\n",
       "</style>\n",
       "<table border=\"1\" class=\"dataframe\">\n",
       "  <thead>\n",
       "    <tr style=\"text-align: right;\">\n",
       "      <th></th>\n",
       "      <th>alpha</th>\n",
       "      <th>l1_ratio</th>\n",
       "      <th>score</th>\n",
       "    </tr>\n",
       "  </thead>\n",
       "  <tbody>\n",
       "    <tr>\n",
       "      <th>0</th>\n",
       "      <td>0.0001</td>\n",
       "      <td>0.0001</td>\n",
       "      <td>0.577175</td>\n",
       "    </tr>\n",
       "    <tr>\n",
       "      <th>1</th>\n",
       "      <td>0.0001</td>\n",
       "      <td>0.1112</td>\n",
       "      <td>0.577175</td>\n",
       "    </tr>\n",
       "    <tr>\n",
       "      <th>2</th>\n",
       "      <td>0.0001</td>\n",
       "      <td>0.2223</td>\n",
       "      <td>0.577175</td>\n",
       "    </tr>\n",
       "    <tr>\n",
       "      <th>3</th>\n",
       "      <td>0.0001</td>\n",
       "      <td>0.3334</td>\n",
       "      <td>0.577175</td>\n",
       "    </tr>\n",
       "    <tr>\n",
       "      <th>4</th>\n",
       "      <td>0.0001</td>\n",
       "      <td>0.4445</td>\n",
       "      <td>0.577175</td>\n",
       "    </tr>\n",
       "    <tr>\n",
       "      <th>...</th>\n",
       "      <td>...</td>\n",
       "      <td>...</td>\n",
       "      <td>...</td>\n",
       "    </tr>\n",
       "    <tr>\n",
       "      <th>195</th>\n",
       "      <td>10.0000</td>\n",
       "      <td>0.5556</td>\n",
       "      <td>0.572413</td>\n",
       "    </tr>\n",
       "    <tr>\n",
       "      <th>196</th>\n",
       "      <td>10.0000</td>\n",
       "      <td>0.6667</td>\n",
       "      <td>0.572674</td>\n",
       "    </tr>\n",
       "    <tr>\n",
       "      <th>197</th>\n",
       "      <td>10.0000</td>\n",
       "      <td>0.7778</td>\n",
       "      <td>0.572891</td>\n",
       "    </tr>\n",
       "    <tr>\n",
       "      <th>198</th>\n",
       "      <td>10.0000</td>\n",
       "      <td>0.8889</td>\n",
       "      <td>0.573061</td>\n",
       "    </tr>\n",
       "    <tr>\n",
       "      <th>199</th>\n",
       "      <td>10.0000</td>\n",
       "      <td>1.0000</td>\n",
       "      <td>0.573162</td>\n",
       "    </tr>\n",
       "  </tbody>\n",
       "</table>\n",
       "<p>200 rows × 3 columns</p>\n",
       "</div>"
      ],
      "text/plain": [
       "       alpha  l1_ratio     score\n",
       "0     0.0001    0.0001  0.577175\n",
       "1     0.0001    0.1112  0.577175\n",
       "2     0.0001    0.2223  0.577175\n",
       "3     0.0001    0.3334  0.577175\n",
       "4     0.0001    0.4445  0.577175\n",
       "..       ...       ...       ...\n",
       "195  10.0000    0.5556  0.572413\n",
       "196  10.0000    0.6667  0.572674\n",
       "197  10.0000    0.7778  0.572891\n",
       "198  10.0000    0.8889  0.573061\n",
       "199  10.0000    1.0000  0.573162\n",
       "\n",
       "[200 rows x 3 columns]"
      ]
     },
     "execution_count": 291,
     "metadata": {},
     "output_type": "execute_result"
    }
   ],
   "source": [
    "alphas = np.linspace(0.0001, 10, 20)  \n",
    "l1 = np.linspace(0.0001, 1, 10)\n",
    "scores = []\n",
    "for a in alphas:\n",
    "    for l in l1:\n",
    "        er = ElasticNet(alpha=a, l1_ratio=l)\n",
    "        er.fit(X_train, y_train)\n",
    "        y_pred = er.predict(X_test)\n",
    "        scores.append({\n",
    "            'alpha': a,\n",
    "            'l1_ratio': l,\n",
    "            'score': r2_score(y_test, y_pred)\n",
    "        })\n",
    "\n",
    "df_scores = pd.DataFrame(scores)\n",
    "df_scores.sort_values('score', ascending=False)\n",
    "df_scores\n"
   ]
  }
 ],
 "metadata": {
  "kernelspec": {
   "display_name": "Python 3",
   "language": "python",
   "name": "python3"
  },
  "language_info": {
   "codemirror_mode": {
    "name": "ipython",
    "version": 3
   },
   "file_extension": ".py",
   "mimetype": "text/x-python",
   "name": "python",
   "nbconvert_exporter": "python",
   "pygments_lexer": "ipython3",
   "version": "3.8.5"
  }
 },
 "nbformat": 4,
 "nbformat_minor": 2
}
