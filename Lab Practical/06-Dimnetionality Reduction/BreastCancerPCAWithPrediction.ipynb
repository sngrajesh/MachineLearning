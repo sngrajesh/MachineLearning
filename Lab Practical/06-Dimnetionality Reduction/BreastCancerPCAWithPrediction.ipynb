{
 "cells": [
  {
   "cell_type": "code",
   "execution_count": 45,
   "metadata": {},
   "outputs": [],
   "source": [
    "import numpy as np\n",
    "import pandas as pd\n",
    "from sklearn.decomposition import PCA\n",
    "from sklearn.pipeline import Pipeline\n",
    "from sklearn.metrics import accuracy_score\n",
    "from sklearn.preprocessing import StandardScaler\n",
    "from sklearn.linear_model import LogisticRegression\n",
    "from sklearn.model_selection import train_test_split\n",
    "\n",
    "\n",
    "import warnings\n",
    "warnings.filterwarnings('ignore')"
   ]
  },
  {
   "cell_type": "code",
   "execution_count": 46,
   "metadata": {},
   "outputs": [
    {
     "data": {
      "text/html": [
       "<div>\n",
       "<style scoped>\n",
       "    .dataframe tbody tr th:only-of-type {\n",
       "        vertical-align: middle;\n",
       "    }\n",
       "\n",
       "    .dataframe tbody tr th {\n",
       "        vertical-align: top;\n",
       "    }\n",
       "\n",
       "    .dataframe thead th {\n",
       "        text-align: right;\n",
       "    }\n",
       "</style>\n",
       "<table border=\"1\" class=\"dataframe\">\n",
       "  <thead>\n",
       "    <tr style=\"text-align: right;\">\n",
       "      <th></th>\n",
       "      <th>Clump</th>\n",
       "      <th>UniCell_Size</th>\n",
       "      <th>Uni_CellShape</th>\n",
       "      <th>MargAdh</th>\n",
       "      <th>SEpith</th>\n",
       "      <th>BareN</th>\n",
       "      <th>BChromatin</th>\n",
       "      <th>NoemN</th>\n",
       "      <th>Mitoses</th>\n",
       "      <th>Class</th>\n",
       "    </tr>\n",
       "    <tr>\n",
       "      <th>Code</th>\n",
       "      <th></th>\n",
       "      <th></th>\n",
       "      <th></th>\n",
       "      <th></th>\n",
       "      <th></th>\n",
       "      <th></th>\n",
       "      <th></th>\n",
       "      <th></th>\n",
       "      <th></th>\n",
       "      <th></th>\n",
       "    </tr>\n",
       "  </thead>\n",
       "  <tbody>\n",
       "    <tr>\n",
       "      <th>61634</th>\n",
       "      <td>5</td>\n",
       "      <td>4</td>\n",
       "      <td>3</td>\n",
       "      <td>1</td>\n",
       "      <td>2</td>\n",
       "      <td>2</td>\n",
       "      <td>2</td>\n",
       "      <td>3</td>\n",
       "      <td>1</td>\n",
       "      <td>Benign</td>\n",
       "    </tr>\n",
       "    <tr>\n",
       "      <th>63375</th>\n",
       "      <td>9</td>\n",
       "      <td>1</td>\n",
       "      <td>2</td>\n",
       "      <td>6</td>\n",
       "      <td>4</td>\n",
       "      <td>10</td>\n",
       "      <td>7</td>\n",
       "      <td>7</td>\n",
       "      <td>2</td>\n",
       "      <td>Malignant</td>\n",
       "    </tr>\n",
       "    <tr>\n",
       "      <th>76389</th>\n",
       "      <td>10</td>\n",
       "      <td>4</td>\n",
       "      <td>7</td>\n",
       "      <td>2</td>\n",
       "      <td>2</td>\n",
       "      <td>8</td>\n",
       "      <td>6</td>\n",
       "      <td>1</td>\n",
       "      <td>1</td>\n",
       "      <td>Malignant</td>\n",
       "    </tr>\n",
       "    <tr>\n",
       "      <th>95719</th>\n",
       "      <td>6</td>\n",
       "      <td>10</td>\n",
       "      <td>10</td>\n",
       "      <td>10</td>\n",
       "      <td>8</td>\n",
       "      <td>10</td>\n",
       "      <td>7</td>\n",
       "      <td>10</td>\n",
       "      <td>7</td>\n",
       "      <td>Malignant</td>\n",
       "    </tr>\n",
       "    <tr>\n",
       "      <th>128059</th>\n",
       "      <td>1</td>\n",
       "      <td>1</td>\n",
       "      <td>1</td>\n",
       "      <td>1</td>\n",
       "      <td>2</td>\n",
       "      <td>5</td>\n",
       "      <td>5</td>\n",
       "      <td>1</td>\n",
       "      <td>1</td>\n",
       "      <td>Benign</td>\n",
       "    </tr>\n",
       "  </tbody>\n",
       "</table>\n",
       "</div>"
      ],
      "text/plain": [
       "        Clump  UniCell_Size  Uni_CellShape  ...  NoemN  Mitoses      Class\n",
       "Code                                        ...                           \n",
       "61634       5             4              3  ...      3        1     Benign\n",
       "63375       9             1              2  ...      7        2  Malignant\n",
       "76389      10             4              7  ...      1        1  Malignant\n",
       "95719       6            10             10  ...     10        7  Malignant\n",
       "128059      1             1              1  ...      1        1     Benign\n",
       "\n",
       "[5 rows x 10 columns]"
      ]
     },
     "execution_count": 46,
     "metadata": {},
     "output_type": "execute_result"
    }
   ],
   "source": [
    "df = pd.read_csv(r'C:\\Users\\DAI.STUDENTSDC\\Desktop\\Machine Learning\\Data Sets\\Cases\\Wisconsin\\BreastCancer.csv', index_col=0)\n",
    "df.head()"
   ]
  },
  {
   "cell_type": "code",
   "execution_count": 47,
   "metadata": {},
   "outputs": [
    {
     "data": {
      "text/plain": [
       "(699, 10)"
      ]
     },
     "execution_count": 47,
     "metadata": {},
     "output_type": "execute_result"
    }
   ],
   "source": [
    "df.shape"
   ]
  },
  {
   "cell_type": "code",
   "execution_count": 48,
   "metadata": {},
   "outputs": [],
   "source": [
    "X = df.drop(['Class'], axis=1)\n",
    "y = df['Class']"
   ]
  },
  {
   "cell_type": "code",
   "execution_count": 49,
   "metadata": {},
   "outputs": [
    {
     "data": {
      "text/html": [
       "<div>\n",
       "<style scoped>\n",
       "    .dataframe tbody tr th:only-of-type {\n",
       "        vertical-align: middle;\n",
       "    }\n",
       "\n",
       "    .dataframe tbody tr th {\n",
       "        vertical-align: top;\n",
       "    }\n",
       "\n",
       "    .dataframe thead th {\n",
       "        text-align: right;\n",
       "    }\n",
       "</style>\n",
       "<table border=\"1\" class=\"dataframe\">\n",
       "  <thead>\n",
       "    <tr style=\"text-align: right;\">\n",
       "      <th></th>\n",
       "      <th>pca0</th>\n",
       "      <th>pca1</th>\n",
       "      <th>pca2</th>\n",
       "      <th>pca3</th>\n",
       "      <th>pca4</th>\n",
       "      <th>pca5</th>\n",
       "      <th>pca6</th>\n",
       "      <th>pca7</th>\n",
       "      <th>pca8</th>\n",
       "    </tr>\n",
       "    <tr>\n",
       "      <th>Code</th>\n",
       "      <th></th>\n",
       "      <th></th>\n",
       "      <th></th>\n",
       "      <th></th>\n",
       "      <th></th>\n",
       "      <th></th>\n",
       "      <th></th>\n",
       "      <th></th>\n",
       "      <th></th>\n",
       "    </tr>\n",
       "  </thead>\n",
       "  <tbody>\n",
       "    <tr>\n",
       "      <th>61634</th>\n",
       "      <td>-0.661561</td>\n",
       "      <td>-0.168216</td>\n",
       "      <td>0.583962</td>\n",
       "      <td>-0.439347</td>\n",
       "      <td>-0.230526</td>\n",
       "      <td>0.130653</td>\n",
       "      <td>-0.097528</td>\n",
       "      <td>0.541727</td>\n",
       "      <td>0.328081</td>\n",
       "    </tr>\n",
       "    <tr>\n",
       "      <th>63375</th>\n",
       "      <td>2.178759</td>\n",
       "      <td>-0.693348</td>\n",
       "      <td>0.432389</td>\n",
       "      <td>1.192376</td>\n",
       "      <td>-1.074153</td>\n",
       "      <td>-0.442691</td>\n",
       "      <td>-0.702441</td>\n",
       "      <td>-1.787781</td>\n",
       "      <td>-0.244667</td>\n",
       "    </tr>\n",
       "    <tr>\n",
       "      <th>76389</th>\n",
       "      <td>1.404956</td>\n",
       "      <td>-1.364750</td>\n",
       "      <td>1.761714</td>\n",
       "      <td>0.878367</td>\n",
       "      <td>0.013219</td>\n",
       "      <td>-0.517801</td>\n",
       "      <td>0.835375</td>\n",
       "      <td>0.408381</td>\n",
       "      <td>-0.565653</td>\n",
       "    </tr>\n",
       "    <tr>\n",
       "      <th>95719</th>\n",
       "      <td>6.073098</td>\n",
       "      <td>1.994961</td>\n",
       "      <td>-1.081435</td>\n",
       "      <td>0.237234</td>\n",
       "      <td>-0.141189</td>\n",
       "      <td>0.019790</td>\n",
       "      <td>-0.355352</td>\n",
       "      <td>0.444035</td>\n",
       "      <td>-0.062628</td>\n",
       "    </tr>\n",
       "    <tr>\n",
       "      <th>128059</th>\n",
       "      <td>-1.237518</td>\n",
       "      <td>-0.370332</td>\n",
       "      <td>-0.823064</td>\n",
       "      <td>0.473932</td>\n",
       "      <td>-0.127604</td>\n",
       "      <td>-1.151372</td>\n",
       "      <td>0.508269</td>\n",
       "      <td>-0.344131</td>\n",
       "      <td>0.029906</td>\n",
       "    </tr>\n",
       "    <tr>\n",
       "      <th>...</th>\n",
       "      <td>...</td>\n",
       "      <td>...</td>\n",
       "      <td>...</td>\n",
       "      <td>...</td>\n",
       "      <td>...</td>\n",
       "      <td>...</td>\n",
       "      <td>...</td>\n",
       "      <td>...</td>\n",
       "      <td>...</td>\n",
       "    </tr>\n",
       "    <tr>\n",
       "      <th>1369821</th>\n",
       "      <td>6.473443</td>\n",
       "      <td>1.285709</td>\n",
       "      <td>0.048059</td>\n",
       "      <td>0.936819</td>\n",
       "      <td>-1.446932</td>\n",
       "      <td>0.152226</td>\n",
       "      <td>0.731058</td>\n",
       "      <td>0.235807</td>\n",
       "      <td>-0.042668</td>\n",
       "    </tr>\n",
       "    <tr>\n",
       "      <th>1371026</th>\n",
       "      <td>4.097345</td>\n",
       "      <td>-0.215083</td>\n",
       "      <td>-1.078721</td>\n",
       "      <td>0.912918</td>\n",
       "      <td>0.027151</td>\n",
       "      <td>0.599090</td>\n",
       "      <td>-0.276698</td>\n",
       "      <td>1.705969</td>\n",
       "      <td>0.099999</td>\n",
       "    </tr>\n",
       "    <tr>\n",
       "      <th>1371920</th>\n",
       "      <td>-1.351669</td>\n",
       "      <td>-0.095164</td>\n",
       "      <td>0.536224</td>\n",
       "      <td>-0.120275</td>\n",
       "      <td>-0.359013</td>\n",
       "      <td>0.101649</td>\n",
       "      <td>0.178219</td>\n",
       "      <td>-0.452815</td>\n",
       "      <td>0.002252</td>\n",
       "    </tr>\n",
       "    <tr>\n",
       "      <th>8233704</th>\n",
       "      <td>-1.863315</td>\n",
       "      <td>-0.033168</td>\n",
       "      <td>0.397754</td>\n",
       "      <td>0.162372</td>\n",
       "      <td>-0.323218</td>\n",
       "      <td>0.143299</td>\n",
       "      <td>0.132854</td>\n",
       "      <td>0.031213</td>\n",
       "      <td>0.050583</td>\n",
       "    </tr>\n",
       "    <tr>\n",
       "      <th>13454352</th>\n",
       "      <td>-1.779645</td>\n",
       "      <td>0.136043</td>\n",
       "      <td>-0.543959</td>\n",
       "      <td>-0.245631</td>\n",
       "      <td>0.115749</td>\n",
       "      <td>-0.154162</td>\n",
       "      <td>0.152027</td>\n",
       "      <td>0.470652</td>\n",
       "      <td>-0.430034</td>\n",
       "    </tr>\n",
       "  </tbody>\n",
       "</table>\n",
       "<p>699 rows × 9 columns</p>\n",
       "</div>"
      ],
      "text/plain": [
       "              pca0      pca1      pca2  ...      pca6      pca7      pca8\n",
       "Code                                    ...                              \n",
       "61634    -0.661561 -0.168216  0.583962  ... -0.097528  0.541727  0.328081\n",
       "63375     2.178759 -0.693348  0.432389  ... -0.702441 -1.787781 -0.244667\n",
       "76389     1.404956 -1.364750  1.761714  ...  0.835375  0.408381 -0.565653\n",
       "95719     6.073098  1.994961 -1.081435  ... -0.355352  0.444035 -0.062628\n",
       "128059   -1.237518 -0.370332 -0.823064  ...  0.508269 -0.344131  0.029906\n",
       "...            ...       ...       ...  ...       ...       ...       ...\n",
       "1369821   6.473443  1.285709  0.048059  ...  0.731058  0.235807 -0.042668\n",
       "1371026   4.097345 -0.215083 -1.078721  ... -0.276698  1.705969  0.099999\n",
       "1371920  -1.351669 -0.095164  0.536224  ...  0.178219 -0.452815  0.002252\n",
       "8233704  -1.863315 -0.033168  0.397754  ...  0.132854  0.031213  0.050583\n",
       "13454352 -1.779645  0.136043 -0.543959  ...  0.152027  0.470652 -0.430034\n",
       "\n",
       "[699 rows x 9 columns]"
      ]
     },
     "execution_count": 49,
     "metadata": {},
     "output_type": "execute_result"
    }
   ],
   "source": [
    "s_scalar = StandardScaler().set_output(transform='pandas')\n",
    "df_scl = s_scalar.fit_transform(X)\n",
    "\n",
    "pca = PCA().set_output(transform='pandas')\n",
    "pca_df = pca.fit_transform(df_scl)\n",
    "pca_df #Eigen vector"
   ]
  },
  {
   "cell_type": "code",
   "execution_count": 50,
   "metadata": {},
   "outputs": [
    {
     "data": {
      "text/html": [
       "<div>\n",
       "<style scoped>\n",
       "    .dataframe tbody tr th:only-of-type {\n",
       "        vertical-align: middle;\n",
       "    }\n",
       "\n",
       "    .dataframe tbody tr th {\n",
       "        vertical-align: top;\n",
       "    }\n",
       "\n",
       "    .dataframe thead th {\n",
       "        text-align: right;\n",
       "    }\n",
       "</style>\n",
       "<table border=\"1\" class=\"dataframe\">\n",
       "  <thead>\n",
       "    <tr style=\"text-align: right;\">\n",
       "      <th></th>\n",
       "      <th>engen values</th>\n",
       "      <th>pca scores</th>\n",
       "    </tr>\n",
       "  </thead>\n",
       "  <tbody>\n",
       "    <tr>\n",
       "      <th>0</th>\n",
       "      <td>5.899333</td>\n",
       "      <td>5.899333</td>\n",
       "    </tr>\n",
       "    <tr>\n",
       "      <th>1</th>\n",
       "      <td>0.777475</td>\n",
       "      <td>0.777475</td>\n",
       "    </tr>\n",
       "    <tr>\n",
       "      <th>2</th>\n",
       "      <td>0.539624</td>\n",
       "      <td>0.539624</td>\n",
       "    </tr>\n",
       "    <tr>\n",
       "      <th>3</th>\n",
       "      <td>0.088819</td>\n",
       "      <td>0.462914</td>\n",
       "    </tr>\n",
       "    <tr>\n",
       "      <th>4</th>\n",
       "      <td>0.462914</td>\n",
       "      <td>0.380272</td>\n",
       "    </tr>\n",
       "    <tr>\n",
       "      <th>5</th>\n",
       "      <td>0.380272</td>\n",
       "      <td>0.305723</td>\n",
       "    </tr>\n",
       "    <tr>\n",
       "      <th>6</th>\n",
       "      <td>0.262712</td>\n",
       "      <td>0.296021</td>\n",
       "    </tr>\n",
       "    <tr>\n",
       "      <th>7</th>\n",
       "      <td>0.305723</td>\n",
       "      <td>0.262712</td>\n",
       "    </tr>\n",
       "    <tr>\n",
       "      <th>8</th>\n",
       "      <td>0.296021</td>\n",
       "      <td>0.088819</td>\n",
       "    </tr>\n",
       "  </tbody>\n",
       "</table>\n",
       "</div>"
      ],
      "text/plain": [
       "   engen values  pca scores\n",
       "0      5.899333    5.899333\n",
       "1      0.777475    0.777475\n",
       "2      0.539624    0.539624\n",
       "3      0.088819    0.462914\n",
       "4      0.462914    0.380272\n",
       "5      0.380272    0.305723\n",
       "6      0.262712    0.296021\n",
       "7      0.305723    0.262712\n",
       "8      0.296021    0.088819"
      ]
     },
     "execution_count": 50,
     "metadata": {},
     "output_type": "execute_result"
    }
   ],
   "source": [
    "var_cov = np.cov(df_scl.T)\n",
    "value, vectors = np.linalg.eig(var_cov)\n",
    "\n",
    "\n",
    "# Varicance and scores are similar\n",
    "pd.DataFrame([value, pca_df.var()], index=['engen values', 'pca scores']).T"
   ]
  },
  {
   "cell_type": "code",
   "execution_count": 51,
   "metadata": {},
   "outputs": [],
   "source": [
    "# Total variation\n",
    "total_variation = pca_df.var().sum()"
   ]
  },
  {
   "cell_type": "code",
   "execution_count": 52,
   "metadata": {},
   "outputs": [
    {
     "data": {
      "text/plain": [
       "pca0    65.454375\n",
       "pca1     8.626251\n",
       "pca2     5.987245\n",
       "pca3     5.136127\n",
       "pca4     4.219201\n",
       "pca5     3.392065\n",
       "pca6     3.284417\n",
       "pca7     2.914850\n",
       "pca8     0.985468\n",
       "dtype: float64"
      ]
     },
     "execution_count": 52,
     "metadata": {},
     "output_type": "execute_result"
    }
   ],
   "source": [
    "pca_df.var()/total_variation * 100"
   ]
  },
  {
   "cell_type": "code",
   "execution_count": 53,
   "metadata": {},
   "outputs": [
    {
     "data": {
      "text/plain": [
       "array([65.45437483,  8.62625123,  5.98724547,  5.13612665,  4.21920122,\n",
       "        3.39206535,  3.28441735,  2.91485025,  0.98546764])"
      ]
     },
     "execution_count": 53,
     "metadata": {},
     "output_type": "execute_result"
    }
   ],
   "source": [
    "pca.explained_variance_ratio_*100"
   ]
  },
  {
   "cell_type": "code",
   "execution_count": 54,
   "metadata": {},
   "outputs": [],
   "source": [
    "import seaborn as sns\n",
    "import matplotlib.pyplot as plt"
   ]
  },
  {
   "cell_type": "code",
   "execution_count": 55,
   "metadata": {},
   "outputs": [
    {
     "data": {
      "text/plain": [
       "<Axes: xlabel='UniCell_Size', ylabel='SEpith'>"
      ]
     },
     "execution_count": 55,
     "metadata": {},
     "output_type": "execute_result"
    },
    {
     "data": {
      "image/png": "[encoded data removed]",
      "text/plain": [
       "<Figure size 640x480 with 1 Axes>"
      ]
     },
     "metadata": {},
     "output_type": "display_data"
    }
   ],
   "source": [
    "sns.scatterplot(x='UniCell_Size', y='SEpith', hue='Class', data=df)"
   ]
  },
  {
   "cell_type": "code",
   "execution_count": 56,
   "metadata": {},
   "outputs": [
    {
     "data": {
      "image/png": "[encoded data removed]",
      "text/plain": [
       "<Figure size 640x480 with 1 Axes>"
      ]
     },
     "metadata": {},
     "output_type": "display_data"
    }
   ],
   "source": [
    "df_of_pca = pca_df.copy()\n",
    "df_of_pca['Class'] = df['Class'].astype('category')\n",
    "\n",
    "\n",
    "sns.scatterplot(x='pca0', y='pca1', hue='Class', data=df_of_pca)  \n",
    "plt.show()"
   ]
  },
  {
   "cell_type": "markdown",
   "metadata": {},
   "source": [
    "---\n",
    "### PCA + Logistic Regression ### \n",
    "Using with **supervised learning**\n"
   ]
  },
  {
   "cell_type": "code",
   "execution_count": 73,
   "metadata": {},
   "outputs": [
    {
     "data": {
      "text/html": [
       "<div>\n",
       "<style scoped>\n",
       "    .dataframe tbody tr th:only-of-type {\n",
       "        vertical-align: middle;\n",
       "    }\n",
       "\n",
       "    .dataframe tbody tr th {\n",
       "        vertical-align: top;\n",
       "    }\n",
       "\n",
       "    .dataframe thead th {\n",
       "        text-align: right;\n",
       "    }\n",
       "</style>\n",
       "<table border=\"1\" class=\"dataframe\">\n",
       "  <thead>\n",
       "    <tr style=\"text-align: right;\">\n",
       "      <th></th>\n",
       "      <th>Clump</th>\n",
       "      <th>UniCell_Size</th>\n",
       "      <th>Uni_CellShape</th>\n",
       "      <th>MargAdh</th>\n",
       "      <th>SEpith</th>\n",
       "      <th>BareN</th>\n",
       "      <th>BChromatin</th>\n",
       "      <th>NoemN</th>\n",
       "      <th>Mitoses</th>\n",
       "      <th>Class</th>\n",
       "    </tr>\n",
       "    <tr>\n",
       "      <th>Code</th>\n",
       "      <th></th>\n",
       "      <th></th>\n",
       "      <th></th>\n",
       "      <th></th>\n",
       "      <th></th>\n",
       "      <th></th>\n",
       "      <th></th>\n",
       "      <th></th>\n",
       "      <th></th>\n",
       "      <th></th>\n",
       "    </tr>\n",
       "  </thead>\n",
       "  <tbody>\n",
       "    <tr>\n",
       "      <th>61634</th>\n",
       "      <td>5</td>\n",
       "      <td>4</td>\n",
       "      <td>3</td>\n",
       "      <td>1</td>\n",
       "      <td>2</td>\n",
       "      <td>2</td>\n",
       "      <td>2</td>\n",
       "      <td>3</td>\n",
       "      <td>1</td>\n",
       "      <td>Benign</td>\n",
       "    </tr>\n",
       "    <tr>\n",
       "      <th>63375</th>\n",
       "      <td>9</td>\n",
       "      <td>1</td>\n",
       "      <td>2</td>\n",
       "      <td>6</td>\n",
       "      <td>4</td>\n",
       "      <td>10</td>\n",
       "      <td>7</td>\n",
       "      <td>7</td>\n",
       "      <td>2</td>\n",
       "      <td>Malignant</td>\n",
       "    </tr>\n",
       "    <tr>\n",
       "      <th>76389</th>\n",
       "      <td>10</td>\n",
       "      <td>4</td>\n",
       "      <td>7</td>\n",
       "      <td>2</td>\n",
       "      <td>2</td>\n",
       "      <td>8</td>\n",
       "      <td>6</td>\n",
       "      <td>1</td>\n",
       "      <td>1</td>\n",
       "      <td>Malignant</td>\n",
       "    </tr>\n",
       "    <tr>\n",
       "      <th>95719</th>\n",
       "      <td>6</td>\n",
       "      <td>10</td>\n",
       "      <td>10</td>\n",
       "      <td>10</td>\n",
       "      <td>8</td>\n",
       "      <td>10</td>\n",
       "      <td>7</td>\n",
       "      <td>10</td>\n",
       "      <td>7</td>\n",
       "      <td>Malignant</td>\n",
       "    </tr>\n",
       "    <tr>\n",
       "      <th>128059</th>\n",
       "      <td>1</td>\n",
       "      <td>1</td>\n",
       "      <td>1</td>\n",
       "      <td>1</td>\n",
       "      <td>2</td>\n",
       "      <td>5</td>\n",
       "      <td>5</td>\n",
       "      <td>1</td>\n",
       "      <td>1</td>\n",
       "      <td>Benign</td>\n",
       "    </tr>\n",
       "  </tbody>\n",
       "</table>\n",
       "</div>"
      ],
      "text/plain": [
       "        Clump  UniCell_Size  Uni_CellShape  ...  NoemN  Mitoses      Class\n",
       "Code                                        ...                           \n",
       "61634       5             4              3  ...      3        1     Benign\n",
       "63375       9             1              2  ...      7        2  Malignant\n",
       "76389      10             4              7  ...      1        1  Malignant\n",
       "95719       6            10             10  ...     10        7  Malignant\n",
       "128059      1             1              1  ...      1        1     Benign\n",
       "\n",
       "[5 rows x 10 columns]"
      ]
     },
     "execution_count": 73,
     "metadata": {},
     "output_type": "execute_result"
    }
   ],
   "source": [
    "df = pd.read_csv(r'C:\\Users\\DAI.STUDENTSDC\\Desktop\\Machine Learning\\Data Sets\\Cases\\Wisconsin\\BreastCancer.csv', index_col=0)\n",
    "df.head()"
   ]
  },
  {
   "cell_type": "code",
   "execution_count": 74,
   "metadata": {},
   "outputs": [],
   "source": [
    "X = df.drop(['Class'], axis=1)\n",
    "y = df['Class']"
   ]
  },
  {
   "cell_type": "code",
   "execution_count": 75,
   "metadata": {},
   "outputs": [],
   "source": [
    "X_train, X_test, y_train, y_test = train_test_split(X, y, test_size=0.3, random_state=24, stratify=y)"
   ]
  },
  {
   "cell_type": "code",
   "execution_count": 77,
   "metadata": {},
   "outputs": [
    {
     "name": "stdout",
     "output_type": "stream",
     "text": [
      "0.9761904761904762\n"
     ]
    }
   ],
   "source": [
    "s_scalar = StandardScaler().set_output(transform='pandas')\n",
    "pca = PCA(n_components=5).set_output(transform='pandas')\n",
    "\n",
    "log_reg = LogisticRegression(random_state=24)\n",
    "\n",
    "\n",
    "pipe_pca = Pipeline([\n",
    "    ('scale', s_scalar),\n",
    "    ('pca', pca),\n",
    "])\n",
    "\n",
    "\n",
    "\n",
    "X_train_pca = pipe_pca.fit_transform(X_train)\n",
    "log_reg.fit(X_train_pca, y_train)\n",
    "\n",
    "X_test_pca = pipe_pca.transform(X_test)\n",
    "y_pred = log_reg.predict(X_test_pca)\n",
    "\n",
    "accuracy = accuracy_score(y_test, y_pred)\n",
    "print(accuracy)\n",
    "\n"
   ]
  },
  {
   "cell_type": "code",
   "execution_count": null,
   "metadata": {},
   "outputs": [],
   "source": []
  },
  {
   "cell_type": "code",
   "execution_count": null,
   "metadata": {},
   "outputs": [],
   "source": []
  },
  {
   "cell_type": "code",
   "execution_count": null,
   "metadata": {},
   "outputs": [],
   "source": []
  }
 ],
 "metadata": {
  "kernelspec": {
   "display_name": "pythonProject",
   "language": "python",
   "name": "python3"
  },
  "language_info": {
   "codemirror_mode": {
    "name": "ipython",
    "version": 3
   },
   "file_extension": ".py",
   "mimetype": "text/x-python",
   "name": "python",
   "nbconvert_exporter": "python",
   "pygments_lexer": "ipython3",
   "version": "3.12.4"
  }
 },
 "nbformat": 4,
 "nbformat_minor": 2
}
