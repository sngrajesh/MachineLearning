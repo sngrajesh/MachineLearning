{
 "cells": [
  {
   "cell_type": "markdown",
   "metadata": {},
   "source": [
    "**K-fold cross-validation** is a technique for evaluating machine learning models by training and testing them on different subsets of data, providing a better estimate of model performance than a single train-test split.\n",
    "\n",
    "### Steps:\n",
    "\n",
    "1. **Split the Data**: Divide the data into *K* equally-sized \"folds\" (subsets).\n",
    "2. **Train & Validate in K Rounds**:\n",
    "   - In each round, use one fold as the validation set and the remaining *K-1* folds as the training set.\n",
    "   - Repeat this process *K* times so that each fold is used as the validation set once.\n",
    "3. **Average the Results**: After *K* rounds, average the performance scores (like accuracy or F1-score) from each fold to get a reliable estimate of model performance.\n",
    "\n",
    "### Diagram Explanation\n",
    "\n",
    "Imagine *K = 5* for simplicity. In each round, a different fold (colored differently in each round) is used as the validation set while the remaining folds serve as training data.\n",
    "\n",
    "```\n",
    "Round 1: [ Val ] [ Train ] [ Train ] [ Train ] [ Train ]\n",
    "Round 2: [ Train ] [ Val ] [ Train ] [ Train ] [ Train ]\n",
    "Round 3: [ Train ] [ Train ] [ Val ] [ Train ] [ Train ]\n",
    "Round 4: [ Train ] [ Train ] [ Train ] [ Val ] [ Train ]\n",
    "Round 5: [ Train ] [ Train ] [ Train ] [ Train ] [ Val ]\n",
    "```\n",
    "\n",
    "This ensures every data point is used once as a validation set, and the model is evaluated on the entire dataset across different splits."
   ]
  },
  {
   "cell_type": "code",
   "execution_count": 1,
   "metadata": {},
   "outputs": [],
   "source": [
    "import numpy as np\n",
    "import pandas as pd\n",
    "from sklearn.metrics import r2_score\n",
    "from sklearn.pipeline import Pipeline\n",
    "from sklearn.impute import SimpleImputer\n",
    "from sklearn.linear_model import LinearRegression, ElasticNet\n",
    "from sklearn.model_selection import train_test_split, KFold, cross_val_score"
   ]
  },
  {
   "cell_type": "code",
   "execution_count": 2,
   "metadata": {},
   "outputs": [],
   "source": [
    "housing_df = pd.read_csv(r'C:\\Users\\DAI.STUDENTSDC\\Desktop\\Machine Learning\\Data Sets\\Boston.csv')"
   ]
  },
  {
   "cell_type": "code",
   "execution_count": 5,
   "metadata": {},
   "outputs": [],
   "source": [
    "X = housing_df.drop(['medv'], axis=1)\n",
    "y = housing_df['medv']"
   ]
  },
  {
   "cell_type": "code",
   "execution_count": 7,
   "metadata": {},
   "outputs": [
    {
     "data": {
      "text/plain": [
       "0.35327592439587757"
      ]
     },
     "execution_count": 7,
     "metadata": {},
     "output_type": "execute_result"
    }
   ],
   "source": [
    "linear_model = LinearRegression()\n",
    "\n",
    "score_result = cross_val_score(linear_model, X, y, cv=5)\n",
    "score_result.mean()"
   ]
  },
  {
   "cell_type": "code",
   "execution_count": null,
   "metadata": {},
   "outputs": [],
   "source": []
  },
  {
   "cell_type": "code",
   "execution_count": null,
   "metadata": {},
   "outputs": [],
   "source": []
  }
 ],
 "metadata": {
  "kernelspec": {
   "display_name": "Python 3",
   "language": "python",
   "name": "python3"
  },
  "language_info": {
   "codemirror_mode": {
    "name": "ipython",
    "version": 3
   },
   "file_extension": ".py",
   "mimetype": "text/x-python",
   "name": "python",
   "nbconvert_exporter": "python",
   "pygments_lexer": "ipython3",
   "version": "3.8.5"
  }
 },
 "nbformat": 4,
 "nbformat_minor": 2
}
